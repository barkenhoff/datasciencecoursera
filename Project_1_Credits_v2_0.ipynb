{
 "cells": [
  {
   "cell_type": "markdown",
   "metadata": {},
   "source": [
    "# Исследование клиентов банка\n",
    "\n",
    "В нашем распоряжении &mdash; данные о клиентах банка, которые воспользовались услугой кредитования. \n",
    "\n",
    "Нужно выяснить, какие факторы влияют на возвращение кредита в срок, чтобы банк мог оценивать свои риски при выдаче кредитов."
   ]
  },
  {
   "cell_type": "markdown",
   "metadata": {},
   "source": [
    "## Задачи исследования"
   ]
  },
  {
   "cell_type": "markdown",
   "metadata": {},
   "source": [
    "**При подготовке данных:**\n",
    "\n",
    "- Найти пропуски в значениях и заполнить, если это возможно/необходимо\n",
    "- Найти и устранить дубликаты\n",
    "- Выделить категории данных, удобные для последующего анализа\n",
    "\n",
    "**При анализе данных:**\n",
    "\n",
    "- Ответить на вопросы исследования &mdash; как семейное положение, наличие детей, уровень дохода и цели кредита влияют на возврат кредита в срок\n",
    "- Подтвердить либо опровергнуть рабочие гипотезы\n",
    "- Предложить рекомендации для бизнеса\n",
    "\n",
    "**В качестве рабочих гипотез выдвинем следующие:**\n",
    "\n",
    "1. _Клиенты без детей и многодетные семьи_ &mdash; более надёжные плательщики. Первые &mdash; за счет отсутствия лишних расходов, вторые &mdash; благодаря поддержке от государства (например, материнскому капиталу).\n",
    "2. _Люди, состоящие в гражданском или официальном браке_ &mdash; более надёжные плательщики благодаря ведению общего хозяйства и наличию поддержки от партнера, в то время как у одиноких людей выше риск неуплаты в срок.\n",
    "3. _Люди со средним доходом_ будут аккуратнее возвращать кредит, чем люди с низким или высоким доходом.\n",
    "4. _Если цели менее амбициозные либо краткосрочные,_ то клиенты чаще будут платить в срок."
   ]
  },
  {
   "cell_type": "markdown",
   "metadata": {},
   "source": [
    "## Содержание"
   ]
  },
  {
   "cell_type": "markdown",
   "metadata": {},
   "source": [
    "1. [Открытие файла и просмотр данных](#data_import)\n",
    "2. [Предобработка данных](#data_review)\n",
    "    * [Обработка пропущенных значений](#gaps)\n",
    "    * [Проверка типа данных](#data_type)\n",
    "    * [Обработка дубликатов и артефактов](#duplicates)\n",
    "    * [Лемматизация](#lemmas)\n",
    "    * [Категоризация данных](#categories)\n",
    "3. [Анализ данных](#analysis)\n",
    "    * [Зависимость между наличием детей и возвратом кредита в срок](#children)\n",
    "    * [Зависимость между семейным положением и возвратом кредита в срок](#family)\n",
    "    * [Зависимость между уровнем дохода и возвратом кредита в срок](#income)\n",
    "    * [Зависимость между целями кредита и его возвратом в срок](#purpose)\n",
    "4. [Общий вывод](#summary)\n",
    "4. [Рекомендации для бизнеса](#tips)"
   ]
  },
  {
   "cell_type": "markdown",
   "metadata": {},
   "source": [
    "### Открытие файла и просмотр данных. <a id=\"data_import\"></a>"
   ]
  },
  {
   "cell_type": "markdown",
   "metadata": {},
   "source": [
    "Импортируем библиотеки и отключим scientific notation."
   ]
  },
  {
   "cell_type": "code",
   "execution_count": 1,
   "metadata": {},
   "outputs": [],
   "source": [
    "# импорт базовых библиотек\n",
    "import pandas as pd\n",
    "import numpy as np\n",
    "from IPython.display import display\n",
    "\n",
    "# библиотеки для лемматизации и работы со списками\n",
    "from pymystem3 import Mystem\n",
    "from collections import Counter\n",
    "\n",
    "# библиотеки для визуализации\n",
    "from matplotlib import pyplot as plt\n",
    "\n",
    "# отключение предупреждений\n",
    "import warnings\n",
    "warnings.filterwarnings('ignore')"
   ]
  },
  {
   "cell_type": "code",
   "execution_count": 2,
   "metadata": {},
   "outputs": [],
   "source": [
    "# отключаем scientific notation\n",
    "pd.set_option('display.float_format', lambda x: '%.3f' % x)"
   ]
  },
  {
   "cell_type": "code",
   "execution_count": 3,
   "metadata": {},
   "outputs": [
    {
     "data": {
      "application/javascript": [
       "IPython.OutputArea.prototype._should_scroll = function(lines) {\n",
       "    return false;\n",
       "}\n"
      ],
      "text/plain": [
       "<IPython.core.display.Javascript object>"
      ]
     },
     "metadata": {},
     "output_type": "display_data"
    }
   ],
   "source": [
    "%%javascript # отключаем автоскролл\n",
    "IPython.OutputArea.prototype._should_scroll = function(lines) {\n",
    "    return false;\n",
    "}"
   ]
  },
  {
   "cell_type": "markdown",
   "metadata": {},
   "source": [
    "Откроем файл с данными от заказчика и посмотрим первые 10 строк."
   ]
  },
  {
   "cell_type": "code",
   "execution_count": 4,
   "metadata": {
    "scrolled": false
   },
   "outputs": [
    {
     "data": {
      "text/html": [
       "<div>\n",
       "<style scoped>\n",
       "    .dataframe tbody tr th:only-of-type {\n",
       "        vertical-align: middle;\n",
       "    }\n",
       "\n",
       "    .dataframe tbody tr th {\n",
       "        vertical-align: top;\n",
       "    }\n",
       "\n",
       "    .dataframe thead th {\n",
       "        text-align: right;\n",
       "    }\n",
       "</style>\n",
       "<table border=\"1\" class=\"dataframe\">\n",
       "  <thead>\n",
       "    <tr style=\"text-align: right;\">\n",
       "      <th></th>\n",
       "      <th>children</th>\n",
       "      <th>days_employed</th>\n",
       "      <th>dob_years</th>\n",
       "      <th>education</th>\n",
       "      <th>education_id</th>\n",
       "      <th>family_status</th>\n",
       "      <th>family_status_id</th>\n",
       "      <th>gender</th>\n",
       "      <th>income_type</th>\n",
       "      <th>debt</th>\n",
       "      <th>total_income</th>\n",
       "      <th>purpose</th>\n",
       "    </tr>\n",
       "  </thead>\n",
       "  <tbody>\n",
       "    <tr>\n",
       "      <td>0</td>\n",
       "      <td>1</td>\n",
       "      <td>-8437.673</td>\n",
       "      <td>42</td>\n",
       "      <td>высшее</td>\n",
       "      <td>0</td>\n",
       "      <td>женат / замужем</td>\n",
       "      <td>0</td>\n",
       "      <td>F</td>\n",
       "      <td>сотрудник</td>\n",
       "      <td>0</td>\n",
       "      <td>253875.639</td>\n",
       "      <td>покупка жилья</td>\n",
       "    </tr>\n",
       "    <tr>\n",
       "      <td>1</td>\n",
       "      <td>1</td>\n",
       "      <td>-4024.804</td>\n",
       "      <td>36</td>\n",
       "      <td>среднее</td>\n",
       "      <td>1</td>\n",
       "      <td>женат / замужем</td>\n",
       "      <td>0</td>\n",
       "      <td>F</td>\n",
       "      <td>сотрудник</td>\n",
       "      <td>0</td>\n",
       "      <td>112080.014</td>\n",
       "      <td>приобретение автомобиля</td>\n",
       "    </tr>\n",
       "    <tr>\n",
       "      <td>2</td>\n",
       "      <td>0</td>\n",
       "      <td>-5623.423</td>\n",
       "      <td>33</td>\n",
       "      <td>Среднее</td>\n",
       "      <td>1</td>\n",
       "      <td>женат / замужем</td>\n",
       "      <td>0</td>\n",
       "      <td>M</td>\n",
       "      <td>сотрудник</td>\n",
       "      <td>0</td>\n",
       "      <td>145885.952</td>\n",
       "      <td>покупка жилья</td>\n",
       "    </tr>\n",
       "    <tr>\n",
       "      <td>3</td>\n",
       "      <td>3</td>\n",
       "      <td>-4124.747</td>\n",
       "      <td>32</td>\n",
       "      <td>среднее</td>\n",
       "      <td>1</td>\n",
       "      <td>женат / замужем</td>\n",
       "      <td>0</td>\n",
       "      <td>M</td>\n",
       "      <td>сотрудник</td>\n",
       "      <td>0</td>\n",
       "      <td>267628.550</td>\n",
       "      <td>дополнительное образование</td>\n",
       "    </tr>\n",
       "    <tr>\n",
       "      <td>4</td>\n",
       "      <td>0</td>\n",
       "      <td>340266.072</td>\n",
       "      <td>53</td>\n",
       "      <td>среднее</td>\n",
       "      <td>1</td>\n",
       "      <td>гражданский брак</td>\n",
       "      <td>1</td>\n",
       "      <td>F</td>\n",
       "      <td>пенсионер</td>\n",
       "      <td>0</td>\n",
       "      <td>158616.078</td>\n",
       "      <td>сыграть свадьбу</td>\n",
       "    </tr>\n",
       "    <tr>\n",
       "      <td>5</td>\n",
       "      <td>0</td>\n",
       "      <td>-926.186</td>\n",
       "      <td>27</td>\n",
       "      <td>высшее</td>\n",
       "      <td>0</td>\n",
       "      <td>гражданский брак</td>\n",
       "      <td>1</td>\n",
       "      <td>M</td>\n",
       "      <td>компаньон</td>\n",
       "      <td>0</td>\n",
       "      <td>255763.565</td>\n",
       "      <td>покупка жилья</td>\n",
       "    </tr>\n",
       "    <tr>\n",
       "      <td>6</td>\n",
       "      <td>0</td>\n",
       "      <td>-2879.202</td>\n",
       "      <td>43</td>\n",
       "      <td>высшее</td>\n",
       "      <td>0</td>\n",
       "      <td>женат / замужем</td>\n",
       "      <td>0</td>\n",
       "      <td>F</td>\n",
       "      <td>компаньон</td>\n",
       "      <td>0</td>\n",
       "      <td>240525.972</td>\n",
       "      <td>операции с жильем</td>\n",
       "    </tr>\n",
       "    <tr>\n",
       "      <td>7</td>\n",
       "      <td>0</td>\n",
       "      <td>-152.780</td>\n",
       "      <td>50</td>\n",
       "      <td>СРЕДНЕЕ</td>\n",
       "      <td>1</td>\n",
       "      <td>женат / замужем</td>\n",
       "      <td>0</td>\n",
       "      <td>M</td>\n",
       "      <td>сотрудник</td>\n",
       "      <td>0</td>\n",
       "      <td>135823.934</td>\n",
       "      <td>образование</td>\n",
       "    </tr>\n",
       "    <tr>\n",
       "      <td>8</td>\n",
       "      <td>2</td>\n",
       "      <td>-6929.865</td>\n",
       "      <td>35</td>\n",
       "      <td>ВЫСШЕЕ</td>\n",
       "      <td>0</td>\n",
       "      <td>гражданский брак</td>\n",
       "      <td>1</td>\n",
       "      <td>F</td>\n",
       "      <td>сотрудник</td>\n",
       "      <td>0</td>\n",
       "      <td>95856.832</td>\n",
       "      <td>на проведение свадьбы</td>\n",
       "    </tr>\n",
       "    <tr>\n",
       "      <td>9</td>\n",
       "      <td>0</td>\n",
       "      <td>-2188.756</td>\n",
       "      <td>41</td>\n",
       "      <td>среднее</td>\n",
       "      <td>1</td>\n",
       "      <td>женат / замужем</td>\n",
       "      <td>0</td>\n",
       "      <td>M</td>\n",
       "      <td>сотрудник</td>\n",
       "      <td>0</td>\n",
       "      <td>144425.938</td>\n",
       "      <td>покупка жилья для семьи</td>\n",
       "    </tr>\n",
       "  </tbody>\n",
       "</table>\n",
       "</div>"
      ],
      "text/plain": [
       "   children  days_employed  dob_years education  education_id  \\\n",
       "0         1      -8437.673         42    высшее             0   \n",
       "1         1      -4024.804         36   среднее             1   \n",
       "2         0      -5623.423         33   Среднее             1   \n",
       "3         3      -4124.747         32   среднее             1   \n",
       "4         0     340266.072         53   среднее             1   \n",
       "5         0       -926.186         27    высшее             0   \n",
       "6         0      -2879.202         43    высшее             0   \n",
       "7         0       -152.780         50   СРЕДНЕЕ             1   \n",
       "8         2      -6929.865         35    ВЫСШЕЕ             0   \n",
       "9         0      -2188.756         41   среднее             1   \n",
       "\n",
       "      family_status  family_status_id gender income_type  debt  total_income  \\\n",
       "0   женат / замужем                 0      F   сотрудник     0    253875.639   \n",
       "1   женат / замужем                 0      F   сотрудник     0    112080.014   \n",
       "2   женат / замужем                 0      M   сотрудник     0    145885.952   \n",
       "3   женат / замужем                 0      M   сотрудник     0    267628.550   \n",
       "4  гражданский брак                 1      F   пенсионер     0    158616.078   \n",
       "5  гражданский брак                 1      M   компаньон     0    255763.565   \n",
       "6   женат / замужем                 0      F   компаньон     0    240525.972   \n",
       "7   женат / замужем                 0      M   сотрудник     0    135823.934   \n",
       "8  гражданский брак                 1      F   сотрудник     0     95856.832   \n",
       "9   женат / замужем                 0      M   сотрудник     0    144425.938   \n",
       "\n",
       "                      purpose  \n",
       "0               покупка жилья  \n",
       "1     приобретение автомобиля  \n",
       "2               покупка жилья  \n",
       "3  дополнительное образование  \n",
       "4             сыграть свадьбу  \n",
       "5               покупка жилья  \n",
       "6           операции с жильем  \n",
       "7                 образование  \n",
       "8       на проведение свадьбы  \n",
       "9     покупка жилья для семьи  "
      ]
     },
     "execution_count": 4,
     "metadata": {},
     "output_type": "execute_result"
    }
   ],
   "source": [
    "data = pd.read_csv('/datasets/data.csv')\n",
    "data.head(10)"
   ]
  },
  {
   "cell_type": "markdown",
   "metadata": {},
   "source": [
    "Также ознакомимся с общей информацией о таблице &mdash; в частности, посмотрим на диапазоны значений."
   ]
  },
  {
   "cell_type": "code",
   "execution_count": 5,
   "metadata": {
    "scrolled": false
   },
   "outputs": [
    {
     "name": "stdout",
     "output_type": "stream",
     "text": [
      "<class 'pandas.core.frame.DataFrame'>\n",
      "RangeIndex: 21525 entries, 0 to 21524\n",
      "Data columns (total 12 columns):\n",
      "children            21525 non-null int64\n",
      "days_employed       19351 non-null float64\n",
      "dob_years           21525 non-null int64\n",
      "education           21525 non-null object\n",
      "education_id        21525 non-null int64\n",
      "family_status       21525 non-null object\n",
      "family_status_id    21525 non-null int64\n",
      "gender              21525 non-null object\n",
      "income_type         21525 non-null object\n",
      "debt                21525 non-null int64\n",
      "total_income        19351 non-null float64\n",
      "purpose             21525 non-null object\n",
      "dtypes: float64(2), int64(5), object(5)\n",
      "memory usage: 2.0+ MB\n"
     ]
    }
   ],
   "source": [
    "data.info()"
   ]
  },
  {
   "cell_type": "code",
   "execution_count": 6,
   "metadata": {},
   "outputs": [
    {
     "data": {
      "text/html": [
       "<div>\n",
       "<style scoped>\n",
       "    .dataframe tbody tr th:only-of-type {\n",
       "        vertical-align: middle;\n",
       "    }\n",
       "\n",
       "    .dataframe tbody tr th {\n",
       "        vertical-align: top;\n",
       "    }\n",
       "\n",
       "    .dataframe thead th {\n",
       "        text-align: right;\n",
       "    }\n",
       "</style>\n",
       "<table border=\"1\" class=\"dataframe\">\n",
       "  <thead>\n",
       "    <tr style=\"text-align: right;\">\n",
       "      <th></th>\n",
       "      <th>children</th>\n",
       "      <th>days_employed</th>\n",
       "      <th>dob_years</th>\n",
       "      <th>education_id</th>\n",
       "      <th>family_status_id</th>\n",
       "      <th>debt</th>\n",
       "      <th>total_income</th>\n",
       "    </tr>\n",
       "  </thead>\n",
       "  <tbody>\n",
       "    <tr>\n",
       "      <td>count</td>\n",
       "      <td>21525.000</td>\n",
       "      <td>19351.000</td>\n",
       "      <td>21525.000</td>\n",
       "      <td>21525.000</td>\n",
       "      <td>21525.000</td>\n",
       "      <td>21525.000</td>\n",
       "      <td>19351.000</td>\n",
       "    </tr>\n",
       "    <tr>\n",
       "      <td>mean</td>\n",
       "      <td>0.539</td>\n",
       "      <td>63046.498</td>\n",
       "      <td>43.293</td>\n",
       "      <td>0.817</td>\n",
       "      <td>0.973</td>\n",
       "      <td>0.081</td>\n",
       "      <td>167422.302</td>\n",
       "    </tr>\n",
       "    <tr>\n",
       "      <td>std</td>\n",
       "      <td>1.382</td>\n",
       "      <td>140827.312</td>\n",
       "      <td>12.575</td>\n",
       "      <td>0.548</td>\n",
       "      <td>1.420</td>\n",
       "      <td>0.273</td>\n",
       "      <td>102971.566</td>\n",
       "    </tr>\n",
       "    <tr>\n",
       "      <td>min</td>\n",
       "      <td>-1.000</td>\n",
       "      <td>-18388.950</td>\n",
       "      <td>0.000</td>\n",
       "      <td>0.000</td>\n",
       "      <td>0.000</td>\n",
       "      <td>0.000</td>\n",
       "      <td>20667.264</td>\n",
       "    </tr>\n",
       "    <tr>\n",
       "      <td>25%</td>\n",
       "      <td>0.000</td>\n",
       "      <td>-2747.424</td>\n",
       "      <td>33.000</td>\n",
       "      <td>1.000</td>\n",
       "      <td>0.000</td>\n",
       "      <td>0.000</td>\n",
       "      <td>103053.153</td>\n",
       "    </tr>\n",
       "    <tr>\n",
       "      <td>50%</td>\n",
       "      <td>0.000</td>\n",
       "      <td>-1203.370</td>\n",
       "      <td>42.000</td>\n",
       "      <td>1.000</td>\n",
       "      <td>0.000</td>\n",
       "      <td>0.000</td>\n",
       "      <td>145017.938</td>\n",
       "    </tr>\n",
       "    <tr>\n",
       "      <td>75%</td>\n",
       "      <td>1.000</td>\n",
       "      <td>-291.096</td>\n",
       "      <td>53.000</td>\n",
       "      <td>1.000</td>\n",
       "      <td>1.000</td>\n",
       "      <td>0.000</td>\n",
       "      <td>203435.068</td>\n",
       "    </tr>\n",
       "    <tr>\n",
       "      <td>max</td>\n",
       "      <td>20.000</td>\n",
       "      <td>401755.400</td>\n",
       "      <td>75.000</td>\n",
       "      <td>4.000</td>\n",
       "      <td>4.000</td>\n",
       "      <td>1.000</td>\n",
       "      <td>2265604.029</td>\n",
       "    </tr>\n",
       "  </tbody>\n",
       "</table>\n",
       "</div>"
      ],
      "text/plain": [
       "       children  days_employed  dob_years  education_id  family_status_id  \\\n",
       "count 21525.000      19351.000  21525.000     21525.000         21525.000   \n",
       "mean      0.539      63046.498     43.293         0.817             0.973   \n",
       "std       1.382     140827.312     12.575         0.548             1.420   \n",
       "min      -1.000     -18388.950      0.000         0.000             0.000   \n",
       "25%       0.000      -2747.424     33.000         1.000             0.000   \n",
       "50%       0.000      -1203.370     42.000         1.000             0.000   \n",
       "75%       1.000       -291.096     53.000         1.000             1.000   \n",
       "max      20.000     401755.400     75.000         4.000             4.000   \n",
       "\n",
       "           debt  total_income  \n",
       "count 21525.000     19351.000  \n",
       "mean      0.081    167422.302  \n",
       "std       0.273    102971.566  \n",
       "min       0.000     20667.264  \n",
       "25%       0.000    103053.153  \n",
       "50%       0.000    145017.938  \n",
       "75%       0.000    203435.068  \n",
       "max       1.000   2265604.029  "
      ]
     },
     "execution_count": 6,
     "metadata": {},
     "output_type": "execute_result"
    }
   ],
   "source": [
    "# описание численных значений\n",
    "data.describe()"
   ]
  },
  {
   "cell_type": "code",
   "execution_count": 7,
   "metadata": {
    "scrolled": true
   },
   "outputs": [
    {
     "data": {
      "text/html": [
       "<div>\n",
       "<style scoped>\n",
       "    .dataframe tbody tr th:only-of-type {\n",
       "        vertical-align: middle;\n",
       "    }\n",
       "\n",
       "    .dataframe tbody tr th {\n",
       "        vertical-align: top;\n",
       "    }\n",
       "\n",
       "    .dataframe thead th {\n",
       "        text-align: right;\n",
       "    }\n",
       "</style>\n",
       "<table border=\"1\" class=\"dataframe\">\n",
       "  <thead>\n",
       "    <tr style=\"text-align: right;\">\n",
       "      <th></th>\n",
       "      <th>education</th>\n",
       "      <th>family_status</th>\n",
       "      <th>gender</th>\n",
       "      <th>income_type</th>\n",
       "      <th>purpose</th>\n",
       "    </tr>\n",
       "  </thead>\n",
       "  <tbody>\n",
       "    <tr>\n",
       "      <td>count</td>\n",
       "      <td>21525</td>\n",
       "      <td>21525</td>\n",
       "      <td>21525</td>\n",
       "      <td>21525</td>\n",
       "      <td>21525</td>\n",
       "    </tr>\n",
       "    <tr>\n",
       "      <td>unique</td>\n",
       "      <td>15</td>\n",
       "      <td>5</td>\n",
       "      <td>3</td>\n",
       "      <td>8</td>\n",
       "      <td>38</td>\n",
       "    </tr>\n",
       "    <tr>\n",
       "      <td>top</td>\n",
       "      <td>среднее</td>\n",
       "      <td>женат / замужем</td>\n",
       "      <td>F</td>\n",
       "      <td>сотрудник</td>\n",
       "      <td>свадьба</td>\n",
       "    </tr>\n",
       "    <tr>\n",
       "      <td>freq</td>\n",
       "      <td>13750</td>\n",
       "      <td>12380</td>\n",
       "      <td>14236</td>\n",
       "      <td>11119</td>\n",
       "      <td>797</td>\n",
       "    </tr>\n",
       "  </tbody>\n",
       "</table>\n",
       "</div>"
      ],
      "text/plain": [
       "       education    family_status gender income_type  purpose\n",
       "count      21525            21525  21525       21525    21525\n",
       "unique        15                5      3           8       38\n",
       "top      среднее  женат / замужем      F   сотрудник  свадьба\n",
       "freq       13750            12380  14236       11119      797"
      ]
     },
     "execution_count": 7,
     "metadata": {},
     "output_type": "execute_result"
    }
   ],
   "source": [
    "# описание категориальных значений\n",
    "data.describe(include=['O'])"
   ]
  },
  {
   "cell_type": "markdown",
   "metadata": {},
   "source": [
    "### Вывод"
   ]
  },
  {
   "cell_type": "markdown",
   "metadata": {},
   "source": [
    "В таблице более 20 тысяч строк и 12 столбцов. Каждая строка содержит информацию о клиенте банка: его возраст, трудовой стаж, семейное положение, количество детей, цели взятия кредита и так далее.\n",
    "\n",
    "Замечены следующие проблемы:\n",
    "\n",
    "- Непрозрачные названия столбцов.\n",
    "- Отрицательные значения в 2 столбцах:\n",
    "     - количество детей\n",
    "     - трудовой стаж\n",
    "- Выражение стажа в днях вместо лет, что неудобно для анализа.\n",
    "- Явные пропуски значений в столбцах *'days_employed', 'total_income'.* \n",
    "- Непоследовательное написание значений в столбце *'education'* (разный регистр).\n",
    "- Смысловые дубликаты в столбце *'purpose'* (например, \"образование\" и \"дополнительное образование\" - это одна и та же цель).\n",
    "- Избыточная точность в значениях дохода и стажа.\n",
    "- В столбце gender &mdash; три категории."
   ]
  },
  {
   "cell_type": "markdown",
   "metadata": {},
   "source": [
    "## Предобработка данных <a id=\"data_review\"></a>"
   ]
  },
  {
   "cell_type": "markdown",
   "metadata": {},
   "source": [
    "### Переименование столбцов"
   ]
  },
  {
   "cell_type": "markdown",
   "metadata": {},
   "source": [
    "Выборочно переименуем столбцы: сделаем их более корректными (*total_income* заменим на *monthly_income*) и единообразными.\n",
    "\n",
    "Выполним замену и проверим результат."
   ]
  },
  {
   "cell_type": "code",
   "execution_count": 8,
   "metadata": {},
   "outputs": [
    {
     "data": {
      "text/plain": [
       "Index(['children_num', 'employment_in_years', 'age', 'education_type',\n",
       "       'education_id', 'family_status', 'family_status_id', 'gender',\n",
       "       'income_type', 'credit_debt', 'monthly_income', 'credit_purpose'],\n",
       "      dtype='object')"
      ]
     },
     "execution_count": 8,
     "metadata": {},
     "output_type": "execute_result"
    }
   ],
   "source": [
    "data = data.rename(columns = {'children': 'children_num',\n",
    "                   'days_employed': 'employment_in_years',\n",
    "                    'dob_years': 'age',\n",
    "                    'education': 'education_type',\n",
    "                     'debt': 'credit_debt', \n",
    "                    'total_income': 'monthly_income', \n",
    "                    'purpose': 'credit_purpose'        \n",
    "                             }) \n",
    "\n",
    "data.columns"
   ]
  },
  {
   "cell_type": "markdown",
   "metadata": {},
   "source": [
    "### Обработка пропусков <a id=\"gaps\"></a>"
   ]
  },
  {
   "cell_type": "markdown",
   "metadata": {},
   "source": [
    "Пропуски были выявлены в двух столбцах - с информацией о стаже и о доходе. Вспомним, что в столбце _employment_in_years_ также попадались отрицательные значения. \n",
    "\n",
    "Разберемся сначала с этим и посмотрим, сколько таких значений. Вызовем повторно метод `describe()`."
   ]
  },
  {
   "cell_type": "code",
   "execution_count": 9,
   "metadata": {},
   "outputs": [
    {
     "data": {
      "text/plain": [
       "count    19351.000\n",
       "mean     63046.498\n",
       "std     140827.312\n",
       "min     -18388.950\n",
       "25%      -2747.424\n",
       "50%      -1203.370\n",
       "75%       -291.096\n",
       "max     401755.400\n",
       "Name: employment_in_years, dtype: float64"
      ]
     },
     "execution_count": 9,
     "metadata": {},
     "output_type": "execute_result"
    }
   ],
   "source": [
    "data.employment_in_years.describe()"
   ]
  },
  {
   "cell_type": "markdown",
   "metadata": {},
   "source": [
    "Отрицательных значений - не менее 75% от общего количества! Похоже на системную ошибку ввода или выгрузки данных, поэтому допустим, что сами значения стажа верны и просто уберем минус.\n",
    "\n",
    "Затем проверим, что получилось."
   ]
  },
  {
   "cell_type": "code",
   "execution_count": 10,
   "metadata": {},
   "outputs": [
    {
     "name": "stdout",
     "output_type": "stream",
     "text": [
      "Количество отрицательных значений стажа: 0\n"
     ]
    }
   ],
   "source": [
    "data['employment_in_years'] = data['employment_in_years'].abs()\n",
    "\n",
    "print('Количество отрицательных значений стажа:', \n",
    "      data[data['employment_in_years'] < 0]['employment_in_years']\n",
    "      .count())"
   ]
  },
  {
   "cell_type": "markdown",
   "metadata": {},
   "source": [
    "Обратимся к пропускам в стаже. Предположим, что пропуски должны встречаться преимущественно у молодых клиентов, которые могли не накопить достаточно стажа. \n",
    "\n",
    "Чтобы проверить, сохраним строки без указания стажа в переменную `empty_employment`, сгруппируем данные по возрасту клиента и посчитаем, сколько клиентов какого возраста не указали свой стаж. Для удобства выведем данные на графике."
   ]
  },
  {
   "cell_type": "code",
   "execution_count": 11,
   "metadata": {},
   "outputs": [
    {
     "data": {
      "image/png": "[encoded data removed]",
      "text/plain": [
       "<Figure size 1008x576 with 1 Axes>"
      ]
     },
     "metadata": {
      "needs_background": "light"
     },
     "output_type": "display_data"
    }
   ],
   "source": [
    "# сохраняем строки без стажа в переменную\n",
    "empty_employment = data[data['employment_in_years'].isnull()]\n",
    "\n",
    "# группируем данные и отрисовываем диаграмму\n",
    "(empty_employment\n",
    "     .groupby('age')\n",
    "     .agg({'age': 'count'})\n",
    "     .plot(kind='barh', \n",
    "           figsize=(14,8))\n",
    ")\n",
    "\n",
    "plt.title('Распределение возраста клиентов, не указавших свой стаж')\n",
    "plt.ylabel('Возраст')\n",
    "plt.legend('')\n",
    "plt.show()"
   ]
  },
  {
   "cell_type": "markdown",
   "metadata": {},
   "source": [
    "Гипотеза не подтвердилась - пропуски стажа распределились достаточно равномерно по клиентам от 19 до 73 лет, привязки к определенному возрасту нет. \n",
    "\n",
    "Заодно выявилась еще одна аномалия - 10 строк с нулевым значением возраста. Эти пропуски полностью случайны - возраст клиента банка должен быть старше 18, поэтому заполним пропуски характерными значениями. \n",
    "\n",
    "Найдем средний возраст заёмщиков."
   ]
  },
  {
   "cell_type": "code",
   "execution_count": 12,
   "metadata": {},
   "outputs": [
    {
     "name": "stdout",
     "output_type": "stream",
     "text": [
      "Средний возраст: 43\n"
     ]
    }
   ],
   "source": [
    "avg_age = int(data[data['age'] !=0]['age'].mean())\n",
    "print('Средний возраст:', avg_age)"
   ]
  },
  {
   "cell_type": "markdown",
   "metadata": {},
   "source": [
    "Заменим нулевые значения возраста на среднее значение - 43 года. Затем выполним проверку."
   ]
  },
  {
   "cell_type": "code",
   "execution_count": 13,
   "metadata": {
    "scrolled": true
   },
   "outputs": [
    {
     "name": "stdout",
     "output_type": "stream",
     "text": [
      "Клиентов с нулевым возрастом: 0\n"
     ]
    }
   ],
   "source": [
    "data.loc[data['age'] ==0, 'age'] = avg_age\n",
    "print('Клиентов с нулевым возрастом:', data[data['age'] == 0]['age'].count())"
   ]
  },
  {
   "cell_type": "markdown",
   "metadata": {},
   "source": [
    "Теперь вернемся к пропускам стажа. Закономерности в пропусках не выявлено, поэтому допустимо заполнить их с использованием средних значений."
   ]
  },
  {
   "cell_type": "code",
   "execution_count": 14,
   "metadata": {},
   "outputs": [
    {
     "name": "stdout",
     "output_type": "stream",
     "text": [
      "Среднее значение стажа (в днях): 66914.72890682236\n"
     ]
    }
   ],
   "source": [
    "avg_employment = data[data['employment_in_years'] !=0]['employment_in_years'].mean()\n",
    "print('Среднее значение стажа (в днях):', avg_employment)"
   ]
  },
  {
   "cell_type": "markdown",
   "metadata": {},
   "source": [
    "Для удобства переведем значение стажа из дней в годы."
   ]
  },
  {
   "cell_type": "code",
   "execution_count": 15,
   "metadata": {},
   "outputs": [
    {
     "name": "stdout",
     "output_type": "stream",
     "text": [
      "Средний стаж в годах: 183.32802440225305\n"
     ]
    }
   ],
   "source": [
    "avg_employment_years = avg_employment / 365\n",
    "print('Средний стаж в годах:', avg_employment_years)"
   ]
  },
  {
   "cell_type": "markdown",
   "metadata": {},
   "source": [
    "Получили 183 года - явно неправдоподобно. Возможно, в данные закралось несколько аномально высоких значений, которые портят общую картину. Переведем все значения стажа в года."
   ]
  },
  {
   "cell_type": "code",
   "execution_count": 16,
   "metadata": {},
   "outputs": [
    {
     "data": {
      "text/html": [
       "<div>\n",
       "<style scoped>\n",
       "    .dataframe tbody tr th:only-of-type {\n",
       "        vertical-align: middle;\n",
       "    }\n",
       "\n",
       "    .dataframe tbody tr th {\n",
       "        vertical-align: top;\n",
       "    }\n",
       "\n",
       "    .dataframe thead th {\n",
       "        text-align: right;\n",
       "    }\n",
       "</style>\n",
       "<table border=\"1\" class=\"dataframe\">\n",
       "  <thead>\n",
       "    <tr style=\"text-align: right;\">\n",
       "      <th></th>\n",
       "      <th>children_num</th>\n",
       "      <th>employment_in_years</th>\n",
       "      <th>age</th>\n",
       "      <th>education_type</th>\n",
       "      <th>education_id</th>\n",
       "      <th>family_status</th>\n",
       "      <th>family_status_id</th>\n",
       "      <th>gender</th>\n",
       "      <th>income_type</th>\n",
       "      <th>credit_debt</th>\n",
       "      <th>monthly_income</th>\n",
       "      <th>credit_purpose</th>\n",
       "    </tr>\n",
       "  </thead>\n",
       "  <tbody>\n",
       "    <tr>\n",
       "      <td>0</td>\n",
       "      <td>1</td>\n",
       "      <td>23.117</td>\n",
       "      <td>42</td>\n",
       "      <td>высшее</td>\n",
       "      <td>0</td>\n",
       "      <td>женат / замужем</td>\n",
       "      <td>0</td>\n",
       "      <td>F</td>\n",
       "      <td>сотрудник</td>\n",
       "      <td>0</td>\n",
       "      <td>253875.639</td>\n",
       "      <td>покупка жилья</td>\n",
       "    </tr>\n",
       "    <tr>\n",
       "      <td>1</td>\n",
       "      <td>1</td>\n",
       "      <td>11.027</td>\n",
       "      <td>36</td>\n",
       "      <td>среднее</td>\n",
       "      <td>1</td>\n",
       "      <td>женат / замужем</td>\n",
       "      <td>0</td>\n",
       "      <td>F</td>\n",
       "      <td>сотрудник</td>\n",
       "      <td>0</td>\n",
       "      <td>112080.014</td>\n",
       "      <td>приобретение автомобиля</td>\n",
       "    </tr>\n",
       "    <tr>\n",
       "      <td>2</td>\n",
       "      <td>0</td>\n",
       "      <td>15.407</td>\n",
       "      <td>33</td>\n",
       "      <td>Среднее</td>\n",
       "      <td>1</td>\n",
       "      <td>женат / замужем</td>\n",
       "      <td>0</td>\n",
       "      <td>M</td>\n",
       "      <td>сотрудник</td>\n",
       "      <td>0</td>\n",
       "      <td>145885.952</td>\n",
       "      <td>покупка жилья</td>\n",
       "    </tr>\n",
       "    <tr>\n",
       "      <td>3</td>\n",
       "      <td>3</td>\n",
       "      <td>11.301</td>\n",
       "      <td>32</td>\n",
       "      <td>среднее</td>\n",
       "      <td>1</td>\n",
       "      <td>женат / замужем</td>\n",
       "      <td>0</td>\n",
       "      <td>M</td>\n",
       "      <td>сотрудник</td>\n",
       "      <td>0</td>\n",
       "      <td>267628.550</td>\n",
       "      <td>дополнительное образование</td>\n",
       "    </tr>\n",
       "    <tr>\n",
       "      <td>4</td>\n",
       "      <td>0</td>\n",
       "      <td>932.236</td>\n",
       "      <td>53</td>\n",
       "      <td>среднее</td>\n",
       "      <td>1</td>\n",
       "      <td>гражданский брак</td>\n",
       "      <td>1</td>\n",
       "      <td>F</td>\n",
       "      <td>пенсионер</td>\n",
       "      <td>0</td>\n",
       "      <td>158616.078</td>\n",
       "      <td>сыграть свадьбу</td>\n",
       "    </tr>\n",
       "  </tbody>\n",
       "</table>\n",
       "</div>"
      ],
      "text/plain": [
       "   children_num  employment_in_years  age education_type  education_id  \\\n",
       "0             1               23.117   42         высшее             0   \n",
       "1             1               11.027   36        среднее             1   \n",
       "2             0               15.407   33        Среднее             1   \n",
       "3             3               11.301   32        среднее             1   \n",
       "4             0              932.236   53        среднее             1   \n",
       "\n",
       "      family_status  family_status_id gender income_type  credit_debt  \\\n",
       "0   женат / замужем                 0      F   сотрудник            0   \n",
       "1   женат / замужем                 0      F   сотрудник            0   \n",
       "2   женат / замужем                 0      M   сотрудник            0   \n",
       "3   женат / замужем                 0      M   сотрудник            0   \n",
       "4  гражданский брак                 1      F   пенсионер            0   \n",
       "\n",
       "   monthly_income              credit_purpose  \n",
       "0      253875.639               покупка жилья  \n",
       "1      112080.014     приобретение автомобиля  \n",
       "2      145885.952               покупка жилья  \n",
       "3      267628.550  дополнительное образование  \n",
       "4      158616.078             сыграть свадьбу  "
      ]
     },
     "execution_count": 16,
     "metadata": {},
     "output_type": "execute_result"
    }
   ],
   "source": [
    "data['employment_in_years'] = data.loc[:, 'employment_in_years'] / 365\n",
    "data.head()"
   ]
  },
  {
   "cell_type": "markdown",
   "metadata": {},
   "source": [
    "Так и есть, уже в первых строках таблицы попался стаж в 932 года. Оценим, много ли таких аномалий. Для этого распределим клиентов по 3 группам:\n",
    "\n",
    "- 0-42 года стажа - \"нормативный\" стаж (за максимум взяли 42 года - такой стаж получится, если работать с 18 лет до наступления пенсионного возраста в 60 лет)\n",
    "- 43-60 лет стажа - \"высокий\"\n",
    "- более 61 лет стажа - \"аномальный\"\n",
    "\n",
    "Объявим функцию для распределения клиентов в зависимости от стажа и протестируем на значениях 11, 42 и 932."
   ]
  },
  {
   "cell_type": "code",
   "execution_count": 17,
   "metadata": {},
   "outputs": [
    {
     "name": "stdout",
     "output_type": "stream",
     "text": [
      "нормативный\n",
      "высокий\n",
      "аномальный\n"
     ]
    }
   ],
   "source": [
    "def employment_cat(years):\n",
    "    \"\"\"Распределяет стаж по трем категориям и возвращает название категории\"\"\"\n",
    "    if years <= 42:\n",
    "        return 'нормативный'\n",
    "    elif 42 < years <= 60:\n",
    "        return 'высокий'\n",
    "    else:\n",
    "        return 'аномальный'\n",
    "\n",
    "print(employment_cat(11))\n",
    "print(employment_cat(44))\n",
    "print(employment_cat(932))"
   ]
  },
  {
   "cell_type": "markdown",
   "metadata": {},
   "source": [
    "Теперь создадим новый столбец *employment_cat*, куда запишем категорию стажа. Выведем начало таблицы, чтобы посмотреть на результат."
   ]
  },
  {
   "cell_type": "code",
   "execution_count": 18,
   "metadata": {},
   "outputs": [
    {
     "data": {
      "text/html": [
       "<div>\n",
       "<style scoped>\n",
       "    .dataframe tbody tr th:only-of-type {\n",
       "        vertical-align: middle;\n",
       "    }\n",
       "\n",
       "    .dataframe tbody tr th {\n",
       "        vertical-align: top;\n",
       "    }\n",
       "\n",
       "    .dataframe thead th {\n",
       "        text-align: right;\n",
       "    }\n",
       "</style>\n",
       "<table border=\"1\" class=\"dataframe\">\n",
       "  <thead>\n",
       "    <tr style=\"text-align: right;\">\n",
       "      <th></th>\n",
       "      <th>children_num</th>\n",
       "      <th>employment_in_years</th>\n",
       "      <th>age</th>\n",
       "      <th>education_type</th>\n",
       "      <th>education_id</th>\n",
       "      <th>family_status</th>\n",
       "      <th>family_status_id</th>\n",
       "      <th>gender</th>\n",
       "      <th>income_type</th>\n",
       "      <th>credit_debt</th>\n",
       "      <th>monthly_income</th>\n",
       "      <th>credit_purpose</th>\n",
       "      <th>employment_cat</th>\n",
       "    </tr>\n",
       "  </thead>\n",
       "  <tbody>\n",
       "    <tr>\n",
       "      <td>0</td>\n",
       "      <td>1</td>\n",
       "      <td>23.117</td>\n",
       "      <td>42</td>\n",
       "      <td>высшее</td>\n",
       "      <td>0</td>\n",
       "      <td>женат / замужем</td>\n",
       "      <td>0</td>\n",
       "      <td>F</td>\n",
       "      <td>сотрудник</td>\n",
       "      <td>0</td>\n",
       "      <td>253875.639</td>\n",
       "      <td>покупка жилья</td>\n",
       "      <td>нормативный</td>\n",
       "    </tr>\n",
       "    <tr>\n",
       "      <td>1</td>\n",
       "      <td>1</td>\n",
       "      <td>11.027</td>\n",
       "      <td>36</td>\n",
       "      <td>среднее</td>\n",
       "      <td>1</td>\n",
       "      <td>женат / замужем</td>\n",
       "      <td>0</td>\n",
       "      <td>F</td>\n",
       "      <td>сотрудник</td>\n",
       "      <td>0</td>\n",
       "      <td>112080.014</td>\n",
       "      <td>приобретение автомобиля</td>\n",
       "      <td>нормативный</td>\n",
       "    </tr>\n",
       "    <tr>\n",
       "      <td>2</td>\n",
       "      <td>0</td>\n",
       "      <td>15.407</td>\n",
       "      <td>33</td>\n",
       "      <td>Среднее</td>\n",
       "      <td>1</td>\n",
       "      <td>женат / замужем</td>\n",
       "      <td>0</td>\n",
       "      <td>M</td>\n",
       "      <td>сотрудник</td>\n",
       "      <td>0</td>\n",
       "      <td>145885.952</td>\n",
       "      <td>покупка жилья</td>\n",
       "      <td>нормативный</td>\n",
       "    </tr>\n",
       "    <tr>\n",
       "      <td>3</td>\n",
       "      <td>3</td>\n",
       "      <td>11.301</td>\n",
       "      <td>32</td>\n",
       "      <td>среднее</td>\n",
       "      <td>1</td>\n",
       "      <td>женат / замужем</td>\n",
       "      <td>0</td>\n",
       "      <td>M</td>\n",
       "      <td>сотрудник</td>\n",
       "      <td>0</td>\n",
       "      <td>267628.550</td>\n",
       "      <td>дополнительное образование</td>\n",
       "      <td>нормативный</td>\n",
       "    </tr>\n",
       "    <tr>\n",
       "      <td>4</td>\n",
       "      <td>0</td>\n",
       "      <td>932.236</td>\n",
       "      <td>53</td>\n",
       "      <td>среднее</td>\n",
       "      <td>1</td>\n",
       "      <td>гражданский брак</td>\n",
       "      <td>1</td>\n",
       "      <td>F</td>\n",
       "      <td>пенсионер</td>\n",
       "      <td>0</td>\n",
       "      <td>158616.078</td>\n",
       "      <td>сыграть свадьбу</td>\n",
       "      <td>аномальный</td>\n",
       "    </tr>\n",
       "  </tbody>\n",
       "</table>\n",
       "</div>"
      ],
      "text/plain": [
       "   children_num  employment_in_years  age education_type  education_id  \\\n",
       "0             1               23.117   42         высшее             0   \n",
       "1             1               11.027   36        среднее             1   \n",
       "2             0               15.407   33        Среднее             1   \n",
       "3             3               11.301   32        среднее             1   \n",
       "4             0              932.236   53        среднее             1   \n",
       "\n",
       "      family_status  family_status_id gender income_type  credit_debt  \\\n",
       "0   женат / замужем                 0      F   сотрудник            0   \n",
       "1   женат / замужем                 0      F   сотрудник            0   \n",
       "2   женат / замужем                 0      M   сотрудник            0   \n",
       "3   женат / замужем                 0      M   сотрудник            0   \n",
       "4  гражданский брак                 1      F   пенсионер            0   \n",
       "\n",
       "   monthly_income              credit_purpose employment_cat  \n",
       "0      253875.639               покупка жилья    нормативный  \n",
       "1      112080.014     приобретение автомобиля    нормативный  \n",
       "2      145885.952               покупка жилья    нормативный  \n",
       "3      267628.550  дополнительное образование    нормативный  \n",
       "4      158616.078             сыграть свадьбу     аномальный  "
      ]
     },
     "execution_count": 18,
     "metadata": {},
     "output_type": "execute_result"
    }
   ],
   "source": [
    "data['employment_cat'] = data['employment_in_years'].apply(employment_cat)\n",
    "data.head()"
   ]
  },
  {
   "cell_type": "code",
   "execution_count": 19,
   "metadata": {},
   "outputs": [
    {
     "name": "stdout",
     "output_type": "stream",
     "text": [
      "нормативный    15896\n",
      "аномальный      5619\n",
      "высокий           10\n",
      "Name: employment_cat, dtype: int64\n"
     ]
    }
   ],
   "source": [
    "#Подсчитаем, сколько клиентов в какой категории в зависимости от стажа\n",
    "print(data['employment_cat'].value_counts())"
   ]
  },
  {
   "cell_type": "markdown",
   "metadata": {},
   "source": [
    "Клиентов с аномально высоким стажем &mdash; больше четверти! Налицо какая-то ошибка ввода либо выгрузки данных &mdash; нужно сообщить об этом заказчику.\n",
    "\n",
    "Сейчас не рассматриваем стаж как фактор, влияющий на платежеспособность клиентов, поэтому удалять или модифицировать эти строки не будем. \n",
    "\n",
    "Пропуски в стаже заполним исходя из медианного стажа для каждой категории занятости: госслужащих, студентов, пенсионеров и так далее. "
   ]
  },
  {
   "cell_type": "code",
   "execution_count": 20,
   "metadata": {},
   "outputs": [
    {
     "name": "stdout",
     "output_type": "stream",
     "text": [
      "сотрудник 4.312884441389274\n",
      "пенсионер 1000.5844007280306\n",
      "компаньон 4.239403349802557\n",
      "госслужащий 7.3681324748065435\n",
      "безработный 1003.8730212169988\n",
      "предприниматель 1.4269810506722644\n",
      "студент 1.5856206946252551\n",
      "в декрете 9.032219074033039\n"
     ]
    }
   ],
   "source": [
    "for income in data['income_type'].unique():\n",
    "    median = data.loc[data['income_type'] == income, 'employment_in_years'].median()\n",
    "    print(income, median)\n",
    "    data.loc[(data['employment_in_years'].isna()) & (data['income_type'] == income), 'employment_in_years'] = median"
   ]
  },
  {
   "cell_type": "markdown",
   "metadata": {},
   "source": [
    "Проверим, остались ли нулевые значения в столбце _employment_in_years_."
   ]
  },
  {
   "cell_type": "code",
   "execution_count": 21,
   "metadata": {},
   "outputs": [
    {
     "name": "stdout",
     "output_type": "stream",
     "text": [
      "Пропусков в стаже: 0\n"
     ]
    }
   ],
   "source": [
    "print('Пропусков в стаже:', data['employment_in_years'].isna().sum())"
   ]
  },
  {
   "cell_type": "markdown",
   "metadata": {},
   "source": [
    "Со стажем разобрались, теперь перейдем к пропускам в столбце с доходом. Оценим их общее количество."
   ]
  },
  {
   "cell_type": "code",
   "execution_count": 22,
   "metadata": {},
   "outputs": [
    {
     "name": "stdout",
     "output_type": "stream",
     "text": [
      "Пропусков в сведениях о доходе: 2174\n"
     ]
    }
   ],
   "source": [
    "print('Пропусков в сведениях о доходе:', data['monthly_income'].isna().sum())"
   ]
  },
  {
   "cell_type": "markdown",
   "metadata": {},
   "source": [
    "Пропусков около 1% от общего количества &mdash; возможно, это случайные пропуски или же клиенты умышленно не захотели раскрывать свой доход, но сказать наверняка нельзя. \n",
    "\n",
    "Поэтому игнорировать их мы не станем, а заполним, используя медиану. Чтобы учесть разницу в социальном положении, рассчитаем медианный доход также по типу занятости. "
   ]
  },
  {
   "cell_type": "code",
   "execution_count": 23,
   "metadata": {},
   "outputs": [
    {
     "name": "stdout",
     "output_type": "stream",
     "text": [
      "сотрудник 142594.39684740017\n",
      "пенсионер 118514.48641164352\n",
      "компаньон 172357.95096577113\n",
      "госслужащий 150447.9352830068\n",
      "безработный 131339.7516762103\n",
      "предприниматель 499163.1449470857\n",
      "студент 98201.62531401133\n",
      "в декрете 53829.13072905995\n"
     ]
    }
   ],
   "source": [
    "for income in data['income_type'].unique():\n",
    "    median_i = data.loc[data['income_type'] == income, 'monthly_income'].median()\n",
    "    print(income, median_i)\n",
    "    data.loc[(data['monthly_income'].isna()) & (data['income_type'] == income), 'monthly_income'] = median_i"
   ]
  },
  {
   "cell_type": "markdown",
   "metadata": {},
   "source": [
    "Проверим текущее состояние столбца."
   ]
  },
  {
   "cell_type": "code",
   "execution_count": 24,
   "metadata": {
    "scrolled": true
   },
   "outputs": [
    {
     "name": "stdout",
     "output_type": "stream",
     "text": [
      "Пропусков в сведениях о доходе: 0\n"
     ]
    }
   ],
   "source": [
    "print('Пропусков в сведениях о доходе:', data['monthly_income'].isna().sum())"
   ]
  },
  {
   "cell_type": "markdown",
   "metadata": {},
   "source": [
    "Еще раз посмотрим общие сведения о нашей таблице и убедимся, что пропусков больше нет."
   ]
  },
  {
   "cell_type": "code",
   "execution_count": 25,
   "metadata": {},
   "outputs": [
    {
     "name": "stdout",
     "output_type": "stream",
     "text": [
      "<class 'pandas.core.frame.DataFrame'>\n",
      "RangeIndex: 21525 entries, 0 to 21524\n",
      "Data columns (total 13 columns):\n",
      "children_num           21525 non-null int64\n",
      "employment_in_years    21525 non-null float64\n",
      "age                    21525 non-null int64\n",
      "education_type         21525 non-null object\n",
      "education_id           21525 non-null int64\n",
      "family_status          21525 non-null object\n",
      "family_status_id       21525 non-null int64\n",
      "gender                 21525 non-null object\n",
      "income_type            21525 non-null object\n",
      "credit_debt            21525 non-null int64\n",
      "monthly_income         21525 non-null float64\n",
      "credit_purpose         21525 non-null object\n",
      "employment_cat         21525 non-null object\n",
      "dtypes: float64(2), int64(5), object(6)\n",
      "memory usage: 2.1+ MB\n"
     ]
    }
   ],
   "source": [
    "data.info()"
   ]
  },
  {
   "cell_type": "markdown",
   "metadata": {},
   "source": [
    "### Вывод"
   ]
  },
  {
   "cell_type": "markdown",
   "metadata": {},
   "source": [
    "Мы обнаружили пропуски в столбцах со значениями стажа и ежемесячного дохода. Попутно обнаружились некорректные (нулевые) значения в столбце с возрастом, отрицательные значения и аномально высокие значения стажа (более 60 лет).\n",
    "\n",
    "- Отрицательные значения стажа заменены на положительные\n",
    "- Пропуски в стаже и доходе заполнены при помощи медианных значений с группировкой по категории занятости: студент, госслужащий и так далее\n",
    "- Нулевые значения возраста заполнены средним значением возраста (43 года)\n",
    "\n",
    "Аномалии в значениях стажа - повод разобраться с выгрузкой либо заполнением исходных данных, однако для нашего исследования этот фактор не релевантен."
   ]
  },
  {
   "cell_type": "markdown",
   "metadata": {},
   "source": [
    "### Проверка типа данных <a id=\"data_type\"></a>"
   ]
  },
  {
   "cell_type": "markdown",
   "metadata": {},
   "source": [
    "Еще раз посмотрим сведения о таблице. "
   ]
  },
  {
   "cell_type": "code",
   "execution_count": 26,
   "metadata": {},
   "outputs": [
    {
     "data": {
      "text/plain": [
       "children_num             int64\n",
       "employment_in_years    float64\n",
       "age                      int64\n",
       "education_type          object\n",
       "education_id             int64\n",
       "family_status           object\n",
       "family_status_id         int64\n",
       "gender                  object\n",
       "income_type             object\n",
       "credit_debt              int64\n",
       "monthly_income         float64\n",
       "credit_purpose          object\n",
       "employment_cat          object\n",
       "dtype: object"
      ]
     },
     "execution_count": 26,
     "metadata": {},
     "output_type": "execute_result"
    }
   ],
   "source": [
    "data.dtypes"
   ]
  },
  {
   "cell_type": "markdown",
   "metadata": {},
   "source": [
    "Похоже, что данные у нас нужного типа и менять ничего не нужно &mdash; количество детей в целых числах, стаж и доход &mdash; в дробях, категориальные переменные &mdash; object. Идем дальше."
   ]
  },
  {
   "cell_type": "markdown",
   "metadata": {},
   "source": [
    "### Вывод"
   ]
  },
  {
   "cell_type": "markdown",
   "metadata": {},
   "source": [
    "Данные в таблице нужного типа &mdash; менять ничего не нужно."
   ]
  },
  {
   "cell_type": "markdown",
   "metadata": {},
   "source": [
    "### Обработка дубликатов и артефактов<a id=\"duplicates\"></a>"
   ]
  },
  {
   "cell_type": "markdown",
   "metadata": {},
   "source": [
    "Сначала поищем, нет ли в таблице строк со всеми совпадающими данными, то есть полных дубликатов."
   ]
  },
  {
   "cell_type": "code",
   "execution_count": 27,
   "metadata": {},
   "outputs": [
    {
     "data": {
      "text/plain": [
       "54"
      ]
     },
     "execution_count": 27,
     "metadata": {},
     "output_type": "execute_result"
    }
   ],
   "source": [
    "data.duplicated().sum()"
   ]
  },
  {
   "cell_type": "markdown",
   "metadata": {},
   "source": [
    "Таких строк 54. Вероятно, клиенты или сотрудники банка дважды нажали кнопку \"Отправить\", отсюда и дубликаты.\n",
    "\n",
    "Удалим их полностью и обновим индекс."
   ]
  },
  {
   "cell_type": "code",
   "execution_count": 28,
   "metadata": {},
   "outputs": [
    {
     "data": {
      "text/plain": [
       "0"
      ]
     },
     "execution_count": 28,
     "metadata": {},
     "output_type": "execute_result"
    }
   ],
   "source": [
    "data = data.drop_duplicates().reset_index(drop=True)\n",
    "#повторно проверим количество дубликатов\n",
    "data.duplicated().sum()"
   ]
  },
  {
   "cell_type": "markdown",
   "metadata": {},
   "source": [
    "Теперь проверим значения в столбцах. Ранее мы заметили, что в столбце *education_type* есть дубликаты из-за использования разного регистра. Вероятно, проблема вызвана ручным вводом данных. \n",
    "\n",
    "Выведем список всех уникальных значений и приведем их к единому виду."
   ]
  },
  {
   "cell_type": "code",
   "execution_count": 29,
   "metadata": {},
   "outputs": [
    {
     "data": {
      "text/plain": [
       "среднее                13705\n",
       "высшее                  4710\n",
       "СРЕДНЕЕ                  772\n",
       "Среднее                  711\n",
       "неоконченное высшее      668\n",
       "ВЫСШЕЕ                   273\n",
       "Высшее                   268\n",
       "начальное                250\n",
       "Неоконченное высшее       47\n",
       "НЕОКОНЧЕННОЕ ВЫСШЕЕ       29\n",
       "НАЧАЛЬНОЕ                 17\n",
       "Начальное                 15\n",
       "ученая степень             4\n",
       "УЧЕНАЯ СТЕПЕНЬ             1\n",
       "Ученая степень             1\n",
       "Name: education_type, dtype: int64"
      ]
     },
     "execution_count": 29,
     "metadata": {},
     "output_type": "execute_result"
    }
   ],
   "source": [
    "data['education_type'].value_counts()"
   ]
  },
  {
   "cell_type": "code",
   "execution_count": 30,
   "metadata": {
    "scrolled": true
   },
   "outputs": [
    {
     "data": {
      "text/plain": [
       "среднее                15188\n",
       "высшее                  5251\n",
       "неоконченное высшее      744\n",
       "начальное                282\n",
       "ученая степень             6\n",
       "Name: education_type, dtype: int64"
      ]
     },
     "execution_count": 30,
     "metadata": {},
     "output_type": "execute_result"
    }
   ],
   "source": [
    "#для всех значений в столбце 'education_type' меняем регистр на нижний\n",
    "data['education_type'] = data['education_type'].str.lower()\n",
    "data['education_type'].value_counts()"
   ]
  },
  {
   "cell_type": "markdown",
   "metadata": {},
   "source": [
    "Данных по ученой степени слишком мало. Можем присоединить их к категории \"высшее\"."
   ]
  },
  {
   "cell_type": "code",
   "execution_count": 31,
   "metadata": {},
   "outputs": [
    {
     "data": {
      "text/plain": [
       "среднее                15188\n",
       "высшее                  5257\n",
       "неоконченное высшее      744\n",
       "начальное                282\n",
       "Name: education_type, dtype: int64"
      ]
     },
     "execution_count": 31,
     "metadata": {},
     "output_type": "execute_result"
    }
   ],
   "source": [
    "data['education_type'] = data.loc[:, 'education_type'].replace('ученая степень', 'высшее')\n",
    "data['education_type'].value_counts()"
   ]
  },
  {
   "cell_type": "markdown",
   "metadata": {},
   "source": [
    "В нашем исследовании фактор образования не учитывается, но зато данные теперь в порядке, если понадобится вернуться к ним в будущем. Перейдем к столбцу с семейным положением."
   ]
  },
  {
   "cell_type": "code",
   "execution_count": 32,
   "metadata": {},
   "outputs": [
    {
     "data": {
      "text/plain": [
       "женат / замужем          12344\n",
       "гражданский брак          4163\n",
       "Не женат / не замужем     2810\n",
       "в разводе                 1195\n",
       "вдовец / вдова             959\n",
       "Name: family_status, dtype: int64"
      ]
     },
     "execution_count": 32,
     "metadata": {},
     "output_type": "execute_result"
    }
   ],
   "source": [
    "data['family_status'].value_counts()"
   ]
  },
  {
   "cell_type": "markdown",
   "metadata": {},
   "source": [
    "Все категории в столбце *family_status* уникальны, так что просто приведем их к нижнему регистру."
   ]
  },
  {
   "cell_type": "code",
   "execution_count": 33,
   "metadata": {},
   "outputs": [],
   "source": [
    "data['family_status'] = data['family_status'].str.lower()"
   ]
  },
  {
   "cell_type": "markdown",
   "metadata": {},
   "source": [
    "На всякий случай проверим столбец *children_num*."
   ]
  },
  {
   "cell_type": "code",
   "execution_count": 34,
   "metadata": {},
   "outputs": [
    {
     "data": {
      "text/plain": [
       " 0     14107\n",
       " 1      4809\n",
       " 2      2052\n",
       " 3       330\n",
       " 20       76\n",
       "-1        47\n",
       " 4        41\n",
       " 5         9\n",
       "Name: children_num, dtype: int64"
      ]
     },
     "execution_count": 34,
     "metadata": {},
     "output_type": "execute_result"
    }
   ],
   "source": [
    "data['children_num'].value_counts()"
   ]
  },
  {
   "cell_type": "markdown",
   "metadata": {},
   "source": [
    "Вот те самые отрицательные значения. Предположим ошибку ввода и применим метод `abs()`, чтобы заменить все отрицательные значения на положительные."
   ]
  },
  {
   "cell_type": "code",
   "execution_count": 35,
   "metadata": {},
   "outputs": [],
   "source": [
    "data['children_num'] = data['children_num'].abs()"
   ]
  },
  {
   "cell_type": "markdown",
   "metadata": {},
   "source": [
    "Также посмотрим на распределение значений."
   ]
  },
  {
   "cell_type": "code",
   "execution_count": 36,
   "metadata": {},
   "outputs": [
    {
     "data": {
      "image/png": "[encoded data removed]",
      "text/plain": [
       "<Figure size 432x288 with 1 Axes>"
      ]
     },
     "metadata": {
      "needs_background": "light"
     },
     "output_type": "display_data"
    }
   ],
   "source": [
    "data['children_num'].value_counts().plot(kind='barh')\n",
    "plt.show()"
   ]
  },
  {
   "cell_type": "markdown",
   "metadata": {},
   "source": [
    "Настораживает выброс значений, равных 20, при полном отсутствии значений в промежутке между 6 и 20 &mdash; это противоречит нормальному распределению. \n",
    "\n",
    "Если это ошибка ввода (что наиболее вероятно), то лишняя цифра &mdash; 0 и количество детей равно 2. Выполним эту замену и убедимся, что теперь все в порядке."
   ]
  },
  {
   "cell_type": "code",
   "execution_count": 37,
   "metadata": {},
   "outputs": [
    {
     "data": {
      "text/plain": [
       "0    14107\n",
       "1     4856\n",
       "2     2128\n",
       "3      330\n",
       "4       41\n",
       "5        9\n",
       "Name: children_num, dtype: int64"
      ]
     },
     "execution_count": 37,
     "metadata": {},
     "output_type": "execute_result"
    }
   ],
   "source": [
    "data['children_num'] = data.loc[:, 'children_num'].replace(20, 2)\n",
    "data['children_num'].value_counts()"
   ]
  },
  {
   "cell_type": "markdown",
   "metadata": {},
   "source": [
    "Проверим столбец *income_type* на предмет наличия дубликатов."
   ]
  },
  {
   "cell_type": "code",
   "execution_count": 38,
   "metadata": {},
   "outputs": [
    {
     "data": {
      "text/plain": [
       "сотрудник          11091\n",
       "компаньон           5080\n",
       "пенсионер           3837\n",
       "госслужащий         1457\n",
       "безработный            2\n",
       "предприниматель        2\n",
       "студент                1\n",
       "в декрете              1\n",
       "Name: income_type, dtype: int64"
      ]
     },
     "execution_count": 38,
     "metadata": {},
     "output_type": "execute_result"
    }
   ],
   "source": [
    "data['income_type'].value_counts()"
   ]
  },
  {
   "cell_type": "markdown",
   "metadata": {},
   "source": [
    "Здесь также все в порядке. Остался столбец с целями кредита. Посмотрим на их перечень, чтобы убедиться, что в нем нет дубликатов по регистру.\n",
    "<a id=\"purpose_list\"></a>"
   ]
  },
  {
   "cell_type": "code",
   "execution_count": 39,
   "metadata": {},
   "outputs": [
    {
     "data": {
      "text/plain": [
       "свадьба                                   793\n",
       "на проведение свадьбы                     773\n",
       "сыграть свадьбу                           769\n",
       "операции с недвижимостью                  675\n",
       "покупка коммерческой недвижимости         662\n",
       "покупка жилья для сдачи                   652\n",
       "операции с жильем                         652\n",
       "операции с коммерческой недвижимостью     650\n",
       "покупка жилья                             646\n",
       "жилье                                     646\n",
       "покупка жилья для семьи                   638\n",
       "строительство собственной недвижимости    635\n",
       "недвижимость                              633\n",
       "операции со своей недвижимостью           627\n",
       "строительство жилой недвижимости          625\n",
       "покупка недвижимости                      621\n",
       "покупка своего жилья                      620\n",
       "строительство недвижимости                619\n",
       "ремонт жилью                              607\n",
       "покупка жилой недвижимости                606\n",
       "на покупку своего автомобиля              505\n",
       "заняться высшим образованием              496\n",
       "автомобиль                                494\n",
       "сделка с подержанным автомобилем          486\n",
       "свой автомобиль                           479\n",
       "на покупку подержанного автомобиля        478\n",
       "автомобили                                478\n",
       "на покупку автомобиля                     472\n",
       "приобретение автомобиля                   461\n",
       "дополнительное образование                460\n",
       "сделка с автомобилем                      455\n",
       "высшее образование                        452\n",
       "образование                               447\n",
       "получение дополнительного образования     447\n",
       "получение образования                     442\n",
       "профильное образование                    436\n",
       "получение высшего образования             426\n",
       "заняться образованием                     408\n",
       "Name: credit_purpose, dtype: int64"
      ]
     },
     "execution_count": 39,
     "metadata": {},
     "output_type": "execute_result"
    }
   ],
   "source": [
    "data['credit_purpose'].value_counts()"
   ]
  },
  {
   "cell_type": "markdown",
   "metadata": {},
   "source": [
    "С регистром все в порядке, но в формулировках много повторов (*покупка жилья, покупка жилой недвижимости и покупка жилья для семьи* &mdash; одна и та же цель). Причина, скорее всего, заключается в свободном заполнении поля в анкете (вместо выбора одного из предложенных вариантов) &mdash; стоит обратить на это внимание сотрудников банка.\n",
    "\n",
    "Чтобы привести данные в пригодный для анализа вид, далее используем лемматизацию.\n",
    "\n",
    "Последний пункт &mdash; столбец gender, в котором обнаружены 3 категории. Выведем все уникальные значения."
   ]
  },
  {
   "cell_type": "code",
   "execution_count": 40,
   "metadata": {
    "scrolled": true
   },
   "outputs": [
    {
     "data": {
      "text/plain": [
       "array(['F', 'M', 'XNA'], dtype=object)"
      ]
     },
     "execution_count": 40,
     "metadata": {},
     "output_type": "execute_result"
    }
   ],
   "source": [
    "data['gender'].unique()"
   ]
  },
  {
   "cell_type": "markdown",
   "metadata": {},
   "source": [
    "Значение XNA говорит о том, что скорее всего эту графу не заполняли (нет данных). Допустимый вариант, оставим как есть. "
   ]
  },
  {
   "cell_type": "markdown",
   "metadata": {},
   "source": [
    "### Вывод"
   ]
  },
  {
   "cell_type": "markdown",
   "metadata": {},
   "source": [
    "В результате предобработки данных:\n",
    "\n",
    "- Найдены и удалены полные дубликаты (54 строки)\n",
    "- Устранены дубликаты в столбце с уровнем образования (дубликаты за счет использования разного регистра)\n",
    "- Найдены смысловые дубликаты в столбце с целями кредита\n",
    "- Исправлены некорректные значения (артефакты) в столбце с количеством детей\n",
    "\n",
    "Возможные причины появления дубликатов:\n",
    "\n",
    "- Ручной ввод данных (ошибка ввода)\n",
    "- Повторная отправка заявок / сбой на сервере\n",
    "- Формат заявки на получение кредита со свободным вводом вместо множественного выбора"
   ]
  },
  {
   "cell_type": "markdown",
   "metadata": {},
   "source": [
    "### Лемматизация <a id=\"lemmas\"></a>"
   ]
  },
  {
   "cell_type": "markdown",
   "metadata": {},
   "source": [
    "В текущем виде анализировать цели кредита затруднительно. Цели похожи, но используются различные формулировки.\n",
    "\n",
    "Создадим новый столбец *credit_purpose_lem* и запишем в него лемматизированные значения столбца *credit_purpose*. Посмотрим на начало таблицы."
   ]
  },
  {
   "cell_type": "code",
   "execution_count": 41,
   "metadata": {},
   "outputs": [
    {
     "data": {
      "text/html": [
       "<div>\n",
       "<style scoped>\n",
       "    .dataframe tbody tr th:only-of-type {\n",
       "        vertical-align: middle;\n",
       "    }\n",
       "\n",
       "    .dataframe tbody tr th {\n",
       "        vertical-align: top;\n",
       "    }\n",
       "\n",
       "    .dataframe thead th {\n",
       "        text-align: right;\n",
       "    }\n",
       "</style>\n",
       "<table border=\"1\" class=\"dataframe\">\n",
       "  <thead>\n",
       "    <tr style=\"text-align: right;\">\n",
       "      <th></th>\n",
       "      <th>credit_purpose</th>\n",
       "      <th>credit_purpose_lem</th>\n",
       "    </tr>\n",
       "  </thead>\n",
       "  <tbody>\n",
       "    <tr>\n",
       "      <td>0</td>\n",
       "      <td>покупка жилья</td>\n",
       "      <td>[покупка,  , жилье, \\n]</td>\n",
       "    </tr>\n",
       "    <tr>\n",
       "      <td>1</td>\n",
       "      <td>приобретение автомобиля</td>\n",
       "      <td>[приобретение,  , автомобиль, \\n]</td>\n",
       "    </tr>\n",
       "    <tr>\n",
       "      <td>2</td>\n",
       "      <td>покупка жилья</td>\n",
       "      <td>[покупка,  , жилье, \\n]</td>\n",
       "    </tr>\n",
       "    <tr>\n",
       "      <td>3</td>\n",
       "      <td>дополнительное образование</td>\n",
       "      <td>[дополнительный,  , образование, \\n]</td>\n",
       "    </tr>\n",
       "    <tr>\n",
       "      <td>4</td>\n",
       "      <td>сыграть свадьбу</td>\n",
       "      <td>[сыграть,  , свадьба, \\n]</td>\n",
       "    </tr>\n",
       "  </tbody>\n",
       "</table>\n",
       "</div>"
      ],
      "text/plain": [
       "               credit_purpose                    credit_purpose_lem\n",
       "0               покупка жилья               [покупка,  , жилье, \\n]\n",
       "1     приобретение автомобиля     [приобретение,  , автомобиль, \\n]\n",
       "2               покупка жилья               [покупка,  , жилье, \\n]\n",
       "3  дополнительное образование  [дополнительный,  , образование, \\n]\n",
       "4             сыграть свадьбу             [сыграть,  , свадьба, \\n]"
      ]
     },
     "execution_count": 41,
     "metadata": {},
     "output_type": "execute_result"
    }
   ],
   "source": [
    "m = Mystem()\n",
    "\n",
    "def my_lemmatize(x):\n",
    "    \"\"\"Возвращает лемматизированные значения\"\"\"\n",
    "    new = m.lemmatize(x)\n",
    "    return new\n",
    "\n",
    "data['credit_purpose_lem'] = data['credit_purpose'].apply(my_lemmatize)\n",
    "   \n",
    "data[['credit_purpose', 'credit_purpose_lem']].head()"
   ]
  },
  {
   "cell_type": "markdown",
   "metadata": {},
   "source": [
    "Теперь нужно оценить, какие цели встречаются чаще всего. Объединим выделенные леммы в один список `lemmas_all` и выведем на экран первые 10 записей."
   ]
  },
  {
   "cell_type": "code",
   "execution_count": 42,
   "metadata": {},
   "outputs": [
    {
     "name": "stdout",
     "output_type": "stream",
     "text": [
      "['покупка жилье\\n', 'приобретение автомобиль\\n', 'покупка жилье\\n', 'дополнительный образование\\n', 'сыграть свадьба\\n', 'покупка жилье\\n', 'операция с жилье\\n', 'образование\\n', 'на проведение свадьба\\n', 'покупка жилье для семья\\n']\n"
     ]
    }
   ],
   "source": [
    "lemmas_all = []\n",
    "for row in data['credit_purpose_lem']:\n",
    "    x = \"\".join(row)\n",
    "    lemmas_all.append(x)\n",
    " \n",
    "print(lemmas_all[:10])"
   ]
  },
  {
   "cell_type": "markdown",
   "metadata": {},
   "source": [
    "Наш список состоит из строк, а мы будем подсчитывать отдельные леммы. Разобъем строки по пробелу и сохраним в список `lemmas_new`. Также посмотрим на первые 10 записей."
   ]
  },
  {
   "cell_type": "code",
   "execution_count": 43,
   "metadata": {},
   "outputs": [
    {
     "name": "stdout",
     "output_type": "stream",
     "text": [
      "['покупка', 'жилье', 'приобретение', 'автомобиль', 'покупка', 'жилье', 'дополнительный', 'образование', 'сыграть', 'свадьба']\n"
     ]
    }
   ],
   "source": [
    "lemmas_new = []\n",
    "for word in lemmas_all:\n",
    "    x = word.split()\n",
    "    lemmas_new += x\n",
    "print(lemmas_new[:10])"
   ]
  },
  {
   "cell_type": "markdown",
   "metadata": {},
   "source": [
    "Отдельные леммы - то, что нам нужно. Теперь подсчитаем количество упоминаний для каждой леммы."
   ]
  },
  {
   "cell_type": "code",
   "execution_count": 44,
   "metadata": {},
   "outputs": [
    {
     "data": {
      "text/html": [
       "<div>\n",
       "<style scoped>\n",
       "    .dataframe tbody tr th:only-of-type {\n",
       "        vertical-align: middle;\n",
       "    }\n",
       "\n",
       "    .dataframe tbody tr th {\n",
       "        vertical-align: top;\n",
       "    }\n",
       "\n",
       "    .dataframe thead th {\n",
       "        text-align: right;\n",
       "    }\n",
       "</style>\n",
       "<table border=\"1\" class=\"dataframe\">\n",
       "  <thead>\n",
       "    <tr style=\"text-align: right;\">\n",
       "      <th></th>\n",
       "      <th>lemma</th>\n",
       "      <th>count</th>\n",
       "    </tr>\n",
       "  </thead>\n",
       "  <tbody>\n",
       "    <tr>\n",
       "      <td>14</td>\n",
       "      <td>недвижимость</td>\n",
       "      <td>6353</td>\n",
       "    </tr>\n",
       "    <tr>\n",
       "      <td>0</td>\n",
       "      <td>покупка</td>\n",
       "      <td>5900</td>\n",
       "    </tr>\n",
       "    <tr>\n",
       "      <td>1</td>\n",
       "      <td>жилье</td>\n",
       "      <td>4461</td>\n",
       "    </tr>\n",
       "    <tr>\n",
       "      <td>3</td>\n",
       "      <td>автомобиль</td>\n",
       "      <td>4308</td>\n",
       "    </tr>\n",
       "    <tr>\n",
       "      <td>5</td>\n",
       "      <td>образование</td>\n",
       "      <td>4014</td>\n",
       "    </tr>\n",
       "    <tr>\n",
       "      <td>9</td>\n",
       "      <td>с</td>\n",
       "      <td>2918</td>\n",
       "    </tr>\n",
       "    <tr>\n",
       "      <td>8</td>\n",
       "      <td>операция</td>\n",
       "      <td>2604</td>\n",
       "    </tr>\n",
       "    <tr>\n",
       "      <td>7</td>\n",
       "      <td>свадьба</td>\n",
       "      <td>2335</td>\n",
       "    </tr>\n",
       "    <tr>\n",
       "      <td>20</td>\n",
       "      <td>свой</td>\n",
       "      <td>2231</td>\n",
       "    </tr>\n",
       "    <tr>\n",
       "      <td>10</td>\n",
       "      <td>на</td>\n",
       "      <td>2228</td>\n",
       "    </tr>\n",
       "    <tr>\n",
       "      <td>17</td>\n",
       "      <td>строительство</td>\n",
       "      <td>1879</td>\n",
       "    </tr>\n",
       "    <tr>\n",
       "      <td>26</td>\n",
       "      <td>высокий</td>\n",
       "      <td>1374</td>\n",
       "    </tr>\n",
       "    <tr>\n",
       "      <td>25</td>\n",
       "      <td>получение</td>\n",
       "      <td>1315</td>\n",
       "    </tr>\n",
       "    <tr>\n",
       "      <td>15</td>\n",
       "      <td>коммерческий</td>\n",
       "      <td>1312</td>\n",
       "    </tr>\n",
       "    <tr>\n",
       "      <td>12</td>\n",
       "      <td>для</td>\n",
       "      <td>1290</td>\n",
       "    </tr>\n",
       "    <tr>\n",
       "      <td>16</td>\n",
       "      <td>жилой</td>\n",
       "      <td>1231</td>\n",
       "    </tr>\n",
       "    <tr>\n",
       "      <td>23</td>\n",
       "      <td>сделка</td>\n",
       "      <td>941</td>\n",
       "    </tr>\n",
       "    <tr>\n",
       "      <td>4</td>\n",
       "      <td>дополнительный</td>\n",
       "      <td>907</td>\n",
       "    </tr>\n",
       "    <tr>\n",
       "      <td>22</td>\n",
       "      <td>заниматься</td>\n",
       "      <td>904</td>\n",
       "    </tr>\n",
       "    <tr>\n",
       "      <td>11</td>\n",
       "      <td>проведение</td>\n",
       "      <td>773</td>\n",
       "    </tr>\n",
       "    <tr>\n",
       "      <td>6</td>\n",
       "      <td>сыграть</td>\n",
       "      <td>769</td>\n",
       "    </tr>\n",
       "    <tr>\n",
       "      <td>28</td>\n",
       "      <td>сдача</td>\n",
       "      <td>652</td>\n",
       "    </tr>\n",
       "    <tr>\n",
       "      <td>13</td>\n",
       "      <td>семья</td>\n",
       "      <td>638</td>\n",
       "    </tr>\n",
       "    <tr>\n",
       "      <td>18</td>\n",
       "      <td>собственный</td>\n",
       "      <td>635</td>\n",
       "    </tr>\n",
       "    <tr>\n",
       "      <td>21</td>\n",
       "      <td>со</td>\n",
       "      <td>627</td>\n",
       "    </tr>\n",
       "    <tr>\n",
       "      <td>29</td>\n",
       "      <td>ремонт</td>\n",
       "      <td>607</td>\n",
       "    </tr>\n",
       "    <tr>\n",
       "      <td>24</td>\n",
       "      <td>подержанный</td>\n",
       "      <td>486</td>\n",
       "    </tr>\n",
       "    <tr>\n",
       "      <td>19</td>\n",
       "      <td>подержать</td>\n",
       "      <td>478</td>\n",
       "    </tr>\n",
       "    <tr>\n",
       "      <td>2</td>\n",
       "      <td>приобретение</td>\n",
       "      <td>461</td>\n",
       "    </tr>\n",
       "    <tr>\n",
       "      <td>27</td>\n",
       "      <td>профильный</td>\n",
       "      <td>436</td>\n",
       "    </tr>\n",
       "  </tbody>\n",
       "</table>\n",
       "</div>"
      ],
      "text/plain": [
       "             lemma  count\n",
       "14    недвижимость   6353\n",
       "0          покупка   5900\n",
       "1            жилье   4461\n",
       "3       автомобиль   4308\n",
       "5      образование   4014\n",
       "9                с   2918\n",
       "8         операция   2604\n",
       "7          свадьба   2335\n",
       "20            свой   2231\n",
       "10              на   2228\n",
       "17   строительство   1879\n",
       "26         высокий   1374\n",
       "25       получение   1315\n",
       "15    коммерческий   1312\n",
       "12             для   1290\n",
       "16           жилой   1231\n",
       "23          сделка    941\n",
       "4   дополнительный    907\n",
       "22      заниматься    904\n",
       "11      проведение    773\n",
       "6          сыграть    769\n",
       "28           сдача    652\n",
       "13           семья    638\n",
       "18     собственный    635\n",
       "21              со    627\n",
       "29          ремонт    607\n",
       "24     подержанный    486\n",
       "19       подержать    478\n",
       "2     приобретение    461\n",
       "27      профильный    436"
      ]
     },
     "execution_count": 44,
     "metadata": {},
     "output_type": "execute_result"
    }
   ],
   "source": [
    "# подсчитаем леммы и сохраним их в словарь\n",
    "d = Counter(lemmas_new)\n",
    "\n",
    "# преобразуем словарь в таблицу\n",
    "df = pd.DataFrame.from_dict(d, orient='index').reset_index()\n",
    "\n",
    "# переименуем столбцы и отсортируем по убыванию\n",
    "df.columns = ['lemma', 'count']\n",
    "df = df.sort_values(by = 'count', ascending=False)\n",
    "df"
   ]
  },
  {
   "cell_type": "markdown",
   "metadata": {},
   "source": [
    "За вычетом служебных слов (предлогов и местоимений), в топ вошли слова: *недвижимость, покупка, жилье, автомобиль, образование, операция, свадьба, строительство*. \n",
    "Слова  *покупка, сделка, операции, коммерческий, жилой* носят описательный характер, поэтому отдельной категории они не составят. Остальные слова можно распределить по категориям:\n",
    "\n",
    "- **недвижимость** - недвижимость, жилье, строительство\n",
    "- **автомобиль** - автомобиль\n",
    "- **образование** - образование\n",
    "- **свадьба** - свадьба\n",
    "\n",
    "В принципе, эти 4 категории можно было выделить и вручную, просматривая полученный ранее [список целей кредита](#purpose_list), но так мы убедились, что точно не пропустили какую-то важную категорию. "
   ]
  },
  {
   "cell_type": "markdown",
   "metadata": {},
   "source": [
    "### Вывод"
   ]
  },
  {
   "cell_type": "markdown",
   "metadata": {},
   "source": [
    "В результате лемматизации столбца с целями кредита:\n",
    "\n",
    "- Получен список с отдельными леммами (*'покупка', 'жилье', 'приобретение'* и т.п.)\n",
    "- Выполнен подсчет лемм\n",
    "- В результате частотного анализа выделены 4 основные категории, по которым можно распределить цели кредита"
   ]
  },
  {
   "cell_type": "markdown",
   "metadata": {},
   "source": [
    "### Категоризация данных <a id=\"categories\"></a>"
   ]
  },
  {
   "cell_type": "markdown",
   "metadata": {},
   "source": [
    "Пока что данные у нас разрозненные. Начнем их группировать, чтобы выделить тенденции, общие для групп, и ответить на вопросы исследования.\n",
    "\n",
    "В предыдущей части мы выделили 4 категории для целей кредита. Напишем функцию, которая распределит все цели по одной из этих категорий, и проверим на примерах."
   ]
  },
  {
   "cell_type": "code",
   "execution_count": 45,
   "metadata": {},
   "outputs": [
    {
     "name": "stdout",
     "output_type": "stream",
     "text": [
      "образование\n",
      "недвижимость\n"
     ]
    }
   ],
   "source": [
    "def purpose_category(purpose_lem):\n",
    "    \"\"\"Распределяет цели кредита по 4 категориям\"\"\"\n",
    "    if 'жилье' in purpose_lem or 'недвижимость' in purpose_lem:\n",
    "        return 'недвижимость'\n",
    "    elif 'свадьба' in purpose_lem:\n",
    "        return 'свадьба'\n",
    "    elif 'образование' in purpose_lem:\n",
    "        return 'образование'\n",
    "    elif 'автомобиль' in purpose_lem:\n",
    "        return 'автомобиль'\n",
    "    \n",
    "print(purpose_category('[дополнительный, , образование, \\n]'))\n",
    "print(purpose_category('[покупка, , жилье, , для, , семья, \\n]'))"
   ]
  },
  {
   "cell_type": "markdown",
   "metadata": {},
   "source": [
    "Теперь применим функцию к столбцу *credit_purpose_lem* и запишем результат в новый столбец *credit_purpose_cat*. "
   ]
  },
  {
   "cell_type": "code",
   "execution_count": 46,
   "metadata": {},
   "outputs": [
    {
     "data": {
      "text/html": [
       "<div>\n",
       "<style scoped>\n",
       "    .dataframe tbody tr th:only-of-type {\n",
       "        vertical-align: middle;\n",
       "    }\n",
       "\n",
       "    .dataframe tbody tr th {\n",
       "        vertical-align: top;\n",
       "    }\n",
       "\n",
       "    .dataframe thead th {\n",
       "        text-align: right;\n",
       "    }\n",
       "</style>\n",
       "<table border=\"1\" class=\"dataframe\">\n",
       "  <thead>\n",
       "    <tr style=\"text-align: right;\">\n",
       "      <th></th>\n",
       "      <th>credit_purpose</th>\n",
       "      <th>credit_purpose_cat</th>\n",
       "      <th>credit_purpose_lem</th>\n",
       "    </tr>\n",
       "  </thead>\n",
       "  <tbody>\n",
       "    <tr>\n",
       "      <td>0</td>\n",
       "      <td>покупка жилья</td>\n",
       "      <td>недвижимость</td>\n",
       "      <td>[покупка,  , жилье, \\n]</td>\n",
       "    </tr>\n",
       "    <tr>\n",
       "      <td>1</td>\n",
       "      <td>приобретение автомобиля</td>\n",
       "      <td>автомобиль</td>\n",
       "      <td>[приобретение,  , автомобиль, \\n]</td>\n",
       "    </tr>\n",
       "    <tr>\n",
       "      <td>2</td>\n",
       "      <td>покупка жилья</td>\n",
       "      <td>недвижимость</td>\n",
       "      <td>[покупка,  , жилье, \\n]</td>\n",
       "    </tr>\n",
       "    <tr>\n",
       "      <td>3</td>\n",
       "      <td>дополнительное образование</td>\n",
       "      <td>образование</td>\n",
       "      <td>[дополнительный,  , образование, \\n]</td>\n",
       "    </tr>\n",
       "    <tr>\n",
       "      <td>4</td>\n",
       "      <td>сыграть свадьбу</td>\n",
       "      <td>свадьба</td>\n",
       "      <td>[сыграть,  , свадьба, \\n]</td>\n",
       "    </tr>\n",
       "  </tbody>\n",
       "</table>\n",
       "</div>"
      ],
      "text/plain": [
       "               credit_purpose credit_purpose_cat  \\\n",
       "0               покупка жилья       недвижимость   \n",
       "1     приобретение автомобиля         автомобиль   \n",
       "2               покупка жилья       недвижимость   \n",
       "3  дополнительное образование        образование   \n",
       "4             сыграть свадьбу            свадьба   \n",
       "\n",
       "                     credit_purpose_lem  \n",
       "0               [покупка,  , жилье, \\n]  \n",
       "1     [приобретение,  , автомобиль, \\n]  \n",
       "2               [покупка,  , жилье, \\n]  \n",
       "3  [дополнительный,  , образование, \\n]  \n",
       "4             [сыграть,  , свадьба, \\n]  "
      ]
     },
     "execution_count": 46,
     "metadata": {},
     "output_type": "execute_result"
    }
   ],
   "source": [
    "data['credit_purpose_cat'] = (data['credit_purpose_lem']\n",
    "                              .apply(purpose_category)\n",
    "                             )\n",
    "\n",
    "data[['credit_purpose', 'credit_purpose_cat', 'credit_purpose_lem']].head()"
   ]
  },
  {
   "cell_type": "markdown",
   "metadata": {},
   "source": [
    "Убедимся, что каждая строка отнесена к той или иной категории целей. Для этого посчитаем количество пропусков в столбце с целями."
   ]
  },
  {
   "cell_type": "code",
   "execution_count": 47,
   "metadata": {},
   "outputs": [
    {
     "name": "stdout",
     "output_type": "stream",
     "text": [
      "Пропусков в столбце с целями: 0\n"
     ]
    }
   ],
   "source": [
    "print('Пропусков в столбце с целями:', data['credit_purpose_cat'].isna().sum())"
   ]
  },
  {
   "cell_type": "markdown",
   "metadata": {},
   "source": [
    "Теперь обратимся к столбцу с доходом. Сначала оценим данные в целом: найдем минимальное и максимальное значения и медиану."
   ]
  },
  {
   "cell_type": "code",
   "execution_count": 48,
   "metadata": {},
   "outputs": [
    {
     "name": "stdout",
     "output_type": "stream",
     "text": [
      "Минимальный доход: 20667.26379327158\n",
      "Максимальный доход: 2265604.028722744\n",
      "Медианный доход: 142594.39684740017\n"
     ]
    }
   ],
   "source": [
    "print('Минимальный доход:', data['monthly_income'].min())\n",
    "print ('Максимальный доход:', data['monthly_income'].max())\n",
    "print ('Медианный доход:', data['monthly_income'].median())"
   ]
  },
  {
   "cell_type": "markdown",
   "metadata": {},
   "source": [
    "Нам неизвестен контекст - ни регион, ни временной период, поэтому сделать привязку к прожиточному минимуму или показателям Росстата не получится. Условно можно выделить 4 категории:\n",
    "\n",
    "- Низкий - до 100 тысяч\n",
    "- Средний - от 100 до 150 тысяч\n",
    "- Выше среднего - от 150 тысяч до 250 тысяч\n",
    "- Высокий - более 250 тысяч\n",
    "\n",
    "Напишем функцию для отнесения дохода к одной из категорий и проверим ее на примерах."
   ]
  },
  {
   "cell_type": "code",
   "execution_count": 49,
   "metadata": {},
   "outputs": [
    {
     "name": "stdout",
     "output_type": "stream",
     "text": [
      "низкий\n",
      "выше среднего\n",
      "высокий\n"
     ]
    }
   ],
   "source": [
    "def income_category(x):\n",
    "    \"\"\"Относит доход к одной из 4 категорий\"\"\"\n",
    "    if x < 100000:\n",
    "        return 'низкий'\n",
    "    elif 100000 <= x < 150000:\n",
    "        return 'средний'\n",
    "    elif 150000 <= x < 250000:\n",
    "        return 'выше среднего'\n",
    "    else:\n",
    "        return 'высокий'\n",
    "\n",
    "print(income_category(59000))\n",
    "print(income_category(165300))\n",
    "print(income_category(560000))"
   ]
  },
  {
   "cell_type": "markdown",
   "metadata": {},
   "source": [
    "Применим функцию к столбцу *monthly_income* и сохраним результат в новый столбец *monthly_income_cat*."
   ]
  },
  {
   "cell_type": "code",
   "execution_count": 50,
   "metadata": {},
   "outputs": [
    {
     "data": {
      "text/html": [
       "<div>\n",
       "<style scoped>\n",
       "    .dataframe tbody tr th:only-of-type {\n",
       "        vertical-align: middle;\n",
       "    }\n",
       "\n",
       "    .dataframe tbody tr th {\n",
       "        vertical-align: top;\n",
       "    }\n",
       "\n",
       "    .dataframe thead th {\n",
       "        text-align: right;\n",
       "    }\n",
       "</style>\n",
       "<table border=\"1\" class=\"dataframe\">\n",
       "  <thead>\n",
       "    <tr style=\"text-align: right;\">\n",
       "      <th></th>\n",
       "      <th>monthly_income</th>\n",
       "      <th>monthly_income_cat</th>\n",
       "    </tr>\n",
       "  </thead>\n",
       "  <tbody>\n",
       "    <tr>\n",
       "      <td>0</td>\n",
       "      <td>253875.639</td>\n",
       "      <td>высокий</td>\n",
       "    </tr>\n",
       "    <tr>\n",
       "      <td>1</td>\n",
       "      <td>112080.014</td>\n",
       "      <td>средний</td>\n",
       "    </tr>\n",
       "    <tr>\n",
       "      <td>2</td>\n",
       "      <td>145885.952</td>\n",
       "      <td>средний</td>\n",
       "    </tr>\n",
       "    <tr>\n",
       "      <td>3</td>\n",
       "      <td>267628.550</td>\n",
       "      <td>высокий</td>\n",
       "    </tr>\n",
       "    <tr>\n",
       "      <td>4</td>\n",
       "      <td>158616.078</td>\n",
       "      <td>выше среднего</td>\n",
       "    </tr>\n",
       "  </tbody>\n",
       "</table>\n",
       "</div>"
      ],
      "text/plain": [
       "   monthly_income monthly_income_cat\n",
       "0      253875.639            высокий\n",
       "1      112080.014            средний\n",
       "2      145885.952            средний\n",
       "3      267628.550            высокий\n",
       "4      158616.078      выше среднего"
      ]
     },
     "execution_count": 50,
     "metadata": {},
     "output_type": "execute_result"
    }
   ],
   "source": [
    "data['monthly_income_cat'] = (data['monthly_income']\n",
    "                              .apply(income_category)\n",
    "                             )\n",
    "\n",
    "data[['monthly_income', 'monthly_income_cat']] .head()"
   ]
  },
  {
   "cell_type": "code",
   "execution_count": 51,
   "metadata": {},
   "outputs": [
    {
     "data": {
      "text/plain": [
       "средний          7175\n",
       "выше среднего    7020\n",
       "низкий           4463\n",
       "высокий          2813\n",
       "Name: monthly_income_cat, dtype: int64"
      ]
     },
     "execution_count": 51,
     "metadata": {},
     "output_type": "execute_result"
    }
   ],
   "source": [
    "data['monthly_income_cat'].value_counts()"
   ]
  },
  {
   "cell_type": "markdown",
   "metadata": {},
   "source": [
    "Информация о наличии детей сейчас представлена в виде количественных данных - от 0 до 5. Согласно нашей гипотезе, многодетные семьи входят в \"группу риска\" с точки зрения платежеспособности. Поэтому удобнее разделить клиентов на 3 категории:\n",
    "\n",
    "- бездетные \n",
    "- 1-2 детей\n",
    "- многодетные (3 и более детей - именно так классифицируют многодетные семьи в России)\n",
    "\n",
    "Объявим функцию `children_category` и проверим ее на примерах. Затем применим ее к столбцу *children_num* и сохраним данные в новый столбец."
   ]
  },
  {
   "cell_type": "code",
   "execution_count": 52,
   "metadata": {},
   "outputs": [
    {
     "name": "stdout",
     "output_type": "stream",
     "text": [
      "1-2 детей\n",
      "многодетные\n",
      "бездетные\n"
     ]
    }
   ],
   "source": [
    "def children_category(x):\n",
    "    \"\"\"Относит количество детей к одной из 3 категорий\"\"\"\n",
    "    if x == 0:\n",
    "        return 'бездетные'\n",
    "    elif x == 1 or x == 2:\n",
    "        return '1-2 детей'\n",
    "    else:\n",
    "        return 'многодетные'\n",
    "\n",
    "print(children_category(2))\n",
    "print(children_category(4))\n",
    "print(children_category(0))"
   ]
  },
  {
   "cell_type": "code",
   "execution_count": 53,
   "metadata": {},
   "outputs": [
    {
     "data": {
      "text/html": [
       "<div>\n",
       "<style scoped>\n",
       "    .dataframe tbody tr th:only-of-type {\n",
       "        vertical-align: middle;\n",
       "    }\n",
       "\n",
       "    .dataframe tbody tr th {\n",
       "        vertical-align: top;\n",
       "    }\n",
       "\n",
       "    .dataframe thead th {\n",
       "        text-align: right;\n",
       "    }\n",
       "</style>\n",
       "<table border=\"1\" class=\"dataframe\">\n",
       "  <thead>\n",
       "    <tr style=\"text-align: right;\">\n",
       "      <th></th>\n",
       "      <th>children_num</th>\n",
       "      <th>children_num_cat</th>\n",
       "    </tr>\n",
       "  </thead>\n",
       "  <tbody>\n",
       "    <tr>\n",
       "      <td>0</td>\n",
       "      <td>1</td>\n",
       "      <td>1-2 детей</td>\n",
       "    </tr>\n",
       "    <tr>\n",
       "      <td>1</td>\n",
       "      <td>1</td>\n",
       "      <td>1-2 детей</td>\n",
       "    </tr>\n",
       "    <tr>\n",
       "      <td>2</td>\n",
       "      <td>0</td>\n",
       "      <td>бездетные</td>\n",
       "    </tr>\n",
       "    <tr>\n",
       "      <td>3</td>\n",
       "      <td>3</td>\n",
       "      <td>многодетные</td>\n",
       "    </tr>\n",
       "    <tr>\n",
       "      <td>4</td>\n",
       "      <td>0</td>\n",
       "      <td>бездетные</td>\n",
       "    </tr>\n",
       "  </tbody>\n",
       "</table>\n",
       "</div>"
      ],
      "text/plain": [
       "   children_num children_num_cat\n",
       "0             1        1-2 детей\n",
       "1             1        1-2 детей\n",
       "2             0        бездетные\n",
       "3             3      многодетные\n",
       "4             0        бездетные"
      ]
     },
     "execution_count": 53,
     "metadata": {},
     "output_type": "execute_result"
    }
   ],
   "source": [
    "data['children_num_cat'] = (data['children_num']\n",
    "                            .apply(children_category)\n",
    "                           )\n",
    "\n",
    "data[['children_num', 'children_num_cat']].head()"
   ]
  },
  {
   "cell_type": "markdown",
   "metadata": {},
   "source": [
    "### Вывод"
   ]
  },
  {
   "cell_type": "markdown",
   "metadata": {},
   "source": [
    "Мы сгруппировали данные о детях, доходе и целях кредита по категориям:\n",
    "\n",
    "- Категории для целей кредита выделены на основе частотного анализа лемм\n",
    "- Категории для уровня дохода не привязаны к социальному контексту и используются для описания данной отдельно взятой выборки\n",
    "- Категории по количеству детей выделены так, чтобы можно было работать с нашей гипотезой о многодетных семьях \n"
   ]
  },
  {
   "cell_type": "markdown",
   "metadata": {},
   "source": [
    "## Анализ данных <a id=\"analysis\"></a>"
   ]
  },
  {
   "cell_type": "markdown",
   "metadata": {},
   "source": [
    "### Зависимость между наличием детей и возвратом кредита в срок <a id=\"children\"></a>"
   ]
  },
  {
   "cell_type": "markdown",
   "metadata": {},
   "source": [
    "Объявим функцию `pivot_data`, которая в качестве аргумента будет принимать столбец из таблицы `data` и возвращать сводную таблицу с данными по должникам. Значения из этого столбца станут индексом новой таблицы."
   ]
  },
  {
   "cell_type": "code",
   "execution_count": 54,
   "metadata": {},
   "outputs": [],
   "source": [
    "def pivot_data(factor):\n",
    "    \"\"\"\n",
    "    Принимает в качестве аргумента столбец с категорией (factor) из основной таблицы.\n",
    "    Строит сводную таблицу, где в строках - та или иная категория (количество детей, семейное положение, уровень дохода).\n",
    "    Добавляет столбцы с долей клиентов-должников и не-должников.\n",
    "    Выводит результирующую сводную таблицу.\n",
    "    \"\"\"\n",
    "    table = data.pivot_table(index = factor, \n",
    "                                   columns = 'credit_debt', \n",
    "                                   values = 'monthly_income', \n",
    "                                   aggfunc = 'count')\n",
    "    # переименуем столбцы\n",
    "    table.columns = ['no_debt', 'debt']\n",
    "    \n",
    "    # вычислим долю должников и аккуратных плательщиков в %\n",
    "    table['no_debt_part'] = (table['no_debt'] /\n",
    "                                   (table['no_debt'] + table['debt'])\n",
    "                                  )\n",
    "\n",
    "    table['debt_part'] = (table['debt'] / \n",
    "                                (table['no_debt'] + table['debt'])\n",
    "                               )\n",
    "    return (table\n",
    "         .sort_values(by='debt_part', ascending = False)\n",
    "         .style.format({'no_debt_part':'{:.2%}', \n",
    "                        'debt_part':'{:.2%}'})\n",
    "           )"
   ]
  },
  {
   "cell_type": "markdown",
   "metadata": {},
   "source": [
    "Выведем таблицу, задав в качестве аргумента столбец с категорией количества детей."
   ]
  },
  {
   "cell_type": "code",
   "execution_count": 55,
   "metadata": {
    "scrolled": true
   },
   "outputs": [
    {
     "data": {
      "text/html": [
       "<style  type=\"text/css\" >\n",
       "</style><table id=\"T_670ae94c_a60b_11eb_a649_02420a3974a1\" ><thead>    <tr>        <th class=\"blank level0\" ></th>        <th class=\"col_heading level0 col0\" >no_debt</th>        <th class=\"col_heading level0 col1\" >debt</th>        <th class=\"col_heading level0 col2\" >no_debt_part</th>        <th class=\"col_heading level0 col3\" >debt_part</th>    </tr>    <tr>        <th class=\"index_name level0\" >children_num_cat</th>        <th class=\"blank\" ></th>        <th class=\"blank\" ></th>        <th class=\"blank\" ></th>        <th class=\"blank\" ></th>    </tr></thead><tbody>\n",
       "                <tr>\n",
       "                        <th id=\"T_670ae94c_a60b_11eb_a649_02420a3974a1level0_row0\" class=\"row_heading level0 row0\" >1-2 детей</th>\n",
       "                        <td id=\"T_670ae94c_a60b_11eb_a649_02420a3974a1row0_col0\" class=\"data row0 col0\" >6337</td>\n",
       "                        <td id=\"T_670ae94c_a60b_11eb_a649_02420a3974a1row0_col1\" class=\"data row0 col1\" >647</td>\n",
       "                        <td id=\"T_670ae94c_a60b_11eb_a649_02420a3974a1row0_col2\" class=\"data row0 col2\" >90.74%</td>\n",
       "                        <td id=\"T_670ae94c_a60b_11eb_a649_02420a3974a1row0_col3\" class=\"data row0 col3\" >9.26%</td>\n",
       "            </tr>\n",
       "            <tr>\n",
       "                        <th id=\"T_670ae94c_a60b_11eb_a649_02420a3974a1level0_row1\" class=\"row_heading level0 row1\" >многодетные</th>\n",
       "                        <td id=\"T_670ae94c_a60b_11eb_a649_02420a3974a1row1_col0\" class=\"data row1 col0\" >349</td>\n",
       "                        <td id=\"T_670ae94c_a60b_11eb_a649_02420a3974a1row1_col1\" class=\"data row1 col1\" >31</td>\n",
       "                        <td id=\"T_670ae94c_a60b_11eb_a649_02420a3974a1row1_col2\" class=\"data row1 col2\" >91.84%</td>\n",
       "                        <td id=\"T_670ae94c_a60b_11eb_a649_02420a3974a1row1_col3\" class=\"data row1 col3\" >8.16%</td>\n",
       "            </tr>\n",
       "            <tr>\n",
       "                        <th id=\"T_670ae94c_a60b_11eb_a649_02420a3974a1level0_row2\" class=\"row_heading level0 row2\" >бездетные</th>\n",
       "                        <td id=\"T_670ae94c_a60b_11eb_a649_02420a3974a1row2_col0\" class=\"data row2 col0\" >13044</td>\n",
       "                        <td id=\"T_670ae94c_a60b_11eb_a649_02420a3974a1row2_col1\" class=\"data row2 col1\" >1063</td>\n",
       "                        <td id=\"T_670ae94c_a60b_11eb_a649_02420a3974a1row2_col2\" class=\"data row2 col2\" >92.46%</td>\n",
       "                        <td id=\"T_670ae94c_a60b_11eb_a649_02420a3974a1row2_col3\" class=\"data row2 col3\" >7.54%</td>\n",
       "            </tr>\n",
       "    </tbody></table>"
      ],
      "text/plain": [
       "<pandas.io.formats.style.Styler at 0x7f272be976d0>"
      ]
     },
     "execution_count": 55,
     "metadata": {},
     "output_type": "execute_result"
    }
   ],
   "source": [
    "pivot_data('children_num_cat')"
   ]
  },
  {
   "cell_type": "markdown",
   "metadata": {},
   "source": [
    "На первый взгляд, рабочая гипотеза подтвердилась. Действительно, клиенты с 1-2 детьми несколько чаще оказываются в должниках, чем бездетные или многодетные клиенты.\n",
    "\n",
    "Вопрос в том, можно ли назвать это различие значимым. Например, по многодетным выборка слишком мала, чтобы делать уверенные выводы."
   ]
  },
  {
   "cell_type": "markdown",
   "metadata": {},
   "source": [
    "### Зависимость между семейным положением и возвратом кредита в срок <a id=\"family\"></a>"
   ]
  },
  {
   "cell_type": "markdown",
   "metadata": {},
   "source": [
    "Воспользуемся функцией `pivot_data` и построим аналогичную таблицу с данными по семейному положению."
   ]
  },
  {
   "cell_type": "code",
   "execution_count": 56,
   "metadata": {},
   "outputs": [
    {
     "data": {
      "text/html": [
       "<style  type=\"text/css\" >\n",
       "</style><table id=\"T_67137cf6_a60b_11eb_a649_02420a3974a1\" ><thead>    <tr>        <th class=\"blank level0\" ></th>        <th class=\"col_heading level0 col0\" >no_debt</th>        <th class=\"col_heading level0 col1\" >debt</th>        <th class=\"col_heading level0 col2\" >no_debt_part</th>        <th class=\"col_heading level0 col3\" >debt_part</th>    </tr>    <tr>        <th class=\"index_name level0\" >family_status</th>        <th class=\"blank\" ></th>        <th class=\"blank\" ></th>        <th class=\"blank\" ></th>        <th class=\"blank\" ></th>    </tr></thead><tbody>\n",
       "                <tr>\n",
       "                        <th id=\"T_67137cf6_a60b_11eb_a649_02420a3974a1level0_row0\" class=\"row_heading level0 row0\" >не женат / не замужем</th>\n",
       "                        <td id=\"T_67137cf6_a60b_11eb_a649_02420a3974a1row0_col0\" class=\"data row0 col0\" >2536</td>\n",
       "                        <td id=\"T_67137cf6_a60b_11eb_a649_02420a3974a1row0_col1\" class=\"data row0 col1\" >274</td>\n",
       "                        <td id=\"T_67137cf6_a60b_11eb_a649_02420a3974a1row0_col2\" class=\"data row0 col2\" >90.25%</td>\n",
       "                        <td id=\"T_67137cf6_a60b_11eb_a649_02420a3974a1row0_col3\" class=\"data row0 col3\" >9.75%</td>\n",
       "            </tr>\n",
       "            <tr>\n",
       "                        <th id=\"T_67137cf6_a60b_11eb_a649_02420a3974a1level0_row1\" class=\"row_heading level0 row1\" >гражданский брак</th>\n",
       "                        <td id=\"T_67137cf6_a60b_11eb_a649_02420a3974a1row1_col0\" class=\"data row1 col0\" >3775</td>\n",
       "                        <td id=\"T_67137cf6_a60b_11eb_a649_02420a3974a1row1_col1\" class=\"data row1 col1\" >388</td>\n",
       "                        <td id=\"T_67137cf6_a60b_11eb_a649_02420a3974a1row1_col2\" class=\"data row1 col2\" >90.68%</td>\n",
       "                        <td id=\"T_67137cf6_a60b_11eb_a649_02420a3974a1row1_col3\" class=\"data row1 col3\" >9.32%</td>\n",
       "            </tr>\n",
       "            <tr>\n",
       "                        <th id=\"T_67137cf6_a60b_11eb_a649_02420a3974a1level0_row2\" class=\"row_heading level0 row2\" >женат / замужем</th>\n",
       "                        <td id=\"T_67137cf6_a60b_11eb_a649_02420a3974a1row2_col0\" class=\"data row2 col0\" >11413</td>\n",
       "                        <td id=\"T_67137cf6_a60b_11eb_a649_02420a3974a1row2_col1\" class=\"data row2 col1\" >931</td>\n",
       "                        <td id=\"T_67137cf6_a60b_11eb_a649_02420a3974a1row2_col2\" class=\"data row2 col2\" >92.46%</td>\n",
       "                        <td id=\"T_67137cf6_a60b_11eb_a649_02420a3974a1row2_col3\" class=\"data row2 col3\" >7.54%</td>\n",
       "            </tr>\n",
       "            <tr>\n",
       "                        <th id=\"T_67137cf6_a60b_11eb_a649_02420a3974a1level0_row3\" class=\"row_heading level0 row3\" >в разводе</th>\n",
       "                        <td id=\"T_67137cf6_a60b_11eb_a649_02420a3974a1row3_col0\" class=\"data row3 col0\" >1110</td>\n",
       "                        <td id=\"T_67137cf6_a60b_11eb_a649_02420a3974a1row3_col1\" class=\"data row3 col1\" >85</td>\n",
       "                        <td id=\"T_67137cf6_a60b_11eb_a649_02420a3974a1row3_col2\" class=\"data row3 col2\" >92.89%</td>\n",
       "                        <td id=\"T_67137cf6_a60b_11eb_a649_02420a3974a1row3_col3\" class=\"data row3 col3\" >7.11%</td>\n",
       "            </tr>\n",
       "            <tr>\n",
       "                        <th id=\"T_67137cf6_a60b_11eb_a649_02420a3974a1level0_row4\" class=\"row_heading level0 row4\" >вдовец / вдова</th>\n",
       "                        <td id=\"T_67137cf6_a60b_11eb_a649_02420a3974a1row4_col0\" class=\"data row4 col0\" >896</td>\n",
       "                        <td id=\"T_67137cf6_a60b_11eb_a649_02420a3974a1row4_col1\" class=\"data row4 col1\" >63</td>\n",
       "                        <td id=\"T_67137cf6_a60b_11eb_a649_02420a3974a1row4_col2\" class=\"data row4 col2\" >93.43%</td>\n",
       "                        <td id=\"T_67137cf6_a60b_11eb_a649_02420a3974a1row4_col3\" class=\"data row4 col3\" >6.57%</td>\n",
       "            </tr>\n",
       "    </tbody></table>"
      ],
      "text/plain": [
       "<pandas.io.formats.style.Styler at 0x7f27748d99d0>"
      ]
     },
     "execution_count": 56,
     "metadata": {},
     "output_type": "execute_result"
    }
   ],
   "source": [
    "pivot_data('family_status')"
   ]
  },
  {
   "cell_type": "markdown",
   "metadata": {},
   "source": [
    "Рабочая гипотеза подтвердилась лишь частично:\n",
    "\n",
    "- Наибольший риск с точки зрения платежеспособности представляют одинокие люди, но только те, кто никогда не был в браке.\n",
    "- При этом разведенные или вдовые люди, наоборот, скорее склонны вносить оплату в срок. \n",
    "- Примерно такой же уровень риска, как у неженатых/незамужних - у людей в гражданском браке. Вероятно, это связано с неустойчивостью гражданского брака как института в нашей стране.\n",
    "- У женатых/замужних риск неуплаты меньше, но не минимален.\n"
   ]
  },
  {
   "cell_type": "markdown",
   "metadata": {},
   "source": [
    "### Зависимость между уровнем дохода и возвратом кредита в срок <a id=\"income\"></a>"
   ]
  },
  {
   "cell_type": "markdown",
   "metadata": {},
   "source": [
    "Снова построим сводную таблицу, теперь в качестве аргумента укажем столбец с категорией дохода &mdash; `monthly_income_cat`."
   ]
  },
  {
   "cell_type": "code",
   "execution_count": 57,
   "metadata": {},
   "outputs": [
    {
     "data": {
      "text/html": [
       "<style  type=\"text/css\" >\n",
       "</style><table id=\"T_6718d598_a60b_11eb_a649_02420a3974a1\" ><thead>    <tr>        <th class=\"blank level0\" ></th>        <th class=\"col_heading level0 col0\" >no_debt</th>        <th class=\"col_heading level0 col1\" >debt</th>        <th class=\"col_heading level0 col2\" >no_debt_part</th>        <th class=\"col_heading level0 col3\" >debt_part</th>    </tr>    <tr>        <th class=\"index_name level0\" >monthly_income_cat</th>        <th class=\"blank\" ></th>        <th class=\"blank\" ></th>        <th class=\"blank\" ></th>        <th class=\"blank\" ></th>    </tr></thead><tbody>\n",
       "                <tr>\n",
       "                        <th id=\"T_6718d598_a60b_11eb_a649_02420a3974a1level0_row0\" class=\"row_heading level0 row0\" >средний</th>\n",
       "                        <td id=\"T_6718d598_a60b_11eb_a649_02420a3974a1row0_col0\" class=\"data row0 col0\" >6551</td>\n",
       "                        <td id=\"T_6718d598_a60b_11eb_a649_02420a3974a1row0_col1\" class=\"data row0 col1\" >624</td>\n",
       "                        <td id=\"T_6718d598_a60b_11eb_a649_02420a3974a1row0_col2\" class=\"data row0 col2\" >91.30%</td>\n",
       "                        <td id=\"T_6718d598_a60b_11eb_a649_02420a3974a1row0_col3\" class=\"data row0 col3\" >8.70%</td>\n",
       "            </tr>\n",
       "            <tr>\n",
       "                        <th id=\"T_6718d598_a60b_11eb_a649_02420a3974a1level0_row1\" class=\"row_heading level0 row1\" >выше среднего</th>\n",
       "                        <td id=\"T_6718d598_a60b_11eb_a649_02420a3974a1row1_col0\" class=\"data row1 col0\" >6451</td>\n",
       "                        <td id=\"T_6718d598_a60b_11eb_a649_02420a3974a1row1_col1\" class=\"data row1 col1\" >569</td>\n",
       "                        <td id=\"T_6718d598_a60b_11eb_a649_02420a3974a1row1_col2\" class=\"data row1 col2\" >91.89%</td>\n",
       "                        <td id=\"T_6718d598_a60b_11eb_a649_02420a3974a1row1_col3\" class=\"data row1 col3\" >8.11%</td>\n",
       "            </tr>\n",
       "            <tr>\n",
       "                        <th id=\"T_6718d598_a60b_11eb_a649_02420a3974a1level0_row2\" class=\"row_heading level0 row2\" >низкий</th>\n",
       "                        <td id=\"T_6718d598_a60b_11eb_a649_02420a3974a1row2_col0\" class=\"data row2 col0\" >4109</td>\n",
       "                        <td id=\"T_6718d598_a60b_11eb_a649_02420a3974a1row2_col1\" class=\"data row2 col1\" >354</td>\n",
       "                        <td id=\"T_6718d598_a60b_11eb_a649_02420a3974a1row2_col2\" class=\"data row2 col2\" >92.07%</td>\n",
       "                        <td id=\"T_6718d598_a60b_11eb_a649_02420a3974a1row2_col3\" class=\"data row2 col3\" >7.93%</td>\n",
       "            </tr>\n",
       "            <tr>\n",
       "                        <th id=\"T_6718d598_a60b_11eb_a649_02420a3974a1level0_row3\" class=\"row_heading level0 row3\" >высокий</th>\n",
       "                        <td id=\"T_6718d598_a60b_11eb_a649_02420a3974a1row3_col0\" class=\"data row3 col0\" >2619</td>\n",
       "                        <td id=\"T_6718d598_a60b_11eb_a649_02420a3974a1row3_col1\" class=\"data row3 col1\" >194</td>\n",
       "                        <td id=\"T_6718d598_a60b_11eb_a649_02420a3974a1row3_col2\" class=\"data row3 col2\" >93.10%</td>\n",
       "                        <td id=\"T_6718d598_a60b_11eb_a649_02420a3974a1row3_col3\" class=\"data row3 col3\" >6.90%</td>\n",
       "            </tr>\n",
       "    </tbody></table>"
      ],
      "text/plain": [
       "<pandas.io.formats.style.Styler at 0x7f27748d9a90>"
      ]
     },
     "execution_count": 57,
     "metadata": {},
     "output_type": "execute_result"
    }
   ],
   "source": [
    "pivot_data('monthly_income_cat')"
   ]
  },
  {
   "cell_type": "markdown",
   "metadata": {},
   "source": [
    "Рабочая гипотеза не подтверждена. Люди со средним доходом и выше среднего (от 100 до 250 тысяч) оказываются в должниках примерно так же часто, как и люди с низким доходом. Значит, какой-то закономерности здесь нет.\n",
    "\n",
    "Исключение составляют люди с высоким доходом, они более надежные плательщики. По всей видимости, у них наиболее стабильные источники заработка."
   ]
  },
  {
   "cell_type": "markdown",
   "metadata": {},
   "source": [
    "### Зависимость между целями кредита и его возвратом в срок <a id=\"purpose\"></a>"
   ]
  },
  {
   "cell_type": "markdown",
   "metadata": {},
   "source": [
    "Наконец, изучим влияние целей кредита на его возврат в срок. Построим сводную таблицу на основе столбца `credit_purpose_cat`."
   ]
  },
  {
   "cell_type": "code",
   "execution_count": 58,
   "metadata": {},
   "outputs": [
    {
     "data": {
      "text/html": [
       "<style  type=\"text/css\" >\n",
       "</style><table id=\"T_67221bee_a60b_11eb_a649_02420a3974a1\" ><thead>    <tr>        <th class=\"blank level0\" ></th>        <th class=\"col_heading level0 col0\" >no_debt</th>        <th class=\"col_heading level0 col1\" >debt</th>        <th class=\"col_heading level0 col2\" >no_debt_part</th>        <th class=\"col_heading level0 col3\" >debt_part</th>    </tr>    <tr>        <th class=\"index_name level0\" >credit_purpose_cat</th>        <th class=\"blank\" ></th>        <th class=\"blank\" ></th>        <th class=\"blank\" ></th>        <th class=\"blank\" ></th>    </tr></thead><tbody>\n",
       "                <tr>\n",
       "                        <th id=\"T_67221bee_a60b_11eb_a649_02420a3974a1level0_row0\" class=\"row_heading level0 row0\" >автомобиль</th>\n",
       "                        <td id=\"T_67221bee_a60b_11eb_a649_02420a3974a1row0_col0\" class=\"data row0 col0\" >3905</td>\n",
       "                        <td id=\"T_67221bee_a60b_11eb_a649_02420a3974a1row0_col1\" class=\"data row0 col1\" >403</td>\n",
       "                        <td id=\"T_67221bee_a60b_11eb_a649_02420a3974a1row0_col2\" class=\"data row0 col2\" >90.65%</td>\n",
       "                        <td id=\"T_67221bee_a60b_11eb_a649_02420a3974a1row0_col3\" class=\"data row0 col3\" >9.35%</td>\n",
       "            </tr>\n",
       "            <tr>\n",
       "                        <th id=\"T_67221bee_a60b_11eb_a649_02420a3974a1level0_row1\" class=\"row_heading level0 row1\" >образование</th>\n",
       "                        <td id=\"T_67221bee_a60b_11eb_a649_02420a3974a1row1_col0\" class=\"data row1 col0\" >3644</td>\n",
       "                        <td id=\"T_67221bee_a60b_11eb_a649_02420a3974a1row1_col1\" class=\"data row1 col1\" >370</td>\n",
       "                        <td id=\"T_67221bee_a60b_11eb_a649_02420a3974a1row1_col2\" class=\"data row1 col2\" >90.78%</td>\n",
       "                        <td id=\"T_67221bee_a60b_11eb_a649_02420a3974a1row1_col3\" class=\"data row1 col3\" >9.22%</td>\n",
       "            </tr>\n",
       "            <tr>\n",
       "                        <th id=\"T_67221bee_a60b_11eb_a649_02420a3974a1level0_row2\" class=\"row_heading level0 row2\" >свадьба</th>\n",
       "                        <td id=\"T_67221bee_a60b_11eb_a649_02420a3974a1row2_col0\" class=\"data row2 col0\" >2149</td>\n",
       "                        <td id=\"T_67221bee_a60b_11eb_a649_02420a3974a1row2_col1\" class=\"data row2 col1\" >186</td>\n",
       "                        <td id=\"T_67221bee_a60b_11eb_a649_02420a3974a1row2_col2\" class=\"data row2 col2\" >92.03%</td>\n",
       "                        <td id=\"T_67221bee_a60b_11eb_a649_02420a3974a1row2_col3\" class=\"data row2 col3\" >7.97%</td>\n",
       "            </tr>\n",
       "            <tr>\n",
       "                        <th id=\"T_67221bee_a60b_11eb_a649_02420a3974a1level0_row3\" class=\"row_heading level0 row3\" >недвижимость</th>\n",
       "                        <td id=\"T_67221bee_a60b_11eb_a649_02420a3974a1row3_col0\" class=\"data row3 col0\" >10032</td>\n",
       "                        <td id=\"T_67221bee_a60b_11eb_a649_02420a3974a1row3_col1\" class=\"data row3 col1\" >782</td>\n",
       "                        <td id=\"T_67221bee_a60b_11eb_a649_02420a3974a1row3_col2\" class=\"data row3 col2\" >92.77%</td>\n",
       "                        <td id=\"T_67221bee_a60b_11eb_a649_02420a3974a1row3_col3\" class=\"data row3 col3\" >7.23%</td>\n",
       "            </tr>\n",
       "    </tbody></table>"
      ],
      "text/plain": [
       "<pandas.io.formats.style.Styler at 0x7f27748db410>"
      ]
     },
     "execution_count": 58,
     "metadata": {},
     "output_type": "execute_result"
    }
   ],
   "source": [
    "pivot_data('credit_purpose_cat')"
   ]
  },
  {
   "cell_type": "markdown",
   "metadata": {},
   "source": [
    "Рабочая гипотеза не подтверждена. Наблюдаются такие тенденции:\n",
    "\n",
    "- Наиболее аккуратные выплаты - по долгосрочным кредитам, связанным с недвижимостью, и краткосрочным кредитам на свадьбы.\n",
    "- Больше должников по кредитам, взятым на приобретение автомобиля либо получение образования.\n",
    "\n",
    "Такой расклад можно объяснить тем, что автомобиль является импульсивной или \"статусной\" покупкой, чаще совершается в одиночку, в то время как приобретение недвижимости и празднование свадеб планируется заблаговременно и совместно с партнером. \n",
    "\n",
    "В случае с образованием также должно иметь место планирование, однако риски наравне с покупкой автомобиля. Возможно, дело также в том, что образование люди получают самостоятельно и не могут рассчитывать на то, что кто-то разделит их расходы."
   ]
  },
  {
   "cell_type": "markdown",
   "metadata": {},
   "source": [
    "### Общий вывод <a id=\"summary\"></a>"
   ]
  },
  {
   "cell_type": "markdown",
   "metadata": {},
   "source": [
    "В ходе исследования мы обнаружили зависимости между количеством детей, семейным положением, целями кредита и платежеспособностью клиентов.\n",
    "\n",
    "Взаимосвязь между уровнем дохода и платежеспособностью почти не просматривается. Исключение - люди с высоким уровнем дохода: они более надежные плательщики.\n",
    "\n",
    "По некоторым категориям клиентов (например, многодетным семьям) выборка мала, чтобы делать уверенные выводы.\n",
    "\n",
    "Больше рисков с точки зрения выплаты кредита представляют:\n",
    "\n",
    "- люди с 1-2 детьми (по сравнению с бездетными)\n",
    "- неженатые/незамужние или люди, состоящие в гражданском браке\n",
    "- люди, берущие кредит на автомобиль или получение образования "
   ]
  },
  {
   "cell_type": "markdown",
   "metadata": {},
   "source": [
    "### Рекомендации для бизнеса <a id=\"tips\"></a>"
   ]
  },
  {
   "cell_type": "markdown",
   "metadata": {},
   "source": [
    "- Проверить скрипты выгрузки данных, чтобы убедиться, что статистика собирается корректно \n",
    "- Доработать форму заявки, чтобы при введении ошибочных значений (например, нулевого возраста, отрицательного или аномально высокого стажа) появлялась подсказка\n",
    "- Доработать форму заявки, чтобы вместо свободного ввода предлагались опции на выбор в полях цели кредита, образования и типа занятости \n",
    "- Обработать случаи повторной отправки заявок на кредит, чтобы предотвратить появление полных дубликатов"
   ]
  }
 ],
 "metadata": {
  "kernelspec": {
   "display_name": "Python 3",
   "language": "python",
   "name": "python3"
  },
  "language_info": {
   "codemirror_mode": {
    "name": "ipython",
    "version": 3
   },
   "file_extension": ".py",
   "mimetype": "text/x-python",
   "name": "python",
   "nbconvert_exporter": "python",
   "pygments_lexer": "ipython3",
   "version": "3.7.8"
  },
  "toc": {
   "base_numbering": 1,
   "nav_menu": {},
   "number_sections": true,
   "sideBar": true,
   "skip_h1_title": true,
   "title_cell": "Table of Contents",
   "title_sidebar": "Contents",
   "toc_cell": false,
   "toc_position": {
    "height": "calc(100% - 180px)",
    "left": "10px",
    "top": "150px",
    "width": "320px"
   },
   "toc_section_display": true,
   "toc_window_display": true
  }
 },
 "nbformat": 4,
 "nbformat_minor": 2
}
