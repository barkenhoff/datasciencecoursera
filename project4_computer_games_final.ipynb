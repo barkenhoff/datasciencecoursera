{
 "cells": [
  {
   "cell_type": "markdown",
   "metadata": {},
   "source": [
    "# Анализ популярных игр для интернет-магазина"
   ]
  },
  {
   "cell_type": "markdown",
   "metadata": {},
   "source": [
    "1. [Цели и задачи исследования](#goal)\n",
    "2. [Знакомство с данными](#overview)\n",
    "    * [Выводы](#overview-sum)\n",
    "3. [Предобработка данных](#preprocessing)\n",
    "    * [Обработка дубликатов](#duplicate)\n",
    "    * [Обработка пропусков](#missing)\n",
    "    * [Замена типа данных](#type)\n",
    "    * [Обработка аномальных значений](#anomaly)\n",
    "    * [Расчет на имеющихся данных](#calc)\n",
    "    * [Выводы](#3_sum)\n",
    "4. [Анализ данных](#analysis)\n",
    "    * [Распределение игр по году выпуска](#analysis1)\n",
    "    * [Платформы с наибольшими суммарными продажами](#analysis2)\n",
    "    * [Выбор актуального периода](#analysis3)\n",
    "    * [Анализ потенциально прибыльных платформ](#analysis4)\n",
    "    * [Диаграмма размаха по глобальным продажам игр](#analysis5)\n",
    "    * [Зависимость между продажами и оценками пользователей и критиков](#analysis6)\n",
    "    * [Распределение игр по жанрам](#analysis7)\n",
    "    * [Выводы](#4_sum)\n",
    "5. [Описание пользователей каждого региона](#region)\n",
    "    * [Топ-5 популярных платформ](#5_platform)\n",
    "    * [Топ-5 популярных жанров](#5_genre)\n",
    "    * [Влияние рейтинга ESRB на продажи игр в отдельных регионах](#esrb)\n",
    "    * [Выводы](#5_sum)\n",
    "6. [Проверка гипотез](#hyp)\n",
    "    * [Гипотеза о равенстве средних пользовательских рейтингов платформ Xbox One и PC](#hyp1)\n",
    "    * [Гипотеза о различии средних пользовательских рейтингов жанров Action и Sports](#hyp2)\n",
    "    * [Гипотеза о различии среднего количества продаж для жанров Action и Shooter](#hyp3)\n",
    "    * [Выводы](#6_sum)\n",
    "7. [Общий вывод](#total)\n",
    "    * [Рекомендации для бизнеса](#rec)"
   ]
  },
  {
   "cell_type": "markdown",
   "metadata": {},
   "source": [
    "## Цели и задачи исследования \n",
    "<a id=\"goal\"></a>"
   ]
  },
  {
   "cell_type": "markdown",
   "metadata": {},
   "source": [
    "В нашем распоряжении &mdash; исторические данные о продажах компьютерных игр, оценках пользователей и экспертов, жанрах и платформах (например, Xbox или PlayStation). \n",
    "\n",
    "Мы хотим понять, что определяет успешность игры. Результаты исследования будут использованы магазином игр, чтобы выбрать успешный продукт для продвижения и запустить рекламу.\n",
    "\n",
    "\\* _По условиям задачи, сейчас 2016 год._"
   ]
  },
  {
   "cell_type": "markdown",
   "metadata": {},
   "source": [
    "**При подготовке данных:**\n",
    "\n",
    "- Найти пропуски в значениях и заполнить, если это возможно/необходимо\n",
    "- Найти и устранить дубликаты\n",
    "- Выявить и убрать редкие и выбивающиеся значения\n",
    "- Заменить тип данных на корректный, если необходимо\n",
    "\n",
    "\n",
    "**При анализе данных:**\n",
    "\n",
    "- Изучить динамику продаж по платформам и выбрать несколько потенциально прибыльных платформ\n",
    "- Выбрать актуальный период, чтобы сделать прогноз на следующий 2017 год\n",
    "- Посмотреть, как влияют на продажи внутри одной популярной платформы отзывы пользователей и критиков, и сравнить ситуацию с другими платформами \n",
    "- Составить портрет пользователя: определить топ-5 популярных платформ и топ-5 жанров для каждого региона (Северная Америка, Европа, Япония)\n",
    "- Проверить рабочие гипотезы\n",
    "\n",
    "**В качестве рабочих гипотез выдвинем следующие:**\n",
    "\n",
    "- Оценки пользователей напрямую влияют на решение о покупке: чем выше рейтинг, чем больше продажи\n",
    "- Пользовательские рейтинги платформ *Xbox One* и *PC* одинаковы\n",
    "- Пользовательские рейтинги жанров *Action* и *Sports* различаются"
   ]
  },
  {
   "cell_type": "markdown",
   "metadata": {},
   "source": [
    "## Знакомство с данными\n",
    "<a id=\"overview\"></a>"
   ]
  },
  {
   "cell_type": "markdown",
   "metadata": {},
   "source": [
    "Сначала импортируем библиотеки и загрузим таблицу с данными."
   ]
  },
  {
   "cell_type": "code",
   "execution_count": 1,
   "metadata": {
    "scrolled": true
   },
   "outputs": [],
   "source": [
    "#импорт базовых библиотек\n",
    "import pandas as pd\n",
    "import numpy as np\n",
    "\n",
    "from scipy import stats as st\n",
    "\n",
    "#импорт библиотек визуализации\n",
    "import matplotlib as mpl\n",
    "from matplotlib import pyplot as plt\n",
    "import matplotlib.patches as mpatches\n",
    "import seaborn as sns\n",
    "\n",
    "from IPython.display import HTML, display\n",
    "import warnings\n",
    "warnings.filterwarnings('ignore')"
   ]
  },
  {
   "cell_type": "code",
   "execution_count": 2,
   "metadata": {},
   "outputs": [
    {
     "data": {
      "text/html": [
       "<div>\n",
       "<style scoped>\n",
       "    .dataframe tbody tr th:only-of-type {\n",
       "        vertical-align: middle;\n",
       "    }\n",
       "\n",
       "    .dataframe tbody tr th {\n",
       "        vertical-align: top;\n",
       "    }\n",
       "\n",
       "    .dataframe thead th {\n",
       "        text-align: right;\n",
       "    }\n",
       "</style>\n",
       "<table border=\"1\" class=\"dataframe\">\n",
       "  <thead>\n",
       "    <tr style=\"text-align: right;\">\n",
       "      <th></th>\n",
       "      <th>Name</th>\n",
       "      <th>Platform</th>\n",
       "      <th>Year_of_Release</th>\n",
       "      <th>Genre</th>\n",
       "      <th>NA_sales</th>\n",
       "      <th>EU_sales</th>\n",
       "      <th>JP_sales</th>\n",
       "      <th>Other_sales</th>\n",
       "      <th>Critic_Score</th>\n",
       "      <th>User_Score</th>\n",
       "      <th>Rating</th>\n",
       "    </tr>\n",
       "  </thead>\n",
       "  <tbody>\n",
       "    <tr>\n",
       "      <th>0</th>\n",
       "      <td>Wii Sports</td>\n",
       "      <td>Wii</td>\n",
       "      <td>2006.0</td>\n",
       "      <td>Sports</td>\n",
       "      <td>41.36</td>\n",
       "      <td>28.96</td>\n",
       "      <td>3.77</td>\n",
       "      <td>8.45</td>\n",
       "      <td>76.0</td>\n",
       "      <td>8</td>\n",
       "      <td>E</td>\n",
       "    </tr>\n",
       "    <tr>\n",
       "      <th>1</th>\n",
       "      <td>Super Mario Bros.</td>\n",
       "      <td>NES</td>\n",
       "      <td>1985.0</td>\n",
       "      <td>Platform</td>\n",
       "      <td>29.08</td>\n",
       "      <td>3.58</td>\n",
       "      <td>6.81</td>\n",
       "      <td>0.77</td>\n",
       "      <td>NaN</td>\n",
       "      <td>NaN</td>\n",
       "      <td>NaN</td>\n",
       "    </tr>\n",
       "    <tr>\n",
       "      <th>2</th>\n",
       "      <td>Mario Kart Wii</td>\n",
       "      <td>Wii</td>\n",
       "      <td>2008.0</td>\n",
       "      <td>Racing</td>\n",
       "      <td>15.68</td>\n",
       "      <td>12.76</td>\n",
       "      <td>3.79</td>\n",
       "      <td>3.29</td>\n",
       "      <td>82.0</td>\n",
       "      <td>8.3</td>\n",
       "      <td>E</td>\n",
       "    </tr>\n",
       "    <tr>\n",
       "      <th>3</th>\n",
       "      <td>Wii Sports Resort</td>\n",
       "      <td>Wii</td>\n",
       "      <td>2009.0</td>\n",
       "      <td>Sports</td>\n",
       "      <td>15.61</td>\n",
       "      <td>10.93</td>\n",
       "      <td>3.28</td>\n",
       "      <td>2.95</td>\n",
       "      <td>80.0</td>\n",
       "      <td>8</td>\n",
       "      <td>E</td>\n",
       "    </tr>\n",
       "    <tr>\n",
       "      <th>4</th>\n",
       "      <td>Pokemon Red/Pokemon Blue</td>\n",
       "      <td>GB</td>\n",
       "      <td>1996.0</td>\n",
       "      <td>Role-Playing</td>\n",
       "      <td>11.27</td>\n",
       "      <td>8.89</td>\n",
       "      <td>10.22</td>\n",
       "      <td>1.00</td>\n",
       "      <td>NaN</td>\n",
       "      <td>NaN</td>\n",
       "      <td>NaN</td>\n",
       "    </tr>\n",
       "  </tbody>\n",
       "</table>\n",
       "</div>"
      ],
      "text/plain": [
       "                       Name Platform  Year_of_Release         Genre  NA_sales  \\\n",
       "0                Wii Sports      Wii           2006.0        Sports     41.36   \n",
       "1         Super Mario Bros.      NES           1985.0      Platform     29.08   \n",
       "2            Mario Kart Wii      Wii           2008.0        Racing     15.68   \n",
       "3         Wii Sports Resort      Wii           2009.0        Sports     15.61   \n",
       "4  Pokemon Red/Pokemon Blue       GB           1996.0  Role-Playing     11.27   \n",
       "\n",
       "   EU_sales  JP_sales  Other_sales  Critic_Score User_Score Rating  \n",
       "0     28.96      3.77         8.45          76.0          8      E  \n",
       "1      3.58      6.81         0.77           NaN        NaN    NaN  \n",
       "2     12.76      3.79         3.29          82.0        8.3      E  \n",
       "3     10.93      3.28         2.95          80.0          8      E  \n",
       "4      8.89     10.22         1.00           NaN        NaN    NaN  "
      ]
     },
     "execution_count": 2,
     "metadata": {},
     "output_type": "execute_result"
    }
   ],
   "source": [
    "# загрузим данные\n",
    "data = pd.read_csv('datasets/games.csv')\n",
    "data.head()"
   ]
  },
  {
   "cell_type": "code",
   "execution_count": 3,
   "metadata": {
    "scrolled": true
   },
   "outputs": [
    {
     "data": {
      "text/html": [
       "<div>\n",
       "<style scoped>\n",
       "    .dataframe tbody tr th:only-of-type {\n",
       "        vertical-align: middle;\n",
       "    }\n",
       "\n",
       "    .dataframe tbody tr th {\n",
       "        vertical-align: top;\n",
       "    }\n",
       "\n",
       "    .dataframe thead th {\n",
       "        text-align: right;\n",
       "    }\n",
       "</style>\n",
       "<table border=\"1\" class=\"dataframe\">\n",
       "  <thead>\n",
       "    <tr style=\"text-align: right;\">\n",
       "      <th></th>\n",
       "      <th>Name</th>\n",
       "      <th>Platform</th>\n",
       "      <th>Year_of_Release</th>\n",
       "      <th>Genre</th>\n",
       "      <th>NA_sales</th>\n",
       "      <th>EU_sales</th>\n",
       "      <th>JP_sales</th>\n",
       "      <th>Other_sales</th>\n",
       "      <th>Critic_Score</th>\n",
       "      <th>User_Score</th>\n",
       "      <th>Rating</th>\n",
       "    </tr>\n",
       "  </thead>\n",
       "  <tbody>\n",
       "    <tr>\n",
       "      <th>16710</th>\n",
       "      <td>Samurai Warriors: Sanada Maru</td>\n",
       "      <td>PS3</td>\n",
       "      <td>2016.0</td>\n",
       "      <td>Action</td>\n",
       "      <td>0.00</td>\n",
       "      <td>0.00</td>\n",
       "      <td>0.01</td>\n",
       "      <td>0.0</td>\n",
       "      <td>NaN</td>\n",
       "      <td>NaN</td>\n",
       "      <td>NaN</td>\n",
       "    </tr>\n",
       "    <tr>\n",
       "      <th>16711</th>\n",
       "      <td>LMA Manager 2007</td>\n",
       "      <td>X360</td>\n",
       "      <td>2006.0</td>\n",
       "      <td>Sports</td>\n",
       "      <td>0.00</td>\n",
       "      <td>0.01</td>\n",
       "      <td>0.00</td>\n",
       "      <td>0.0</td>\n",
       "      <td>NaN</td>\n",
       "      <td>NaN</td>\n",
       "      <td>NaN</td>\n",
       "    </tr>\n",
       "    <tr>\n",
       "      <th>16712</th>\n",
       "      <td>Haitaka no Psychedelica</td>\n",
       "      <td>PSV</td>\n",
       "      <td>2016.0</td>\n",
       "      <td>Adventure</td>\n",
       "      <td>0.00</td>\n",
       "      <td>0.00</td>\n",
       "      <td>0.01</td>\n",
       "      <td>0.0</td>\n",
       "      <td>NaN</td>\n",
       "      <td>NaN</td>\n",
       "      <td>NaN</td>\n",
       "    </tr>\n",
       "    <tr>\n",
       "      <th>16713</th>\n",
       "      <td>Spirits &amp; Spells</td>\n",
       "      <td>GBA</td>\n",
       "      <td>2003.0</td>\n",
       "      <td>Platform</td>\n",
       "      <td>0.01</td>\n",
       "      <td>0.00</td>\n",
       "      <td>0.00</td>\n",
       "      <td>0.0</td>\n",
       "      <td>NaN</td>\n",
       "      <td>NaN</td>\n",
       "      <td>NaN</td>\n",
       "    </tr>\n",
       "    <tr>\n",
       "      <th>16714</th>\n",
       "      <td>Winning Post 8 2016</td>\n",
       "      <td>PSV</td>\n",
       "      <td>2016.0</td>\n",
       "      <td>Simulation</td>\n",
       "      <td>0.00</td>\n",
       "      <td>0.00</td>\n",
       "      <td>0.01</td>\n",
       "      <td>0.0</td>\n",
       "      <td>NaN</td>\n",
       "      <td>NaN</td>\n",
       "      <td>NaN</td>\n",
       "    </tr>\n",
       "  </tbody>\n",
       "</table>\n",
       "</div>"
      ],
      "text/plain": [
       "                                Name Platform  Year_of_Release       Genre  \\\n",
       "16710  Samurai Warriors: Sanada Maru      PS3           2016.0      Action   \n",
       "16711               LMA Manager 2007     X360           2006.0      Sports   \n",
       "16712        Haitaka no Psychedelica      PSV           2016.0   Adventure   \n",
       "16713               Spirits & Spells      GBA           2003.0    Platform   \n",
       "16714            Winning Post 8 2016      PSV           2016.0  Simulation   \n",
       "\n",
       "       NA_sales  EU_sales  JP_sales  Other_sales  Critic_Score User_Score  \\\n",
       "16710      0.00      0.00      0.01          0.0           NaN        NaN   \n",
       "16711      0.00      0.01      0.00          0.0           NaN        NaN   \n",
       "16712      0.00      0.00      0.01          0.0           NaN        NaN   \n",
       "16713      0.01      0.00      0.00          0.0           NaN        NaN   \n",
       "16714      0.00      0.00      0.01          0.0           NaN        NaN   \n",
       "\n",
       "      Rating  \n",
       "16710    NaN  \n",
       "16711    NaN  \n",
       "16712    NaN  \n",
       "16713    NaN  \n",
       "16714    NaN  "
      ]
     },
     "execution_count": 3,
     "metadata": {},
     "output_type": "execute_result"
    }
   ],
   "source": [
    "data.tail()"
   ]
  },
  {
   "cell_type": "markdown",
   "metadata": {},
   "source": [
    "Таблица содержит данные о продажах игр в 4 разных регионах за несколько десятилетий, начиная с 1980-х. Приблизительно эти данные можно сгруппировать следующим образом:\n",
    "\n",
    "- информация о самой игре (платформа, год выпуска, жанр, возрастная категория от ESRB)\n",
    "- информация о продажах по регионам (в млн копий)\n",
    "- рейтинг критиков и пользователей"
   ]
  },
  {
   "cell_type": "code",
   "execution_count": 4,
   "metadata": {
    "scrolled": false
   },
   "outputs": [
    {
     "name": "stdout",
     "output_type": "stream",
     "text": [
      "<class 'pandas.core.frame.DataFrame'>\n",
      "RangeIndex: 16715 entries, 0 to 16714\n",
      "Data columns (total 11 columns):\n",
      " #   Column           Non-Null Count  Dtype  \n",
      "---  ------           --------------  -----  \n",
      " 0   Name             16713 non-null  object \n",
      " 1   Platform         16715 non-null  object \n",
      " 2   Year_of_Release  16446 non-null  float64\n",
      " 3   Genre            16713 non-null  object \n",
      " 4   NA_sales         16715 non-null  float64\n",
      " 5   EU_sales         16715 non-null  float64\n",
      " 6   JP_sales         16715 non-null  float64\n",
      " 7   Other_sales      16715 non-null  float64\n",
      " 8   Critic_Score     8137 non-null   float64\n",
      " 9   User_Score       10014 non-null  object \n",
      " 10  Rating           9949 non-null   object \n",
      "dtypes: float64(6), object(5)\n",
      "memory usage: 1.4+ MB\n"
     ]
    }
   ],
   "source": [
    "data.info()"
   ]
  },
  {
   "cell_type": "code",
   "execution_count": 5,
   "metadata": {
    "scrolled": true
   },
   "outputs": [
    {
     "name": "stdout",
     "output_type": "stream",
     "text": [
      "Уникальных игр: 11559\n",
      "Уникальных жанров: 12\n",
      "Уникальных платформ: 31\n"
     ]
    }
   ],
   "source": [
    "# посмотрим, сколько уникальных игр, жанров и платформ\n",
    "print('Уникальных игр:', data.Name.nunique())\n",
    "print('Уникальных жанров:', data.Genre.nunique())\n",
    "print('Уникальных платформ:', data.Platform.nunique())"
   ]
  },
  {
   "cell_type": "markdown",
   "metadata": {},
   "source": [
    "При общем размере таблицы в 16 тысяч строк у нас 11 тысяч различных игр (возможны дубликаты в названиях, но тенденция понятна). Зато количество жанров и платформ относительно невелико &mdash; 12 и 31 соответственно.\n",
    "\n",
    "Значит, предстоит анализировать не отдельные наименования, а **категории игр** &mdash; жанры и платформы, а также их популярность в отдельных регионах."
   ]
  },
  {
   "cell_type": "code",
   "execution_count": 6,
   "metadata": {
    "scrolled": false
   },
   "outputs": [
    {
     "data": {
      "text/html": [
       "<div>\n",
       "<style scoped>\n",
       "    .dataframe tbody tr th:only-of-type {\n",
       "        vertical-align: middle;\n",
       "    }\n",
       "\n",
       "    .dataframe tbody tr th {\n",
       "        vertical-align: top;\n",
       "    }\n",
       "\n",
       "    .dataframe thead th {\n",
       "        text-align: right;\n",
       "    }\n",
       "</style>\n",
       "<table border=\"1\" class=\"dataframe\">\n",
       "  <thead>\n",
       "    <tr style=\"text-align: right;\">\n",
       "      <th></th>\n",
       "      <th>Year_of_Release</th>\n",
       "      <th>NA_sales</th>\n",
       "      <th>EU_sales</th>\n",
       "      <th>JP_sales</th>\n",
       "      <th>Other_sales</th>\n",
       "      <th>Critic_Score</th>\n",
       "    </tr>\n",
       "  </thead>\n",
       "  <tbody>\n",
       "    <tr>\n",
       "      <th>count</th>\n",
       "      <td>16446.000000</td>\n",
       "      <td>16715.000000</td>\n",
       "      <td>16715.000000</td>\n",
       "      <td>16715.000000</td>\n",
       "      <td>16715.000000</td>\n",
       "      <td>8137.000000</td>\n",
       "    </tr>\n",
       "    <tr>\n",
       "      <th>mean</th>\n",
       "      <td>2006.484616</td>\n",
       "      <td>0.263377</td>\n",
       "      <td>0.145060</td>\n",
       "      <td>0.077617</td>\n",
       "      <td>0.047342</td>\n",
       "      <td>68.967679</td>\n",
       "    </tr>\n",
       "    <tr>\n",
       "      <th>std</th>\n",
       "      <td>5.877050</td>\n",
       "      <td>0.813604</td>\n",
       "      <td>0.503339</td>\n",
       "      <td>0.308853</td>\n",
       "      <td>0.186731</td>\n",
       "      <td>13.938165</td>\n",
       "    </tr>\n",
       "    <tr>\n",
       "      <th>min</th>\n",
       "      <td>1980.000000</td>\n",
       "      <td>0.000000</td>\n",
       "      <td>0.000000</td>\n",
       "      <td>0.000000</td>\n",
       "      <td>0.000000</td>\n",
       "      <td>13.000000</td>\n",
       "    </tr>\n",
       "    <tr>\n",
       "      <th>25%</th>\n",
       "      <td>2003.000000</td>\n",
       "      <td>0.000000</td>\n",
       "      <td>0.000000</td>\n",
       "      <td>0.000000</td>\n",
       "      <td>0.000000</td>\n",
       "      <td>60.000000</td>\n",
       "    </tr>\n",
       "    <tr>\n",
       "      <th>50%</th>\n",
       "      <td>2007.000000</td>\n",
       "      <td>0.080000</td>\n",
       "      <td>0.020000</td>\n",
       "      <td>0.000000</td>\n",
       "      <td>0.010000</td>\n",
       "      <td>71.000000</td>\n",
       "    </tr>\n",
       "    <tr>\n",
       "      <th>75%</th>\n",
       "      <td>2010.000000</td>\n",
       "      <td>0.240000</td>\n",
       "      <td>0.110000</td>\n",
       "      <td>0.040000</td>\n",
       "      <td>0.030000</td>\n",
       "      <td>79.000000</td>\n",
       "    </tr>\n",
       "    <tr>\n",
       "      <th>max</th>\n",
       "      <td>2016.000000</td>\n",
       "      <td>41.360000</td>\n",
       "      <td>28.960000</td>\n",
       "      <td>10.220000</td>\n",
       "      <td>10.570000</td>\n",
       "      <td>98.000000</td>\n",
       "    </tr>\n",
       "  </tbody>\n",
       "</table>\n",
       "</div>"
      ],
      "text/plain": [
       "       Year_of_Release      NA_sales      EU_sales      JP_sales  \\\n",
       "count     16446.000000  16715.000000  16715.000000  16715.000000   \n",
       "mean       2006.484616      0.263377      0.145060      0.077617   \n",
       "std           5.877050      0.813604      0.503339      0.308853   \n",
       "min        1980.000000      0.000000      0.000000      0.000000   \n",
       "25%        2003.000000      0.000000      0.000000      0.000000   \n",
       "50%        2007.000000      0.080000      0.020000      0.000000   \n",
       "75%        2010.000000      0.240000      0.110000      0.040000   \n",
       "max        2016.000000     41.360000     28.960000     10.220000   \n",
       "\n",
       "        Other_sales  Critic_Score  \n",
       "count  16715.000000   8137.000000  \n",
       "mean       0.047342     68.967679  \n",
       "std        0.186731     13.938165  \n",
       "min        0.000000     13.000000  \n",
       "25%        0.000000     60.000000  \n",
       "50%        0.010000     71.000000  \n",
       "75%        0.030000     79.000000  \n",
       "max       10.570000     98.000000  "
      ]
     },
     "execution_count": 6,
     "metadata": {},
     "output_type": "execute_result"
    }
   ],
   "source": [
    "data.describe()"
   ]
  },
  {
   "cell_type": "markdown",
   "metadata": {},
   "source": [
    "### Выводы\n",
    "<a id=\"overview-sum\"></a>"
   ]
  },
  {
   "cell_type": "markdown",
   "metadata": {},
   "source": [
    "Таблица в 16 тысяч строк содержит описание игр (год выпуска, жанр и т.п.), информацию о продажах каждой игры в 4 регионах и рейтинги игр. Самые старые данные датируются 1980 годом, самые свежие &mdash; 2016.\n",
    "\n",
    "В числе наблюдений можно отметить:\n",
    "\n",
    "- Пропуски в столбце с годом выпуска и жанром &mdash; вероятно, случайные.\n",
    "- Множество пропусков в столбце с пользовательской оценкой и оценкой критиков (отсутствует в 50% случаев) &mdash; скорее всего, оценка просто отсутствует по объективным причинам (не найдена информация из-за того, что игра устарела, игра вообще не оценивалась, критики не успели оценить и т.п.).\n",
    "- Пропуски в столбце с рейтингом ESRB, также многочисленные &mdash; могут объясняться тем, что организация была создана только в 1994 году и не проводила оценку более ранних игр.\n",
    "- Некорректные типы данных в столбцах `User_Score` и `Year_of_Release`: в первом случае строчный тип, во втором float.\n",
    "- Большое количество \"нулевых\" продаж для некоторых игр (до четверти в Северной Америке и Европе, до половины в Японии) &mdash; может объясняться тем, что некоторые игры лицензировались не для всех регионов. А может, просто очень низкие продажи (в миллионах копий), поэтому отображаются нули?\n",
    "- Все строчные данные (жанры, платформы, названия игр) лучше привести к нижнему регистру, чтобы уменьшить вероятность появления дубликатов"
   ]
  },
  {
   "cell_type": "markdown",
   "metadata": {},
   "source": [
    "## Предобработка данных\n",
    "<a id=\"preprocessing\"></a>"
   ]
  },
  {
   "cell_type": "markdown",
   "metadata": {},
   "source": [
    "Для начала немного причешем таблицу. Во-первых, приведем названия столбцов к нижнему регистру."
   ]
  },
  {
   "cell_type": "code",
   "execution_count": 7,
   "metadata": {
    "scrolled": false
   },
   "outputs": [],
   "source": [
    "data.columns = data.columns.str.lower()"
   ]
  },
  {
   "cell_type": "markdown",
   "metadata": {},
   "source": [
    "Во-вторых, для удобства работы выборочно переименуем столбцы."
   ]
  },
  {
   "cell_type": "code",
   "execution_count": 8,
   "metadata": {
    "scrolled": false
   },
   "outputs": [
    {
     "data": {
      "text/html": [
       "<div>\n",
       "<style scoped>\n",
       "    .dataframe tbody tr th:only-of-type {\n",
       "        vertical-align: middle;\n",
       "    }\n",
       "\n",
       "    .dataframe tbody tr th {\n",
       "        vertical-align: top;\n",
       "    }\n",
       "\n",
       "    .dataframe thead th {\n",
       "        text-align: right;\n",
       "    }\n",
       "</style>\n",
       "<table border=\"1\" class=\"dataframe\">\n",
       "  <thead>\n",
       "    <tr style=\"text-align: right;\">\n",
       "      <th></th>\n",
       "      <th>name</th>\n",
       "      <th>platform</th>\n",
       "      <th>release_year</th>\n",
       "      <th>genre</th>\n",
       "      <th>na_sales</th>\n",
       "      <th>eu_sales</th>\n",
       "      <th>jp_sales</th>\n",
       "      <th>other_sales</th>\n",
       "      <th>critic_score</th>\n",
       "      <th>user_score</th>\n",
       "      <th>esrb_rating</th>\n",
       "    </tr>\n",
       "  </thead>\n",
       "  <tbody>\n",
       "    <tr>\n",
       "      <th>0</th>\n",
       "      <td>Wii Sports</td>\n",
       "      <td>Wii</td>\n",
       "      <td>2006.0</td>\n",
       "      <td>Sports</td>\n",
       "      <td>41.36</td>\n",
       "      <td>28.96</td>\n",
       "      <td>3.77</td>\n",
       "      <td>8.45</td>\n",
       "      <td>76.0</td>\n",
       "      <td>8</td>\n",
       "      <td>E</td>\n",
       "    </tr>\n",
       "    <tr>\n",
       "      <th>1</th>\n",
       "      <td>Super Mario Bros.</td>\n",
       "      <td>NES</td>\n",
       "      <td>1985.0</td>\n",
       "      <td>Platform</td>\n",
       "      <td>29.08</td>\n",
       "      <td>3.58</td>\n",
       "      <td>6.81</td>\n",
       "      <td>0.77</td>\n",
       "      <td>NaN</td>\n",
       "      <td>NaN</td>\n",
       "      <td>NaN</td>\n",
       "    </tr>\n",
       "    <tr>\n",
       "      <th>2</th>\n",
       "      <td>Mario Kart Wii</td>\n",
       "      <td>Wii</td>\n",
       "      <td>2008.0</td>\n",
       "      <td>Racing</td>\n",
       "      <td>15.68</td>\n",
       "      <td>12.76</td>\n",
       "      <td>3.79</td>\n",
       "      <td>3.29</td>\n",
       "      <td>82.0</td>\n",
       "      <td>8.3</td>\n",
       "      <td>E</td>\n",
       "    </tr>\n",
       "    <tr>\n",
       "      <th>3</th>\n",
       "      <td>Wii Sports Resort</td>\n",
       "      <td>Wii</td>\n",
       "      <td>2009.0</td>\n",
       "      <td>Sports</td>\n",
       "      <td>15.61</td>\n",
       "      <td>10.93</td>\n",
       "      <td>3.28</td>\n",
       "      <td>2.95</td>\n",
       "      <td>80.0</td>\n",
       "      <td>8</td>\n",
       "      <td>E</td>\n",
       "    </tr>\n",
       "    <tr>\n",
       "      <th>4</th>\n",
       "      <td>Pokemon Red/Pokemon Blue</td>\n",
       "      <td>GB</td>\n",
       "      <td>1996.0</td>\n",
       "      <td>Role-Playing</td>\n",
       "      <td>11.27</td>\n",
       "      <td>8.89</td>\n",
       "      <td>10.22</td>\n",
       "      <td>1.00</td>\n",
       "      <td>NaN</td>\n",
       "      <td>NaN</td>\n",
       "      <td>NaN</td>\n",
       "    </tr>\n",
       "  </tbody>\n",
       "</table>\n",
       "</div>"
      ],
      "text/plain": [
       "                       name platform  release_year         genre  na_sales  \\\n",
       "0                Wii Sports      Wii        2006.0        Sports     41.36   \n",
       "1         Super Mario Bros.      NES        1985.0      Platform     29.08   \n",
       "2            Mario Kart Wii      Wii        2008.0        Racing     15.68   \n",
       "3         Wii Sports Resort      Wii        2009.0        Sports     15.61   \n",
       "4  Pokemon Red/Pokemon Blue       GB        1996.0  Role-Playing     11.27   \n",
       "\n",
       "   eu_sales  jp_sales  other_sales  critic_score user_score esrb_rating  \n",
       "0     28.96      3.77         8.45          76.0          8           E  \n",
       "1      3.58      6.81         0.77           NaN        NaN         NaN  \n",
       "2     12.76      3.79         3.29          82.0        8.3           E  \n",
       "3     10.93      3.28         2.95          80.0          8           E  \n",
       "4      8.89     10.22         1.00           NaN        NaN         NaN  "
      ]
     },
     "execution_count": 8,
     "metadata": {},
     "output_type": "execute_result"
    }
   ],
   "source": [
    "data = (data.rename(columns={\"year_of_release\": \"release_year\",\n",
    "                            \"rating\": \"esrb_rating\" \n",
    "                            })\n",
    "       )\n",
    "data.head()"
   ]
  },
  {
   "cell_type": "markdown",
   "metadata": {},
   "source": [
    "Технический момент - отключим автоскролл в ячейках, пригодится на будущее."
   ]
  },
  {
   "cell_type": "code",
   "execution_count": 9,
   "metadata": {},
   "outputs": [
    {
     "data": {
      "application/javascript": [
       "IPython.OutputArea.prototype._should_scroll = function(lines) {\n",
       "    return false;\n",
       "}\n"
      ],
      "text/plain": [
       "<IPython.core.display.Javascript object>"
      ]
     },
     "metadata": {},
     "output_type": "display_data"
    }
   ],
   "source": [
    "%%javascript\n",
    "IPython.OutputArea.prototype._should_scroll = function(lines) {\n",
    "    return false;\n",
    "}"
   ]
  },
  {
   "cell_type": "markdown",
   "metadata": {},
   "source": [
    "<a id=\"duplicate\"></a>\n",
    "### Обработка дубликатов"
   ]
  },
  {
   "cell_type": "markdown",
   "metadata": {},
   "source": [
    "Нас интересовали названия жанров и платформ. Выведем списки уникальных значений для этих столбцов."
   ]
  },
  {
   "cell_type": "code",
   "execution_count": 10,
   "metadata": {
    "scrolled": false
   },
   "outputs": [
    {
     "data": {
      "text/plain": [
       "array(['Wii', 'NES', 'GB', 'DS', 'X360', 'PS3', 'PS2', 'SNES', 'GBA',\n",
       "       'PS4', '3DS', 'N64', 'PS', 'XB', 'PC', '2600', 'PSP', 'XOne',\n",
       "       'WiiU', 'GC', 'GEN', 'DC', 'PSV', 'SAT', 'SCD', 'WS', 'NG', 'TG16',\n",
       "       '3DO', 'GG', 'PCFX'], dtype=object)"
      ]
     },
     "execution_count": 10,
     "metadata": {},
     "output_type": "execute_result"
    }
   ],
   "source": [
    "data.platform.unique()"
   ]
  },
  {
   "cell_type": "code",
   "execution_count": 11,
   "metadata": {
    "scrolled": false
   },
   "outputs": [
    {
     "data": {
      "text/plain": [
       "array(['Sports', 'Platform', 'Racing', 'Role-Playing', 'Puzzle', 'Misc',\n",
       "       'Shooter', 'Simulation', 'Action', 'Fighting', 'Adventure',\n",
       "       'Strategy', nan], dtype=object)"
      ]
     },
     "execution_count": 11,
     "metadata": {},
     "output_type": "execute_result"
    }
   ],
   "source": [
    "data.genre.unique()"
   ]
  },
  {
   "cell_type": "markdown",
   "metadata": {},
   "source": [
    "Судя по всему, в наших списках уникальных значений нет дубликатов ни для жанров, ни для платформ. Правда, в жанрах есть пропуск, с ним будем разбираться.\n",
    "\n",
    "Также убедимся, что в таблице нет полных дубликатов."
   ]
  },
  {
   "cell_type": "code",
   "execution_count": 12,
   "metadata": {
    "scrolled": false
   },
   "outputs": [
    {
     "data": {
      "text/plain": [
       "0"
      ]
     },
     "execution_count": 12,
     "metadata": {},
     "output_type": "execute_result"
    }
   ],
   "source": [
    "data.duplicated().sum()"
   ]
  },
  {
   "cell_type": "markdown",
   "metadata": {},
   "source": [
    "### Обработка пропусков\n",
    "<a id=\"missing\"></a>"
   ]
  },
  {
   "cell_type": "markdown",
   "metadata": {},
   "source": [
    "Выведем количество пропусков во всех столбцах."
   ]
  },
  {
   "cell_type": "code",
   "execution_count": 13,
   "metadata": {
    "scrolled": false
   },
   "outputs": [
    {
     "data": {
      "text/plain": [
       "name               2\n",
       "platform           0\n",
       "release_year     269\n",
       "genre              2\n",
       "na_sales           0\n",
       "eu_sales           0\n",
       "jp_sales           0\n",
       "other_sales        0\n",
       "critic_score    8578\n",
       "user_score      6701\n",
       "esrb_rating     6766\n",
       "dtype: int64"
      ]
     },
     "execution_count": 13,
     "metadata": {},
     "output_type": "execute_result"
    }
   ],
   "source": [
    "data.isnull().sum()"
   ]
  },
  {
   "cell_type": "markdown",
   "metadata": {},
   "source": [
    "Для начала посмотрим на строки с пропущенными названиями игр. Их всего две."
   ]
  },
  {
   "cell_type": "code",
   "execution_count": 14,
   "metadata": {
    "scrolled": true
   },
   "outputs": [
    {
     "data": {
      "text/html": [
       "<div>\n",
       "<style scoped>\n",
       "    .dataframe tbody tr th:only-of-type {\n",
       "        vertical-align: middle;\n",
       "    }\n",
       "\n",
       "    .dataframe tbody tr th {\n",
       "        vertical-align: top;\n",
       "    }\n",
       "\n",
       "    .dataframe thead th {\n",
       "        text-align: right;\n",
       "    }\n",
       "</style>\n",
       "<table border=\"1\" class=\"dataframe\">\n",
       "  <thead>\n",
       "    <tr style=\"text-align: right;\">\n",
       "      <th></th>\n",
       "      <th>name</th>\n",
       "      <th>platform</th>\n",
       "      <th>release_year</th>\n",
       "      <th>genre</th>\n",
       "      <th>na_sales</th>\n",
       "      <th>eu_sales</th>\n",
       "      <th>jp_sales</th>\n",
       "      <th>other_sales</th>\n",
       "      <th>critic_score</th>\n",
       "      <th>user_score</th>\n",
       "      <th>esrb_rating</th>\n",
       "    </tr>\n",
       "  </thead>\n",
       "  <tbody>\n",
       "    <tr>\n",
       "      <th>659</th>\n",
       "      <td>NaN</td>\n",
       "      <td>GEN</td>\n",
       "      <td>1993.0</td>\n",
       "      <td>NaN</td>\n",
       "      <td>1.78</td>\n",
       "      <td>0.53</td>\n",
       "      <td>0.00</td>\n",
       "      <td>0.08</td>\n",
       "      <td>NaN</td>\n",
       "      <td>NaN</td>\n",
       "      <td>NaN</td>\n",
       "    </tr>\n",
       "    <tr>\n",
       "      <th>14244</th>\n",
       "      <td>NaN</td>\n",
       "      <td>GEN</td>\n",
       "      <td>1993.0</td>\n",
       "      <td>NaN</td>\n",
       "      <td>0.00</td>\n",
       "      <td>0.00</td>\n",
       "      <td>0.03</td>\n",
       "      <td>0.00</td>\n",
       "      <td>NaN</td>\n",
       "      <td>NaN</td>\n",
       "      <td>NaN</td>\n",
       "    </tr>\n",
       "  </tbody>\n",
       "</table>\n",
       "</div>"
      ],
      "text/plain": [
       "      name platform  release_year genre  na_sales  eu_sales  jp_sales  \\\n",
       "659    NaN      GEN        1993.0   NaN      1.78      0.53      0.00   \n",
       "14244  NaN      GEN        1993.0   NaN      0.00      0.00      0.03   \n",
       "\n",
       "       other_sales  critic_score user_score esrb_rating  \n",
       "659           0.08           NaN        NaN         NaN  \n",
       "14244         0.00           NaN        NaN         NaN  "
      ]
     },
     "execution_count": 14,
     "metadata": {},
     "output_type": "execute_result"
    }
   ],
   "source": [
    "data.query('name.isna()', engine='python')"
   ]
  },
  {
   "cell_type": "markdown",
   "metadata": {},
   "source": [
    "Видим, что здесь же отсутствует название жанра, так что восстановить эти данные шансов мало. Удалим эти строки, потеря небольшая."
   ]
  },
  {
   "cell_type": "code",
   "execution_count": 15,
   "metadata": {
    "scrolled": true
   },
   "outputs": [
    {
     "name": "stdout",
     "output_type": "stream",
     "text": [
      "Пропусков после: 0\n"
     ]
    }
   ],
   "source": [
    "data.dropna(subset = ['name'], inplace=True)\n",
    "data=data.reset_index(drop=True)\n",
    "print('Пропусков после:', data['name'].isna().sum())"
   ]
  },
  {
   "cell_type": "markdown",
   "metadata": {},
   "source": [
    "Посмотрим, есть ли какая-либо связь между 3 столбцами, в которых больше всего пропусков: оценкой критиков, пользовательской оценкой и рейтингом ESRB. Нагляднее всего сделать это при помощи тепловой карты из библиотеки seaborn.\n",
    "\n",
    "Темный фон &mdash; заполненные значения, белые полосы &mdash; пропуски."
   ]
  },
  {
   "cell_type": "code",
   "execution_count": 16,
   "metadata": {
    "scrolled": true
   },
   "outputs": [
    {
     "data": {
      "image/png": "[encoded data removed]",
      "text/plain": [
       "<Figure size 432x288 with 1 Axes>"
      ]
     },
     "metadata": {
      "needs_background": "light"
     },
     "output_type": "display_data"
    }
   ],
   "source": [
    "sns.heatmap(data[['critic_score', 'user_score', 'esrb_rating']].isnull(), cbar=False)\n",
    "plt.title('Визуализация пропущенных значений\\n в столбцах с рейтингом')\n",
    "plt.show()"
   ]
  },
  {
   "cell_type": "markdown",
   "metadata": {},
   "source": [
    "Получился своеобразный \"штрихкод\". Два столбца справа имеют практически идентичную раскраску. Значит, где пропущен `user_score`, там же будет пропуск в `esrb_rating`. \n",
    "\n",
    "Проверим, так ли это, посмотрев на перечень уникальных значений `esrb_rating` в тех случаях, когда есть пропуск в `user_score`."
   ]
  },
  {
   "cell_type": "code",
   "execution_count": 17,
   "metadata": {
    "scrolled": false
   },
   "outputs": [
    {
     "data": {
      "text/plain": [
       "NaN     6628\n",
       "E         40\n",
       "T         20\n",
       "E10+       7\n",
       "M          3\n",
       "RP         1\n",
       "Name: esrb_rating, dtype: int64"
      ]
     },
     "execution_count": 17,
     "metadata": {},
     "output_type": "execute_result"
    }
   ],
   "source": [
    "data.query('user_score.isna()', engine='python').esrb_rating.value_counts(dropna=False)"
   ]
  },
  {
   "cell_type": "markdown",
   "metadata": {},
   "source": [
    "Предположение подтвердилось. Сделаем аналогично для пары столбцов `critic_score` и `user_score`."
   ]
  },
  {
   "cell_type": "code",
   "execution_count": 18,
   "metadata": {
    "scrolled": false
   },
   "outputs": [
    {
     "data": {
      "text/plain": [
       "NaN    6661\n",
       "tbd    1342\n",
       "7.8      26\n",
       "7        24\n",
       "8        23\n",
       "       ... \n",
       "0.6       1\n",
       "9.3       1\n",
       "1.7       1\n",
       "9.7       1\n",
       "9.5       1\n",
       "Name: user_score, Length: 86, dtype: int64"
      ]
     },
     "execution_count": 18,
     "metadata": {},
     "output_type": "execute_result"
    }
   ],
   "source": [
    "data.query('critic_score.isna()', engine='python').user_score.value_counts(dropna=False)"
   ]
  },
  {
   "cell_type": "markdown",
   "metadata": {},
   "source": [
    "И эти множества _практически полностью пересекаются:_ на 6600 пустых оценок критиков приходятся пропуски в пользовательской оценке и еще 1300 строк заполнены значением-заглушкой tbd ('to be determined').\n",
    "\n",
    "Что же, может быть дело в низкой популярности этих игр &mdash; никто их не покупает и никто не оценивает? Посмотрим на суммарные продажи игр, для которых нет рейтинга критиков."
   ]
  },
  {
   "cell_type": "code",
   "execution_count": 19,
   "metadata": {
    "scrolled": false
   },
   "outputs": [
    {
     "data": {
      "text/plain": [
       "na_sales       1528.37\n",
       "eu_sales        729.11\n",
       "jp_sales        849.58\n",
       "other_sales     201.84\n",
       "dtype: float64"
      ]
     },
     "execution_count": 19,
     "metadata": {},
     "output_type": "execute_result"
    }
   ],
   "source": [
    "data.query('critic_score.isna()', engine='python')[['na_sales', 'eu_sales', 'jp_sales', 'other_sales']].sum()"
   ]
  },
  {
   "cell_type": "markdown",
   "metadata": {},
   "source": [
    "Нет, на низкую популярность не похоже &mdash; продажи этих позиций есть, в Северной Америке даже довольно существенные. \n",
    "\n",
    "Учитывая совпадения пропусков в трех столбцах, предположим, что оценки были, но примерно в половине случаев потерялись при парсинге исторических данных. Тогда лучше обратиться к разработчикам, которые делали для нас эту выгрузку. "
   ]
  },
  {
   "cell_type": "markdown",
   "metadata": {},
   "source": [
    "Итак, мы обнаружили определенную закономерность. Пропуски в 3-х столбцах (`user_score`, `critic_score`, `esrb_rating`) во многом пересекаются, что похоже на случай MNAR (неслучайные пропуски). Рейтинги с количественной оценкой (`user_score`, `critic_score`) мы не будем заполнять ни нулями, ни медианой, так как рискуем исказить данные.\n",
    "\n",
    "А вот рейтинг ESRB - категориальный, поэтому мы можем заменить пропуски новой категорией _undefined_. Это также позволит понять, по какому региону какая доля игр осталась без рейтинга. \n",
    "\n",
    "Выполним замену."
   ]
  },
  {
   "cell_type": "code",
   "execution_count": 20,
   "metadata": {
    "scrolled": false
   },
   "outputs": [],
   "source": [
    "data['esrb_rating'] = data['esrb_rating'].fillna('undefined')"
   ]
  },
  {
   "cell_type": "markdown",
   "metadata": {},
   "source": [
    "Что касается значений 'tbd' в пользовательском рейтинге, заменим эти записи на NaN. Восстановить их не получится, а удалять нехорошо &mdash; слишком много данных утратим."
   ]
  },
  {
   "cell_type": "code",
   "execution_count": 21,
   "metadata": {
    "scrolled": false
   },
   "outputs": [],
   "source": [
    "data['user_score'] = pd.to_numeric(data['user_score'], errors = 'coerce')"
   ]
  },
  {
   "cell_type": "markdown",
   "metadata": {},
   "source": [
    "Также у нас есть пропуски в годе выпуска игр. У нас нет хорошего способа восстановить их. \n",
    "\n",
    "Можно было бы посмотреть, когда эта же игра выпускалась на других платформах, но тут мы рискуем совершить ошибку, так как не всегда это происходило одновременно. Поэтому строки с играми, для которых неизвестен год, мы удалим. Их не так много, около 1% от общего количества. "
   ]
  },
  {
   "cell_type": "code",
   "execution_count": 22,
   "metadata": {
    "scrolled": false
   },
   "outputs": [
    {
     "name": "stdout",
     "output_type": "stream",
     "text": [
      "Пропусков после: 0\n"
     ]
    }
   ],
   "source": [
    "data.dropna(subset = ['release_year'], inplace=True)\n",
    "data=data.reset_index(drop=True)\n",
    "print('Пропусков после:', data['release_year'].isna().sum())"
   ]
  },
  {
   "cell_type": "code",
   "execution_count": 23,
   "metadata": {
    "scrolled": true
   },
   "outputs": [
    {
     "data": {
      "text/plain": [
       "name               0\n",
       "platform           0\n",
       "release_year       0\n",
       "genre              0\n",
       "na_sales           0\n",
       "eu_sales           0\n",
       "jp_sales           0\n",
       "other_sales        0\n",
       "critic_score    8461\n",
       "user_score      8981\n",
       "esrb_rating        0\n",
       "dtype: int64"
      ]
     },
     "execution_count": 23,
     "metadata": {},
     "output_type": "execute_result"
    }
   ],
   "source": [
    "# выполним финальную проверку количества пропусков\n",
    "data.isnull().sum()"
   ]
  },
  {
   "cell_type": "markdown",
   "metadata": {},
   "source": [
    "### Замена типа данных\n",
    "<a id=\"type\"></a>"
   ]
  },
  {
   "cell_type": "markdown",
   "metadata": {},
   "source": [
    "Преобразуем год выпуска в целочисленный тип данных. Далее проверим, как прошла замена."
   ]
  },
  {
   "cell_type": "code",
   "execution_count": 24,
   "metadata": {
    "scrolled": false
   },
   "outputs": [],
   "source": [
    "data = data.astype(\n",
    "    {'release_year': int\n",
    "    }\n",
    ")"
   ]
  },
  {
   "cell_type": "code",
   "execution_count": 25,
   "metadata": {
    "scrolled": false
   },
   "outputs": [
    {
     "data": {
      "text/plain": [
       "name             object\n",
       "platform         object\n",
       "release_year      int32\n",
       "genre            object\n",
       "na_sales        float64\n",
       "eu_sales        float64\n",
       "jp_sales        float64\n",
       "other_sales     float64\n",
       "critic_score    float64\n",
       "user_score      float64\n",
       "esrb_rating      object\n",
       "dtype: object"
      ]
     },
     "execution_count": 25,
     "metadata": {},
     "output_type": "execute_result"
    }
   ],
   "source": [
    "data.dtypes"
   ]
  },
  {
   "cell_type": "code",
   "execution_count": 26,
   "metadata": {
    "scrolled": false
   },
   "outputs": [
    {
     "data": {
      "text/html": [
       "<div>\n",
       "<style scoped>\n",
       "    .dataframe tbody tr th:only-of-type {\n",
       "        vertical-align: middle;\n",
       "    }\n",
       "\n",
       "    .dataframe tbody tr th {\n",
       "        vertical-align: top;\n",
       "    }\n",
       "\n",
       "    .dataframe thead th {\n",
       "        text-align: right;\n",
       "    }\n",
       "</style>\n",
       "<table border=\"1\" class=\"dataframe\">\n",
       "  <thead>\n",
       "    <tr style=\"text-align: right;\">\n",
       "      <th></th>\n",
       "      <th>name</th>\n",
       "      <th>platform</th>\n",
       "      <th>release_year</th>\n",
       "      <th>genre</th>\n",
       "      <th>na_sales</th>\n",
       "      <th>eu_sales</th>\n",
       "      <th>jp_sales</th>\n",
       "      <th>other_sales</th>\n",
       "      <th>critic_score</th>\n",
       "      <th>user_score</th>\n",
       "      <th>esrb_rating</th>\n",
       "    </tr>\n",
       "  </thead>\n",
       "  <tbody>\n",
       "    <tr>\n",
       "      <th>0</th>\n",
       "      <td>Wii Sports</td>\n",
       "      <td>Wii</td>\n",
       "      <td>2006</td>\n",
       "      <td>Sports</td>\n",
       "      <td>41.36</td>\n",
       "      <td>28.96</td>\n",
       "      <td>3.77</td>\n",
       "      <td>8.45</td>\n",
       "      <td>76.0</td>\n",
       "      <td>8.0</td>\n",
       "      <td>E</td>\n",
       "    </tr>\n",
       "    <tr>\n",
       "      <th>1</th>\n",
       "      <td>Super Mario Bros.</td>\n",
       "      <td>NES</td>\n",
       "      <td>1985</td>\n",
       "      <td>Platform</td>\n",
       "      <td>29.08</td>\n",
       "      <td>3.58</td>\n",
       "      <td>6.81</td>\n",
       "      <td>0.77</td>\n",
       "      <td>NaN</td>\n",
       "      <td>NaN</td>\n",
       "      <td>undefined</td>\n",
       "    </tr>\n",
       "    <tr>\n",
       "      <th>2</th>\n",
       "      <td>Mario Kart Wii</td>\n",
       "      <td>Wii</td>\n",
       "      <td>2008</td>\n",
       "      <td>Racing</td>\n",
       "      <td>15.68</td>\n",
       "      <td>12.76</td>\n",
       "      <td>3.79</td>\n",
       "      <td>3.29</td>\n",
       "      <td>82.0</td>\n",
       "      <td>8.3</td>\n",
       "      <td>E</td>\n",
       "    </tr>\n",
       "    <tr>\n",
       "      <th>3</th>\n",
       "      <td>Wii Sports Resort</td>\n",
       "      <td>Wii</td>\n",
       "      <td>2009</td>\n",
       "      <td>Sports</td>\n",
       "      <td>15.61</td>\n",
       "      <td>10.93</td>\n",
       "      <td>3.28</td>\n",
       "      <td>2.95</td>\n",
       "      <td>80.0</td>\n",
       "      <td>8.0</td>\n",
       "      <td>E</td>\n",
       "    </tr>\n",
       "    <tr>\n",
       "      <th>4</th>\n",
       "      <td>Pokemon Red/Pokemon Blue</td>\n",
       "      <td>GB</td>\n",
       "      <td>1996</td>\n",
       "      <td>Role-Playing</td>\n",
       "      <td>11.27</td>\n",
       "      <td>8.89</td>\n",
       "      <td>10.22</td>\n",
       "      <td>1.00</td>\n",
       "      <td>NaN</td>\n",
       "      <td>NaN</td>\n",
       "      <td>undefined</td>\n",
       "    </tr>\n",
       "  </tbody>\n",
       "</table>\n",
       "</div>"
      ],
      "text/plain": [
       "                       name platform  release_year         genre  na_sales  \\\n",
       "0                Wii Sports      Wii          2006        Sports     41.36   \n",
       "1         Super Mario Bros.      NES          1985      Platform     29.08   \n",
       "2            Mario Kart Wii      Wii          2008        Racing     15.68   \n",
       "3         Wii Sports Resort      Wii          2009        Sports     15.61   \n",
       "4  Pokemon Red/Pokemon Blue       GB          1996  Role-Playing     11.27   \n",
       "\n",
       "   eu_sales  jp_sales  other_sales  critic_score  user_score esrb_rating  \n",
       "0     28.96      3.77         8.45          76.0         8.0           E  \n",
       "1      3.58      6.81         0.77           NaN         NaN   undefined  \n",
       "2     12.76      3.79         3.29          82.0         8.3           E  \n",
       "3     10.93      3.28         2.95          80.0         8.0           E  \n",
       "4      8.89     10.22         1.00           NaN         NaN   undefined  "
      ]
     },
     "execution_count": 26,
     "metadata": {},
     "output_type": "execute_result"
    }
   ],
   "source": [
    "data.head()"
   ]
  },
  {
   "cell_type": "markdown",
   "metadata": {},
   "source": [
    "### Обработка аномальных значений\n",
    "<a id=\"anomaly\"></a>"
   ]
  },
  {
   "cell_type": "markdown",
   "metadata": {},
   "source": [
    "Теперь, когда мы привели данные к корректному типу, можно проверить таблицу на наличие аномальных значений. "
   ]
  },
  {
   "cell_type": "code",
   "execution_count": 27,
   "metadata": {
    "scrolled": false
   },
   "outputs": [
    {
     "data": {
      "text/html": [
       "<div>\n",
       "<style scoped>\n",
       "    .dataframe tbody tr th:only-of-type {\n",
       "        vertical-align: middle;\n",
       "    }\n",
       "\n",
       "    .dataframe tbody tr th {\n",
       "        vertical-align: top;\n",
       "    }\n",
       "\n",
       "    .dataframe thead th {\n",
       "        text-align: right;\n",
       "    }\n",
       "</style>\n",
       "<table border=\"1\" class=\"dataframe\">\n",
       "  <thead>\n",
       "    <tr style=\"text-align: right;\">\n",
       "      <th></th>\n",
       "      <th>release_year</th>\n",
       "      <th>na_sales</th>\n",
       "      <th>eu_sales</th>\n",
       "      <th>jp_sales</th>\n",
       "      <th>other_sales</th>\n",
       "      <th>critic_score</th>\n",
       "      <th>user_score</th>\n",
       "    </tr>\n",
       "  </thead>\n",
       "  <tbody>\n",
       "    <tr>\n",
       "      <th>count</th>\n",
       "      <td>16444.000000</td>\n",
       "      <td>16444.000000</td>\n",
       "      <td>16444.000000</td>\n",
       "      <td>16444.000000</td>\n",
       "      <td>16444.000000</td>\n",
       "      <td>7983.000000</td>\n",
       "      <td>7463.000000</td>\n",
       "    </tr>\n",
       "    <tr>\n",
       "      <th>mean</th>\n",
       "      <td>2006.486256</td>\n",
       "      <td>0.264012</td>\n",
       "      <td>0.145930</td>\n",
       "      <td>0.078487</td>\n",
       "      <td>0.047594</td>\n",
       "      <td>68.994363</td>\n",
       "      <td>7.126330</td>\n",
       "    </tr>\n",
       "    <tr>\n",
       "      <th>std</th>\n",
       "      <td>5.875525</td>\n",
       "      <td>0.818378</td>\n",
       "      <td>0.506716</td>\n",
       "      <td>0.311100</td>\n",
       "      <td>0.188005</td>\n",
       "      <td>13.920060</td>\n",
       "      <td>1.499447</td>\n",
       "    </tr>\n",
       "    <tr>\n",
       "      <th>min</th>\n",
       "      <td>1980.000000</td>\n",
       "      <td>0.000000</td>\n",
       "      <td>0.000000</td>\n",
       "      <td>0.000000</td>\n",
       "      <td>0.000000</td>\n",
       "      <td>13.000000</td>\n",
       "      <td>0.000000</td>\n",
       "    </tr>\n",
       "    <tr>\n",
       "      <th>25%</th>\n",
       "      <td>2003.000000</td>\n",
       "      <td>0.000000</td>\n",
       "      <td>0.000000</td>\n",
       "      <td>0.000000</td>\n",
       "      <td>0.000000</td>\n",
       "      <td>60.000000</td>\n",
       "      <td>6.400000</td>\n",
       "    </tr>\n",
       "    <tr>\n",
       "      <th>50%</th>\n",
       "      <td>2007.000000</td>\n",
       "      <td>0.080000</td>\n",
       "      <td>0.020000</td>\n",
       "      <td>0.000000</td>\n",
       "      <td>0.010000</td>\n",
       "      <td>71.000000</td>\n",
       "      <td>7.500000</td>\n",
       "    </tr>\n",
       "    <tr>\n",
       "      <th>75%</th>\n",
       "      <td>2010.000000</td>\n",
       "      <td>0.240000</td>\n",
       "      <td>0.110000</td>\n",
       "      <td>0.040000</td>\n",
       "      <td>0.030000</td>\n",
       "      <td>79.000000</td>\n",
       "      <td>8.200000</td>\n",
       "    </tr>\n",
       "    <tr>\n",
       "      <th>max</th>\n",
       "      <td>2016.000000</td>\n",
       "      <td>41.360000</td>\n",
       "      <td>28.960000</td>\n",
       "      <td>10.220000</td>\n",
       "      <td>10.570000</td>\n",
       "      <td>98.000000</td>\n",
       "      <td>9.700000</td>\n",
       "    </tr>\n",
       "  </tbody>\n",
       "</table>\n",
       "</div>"
      ],
      "text/plain": [
       "       release_year      na_sales      eu_sales      jp_sales   other_sales  \\\n",
       "count  16444.000000  16444.000000  16444.000000  16444.000000  16444.000000   \n",
       "mean    2006.486256      0.264012      0.145930      0.078487      0.047594   \n",
       "std        5.875525      0.818378      0.506716      0.311100      0.188005   \n",
       "min     1980.000000      0.000000      0.000000      0.000000      0.000000   \n",
       "25%     2003.000000      0.000000      0.000000      0.000000      0.000000   \n",
       "50%     2007.000000      0.080000      0.020000      0.000000      0.010000   \n",
       "75%     2010.000000      0.240000      0.110000      0.040000      0.030000   \n",
       "max     2016.000000     41.360000     28.960000     10.220000     10.570000   \n",
       "\n",
       "       critic_score   user_score  \n",
       "count   7983.000000  7463.000000  \n",
       "mean      68.994363     7.126330  \n",
       "std       13.920060     1.499447  \n",
       "min       13.000000     0.000000  \n",
       "25%       60.000000     6.400000  \n",
       "50%       71.000000     7.500000  \n",
       "75%       79.000000     8.200000  \n",
       "max       98.000000     9.700000  "
      ]
     },
     "execution_count": 27,
     "metadata": {},
     "output_type": "execute_result"
    }
   ],
   "source": [
    "data.describe()"
   ]
  },
  {
   "cell_type": "markdown",
   "metadata": {},
   "source": [
    "Значения продаж колеблются от 0 до 41 млн копий. Год выпуска &mdash; от 1980 до 2016. Что касается рейтингов, то и они находятся в заданных рамках: максимальная оценка критиков &mdash; 98, а пользователей &mdash; 9.7, что выглядит реалистично.\n",
    "\n",
    "Отрицательных значений нет и в целом значения выглядят корректно, поэтому пойдем дальше."
   ]
  },
  {
   "cell_type": "markdown",
   "metadata": {},
   "source": [
    "### Расчет на имеющихся данных\n",
    "<a id=\"calc\"></a>"
   ]
  },
  {
   "cell_type": "markdown",
   "metadata": {},
   "source": [
    "Для каждой игры на каждой платформе сосчитаем суммарные продажи во всех регионах и добавим их в отдельный столбец `total_sales`. "
   ]
  },
  {
   "cell_type": "code",
   "execution_count": 28,
   "metadata": {
    "scrolled": true
   },
   "outputs": [
    {
     "data": {
      "text/html": [
       "<div>\n",
       "<style scoped>\n",
       "    .dataframe tbody tr th:only-of-type {\n",
       "        vertical-align: middle;\n",
       "    }\n",
       "\n",
       "    .dataframe tbody tr th {\n",
       "        vertical-align: top;\n",
       "    }\n",
       "\n",
       "    .dataframe thead th {\n",
       "        text-align: right;\n",
       "    }\n",
       "</style>\n",
       "<table border=\"1\" class=\"dataframe\">\n",
       "  <thead>\n",
       "    <tr style=\"text-align: right;\">\n",
       "      <th></th>\n",
       "      <th>name</th>\n",
       "      <th>platform</th>\n",
       "      <th>release_year</th>\n",
       "      <th>genre</th>\n",
       "      <th>na_sales</th>\n",
       "      <th>eu_sales</th>\n",
       "      <th>jp_sales</th>\n",
       "      <th>other_sales</th>\n",
       "      <th>critic_score</th>\n",
       "      <th>user_score</th>\n",
       "      <th>esrb_rating</th>\n",
       "      <th>total_sales</th>\n",
       "    </tr>\n",
       "  </thead>\n",
       "  <tbody>\n",
       "    <tr>\n",
       "      <th>0</th>\n",
       "      <td>Wii Sports</td>\n",
       "      <td>Wii</td>\n",
       "      <td>2006</td>\n",
       "      <td>Sports</td>\n",
       "      <td>41.36</td>\n",
       "      <td>28.96</td>\n",
       "      <td>3.77</td>\n",
       "      <td>8.45</td>\n",
       "      <td>76.0</td>\n",
       "      <td>8.0</td>\n",
       "      <td>E</td>\n",
       "      <td>82.54</td>\n",
       "    </tr>\n",
       "    <tr>\n",
       "      <th>1</th>\n",
       "      <td>Super Mario Bros.</td>\n",
       "      <td>NES</td>\n",
       "      <td>1985</td>\n",
       "      <td>Platform</td>\n",
       "      <td>29.08</td>\n",
       "      <td>3.58</td>\n",
       "      <td>6.81</td>\n",
       "      <td>0.77</td>\n",
       "      <td>NaN</td>\n",
       "      <td>NaN</td>\n",
       "      <td>undefined</td>\n",
       "      <td>40.24</td>\n",
       "    </tr>\n",
       "    <tr>\n",
       "      <th>2</th>\n",
       "      <td>Mario Kart Wii</td>\n",
       "      <td>Wii</td>\n",
       "      <td>2008</td>\n",
       "      <td>Racing</td>\n",
       "      <td>15.68</td>\n",
       "      <td>12.76</td>\n",
       "      <td>3.79</td>\n",
       "      <td>3.29</td>\n",
       "      <td>82.0</td>\n",
       "      <td>8.3</td>\n",
       "      <td>E</td>\n",
       "      <td>35.52</td>\n",
       "    </tr>\n",
       "    <tr>\n",
       "      <th>3</th>\n",
       "      <td>Wii Sports Resort</td>\n",
       "      <td>Wii</td>\n",
       "      <td>2009</td>\n",
       "      <td>Sports</td>\n",
       "      <td>15.61</td>\n",
       "      <td>10.93</td>\n",
       "      <td>3.28</td>\n",
       "      <td>2.95</td>\n",
       "      <td>80.0</td>\n",
       "      <td>8.0</td>\n",
       "      <td>E</td>\n",
       "      <td>32.77</td>\n",
       "    </tr>\n",
       "    <tr>\n",
       "      <th>4</th>\n",
       "      <td>Pokemon Red/Pokemon Blue</td>\n",
       "      <td>GB</td>\n",
       "      <td>1996</td>\n",
       "      <td>Role-Playing</td>\n",
       "      <td>11.27</td>\n",
       "      <td>8.89</td>\n",
       "      <td>10.22</td>\n",
       "      <td>1.00</td>\n",
       "      <td>NaN</td>\n",
       "      <td>NaN</td>\n",
       "      <td>undefined</td>\n",
       "      <td>31.38</td>\n",
       "    </tr>\n",
       "  </tbody>\n",
       "</table>\n",
       "</div>"
      ],
      "text/plain": [
       "                       name platform  release_year         genre  na_sales  \\\n",
       "0                Wii Sports      Wii          2006        Sports     41.36   \n",
       "1         Super Mario Bros.      NES          1985      Platform     29.08   \n",
       "2            Mario Kart Wii      Wii          2008        Racing     15.68   \n",
       "3         Wii Sports Resort      Wii          2009        Sports     15.61   \n",
       "4  Pokemon Red/Pokemon Blue       GB          1996  Role-Playing     11.27   \n",
       "\n",
       "   eu_sales  jp_sales  other_sales  critic_score  user_score esrb_rating  \\\n",
       "0     28.96      3.77         8.45          76.0         8.0           E   \n",
       "1      3.58      6.81         0.77           NaN         NaN   undefined   \n",
       "2     12.76      3.79         3.29          82.0         8.3           E   \n",
       "3     10.93      3.28         2.95          80.0         8.0           E   \n",
       "4      8.89     10.22         1.00           NaN         NaN   undefined   \n",
       "\n",
       "   total_sales  \n",
       "0        82.54  \n",
       "1        40.24  \n",
       "2        35.52  \n",
       "3        32.77  \n",
       "4        31.38  "
      ]
     },
     "execution_count": 28,
     "metadata": {},
     "output_type": "execute_result"
    }
   ],
   "source": [
    "data['total_sales'] = data['na_sales'] + data['eu_sales'] + data['jp_sales'] + data['other_sales']\n",
    "data.head()"
   ]
  },
  {
   "cell_type": "markdown",
   "metadata": {},
   "source": [
    "<a id=\"3_sum\"></a>\n",
    "### Выводы"
   ]
  },
  {
   "cell_type": "markdown",
   "metadata": {},
   "source": [
    "- Мы привели названия столбцов таблицы к нижнему регистру и выборочно переименовали несколько из них\n",
    "- Убедились, что в таблице отсутствуют полные дубликаты\n",
    "- Аномальных значений не обнаружили\n",
    "- Удалили строки с пропусками в названии игры и жанра &mdash; их было очень мало, и мы ничего на этом не потеряли\n",
    "- Обнаружили, что существует множество совпадений в пропусках в 3 столбцах &mdash; с оценкой критиков, пользовательской оценкой и рейтингом ESRB. Это позволило предположить, что проблема здесь в выгрузке. Пропуски в оценках решили не заполнять, а строки не удалять, так как их слишком много (до 50%). Пропуски в рейтинге ESRB заполнили индикатором `undefined`, далее посмотрим, как они распределились по сравнению с другими категориями.\n",
    "- Пропуски в годе выпуска игр решили не восстанавливать, так как не нашли хорошего способа сделать это достоверно. Строки с пропусками удалили\n",
    "- Привели данные к корректному типу: год сделали целочисленным, а пользовательский рейтинг &mdash; float\n",
    "- Добавили новый столбец с общей суммой продаж по всем регионам"
   ]
  },
  {
   "cell_type": "markdown",
   "metadata": {},
   "source": [
    "<a id=\"analysis\"></a>\n",
    "## Анализ данных"
   ]
  },
  {
   "cell_type": "markdown",
   "metadata": {},
   "source": [
    "<a id=\"analysis1\"></a>\n",
    "### Распределение игр по году выпуска"
   ]
  },
  {
   "cell_type": "markdown",
   "metadata": {},
   "source": [
    "Наша статистика охватывает целых 37 лет &mdash; с 1980 по 2016 годы. Можно ожидать, что в какие-то периоды будет всплеск популярности, и соответственно больше игр, а в другие &mdash; меньше. Посмотрим, как распределяются игры по году выпуска."
   ]
  },
  {
   "cell_type": "code",
   "execution_count": 29,
   "metadata": {
    "scrolled": false
   },
   "outputs": [],
   "source": [
    "games_by_year = data.pivot_table(index='release_year', values='name', aggfunc='count')"
   ]
  },
  {
   "cell_type": "code",
   "execution_count": 30,
   "metadata": {
    "scrolled": true
   },
   "outputs": [
    {
     "data": {
      "image/png": "[encoded data removed]",
      "text/plain": [
       "<Figure size 1008x720 with 1 Axes>"
      ]
     },
     "metadata": {
      "needs_background": "light"
     },
     "output_type": "display_data"
    }
   ],
   "source": [
    "games_by_year.plot(kind='barh', figsize=(14, 10), grid=True)\n",
    "plt.legend('_Hidden label')\n",
    "plt.title('Выпуск игр по годам')\n",
    "plt.ylabel('Год выпуска')\n",
    "plt.xlabel('Количество игр')\n",
    "plt.show()"
   ]
  },
  {
   "cell_type": "markdown",
   "metadata": {},
   "source": [
    "Судя по графику, бум компьютерных игр наблюдался **с 2002 по 2012 годы** (максимум &mdash; полторы тысячи игр в год!), а до середины девяностых все было достаточно тихо (не более 200 игр в год). \n",
    "\n",
    "После 2008-2009 количество выпускаемых игр пошло на спад. Вероятно, рынок насытился играми среднего качества, конкуренция выросла, и производители стали стремиться выпускать более качественный и интересный продукт. Из-за этого разработка игр стала стоить дороже и занимать больше времени.\n",
    "\n",
    "Скорее всего, рассматривать данные как минимум до 2000-х для нас не имеет смысла. Соображений здесь два:\n",
    "\n",
    "- Рынок очень сильно изменился. Раньше конкурировали десятки игр, в последнее время &mdash; сотни и тысячи. Строить по таким старым данным прогноз на будущее можно, но картина будет искажена.\n",
    "- Выводы по 80-м, 90-м и нулевым годам будут сильно отличаться из-за различного объема выборок."
   ]
  },
  {
   "cell_type": "markdown",
   "metadata": {},
   "source": [
    "<a id=\"analysis2\"></a>\n",
    "### Платформы с наибольшими суммарными продажами"
   ]
  },
  {
   "cell_type": "markdown",
   "metadata": {},
   "source": [
    "Посмотрим, какие платформы самые популярные у пользователей. Сделаем сводную таблицу, в которой просуммируем продажи по каждой платформе и выведем топ-5."
   ]
  },
  {
   "cell_type": "code",
   "execution_count": 31,
   "metadata": {
    "scrolled": false
   },
   "outputs": [
    {
     "data": {
      "text/html": [
       "<div>\n",
       "<style scoped>\n",
       "    .dataframe tbody tr th:only-of-type {\n",
       "        vertical-align: middle;\n",
       "    }\n",
       "\n",
       "    .dataframe tbody tr th {\n",
       "        vertical-align: top;\n",
       "    }\n",
       "\n",
       "    .dataframe thead th {\n",
       "        text-align: right;\n",
       "    }\n",
       "</style>\n",
       "<table border=\"1\" class=\"dataframe\">\n",
       "  <thead>\n",
       "    <tr style=\"text-align: right;\">\n",
       "      <th></th>\n",
       "      <th>total_sales</th>\n",
       "    </tr>\n",
       "    <tr>\n",
       "      <th>platform</th>\n",
       "      <th></th>\n",
       "    </tr>\n",
       "  </thead>\n",
       "  <tbody>\n",
       "    <tr>\n",
       "      <th>PS2</th>\n",
       "      <td>1233.56</td>\n",
       "    </tr>\n",
       "    <tr>\n",
       "      <th>X360</th>\n",
       "      <td>961.24</td>\n",
       "    </tr>\n",
       "    <tr>\n",
       "      <th>PS3</th>\n",
       "      <td>931.34</td>\n",
       "    </tr>\n",
       "    <tr>\n",
       "      <th>Wii</th>\n",
       "      <td>891.18</td>\n",
       "    </tr>\n",
       "    <tr>\n",
       "      <th>DS</th>\n",
       "      <td>802.78</td>\n",
       "    </tr>\n",
       "  </tbody>\n",
       "</table>\n",
       "</div>"
      ],
      "text/plain": [
       "          total_sales\n",
       "platform             \n",
       "PS2           1233.56\n",
       "X360           961.24\n",
       "PS3            931.34\n",
       "Wii            891.18\n",
       "DS             802.78"
      ]
     },
     "metadata": {},
     "output_type": "display_data"
    }
   ],
   "source": [
    "top5 = (data.pivot_table\n",
    "        (index='platform', values='total_sales', aggfunc='sum')\n",
    "        .sort_values(by='total_sales', ascending=False)\n",
    "        .head()\n",
    "       )\n",
    "display(top5)"
   ]
  },
  {
   "cell_type": "markdown",
   "metadata": {},
   "source": [
    "Итак, мы определили топ-5 лидеров продаж за всё время. Изучим, как для них менялись продажи с течением времени. Это поможет определить популярные платформы, чтобы продвигать их в нашей рекламной кампании.\n",
    "\n",
    "Сделаем срез данных из нашей таблицы по списку лидеров из переменной `platform_top5`. Затем построим сводную таблицу, просуммировав продажи по годам. Год продажи нам неизвестен, поэтому возьмем год выпуска."
   ]
  },
  {
   "cell_type": "code",
   "execution_count": 32,
   "metadata": {
    "scrolled": true
   },
   "outputs": [
    {
     "data": {
      "text/html": [
       "<div>\n",
       "<style scoped>\n",
       "    .dataframe tbody tr th:only-of-type {\n",
       "        vertical-align: middle;\n",
       "    }\n",
       "\n",
       "    .dataframe tbody tr th {\n",
       "        vertical-align: top;\n",
       "    }\n",
       "\n",
       "    .dataframe thead th {\n",
       "        text-align: right;\n",
       "    }\n",
       "</style>\n",
       "<table border=\"1\" class=\"dataframe\">\n",
       "  <thead>\n",
       "    <tr style=\"text-align: right;\">\n",
       "      <th>platform</th>\n",
       "      <th>DS</th>\n",
       "      <th>PS2</th>\n",
       "      <th>PS3</th>\n",
       "      <th>Wii</th>\n",
       "      <th>X360</th>\n",
       "    </tr>\n",
       "    <tr>\n",
       "      <th>release_year</th>\n",
       "      <th></th>\n",
       "      <th></th>\n",
       "      <th></th>\n",
       "      <th></th>\n",
       "      <th></th>\n",
       "    </tr>\n",
       "  </thead>\n",
       "  <tbody>\n",
       "    <tr>\n",
       "      <th>1985</th>\n",
       "      <td>0.02</td>\n",
       "      <td>NaN</td>\n",
       "      <td>NaN</td>\n",
       "      <td>NaN</td>\n",
       "      <td>NaN</td>\n",
       "    </tr>\n",
       "    <tr>\n",
       "      <th>2000</th>\n",
       "      <td>NaN</td>\n",
       "      <td>39.17</td>\n",
       "      <td>NaN</td>\n",
       "      <td>NaN</td>\n",
       "      <td>NaN</td>\n",
       "    </tr>\n",
       "    <tr>\n",
       "      <th>2001</th>\n",
       "      <td>NaN</td>\n",
       "      <td>166.43</td>\n",
       "      <td>NaN</td>\n",
       "      <td>NaN</td>\n",
       "      <td>NaN</td>\n",
       "    </tr>\n",
       "    <tr>\n",
       "      <th>2002</th>\n",
       "      <td>NaN</td>\n",
       "      <td>205.38</td>\n",
       "      <td>NaN</td>\n",
       "      <td>NaN</td>\n",
       "      <td>NaN</td>\n",
       "    </tr>\n",
       "    <tr>\n",
       "      <th>2003</th>\n",
       "      <td>NaN</td>\n",
       "      <td>184.31</td>\n",
       "      <td>NaN</td>\n",
       "      <td>NaN</td>\n",
       "      <td>NaN</td>\n",
       "    </tr>\n",
       "  </tbody>\n",
       "</table>\n",
       "</div>"
      ],
      "text/plain": [
       "platform        DS     PS2  PS3  Wii  X360\n",
       "release_year                              \n",
       "1985          0.02     NaN  NaN  NaN   NaN\n",
       "2000           NaN   39.17  NaN  NaN   NaN\n",
       "2001           NaN  166.43  NaN  NaN   NaN\n",
       "2002           NaN  205.38  NaN  NaN   NaN\n",
       "2003           NaN  184.31  NaN  NaN   NaN"
      ]
     },
     "execution_count": 32,
     "metadata": {},
     "output_type": "execute_result"
    }
   ],
   "source": [
    "top5_data = (data.query('platform in @top5.index')\n",
    "                      .pivot_table(\n",
    "                          index='release_year', \n",
    "                          columns='platform', \n",
    "                          values='total_sales', \n",
    "                          aggfunc='sum')\n",
    "            )\n",
    "top5_data.head()"
   ]
  },
  {
   "cell_type": "code",
   "execution_count": 33,
   "metadata": {
    "scrolled": false
   },
   "outputs": [
    {
     "data": {
      "image/png": "[encoded data removed]",
      "text/plain": [
       "<Figure size 864x432 with 1 Axes>"
      ]
     },
     "metadata": {
      "needs_background": "light"
     },
     "output_type": "display_data"
    }
   ],
   "source": [
    "plt.figure(figsize = (12,6))\n",
    "sns.lineplot(data=top5_data)\n",
    "plt.title('Динамика суммарных продаж по платформам')\n",
    "plt.ylabel('Продажи (млн копий)')\n",
    "plt.xlabel('Год выпуска')\n",
    "plt.show()"
   ]
  },
  {
   "cell_type": "markdown",
   "metadata": {},
   "source": [
    "Для каждой платформы видим четкие пики и спады. В среднем жизненный цикл платформы составляет около 10 лет: для PS2 &mdash; с 2000 по 2010, для Wii, X360 и PS3 &mdash; с 2005-2006 по 2016 год. Пики продаж выглядят немного по-разному, но в общем и целом приходятся на 3-5 годы с начала выпуска консоли.\n",
    "\n",
    "На общем фоне выделяется только платформа  DS с непонятно откуда взявшимися продажами в 1985 году. Странно, ведь платформа Nintendo DS появилась только в 2004 году. Посмотрим подробнее на данные."
   ]
  },
  {
   "cell_type": "code",
   "execution_count": 34,
   "metadata": {
    "scrolled": false
   },
   "outputs": [
    {
     "data": {
      "text/html": [
       "<div>\n",
       "<style scoped>\n",
       "    .dataframe tbody tr th:only-of-type {\n",
       "        vertical-align: middle;\n",
       "    }\n",
       "\n",
       "    .dataframe tbody tr th {\n",
       "        vertical-align: top;\n",
       "    }\n",
       "\n",
       "    .dataframe thead th {\n",
       "        text-align: right;\n",
       "    }\n",
       "</style>\n",
       "<table border=\"1\" class=\"dataframe\">\n",
       "  <thead>\n",
       "    <tr style=\"text-align: right;\">\n",
       "      <th></th>\n",
       "      <th>name</th>\n",
       "      <th>platform</th>\n",
       "      <th>release_year</th>\n",
       "      <th>genre</th>\n",
       "      <th>na_sales</th>\n",
       "      <th>eu_sales</th>\n",
       "      <th>jp_sales</th>\n",
       "      <th>other_sales</th>\n",
       "      <th>critic_score</th>\n",
       "      <th>user_score</th>\n",
       "      <th>esrb_rating</th>\n",
       "      <th>total_sales</th>\n",
       "    </tr>\n",
       "  </thead>\n",
       "  <tbody>\n",
       "    <tr>\n",
       "      <th>15704</th>\n",
       "      <td>Strongest Tokyo University Shogi DS</td>\n",
       "      <td>DS</td>\n",
       "      <td>1985</td>\n",
       "      <td>Action</td>\n",
       "      <td>0.0</td>\n",
       "      <td>0.0</td>\n",
       "      <td>0.02</td>\n",
       "      <td>0.0</td>\n",
       "      <td>NaN</td>\n",
       "      <td>NaN</td>\n",
       "      <td>undefined</td>\n",
       "      <td>0.02</td>\n",
       "    </tr>\n",
       "  </tbody>\n",
       "</table>\n",
       "</div>"
      ],
      "text/plain": [
       "                                      name platform  release_year   genre  \\\n",
       "15704  Strongest Tokyo University Shogi DS       DS          1985  Action   \n",
       "\n",
       "       na_sales  eu_sales  jp_sales  other_sales  critic_score  user_score  \\\n",
       "15704       0.0       0.0      0.02          0.0           NaN         NaN   \n",
       "\n",
       "      esrb_rating  total_sales  \n",
       "15704   undefined         0.02  "
      ]
     },
     "execution_count": 34,
     "metadata": {},
     "output_type": "execute_result"
    }
   ],
   "source": [
    "data.query('release_year == 1985 and platform == \"DS\"')"
   ]
  },
  {
   "cell_type": "markdown",
   "metadata": {},
   "source": [
    "Продажи только в Японии, игра всего одна. Похоже, это какая-то ранняя игра Nintendo, которую можно не учитывать.\n",
    "\n",
    "Тогда жизненный цикл для DS тоже составит около 10 лет &mdash; с 2004 по 2013 год.\n",
    "\n",
    "Сейчас мы смотрим только топ-5 популярных платформ. Возможно, для других платформ и картина иная. Сгруппируем все наши данные по платформам и найдем разницу между максимальным и минимальным годом релиза. Далее вычислим медиану."
   ]
  },
  {
   "cell_type": "code",
   "execution_count": 35,
   "metadata": {},
   "outputs": [
    {
     "name": "stdout",
     "output_type": "stream",
     "text": [
      "Средний период жизни платформы 7 лет\n"
     ]
    }
   ],
   "source": [
    "# группируем данные по платформе и находим продолжительность жизни\n",
    "game_lifecycle = (data.groupby('platform')['release_year'].max()\n",
    "                  -data.groupby('platform')['release_year'].min()\n",
    "                 )\n",
    "\n",
    "print('Средний период жизни платформы', int(game_lifecycle.mean()),'лет')"
   ]
  },
  {
   "cell_type": "markdown",
   "metadata": {},
   "source": [
    "Действительно, в среднем для платформ и срок жизни поменьше. Видимо, платформы из топа-5 держатся так долго как раз в силу своей популярности."
   ]
  },
  {
   "cell_type": "markdown",
   "metadata": {},
   "source": [
    "<a id=\"analysis3\"></a>\n",
    "### Выбор актуального периода"
   ]
  },
  {
   "cell_type": "markdown",
   "metadata": {},
   "source": [
    "Наша задача &mdash; составить прогноз на 2017 год. Теперь мы точно знаем, что брать очень старые данные смысла нет: платформы появляются и сходят со сцены за 7-10 лет.\n",
    "\n",
    "Хорошо бы понять, игры каких платформ сейчас на пике популярности или, точнее, будут на пике в следующем году. Судя по графику, бурный рост платформ начинается приблизительно через 3 года после выхода на рынок и держится пару лет, после чего идет на спад.\n",
    "\n",
    "В таком случае, возьмем данные за последние 5 лет, то есть с 2012 по 2016 годы. Это не слишком много и не мало и позволит понять, чего можно ожидать в 2017 году.\n",
    "\n",
    "Сделаем срез данных по году выпуска и сохраним его в новый фрейм `newdata`."
   ]
  },
  {
   "cell_type": "code",
   "execution_count": 36,
   "metadata": {
    "scrolled": true
   },
   "outputs": [
    {
     "name": "stdout",
     "output_type": "stream",
     "text": [
      "<class 'pandas.core.frame.DataFrame'>\n",
      "RangeIndex: 2886 entries, 0 to 2885\n",
      "Data columns (total 12 columns):\n",
      " #   Column        Non-Null Count  Dtype  \n",
      "---  ------        --------------  -----  \n",
      " 0   name          2886 non-null   object \n",
      " 1   platform      2886 non-null   object \n",
      " 2   release_year  2886 non-null   int32  \n",
      " 3   genre         2886 non-null   object \n",
      " 4   na_sales      2886 non-null   float64\n",
      " 5   eu_sales      2886 non-null   float64\n",
      " 6   jp_sales      2886 non-null   float64\n",
      " 7   other_sales   2886 non-null   float64\n",
      " 8   critic_score  1312 non-null   float64\n",
      " 9   user_score    1531 non-null   float64\n",
      " 10  esrb_rating   2886 non-null   object \n",
      " 11  total_sales   2886 non-null   float64\n",
      "dtypes: float64(7), int32(1), object(4)\n",
      "memory usage: 259.4+ KB\n"
     ]
    }
   ],
   "source": [
    "newdata = data.query('release_year >= 2012').reset_index(drop=True)\n",
    "newdata.info()"
   ]
  },
  {
   "cell_type": "markdown",
   "metadata": {},
   "source": [
    "<a id=\"analysis4\"></a>\n",
    "### Анализ потенциально прибыльных платформ"
   ]
  },
  {
   "cell_type": "markdown",
   "metadata": {},
   "source": [
    "Аналогично тому, как мы делали ранее для _всех платформ за все время,_ построим сводную таблицу с суммой продаж _по всем платформам за последние пять лет_. Затем выведем данные на график."
   ]
  },
  {
   "cell_type": "code",
   "execution_count": 37,
   "metadata": {
    "scrolled": false
   },
   "outputs": [
    {
     "data": {
      "text/html": [
       "<div>\n",
       "<style scoped>\n",
       "    .dataframe tbody tr th:only-of-type {\n",
       "        vertical-align: middle;\n",
       "    }\n",
       "\n",
       "    .dataframe tbody tr th {\n",
       "        vertical-align: top;\n",
       "    }\n",
       "\n",
       "    .dataframe thead th {\n",
       "        text-align: right;\n",
       "    }\n",
       "</style>\n",
       "<table border=\"1\" class=\"dataframe\">\n",
       "  <thead>\n",
       "    <tr style=\"text-align: right;\">\n",
       "      <th>platform</th>\n",
       "      <th>3DS</th>\n",
       "      <th>DS</th>\n",
       "      <th>PC</th>\n",
       "      <th>PS3</th>\n",
       "      <th>PS4</th>\n",
       "      <th>PSP</th>\n",
       "      <th>PSV</th>\n",
       "      <th>Wii</th>\n",
       "      <th>WiiU</th>\n",
       "      <th>X360</th>\n",
       "      <th>XOne</th>\n",
       "    </tr>\n",
       "    <tr>\n",
       "      <th>release_year</th>\n",
       "      <th></th>\n",
       "      <th></th>\n",
       "      <th></th>\n",
       "      <th></th>\n",
       "      <th></th>\n",
       "      <th></th>\n",
       "      <th></th>\n",
       "      <th></th>\n",
       "      <th></th>\n",
       "      <th></th>\n",
       "      <th></th>\n",
       "    </tr>\n",
       "  </thead>\n",
       "  <tbody>\n",
       "    <tr>\n",
       "      <th>2012</th>\n",
       "      <td>51.36</td>\n",
       "      <td>11.01</td>\n",
       "      <td>23.22</td>\n",
       "      <td>107.36</td>\n",
       "      <td>NaN</td>\n",
       "      <td>7.69</td>\n",
       "      <td>16.19</td>\n",
       "      <td>21.71</td>\n",
       "      <td>17.56</td>\n",
       "      <td>99.74</td>\n",
       "      <td>NaN</td>\n",
       "    </tr>\n",
       "    <tr>\n",
       "      <th>2013</th>\n",
       "      <td>56.57</td>\n",
       "      <td>1.54</td>\n",
       "      <td>12.38</td>\n",
       "      <td>113.25</td>\n",
       "      <td>25.99</td>\n",
       "      <td>3.14</td>\n",
       "      <td>10.59</td>\n",
       "      <td>8.59</td>\n",
       "      <td>21.65</td>\n",
       "      <td>88.58</td>\n",
       "      <td>18.96</td>\n",
       "    </tr>\n",
       "    <tr>\n",
       "      <th>2014</th>\n",
       "      <td>43.76</td>\n",
       "      <td>NaN</td>\n",
       "      <td>13.28</td>\n",
       "      <td>47.76</td>\n",
       "      <td>100.00</td>\n",
       "      <td>0.24</td>\n",
       "      <td>11.90</td>\n",
       "      <td>3.75</td>\n",
       "      <td>22.03</td>\n",
       "      <td>34.74</td>\n",
       "      <td>54.07</td>\n",
       "    </tr>\n",
       "    <tr>\n",
       "      <th>2015</th>\n",
       "      <td>27.78</td>\n",
       "      <td>NaN</td>\n",
       "      <td>8.52</td>\n",
       "      <td>16.82</td>\n",
       "      <td>118.90</td>\n",
       "      <td>0.12</td>\n",
       "      <td>6.25</td>\n",
       "      <td>1.14</td>\n",
       "      <td>16.35</td>\n",
       "      <td>11.96</td>\n",
       "      <td>60.14</td>\n",
       "    </tr>\n",
       "    <tr>\n",
       "      <th>2016</th>\n",
       "      <td>15.14</td>\n",
       "      <td>NaN</td>\n",
       "      <td>5.25</td>\n",
       "      <td>3.60</td>\n",
       "      <td>69.25</td>\n",
       "      <td>NaN</td>\n",
       "      <td>4.25</td>\n",
       "      <td>0.18</td>\n",
       "      <td>4.60</td>\n",
       "      <td>1.52</td>\n",
       "      <td>26.15</td>\n",
       "    </tr>\n",
       "  </tbody>\n",
       "</table>\n",
       "</div>"
      ],
      "text/plain": [
       "platform        3DS     DS     PC     PS3     PS4   PSP    PSV    Wii   WiiU  \\\n",
       "release_year                                                                   \n",
       "2012          51.36  11.01  23.22  107.36     NaN  7.69  16.19  21.71  17.56   \n",
       "2013          56.57   1.54  12.38  113.25   25.99  3.14  10.59   8.59  21.65   \n",
       "2014          43.76    NaN  13.28   47.76  100.00  0.24  11.90   3.75  22.03   \n",
       "2015          27.78    NaN   8.52   16.82  118.90  0.12   6.25   1.14  16.35   \n",
       "2016          15.14    NaN   5.25    3.60   69.25   NaN   4.25   0.18   4.60   \n",
       "\n",
       "platform       X360   XOne  \n",
       "release_year                \n",
       "2012          99.74    NaN  \n",
       "2013          88.58  18.96  \n",
       "2014          34.74  54.07  \n",
       "2015          11.96  60.14  \n",
       "2016           1.52  26.15  "
      ]
     },
     "execution_count": 37,
     "metadata": {},
     "output_type": "execute_result"
    }
   ],
   "source": [
    "recent = (newdata.pivot_table(\n",
    "                          index='release_year', \n",
    "                          columns='platform', \n",
    "                          values='total_sales', \n",
    "                          aggfunc='sum')\n",
    "         )\n",
    "recent.head()"
   ]
  },
  {
   "cell_type": "code",
   "execution_count": 38,
   "metadata": {
    "scrolled": true
   },
   "outputs": [
    {
     "data": {
      "image/png": "[encoded data removed]",
      "text/plain": [
       "<Figure size 864x576 with 1 Axes>"
      ]
     },
     "metadata": {
      "needs_background": "light"
     },
     "output_type": "display_data"
    }
   ],
   "source": [
    "plt.figure(figsize = (12,8))\n",
    "sns.lineplot(data=recent,\\\n",
    "             dashes=[(10, 0), (10, 0), (10, 0), (3, 1), (10, 0), (10, 0), (5, 10), (10, 0), (6, 3), (10, 2, 1, 2), (3, 6)],\n",
    "             marker='o', \n",
    "             palette=\"Set1\")\n",
    "plt.title('Динамика суммарных продаж по платформам')\n",
    "plt.ylabel('Продажи (млн копий)')\n",
    "plt.xlabel('Год выпуска')\n",
    "plt.xticks([2012,2013,2014,2015,2016])\n",
    "plt.legend(loc='upper right', bbox_to_anchor=(1.2, 1))\n",
    "plt.show()"
   ]
  },
  {
   "cell_type": "markdown",
   "metadata": {},
   "source": [
    "Всего на нашем графике представлено 11 платформ. \n",
    "\n",
    "DS сошел со сцены еще в 2013 году, а PSP &mdash; в 2015. Их в расчет можно не брать.\n",
    "\n",
    "В числе лидеров продаж с большим отрывом **PS4 и XOne**. Роста они не показывают &mdash; продажи за 2016 год ниже, чем за предшествующие годы, но с другой стороны, данные по 2016 году могут быть не окончательными. Обе платформы появились только в 2013 году, а значит сейчас они на пике. Это также позволяет предположить, что высокий уровень продаж сохранится для них и в 2017. \n",
    "\n",
    "Третья по продажам платформа &mdash; **3DS**. Она показывает устойчивое падение с 2013 года, но с другой стороны,  опережает по продажам половину платформ. Можно включить ее в список потенциально прибыльных.\n",
    "\n",
    "Оставшиеся 6 платформ &mdash; PC, PS3, X360 и другие &mdash; заметно уступают лидерам и показывают падение продаж.\n",
    "\n",
    "Итак, потенциально прибыльными будем считать три платформы: **PS4, XOne и 3DS.**"
   ]
  },
  {
   "cell_type": "markdown",
   "metadata": {},
   "source": [
    "<a id=\"analysis5\"></a>\n",
    "### Диаграмма размаха по глобальным продажам игр"
   ]
  },
  {
   "cell_type": "markdown",
   "metadata": {},
   "source": [
    "Посмотрим, как распределяются объемы продаж для тех 3 платформ, которые мы сочли потенциально прибыльными. Для этого построим диаграмму размаха по глобальным продажам игр."
   ]
  },
  {
   "cell_type": "code",
   "execution_count": 39,
   "metadata": {
    "scrolled": true
   },
   "outputs": [
    {
     "data": {
      "image/png": "[encoded data removed]",
      "text/plain": [
       "<Figure size 648x432 with 1 Axes>"
      ]
     },
     "metadata": {
      "needs_background": "light"
     },
     "output_type": "display_data"
    }
   ],
   "source": [
    "newdata.query('platform in (\"PS4\", \"XOne\", \"3DS\")')\\\n",
    "    .boxplot(by='platform', \n",
    "             column='total_sales',\n",
    "             figsize=(9,6)\n",
    "            )\n",
    "plt.title(\"Диаграмма размаха по глобальным продажам игр\")\n",
    "plt.suptitle(\"\")\n",
    "plt.ylabel('Продажи (млн копий)')\n",
    "plt.xlabel('Платформа')\n",
    "plt.show()"
   ]
  },
  {
   "cell_type": "markdown",
   "metadata": {},
   "source": [
    "Видим, что типичный объем продаж (в миллионах копий) находится примерно в одном диапазоне для платформ PS4 и XOne, и он практически **вдвое больше**, чем для игр на платформе 3DS. Это вполне согласуется с тем, что мы видели на предыдущем графике.\n",
    "\n",
    "Увеличим масштаб и посмотрим чуть ближе."
   ]
  },
  {
   "cell_type": "code",
   "execution_count": 40,
   "metadata": {
    "scrolled": true
   },
   "outputs": [
    {
     "data": {
      "image/png": "[encoded data removed]",
      "text/plain": [
       "<Figure size 648x432 with 1 Axes>"
      ]
     },
     "metadata": {
      "needs_background": "light"
     },
     "output_type": "display_data"
    }
   ],
   "source": [
    "newdata.query('platform in (\"PS4\", \"XOne\", \"3DS\")')\\\n",
    "    .boxplot(by='platform', \n",
    "             column='total_sales',\n",
    "             figsize=(9,6)\n",
    "            )\n",
    "plt.ylim(0,2)\n",
    "plt.title(\"Диаграмма размаха по глобальным продажам игр\")\n",
    "plt.suptitle(\"\")\n",
    "plt.ylabel('Продажи (млн копий)')\n",
    "plt.xlabel('Платформа')\n",
    "plt.show()"
   ]
  },
  {
   "cell_type": "markdown",
   "metadata": {},
   "source": [
    "Интересно! На диаграмме размаха мы не видим большого разрыва между PS4 и XOne, в то время как на линейном графике он был очень заметен (разрыв примерно в 50 млн копий в 2014 и 2015 годах). Как это можно объяснить?\n",
    "\n",
    "Очевидно, всё дело в выбросах. У PS4 видим мощный \"хвост\" выбросов (визуально у XOne он меньше). Это означает, что PS4 лидирует  за счет отдельных мегапопулярных игр, которые и собирают кассу. Кроме того, возможно, что PS4 выпускает значительно больше тайтлов и берет за счет количества.\n",
    "\n",
    "Кстати, такие же выбросы (продажи 10-14 млн копий) есть и у 3DS, несмотря на то, что в среднем игры на этой платформе продаются хуже. Это может служить дополнительным аргументом в пользу прибыльности игр 3DS."
   ]
  },
  {
   "cell_type": "markdown",
   "metadata": {},
   "source": [
    "<a id=\"analysis6\"></a>\n",
    "### Зависимость между продажами и оценками пользователей и критиков"
   ]
  },
  {
   "cell_type": "markdown",
   "metadata": {},
   "source": [
    "Изучим рейтинги игр &mdash; оценки, которые выставляют играм критики и пользователи. Мы предполагаем, что это мощный инструмент для принятия решения о приобретении игры. Если это так, то между этими параметрами должна прослеживаться сильная корреляция.\n",
    "\n",
    "Проверим эту гипотезу, построив диаграмму рассеяния для трех популярных платформ. Для этого объявим функцию `corr_plot` с датафреймом и названием платформы в качестве аргументов."
   ]
  },
  {
   "cell_type": "code",
   "execution_count": 41,
   "metadata": {
    "scrolled": true
   },
   "outputs": [],
   "source": [
    "def corr_plot(df, name):\n",
    "    # запишем в список названия столбцов в таблице и соответствующие им подписи\n",
    "    columns = zip(['critic_score', 'user_score'], [\"Оценка критиков\", \"Оценка пользователей\"])\n",
    "    #построим диаграмму рассеяния \n",
    "    for column, title in columns:\n",
    "        df[df['platform'] == name].plot(x=\"total_sales\", y=column, kind='scatter', alpha=0.6, grid=True)\n",
    "        plt.xlabel('Суммарные продажи')\n",
    "        plt.ylabel(title)\n",
    "        plt.title(\"Платформа \" + name)\n",
    "    plt.show()\n",
    "    #построим матрицу корреляции\n",
    "    display(df[df['platform'] == name][['critic_score', 'user_score', 'total_sales']].corr())"
   ]
  },
  {
   "cell_type": "markdown",
   "metadata": {},
   "source": [
    "Применим функцию к платформе PS4."
   ]
  },
  {
   "cell_type": "code",
   "execution_count": 42,
   "metadata": {
    "scrolled": true
   },
   "outputs": [
    {
     "data": {
      "image/png": "[encoded data removed]",
      "text/plain": [
       "<Figure size 432x288 with 1 Axes>"
      ]
     },
     "metadata": {
      "needs_background": "light"
     },
     "output_type": "display_data"
    },
    {
     "data": {
      "image/png": "[encoded data removed]",
      "text/plain": [
       "<Figure size 432x288 with 1 Axes>"
      ]
     },
     "metadata": {
      "needs_background": "light"
     },
     "output_type": "display_data"
    },
    {
     "data": {
      "text/html": [
       "<div>\n",
       "<style scoped>\n",
       "    .dataframe tbody tr th:only-of-type {\n",
       "        vertical-align: middle;\n",
       "    }\n",
       "\n",
       "    .dataframe tbody tr th {\n",
       "        vertical-align: top;\n",
       "    }\n",
       "\n",
       "    .dataframe thead th {\n",
       "        text-align: right;\n",
       "    }\n",
       "</style>\n",
       "<table border=\"1\" class=\"dataframe\">\n",
       "  <thead>\n",
       "    <tr style=\"text-align: right;\">\n",
       "      <th></th>\n",
       "      <th>critic_score</th>\n",
       "      <th>user_score</th>\n",
       "      <th>total_sales</th>\n",
       "    </tr>\n",
       "  </thead>\n",
       "  <tbody>\n",
       "    <tr>\n",
       "      <th>critic_score</th>\n",
       "      <td>1.000000</td>\n",
       "      <td>0.557654</td>\n",
       "      <td>0.406568</td>\n",
       "    </tr>\n",
       "    <tr>\n",
       "      <th>user_score</th>\n",
       "      <td>0.557654</td>\n",
       "      <td>1.000000</td>\n",
       "      <td>-0.031957</td>\n",
       "    </tr>\n",
       "    <tr>\n",
       "      <th>total_sales</th>\n",
       "      <td>0.406568</td>\n",
       "      <td>-0.031957</td>\n",
       "      <td>1.000000</td>\n",
       "    </tr>\n",
       "  </tbody>\n",
       "</table>\n",
       "</div>"
      ],
      "text/plain": [
       "              critic_score  user_score  total_sales\n",
       "critic_score      1.000000    0.557654     0.406568\n",
       "user_score        0.557654    1.000000    -0.031957\n",
       "total_sales       0.406568   -0.031957     1.000000"
      ]
     },
     "metadata": {},
     "output_type": "display_data"
    }
   ],
   "source": [
    "corr_plot(newdata, \"PS4\")"
   ]
  },
  {
   "cell_type": "markdown",
   "metadata": {
    "scrolled": false
   },
   "source": [
    "По первой диаграмме видно, что высокая оценка критиков **в общем и целом коррелирует с высокими продажами**. Игры, которые были низко оценены критиками, так и не стали коммерчески успешными: ни для одной игры с оценкой < 50 баллов не было продано больше миллиона копий, с оценкой < 70 баллов не продано больше 2 миллионов.\n",
    "\n",
    "Коэффициент корреляции 0.4 свидетельствует о наличии слабой положительной связи.\n",
    "\n",
    "Что касается пользовательской оценки, то **связи здесь не просматривается** (коэффициент корреляции близок к 0). В целом низких оценок меньше, чем высоких. По диаграмме видим, что некоторые игры с оценкой 3.5 - 5 баллов стали более популярными, чем большинство игр с оценкой 6 и более баллов. В то же время среди игр, оцененных высоко, есть как успешные, так и проходные.\n",
    "\n",
    "Предварительно можно сделать вывод, что пользовательские оценки более субъективны и иррациональны, поэтому мало связаны с успешностью игр, в то время как критики оценивают более объективно и к ним больше прислушиваются. \n",
    "\n",
    "То есть, с одной стороны, мнение критиков может влиять на покупки пользователей, а с другой стороны, критики могут точнее определять, что понравится аудитории.\n",
    "\n",
    "Теперь посмотрим, какова ситуация с другими платформами."
   ]
  },
  {
   "cell_type": "code",
   "execution_count": 43,
   "metadata": {
    "scrolled": false
   },
   "outputs": [
    {
     "data": {
      "image/png": "[encoded data removed]",
      "text/plain": [
       "<Figure size 432x288 with 1 Axes>"
      ]
     },
     "metadata": {
      "needs_background": "light"
     },
     "output_type": "display_data"
    },
    {
     "data": {
      "image/png": "[encoded data removed]",
      "text/plain": [
       "<Figure size 432x288 with 1 Axes>"
      ]
     },
     "metadata": {
      "needs_background": "light"
     },
     "output_type": "display_data"
    },
    {
     "data": {
      "text/html": [
       "<div>\n",
       "<style scoped>\n",
       "    .dataframe tbody tr th:only-of-type {\n",
       "        vertical-align: middle;\n",
       "    }\n",
       "\n",
       "    .dataframe tbody tr th {\n",
       "        vertical-align: top;\n",
       "    }\n",
       "\n",
       "    .dataframe thead th {\n",
       "        text-align: right;\n",
       "    }\n",
       "</style>\n",
       "<table border=\"1\" class=\"dataframe\">\n",
       "  <thead>\n",
       "    <tr style=\"text-align: right;\">\n",
       "      <th></th>\n",
       "      <th>critic_score</th>\n",
       "      <th>user_score</th>\n",
       "      <th>total_sales</th>\n",
       "    </tr>\n",
       "  </thead>\n",
       "  <tbody>\n",
       "    <tr>\n",
       "      <th>critic_score</th>\n",
       "      <td>1.000000</td>\n",
       "      <td>0.472462</td>\n",
       "      <td>0.416998</td>\n",
       "    </tr>\n",
       "    <tr>\n",
       "      <th>user_score</th>\n",
       "      <td>0.472462</td>\n",
       "      <td>1.000000</td>\n",
       "      <td>-0.068925</td>\n",
       "    </tr>\n",
       "    <tr>\n",
       "      <th>total_sales</th>\n",
       "      <td>0.416998</td>\n",
       "      <td>-0.068925</td>\n",
       "      <td>1.000000</td>\n",
       "    </tr>\n",
       "  </tbody>\n",
       "</table>\n",
       "</div>"
      ],
      "text/plain": [
       "              critic_score  user_score  total_sales\n",
       "critic_score      1.000000    0.472462     0.416998\n",
       "user_score        0.472462    1.000000    -0.068925\n",
       "total_sales       0.416998   -0.068925     1.000000"
      ]
     },
     "metadata": {},
     "output_type": "display_data"
    }
   ],
   "source": [
    "corr_plot(newdata, \"XOne\")"
   ]
  },
  {
   "cell_type": "markdown",
   "metadata": {},
   "source": [
    "Картина похожая: есть слабая положительная связь между оценкой критиков и продажами игр XOne, но никакой связи между пользовательской оценкой и продажами.\n",
    "\n",
    "Вторая диаграмма подтверждает это наблюдение: видим хаотичное распределение точек. Да, совсем низко оцененные игры показывают стандартные цифры продаж, но игры со средней оценкой (4-6 баллов) продаются миллионами копий (от 2 и выше). При этом высокий рейтинг у пользователей совершенно не означает столь же высоких продаж. \n",
    "\n",
    "Из различий отметим меньший разброс по шкале x &mdash; максимальные значения в области 5 миллионов, в то время как для PS4 продажи достигали 12 млн копий."
   ]
  },
  {
   "cell_type": "code",
   "execution_count": 44,
   "metadata": {
    "scrolled": true
   },
   "outputs": [
    {
     "data": {
      "image/png": "[encoded data removed]",
      "text/plain": [
       "<Figure size 432x288 with 1 Axes>"
      ]
     },
     "metadata": {
      "needs_background": "light"
     },
     "output_type": "display_data"
    },
    {
     "data": {
      "image/png": "[encoded data removed]",
      "text/plain": [
       "<Figure size 432x288 with 1 Axes>"
      ]
     },
     "metadata": {
      "needs_background": "light"
     },
     "output_type": "display_data"
    },
    {
     "data": {
      "text/html": [
       "<div>\n",
       "<style scoped>\n",
       "    .dataframe tbody tr th:only-of-type {\n",
       "        vertical-align: middle;\n",
       "    }\n",
       "\n",
       "    .dataframe tbody tr th {\n",
       "        vertical-align: top;\n",
       "    }\n",
       "\n",
       "    .dataframe thead th {\n",
       "        text-align: right;\n",
       "    }\n",
       "</style>\n",
       "<table border=\"1\" class=\"dataframe\">\n",
       "  <thead>\n",
       "    <tr style=\"text-align: right;\">\n",
       "      <th></th>\n",
       "      <th>critic_score</th>\n",
       "      <th>user_score</th>\n",
       "      <th>total_sales</th>\n",
       "    </tr>\n",
       "  </thead>\n",
       "  <tbody>\n",
       "    <tr>\n",
       "      <th>critic_score</th>\n",
       "      <td>1.000000</td>\n",
       "      <td>0.722762</td>\n",
       "      <td>0.320803</td>\n",
       "    </tr>\n",
       "    <tr>\n",
       "      <th>user_score</th>\n",
       "      <td>0.722762</td>\n",
       "      <td>1.000000</td>\n",
       "      <td>0.197583</td>\n",
       "    </tr>\n",
       "    <tr>\n",
       "      <th>total_sales</th>\n",
       "      <td>0.320803</td>\n",
       "      <td>0.197583</td>\n",
       "      <td>1.000000</td>\n",
       "    </tr>\n",
       "  </tbody>\n",
       "</table>\n",
       "</div>"
      ],
      "text/plain": [
       "              critic_score  user_score  total_sales\n",
       "critic_score      1.000000    0.722762     0.320803\n",
       "user_score        0.722762    1.000000     0.197583\n",
       "total_sales       0.320803    0.197583     1.000000"
      ]
     },
     "metadata": {},
     "output_type": "display_data"
    }
   ],
   "source": [
    "corr_plot(newdata, \"3DS\")"
   ]
  },
  {
   "cell_type": "markdown",
   "metadata": {},
   "source": [
    "Для платформы 3DS картина в целом не изменилась, хотя показатели немного отличаются.\n",
    "\n",
    "Корреляция между оценкой критиков и продажами ниже, чем для двух других платформ (0.32), в то время как между пользовательской оценкой и продажами отмечается очень слабая связь (0.2). \n",
    "\n",
    "На второй диаграмме точки сосредоточены в основном в верхнем левом углу и небольшим шлейфом справа. Вероятно, игры с высокой оценкой продаются чуть лучше. Но в целом это чересчур слабая связь, чтобы делать по ней какие-либо выводы. "
   ]
  },
  {
   "cell_type": "markdown",
   "metadata": {},
   "source": [
    "Теперь посмотрим на общую тенденцию по данным для всех платформ, а не только для топа."
   ]
  },
  {
   "cell_type": "code",
   "execution_count": 45,
   "metadata": {},
   "outputs": [
    {
     "data": {
      "text/html": [
       "<div>\n",
       "<style scoped>\n",
       "    .dataframe tbody tr th:only-of-type {\n",
       "        vertical-align: middle;\n",
       "    }\n",
       "\n",
       "    .dataframe tbody tr th {\n",
       "        vertical-align: top;\n",
       "    }\n",
       "\n",
       "    .dataframe thead th {\n",
       "        text-align: right;\n",
       "    }\n",
       "</style>\n",
       "<table border=\"1\" class=\"dataframe\">\n",
       "  <thead>\n",
       "    <tr style=\"text-align: right;\">\n",
       "      <th></th>\n",
       "      <th>critic_score</th>\n",
       "      <th>user_score</th>\n",
       "      <th>total_sales</th>\n",
       "    </tr>\n",
       "  </thead>\n",
       "  <tbody>\n",
       "    <tr>\n",
       "      <th>critic_score</th>\n",
       "      <td>1.000000</td>\n",
       "      <td>0.517727</td>\n",
       "      <td>0.308197</td>\n",
       "    </tr>\n",
       "    <tr>\n",
       "      <th>user_score</th>\n",
       "      <td>0.517727</td>\n",
       "      <td>1.000000</td>\n",
       "      <td>0.004429</td>\n",
       "    </tr>\n",
       "    <tr>\n",
       "      <th>total_sales</th>\n",
       "      <td>0.308197</td>\n",
       "      <td>0.004429</td>\n",
       "      <td>1.000000</td>\n",
       "    </tr>\n",
       "  </tbody>\n",
       "</table>\n",
       "</div>"
      ],
      "text/plain": [
       "              critic_score  user_score  total_sales\n",
       "critic_score      1.000000    0.517727     0.308197\n",
       "user_score        0.517727    1.000000     0.004429\n",
       "total_sales       0.308197    0.004429     1.000000"
      ]
     },
     "execution_count": 45,
     "metadata": {},
     "output_type": "execute_result"
    }
   ],
   "source": [
    "#общая матрица корреляции (по данным для всех платформ)\n",
    "\n",
    "newdata[['critic_score', 'user_score', 'total_sales']].corr()"
   ]
  },
  {
   "cell_type": "markdown",
   "metadata": {},
   "source": [
    "Видим, что тенденция сохраняется и для всех платформ в целом. Во-первых, связь между продажами и пользовательской оценкой практически нулевая.\n",
    "\n",
    "Во-вторых, есть слабая корреляция между оценкой критиков и продажами &mdash; примерно на том же уровне, что и для отдельно взятых платформ."
   ]
  },
  {
   "cell_type": "markdown",
   "metadata": {},
   "source": [
    "<a id=\"analysis7\"></a>\n",
    "### Распределение игр по жанрам"
   ]
  },
  {
   "cell_type": "markdown",
   "metadata": {},
   "source": [
    "С рейтингом пока выводы неутешительные: если на критиков можно отчасти положиться с предсказанием популярных игр, то пользователям верить нельзя. \n",
    "\n",
    "Возможно, мы найдем достойные игры для продвижения в каком-то определенном жанре? Посмотрим, какие из жанров продаются лучше."
   ]
  },
  {
   "cell_type": "code",
   "execution_count": 46,
   "metadata": {
    "scrolled": false
   },
   "outputs": [
    {
     "data": {
      "image/png": "[encoded data removed]",
      "text/plain": [
       "<Figure size 432x288 with 1 Axes>"
      ]
     },
     "metadata": {
      "needs_background": "light"
     },
     "output_type": "display_data"
    }
   ],
   "source": [
    "newdata\\\n",
    "    .pivot_table(index='genre', values='total_sales', aggfunc='sum')\\\n",
    "    .sort_values(by='total_sales')\\\n",
    "    .plot(kind='barh', grid=True)\n",
    "plt.xlabel('Суммарные продажи (млн копий)')\n",
    "plt.ylabel('Жанр')\n",
    "plt.legend('')\n",
    "plt.show()"
   ]
  },
  {
   "cell_type": "markdown",
   "metadata": {},
   "source": [
    "У нас выделяется самый коммерчески успешный жанр &mdash; это Action с более чем 400 млн проданных копий. За ним с большим отрывом следуют жанры Shooter, Role-Playing и Sports. \n",
    "\n",
    "Судя по диаграмме, наименее продаваемые жанры &mdash; это Adventure, Strategy и Puzzle.\n",
    "\n",
    "Интересно проверить, как соотносится количество проданных копий с количеством выпущенных игр. Другими словами, это десяток крутых игр продаются миллионами копий или же индустрия штампует тысячи игр определенного жанра в надежде, что какая-то из них \"выстрелит\"?\n",
    "\n",
    "Посмотрим на распределение жанров в зависимости от количества проданных копий в пересчете на одну игру."
   ]
  },
  {
   "cell_type": "code",
   "execution_count": 47,
   "metadata": {
    "scrolled": true
   },
   "outputs": [
    {
     "data": {
      "image/png": "[encoded data removed]",
      "text/plain": [
       "<Figure size 432x288 with 1 Axes>"
      ]
     },
     "metadata": {
      "needs_background": "light"
     },
     "output_type": "display_data"
    }
   ],
   "source": [
    "# построим сводную таблицу, подсчитав количество проданных игр и суммарные продажи\n",
    "sales = (newdata\n",
    "        .pivot_table(\n",
    "            index='genre', \n",
    "            aggfunc=({'total_sales':'sum', 'name': 'count'}))\n",
    "        )\n",
    "\n",
    "# добавим столбец со средним количеством проданных копий (млн) на одну игру\n",
    "sales['avg_sales'] = sales['total_sales'] / sales['name']\n",
    "\n",
    "(sales\n",
    " .sort_values(by='avg_sales')\n",
    " .plot(kind='barh', y='avg_sales', grid=True)\n",
    ")\n",
    "\n",
    "plt.ylabel('Жанр')\n",
    "plt.xlabel('Млн проданных копий на одну игру')\n",
    "plt.legend('')\n",
    "plt.show()"
   ]
  },
  {
   "cell_type": "markdown",
   "metadata": {},
   "source": [
    "И вот тут картина иная. Теперь лидирует жанр Shooter c 1.2 млн проданных копий на игру, за ним Platform, Sports и Role-Playing.\n",
    "\n",
    "Интересно, что жанр Action откатился на 8 место, то есть на общем фоне количество проданных копий на одну игру сравнительно невелико. Но это только средний показатель. Можно ли утверждать, что прибыльность этого жанра обусловлена огромным количеством выпускаемых игр? Посмотрим на распределение продаж для игр двух этих жанров. "
   ]
  },
  {
   "cell_type": "code",
   "execution_count": 48,
   "metadata": {
    "scrolled": false
   },
   "outputs": [
    {
     "data": {
      "image/png": "[encoded data removed]",
      "text/plain": [
       "<Figure size 648x360 with 1 Axes>"
      ]
     },
     "metadata": {
      "needs_background": "light"
     },
     "output_type": "display_data"
    }
   ],
   "source": [
    "ax1, ax2 = plt.subplots(figsize=(9,5))\n",
    "ax1 = newdata.query('genre == \"Action\"')['total_sales'].plot(kind='hist', bins=100)\n",
    "ax2 = newdata.query('genre == \"Shooter\"')['total_sales'].plot(kind='hist', bins=100)\n",
    "plt.title('Распределение количества проданных копий для игр жанров Action и Shooter')\n",
    "plt.xlabel('Количество проданных копий (млн)')\n",
    "plt.ylabel('Частота')\n",
    "plt.xlim(0, 5)\n",
    "plt.legend(['Action', 'Shooter'])\n",
    "plt.axvline(newdata.query('genre == \"Action\"').total_sales.median(), color = 'b')\n",
    "plt.axvline(newdata.query('genre == \"Shooter\"').total_sales.median(), color = 'orange')\n",
    "plt.show()"
   ]
  },
  {
   "cell_type": "code",
   "execution_count": 49,
   "metadata": {},
   "outputs": [
    {
     "data": {
      "text/plain": [
       "count    1031.000000\n",
       "mean        0.427856\n",
       "std         1.166504\n",
       "min         0.010000\n",
       "25%         0.030000\n",
       "50%         0.120000\n",
       "75%         0.390000\n",
       "max        21.050000\n",
       "Name: total_sales, dtype: float64"
      ]
     },
     "metadata": {},
     "output_type": "display_data"
    },
    {
     "data": {
      "text/plain": [
       "count    235.000000\n",
       "mean       1.296723\n",
       "std        2.251662\n",
       "min        0.010000\n",
       "25%        0.135000\n",
       "50%        0.440000\n",
       "75%        1.480000\n",
       "max       14.630000\n",
       "Name: total_sales, dtype: float64"
      ]
     },
     "metadata": {},
     "output_type": "display_data"
    }
   ],
   "source": [
    "display(newdata.query('genre == \"Action\"')['total_sales'].describe())\n",
    "display(newdata.query('genre == \"Shooter\"')['total_sales'].describe())"
   ]
  },
  {
   "cell_type": "markdown",
   "metadata": {},
   "source": [
    "Действительно, оба распределения скошены вправо, но у игр жанра Action очень большой пик на небольших значениях. Кроме того, медианное значение продаж для жанра Shooter в три раза выше, чем для Action (вертикальные линии на графике).\n",
    "\n",
    "Получается, с жанром Shooter все наоборот &mdash; будучи на втором месте по абсолютному количеству проданных копий, этот жанр следует правилу \"Лучше меньше, да лучше\": игр выпускается меньше, но в среднем каждая из них предположительно приносит больше продаж. Это еще одна гипотеза, которую имеет смысл проверить при планировании кампаний для нашего интернет-магазина.\n",
    "\n",
    "Также отметим, что жанры Shooter, Sports, Role-Playing входят в первую четверку по обоим параметрам: абсолютному количеству проданных копий и количеству проданных копий на одну игру. \n",
    "\n",
    "Что касается Adventure, Strategy и Puzzle, то они так и остались в конце списка. Делать на них ставку в наших рекламных кампаниях, пожалуй, не стоит."
   ]
  },
  {
   "cell_type": "markdown",
   "metadata": {},
   "source": [
    "<a id=\"4_sum\"></a>\n",
    "### Выводы"
   ]
  },
  {
   "cell_type": "markdown",
   "metadata": {},
   "source": [
    "Мы посмотрели изменение продаж по платформам за 37 лет, выбрали актуальный период и проанализировали, как рейтинги и жанры влияют на успешность платформ. \n",
    "\n",
    "**Основные наблюдения:**"
   ]
  },
  {
   "cell_type": "markdown",
   "metadata": {},
   "source": [
    "* Мы проанализировали количество игр по году выпуска. Выяснили, что до середины 90-х количество выпускаемых игр в год не превышало 200, а бум игр пришелся на **десятилетие с 2002 по 2012 годы**.\n",
    "\n",
    "* Посмотрев динамику продаж для топ-5 популярных платформ за все время, мы выяснили, что **срок жизни платформы &mdash; примерно 7 лет** (у популярных ближе к 10). Пик продаж приходится на 3-5 годы с момента возникновения.\n",
    " \n",
    "* Исходя из жизненного цикла одной платформы, для дальнейшего анализа мы выбрали **данные за последние пять лет**, с 2012 по 2016 годы. Это позволяет сделать прогноз на 2017 год: платформы, которые возникли в этот промежуток, сейчас должны быть на пике популярности. Также можно оценить, какие из платформ уже на спаде.\n",
    "\n",
    "* К числу потенциально прибыльных мы отнесли три платформы: **PS4, XOne и 3DS.** Они показали наибольшие продажи и лучшую динамику за последние 5 лет, хотя 2016 год в этом отношении не показательный.\n",
    "\n",
    "* Сравнив типичные значения продаж для прибыльных платформ, у платформ PS4 и 3DS отметили большое количество выбросов. Можно предположить, что прибыльность платформ определяется **отдельными мегапопулярными играми**, которые приносят основной доход.\n",
    "\n",
    "* Пользовательская оценка никак не влияет на продажи, в то время как **между оценкой критиков и продажами зависимость есть**, хоть и слабая. От платформы это не зависит: картина одинаковая и когда мы рассматриваем все платформы в целом, и когда смотрим на них по отдельности. Бизнесу стоит обратить внимание на игры с оценкой от 70 баллов.\n",
    "\n",
    "* В абсолютном выражении самый популярный жанр — это Action, игр в этом жанре продано на 100 млн копий больше, чем для следующего по популярности жанра Shooter. При этом жанр Shooter лидирует по количеству проданных копий на одну игру. Также в четверку успешных жанров входят Sports и Role-Playing.\n",
    "\n",
    "* К наименее популярным жанрам можно отнести Adventure, Strategy и Puzzle."
   ]
  },
  {
   "cell_type": "markdown",
   "metadata": {},
   "source": [
    "<a id=\"region\"></a>\n",
    "## Описание пользователей каждого региона"
   ]
  },
  {
   "cell_type": "markdown",
   "metadata": {},
   "source": [
    "<a id=\"5_platform\"></a>\n",
    "### Топ-5 популярных платформ"
   ]
  },
  {
   "cell_type": "markdown",
   "metadata": {},
   "source": [
    "Мы уже выяснили, какие платформы были самыми успешными за все время и какие можно считать перспективными. Но вкусы пользователей могут быть различны! Возможно, нам нужно настроить геотаргетинг для наших рекламных кампаний. У нас есть данные по трем крупным регионам &mdash; Европе, Северной Америке и Японии. \n",
    "\n",
    "Сначала посмотрим на самые популярные платформы в трех регионах. Соберем данные в сводную таблицу `top5_platform`, в столбцах просуммируем объем продаж по каждому региону: NA, EU, JP. Также рассчитаем долю продаж каждой платформы по региону."
   ]
  },
  {
   "cell_type": "code",
   "execution_count": 50,
   "metadata": {
    "scrolled": true
   },
   "outputs": [
    {
     "data": {
      "text/html": [
       "<style  type=\"text/css\" >\n",
       "</style><table id=\"T_b15e5fb0_bbe4_11eb_a428_001a6b0d1d6e\" ><thead>    <tr>        <th class=\"blank level0\" ></th>        <th class=\"col_heading level0 col0\" >eu_sales</th>        <th class=\"col_heading level0 col1\" >jp_sales</th>        <th class=\"col_heading level0 col2\" >na_sales</th>        <th class=\"col_heading level0 col3\" >eu_share</th>        <th class=\"col_heading level0 col4\" >jp_share</th>        <th class=\"col_heading level0 col5\" >na_share</th>    </tr>    <tr>        <th class=\"index_name level0\" >platform</th>        <th class=\"blank\" ></th>        <th class=\"blank\" ></th>        <th class=\"blank\" ></th>        <th class=\"blank\" ></th>        <th class=\"blank\" ></th>        <th class=\"blank\" ></th>    </tr></thead><tbody>\n",
       "                <tr>\n",
       "                        <th id=\"T_b15e5fb0_bbe4_11eb_a428_001a6b0d1d6elevel0_row0\" class=\"row_heading level0 row0\" >PS4</th>\n",
       "                        <td id=\"T_b15e5fb0_bbe4_11eb_a428_001a6b0d1d6erow0_col0\" class=\"data row0 col0\" >141.090000</td>\n",
       "                        <td id=\"T_b15e5fb0_bbe4_11eb_a428_001a6b0d1d6erow0_col1\" class=\"data row0 col1\" >15.960000</td>\n",
       "                        <td id=\"T_b15e5fb0_bbe4_11eb_a428_001a6b0d1d6erow0_col2\" class=\"data row0 col2\" >108.740000</td>\n",
       "                        <td id=\"T_b15e5fb0_bbe4_11eb_a428_001a6b0d1d6erow0_col3\" class=\"data row0 col3\" >27.84%</td>\n",
       "                        <td id=\"T_b15e5fb0_bbe4_11eb_a428_001a6b0d1d6erow0_col4\" class=\"data row0 col4\" >8.29%</td>\n",
       "                        <td id=\"T_b15e5fb0_bbe4_11eb_a428_001a6b0d1d6erow0_col5\" class=\"data row0 col5\" >18.40%</td>\n",
       "            </tr>\n",
       "            <tr>\n",
       "                        <th id=\"T_b15e5fb0_bbe4_11eb_a428_001a6b0d1d6elevel0_row1\" class=\"row_heading level0 row1\" >PS3</th>\n",
       "                        <td id=\"T_b15e5fb0_bbe4_11eb_a428_001a6b0d1d6erow1_col0\" class=\"data row1 col0\" >106.860000</td>\n",
       "                        <td id=\"T_b15e5fb0_bbe4_11eb_a428_001a6b0d1d6erow1_col1\" class=\"data row1 col1\" >35.290000</td>\n",
       "                        <td id=\"T_b15e5fb0_bbe4_11eb_a428_001a6b0d1d6erow1_col2\" class=\"data row1 col2\" >103.380000</td>\n",
       "                        <td id=\"T_b15e5fb0_bbe4_11eb_a428_001a6b0d1d6erow1_col3\" class=\"data row1 col3\" >21.08%</td>\n",
       "                        <td id=\"T_b15e5fb0_bbe4_11eb_a428_001a6b0d1d6erow1_col4\" class=\"data row1 col4\" >18.32%</td>\n",
       "                        <td id=\"T_b15e5fb0_bbe4_11eb_a428_001a6b0d1d6erow1_col5\" class=\"data row1 col5\" >17.49%</td>\n",
       "            </tr>\n",
       "            <tr>\n",
       "                        <th id=\"T_b15e5fb0_bbe4_11eb_a428_001a6b0d1d6elevel0_row2\" class=\"row_heading level0 row2\" >X360</th>\n",
       "                        <td id=\"T_b15e5fb0_bbe4_11eb_a428_001a6b0d1d6erow2_col0\" class=\"data row2 col0\" >74.520000</td>\n",
       "                        <td id=\"T_b15e5fb0_bbe4_11eb_a428_001a6b0d1d6erow2_col1\" class=\"data row2 col1\" >1.570000</td>\n",
       "                        <td id=\"T_b15e5fb0_bbe4_11eb_a428_001a6b0d1d6erow2_col2\" class=\"data row2 col2\" >140.050000</td>\n",
       "                        <td id=\"T_b15e5fb0_bbe4_11eb_a428_001a6b0d1d6erow2_col3\" class=\"data row2 col3\" >14.70%</td>\n",
       "                        <td id=\"T_b15e5fb0_bbe4_11eb_a428_001a6b0d1d6erow2_col4\" class=\"data row2 col4\" >0.82%</td>\n",
       "                        <td id=\"T_b15e5fb0_bbe4_11eb_a428_001a6b0d1d6erow2_col5\" class=\"data row2 col5\" >23.70%</td>\n",
       "            </tr>\n",
       "            <tr>\n",
       "                        <th id=\"T_b15e5fb0_bbe4_11eb_a428_001a6b0d1d6elevel0_row3\" class=\"row_heading level0 row3\" >XOne</th>\n",
       "                        <td id=\"T_b15e5fb0_bbe4_11eb_a428_001a6b0d1d6erow3_col0\" class=\"data row3 col0\" >51.590000</td>\n",
       "                        <td id=\"T_b15e5fb0_bbe4_11eb_a428_001a6b0d1d6erow3_col1\" class=\"data row3 col1\" >0.340000</td>\n",
       "                        <td id=\"T_b15e5fb0_bbe4_11eb_a428_001a6b0d1d6erow3_col2\" class=\"data row3 col2\" >93.120000</td>\n",
       "                        <td id=\"T_b15e5fb0_bbe4_11eb_a428_001a6b0d1d6erow3_col3\" class=\"data row3 col3\" >10.18%</td>\n",
       "                        <td id=\"T_b15e5fb0_bbe4_11eb_a428_001a6b0d1d6erow3_col4\" class=\"data row3 col4\" >0.18%</td>\n",
       "                        <td id=\"T_b15e5fb0_bbe4_11eb_a428_001a6b0d1d6erow3_col5\" class=\"data row3 col5\" >15.76%</td>\n",
       "            </tr>\n",
       "            <tr>\n",
       "                        <th id=\"T_b15e5fb0_bbe4_11eb_a428_001a6b0d1d6elevel0_row4\" class=\"row_heading level0 row4\" >3DS</th>\n",
       "                        <td id=\"T_b15e5fb0_bbe4_11eb_a428_001a6b0d1d6erow4_col0\" class=\"data row4 col0\" >42.640000</td>\n",
       "                        <td id=\"T_b15e5fb0_bbe4_11eb_a428_001a6b0d1d6erow4_col1\" class=\"data row4 col1\" >87.790000</td>\n",
       "                        <td id=\"T_b15e5fb0_bbe4_11eb_a428_001a6b0d1d6erow4_col2\" class=\"data row4 col2\" >55.310000</td>\n",
       "                        <td id=\"T_b15e5fb0_bbe4_11eb_a428_001a6b0d1d6erow4_col3\" class=\"data row4 col3\" >8.41%</td>\n",
       "                        <td id=\"T_b15e5fb0_bbe4_11eb_a428_001a6b0d1d6erow4_col4\" class=\"data row4 col4\" >45.59%</td>\n",
       "                        <td id=\"T_b15e5fb0_bbe4_11eb_a428_001a6b0d1d6erow4_col5\" class=\"data row4 col5\" >9.36%</td>\n",
       "            </tr>\n",
       "    </tbody></table>"
      ],
      "text/plain": [
       "<pandas.io.formats.style.Styler at 0x139c74cffd0>"
      ]
     },
     "execution_count": 50,
     "metadata": {},
     "output_type": "execute_result"
    }
   ],
   "source": [
    "top5_platform = (newdata\n",
    "                 .pivot_table\n",
    "                 (index='platform', values=('na_sales', 'eu_sales', 'jp_sales'), aggfunc='sum')\n",
    "                )\n",
    "#добавим столбцы с долей продаж игр каждой платформы по каждому региону\n",
    "top5_platform['eu_share'] = top5_platform['eu_sales'] / top5_platform['eu_sales'].sum()\n",
    "top5_platform['jp_share'] = top5_platform['jp_sales'] / top5_platform['jp_sales'].sum()\n",
    "top5_platform['na_share'] = top5_platform['na_sales'] / top5_platform['na_sales'].sum()\n",
    "\n",
    "(top5_platform\n",
    "         .sort_values(by='eu_share', ascending=False)\n",
    "         .head()\n",
    "         .style.format({'eu_share':'{:.2%}', 'jp_share':'{:.2%}', 'na_share':'{:.2%}'})\n",
    ")"
   ]
  },
  {
   "cell_type": "markdown",
   "metadata": {},
   "source": [
    "Чтобы выделить топ-5, построим диаграммы по каждому региону, предварительно отсортировав данные по убыванию и взяв первые 5 строк таблицы. "
   ]
  },
  {
   "cell_type": "code",
   "execution_count": 51,
   "metadata": {
    "scrolled": true
   },
   "outputs": [
    {
     "data": {
      "image/png": "[encoded data removed]",
      "text/plain": [
       "<Figure size 432x288 with 1 Axes>"
      ]
     },
     "metadata": {
      "needs_background": "light"
     },
     "output_type": "display_data"
    },
    {
     "data": {
      "image/png": "[encoded data removed]",
      "text/plain": [
       "<Figure size 432x288 with 1 Axes>"
      ]
     },
     "metadata": {
      "needs_background": "light"
     },
     "output_type": "display_data"
    },
    {
     "data": {
      "image/png": "[encoded data removed]",
      "text/plain": [
       "<Figure size 432x288 with 1 Axes>"
      ]
     },
     "metadata": {
      "needs_background": "light"
     },
     "output_type": "display_data"
    }
   ],
   "source": [
    "region_lst = (zip(['eu_share', 'na_share', 'jp_share'], \n",
    "                  ['Европа', 'Северная Америка', 'Япония'], \n",
    "                  ['royalblue', 'darkorange', 'green']))\n",
    "\n",
    "for region, title, color in region_lst:\n",
    "    fig = top5_platform[[region]]\\\n",
    "        .sort_values(by=region, ascending=False)\\\n",
    "        .head()\\\n",
    "        .plot(kind='barh', grid=True, color=color)\n",
    "    fig.xaxis.set_major_formatter(mpl.ticker.StrMethodFormatter('{x:.0%}'))\n",
    "    plt.title('Топ-5 популярных платформ. ' + title)\n",
    "    plt.ylabel('Платформа')\n",
    "    plt.legend('')\n",
    "    plt.show()"
   ]
  },
  {
   "cell_type": "markdown",
   "metadata": {},
   "source": [
    "Видим, что для Европы и Северной Америки топ-5 полностью совпадает, хотя и в разном порядке: в Европе абсолютный фаворит &mdash; это PS4 (27%), а в Америке &mdash; X360 (23%). Каждый из фаворитов занимает плюс-минус четверть от рынка. \n",
    "\n",
    "В Европе разрыв между платформами составляет 5-6 процентных пунктов, а в Северной Америке первые четыре платформы конкурируют примерно на равных.\n",
    "\n",
    "Иная ситуация в Японии. Здесь почти половину рынка занимает 3DS (45%), остальные следуют с большим отрывом. Кроме 3DS, в списке есть еще две консоли, общие с Европой и Северной Америкой &mdash; это PS3 и PS4. Также в топ-5 в Японии вошли PSV и WiiU.\n",
    "\n",
    "Теперь посмотрим, как это выглядит в сравнении для 3 регионов. Данные отсортированы по убыванию доли продаж на европейском рынке. \n",
    "\n",
    "Объявим функцию `myplot` с датафреймом и размерами изображения (x, y) в качестве аргументов."
   ]
  },
  {
   "cell_type": "code",
   "execution_count": 52,
   "metadata": {
    "scrolled": false
   },
   "outputs": [],
   "source": [
    "def myplot(df, x, y):\n",
    "    fig, ax = plt.subplots(figsize=(x,y))\n",
    "    fig = (df[['eu_share', 'na_share', 'jp_share']]\n",
    "        .sort_values(by='eu_share', ascending=False)\n",
    "        .plot(kind='bar', ax=ax, stacked=True, grid=True))\n",
    "    plt.xticks(rotation=0)\n",
    "    fig.yaxis.set_major_formatter(mpl.ticker.StrMethodFormatter('{x:.1f}'))\n",
    "    plt.legend(['Европа', 'Северная Америка', 'Япония'])"
   ]
  },
  {
   "cell_type": "code",
   "execution_count": 53,
   "metadata": {},
   "outputs": [
    {
     "data": {
      "image/png": "[encoded data removed]",
      "text/plain": [
       "<Figure size 864x432 with 1 Axes>"
      ]
     },
     "metadata": {
      "needs_background": "light"
     },
     "output_type": "display_data"
    }
   ],
   "source": [
    "myplot(top5_platform, 12, 6)\n",
    "plt.xlabel('Платформа')\n",
    "plt.ylabel('Доля продаж на региональном рынке')\n",
    "plt.title('Доля продаж различных платформ в регионах EU, NA, JP')\n",
    "plt.show()"
   ]
  },
  {
   "cell_type": "markdown",
   "metadata": {},
   "source": [
    "Итак, по диаграмме видно, что европейский и североамериканский рынок весьма схожи в том, как распределились продажи платформ. \n",
    "\n",
    "Японский рынок показывает принципиально иное распределение: и топ отличается, и пропорции иные. Несколько платформ явно более популярны в Японии, чем в Европе или Америке &mdash; помимо 3DS, это PSV и PSP. И напротив, в Японии совсем не популярны PC, XOne и X360, которые держат уверенные позиции в других регионах."
   ]
  },
  {
   "cell_type": "markdown",
   "metadata": {},
   "source": [
    "<a id=\"5_genre\"></a>\n",
    "### Топ-5 популярных жанров"
   ]
  },
  {
   "cell_type": "markdown",
   "metadata": {},
   "source": [
    "Аналогично построим сводную таблицу по жанрам и регионам. Вычислим долю жанров, популярных для каждого региона."
   ]
  },
  {
   "cell_type": "code",
   "execution_count": 54,
   "metadata": {
    "scrolled": false
   },
   "outputs": [
    {
     "data": {
      "text/html": [
       "<style  type=\"text/css\" >\n",
       "</style><table id=\"T_b23be103_bbe4_11eb_a760_001a6b0d1d6e\" ><thead>    <tr>        <th class=\"blank level0\" ></th>        <th class=\"col_heading level0 col0\" >eu_sales</th>        <th class=\"col_heading level0 col1\" >jp_sales</th>        <th class=\"col_heading level0 col2\" >na_sales</th>        <th class=\"col_heading level0 col3\" >eu_share</th>        <th class=\"col_heading level0 col4\" >jp_share</th>        <th class=\"col_heading level0 col5\" >na_share</th>    </tr>    <tr>        <th class=\"index_name level0\" >genre</th>        <th class=\"blank\" ></th>        <th class=\"blank\" ></th>        <th class=\"blank\" ></th>        <th class=\"blank\" ></th>        <th class=\"blank\" ></th>        <th class=\"blank\" ></th>    </tr></thead><tbody>\n",
       "                <tr>\n",
       "                        <th id=\"T_b23be103_bbe4_11eb_a760_001a6b0d1d6elevel0_row0\" class=\"row_heading level0 row0\" >Action</th>\n",
       "                        <td id=\"T_b23be103_bbe4_11eb_a760_001a6b0d1d6erow0_col0\" class=\"data row0 col0\" >159.340000</td>\n",
       "                        <td id=\"T_b23be103_bbe4_11eb_a760_001a6b0d1d6erow0_col1\" class=\"data row0 col1\" >52.800000</td>\n",
       "                        <td id=\"T_b23be103_bbe4_11eb_a760_001a6b0d1d6erow0_col2\" class=\"data row0 col2\" >177.840000</td>\n",
       "                        <td id=\"T_b23be103_bbe4_11eb_a760_001a6b0d1d6erow0_col3\" class=\"data row0 col3\" >31.44%</td>\n",
       "                        <td id=\"T_b23be103_bbe4_11eb_a760_001a6b0d1d6erow0_col4\" class=\"data row0 col4\" >27.42%</td>\n",
       "                        <td id=\"T_b23be103_bbe4_11eb_a760_001a6b0d1d6erow0_col5\" class=\"data row0 col5\" >30.09%</td>\n",
       "            </tr>\n",
       "            <tr>\n",
       "                        <th id=\"T_b23be103_bbe4_11eb_a760_001a6b0d1d6elevel0_row1\" class=\"row_heading level0 row1\" >Shooter</th>\n",
       "                        <td id=\"T_b23be103_bbe4_11eb_a760_001a6b0d1d6erow1_col0\" class=\"data row1 col0\" >113.470000</td>\n",
       "                        <td id=\"T_b23be103_bbe4_11eb_a760_001a6b0d1d6erow1_col1\" class=\"data row1 col1\" >9.230000</td>\n",
       "                        <td id=\"T_b23be103_bbe4_11eb_a760_001a6b0d1d6erow1_col2\" class=\"data row1 col2\" >144.770000</td>\n",
       "                        <td id=\"T_b23be103_bbe4_11eb_a760_001a6b0d1d6erow1_col3\" class=\"data row1 col3\" >22.39%</td>\n",
       "                        <td id=\"T_b23be103_bbe4_11eb_a760_001a6b0d1d6erow1_col4\" class=\"data row1 col4\" >4.79%</td>\n",
       "                        <td id=\"T_b23be103_bbe4_11eb_a760_001a6b0d1d6erow1_col5\" class=\"data row1 col5\" >24.50%</td>\n",
       "            </tr>\n",
       "            <tr>\n",
       "                        <th id=\"T_b23be103_bbe4_11eb_a760_001a6b0d1d6elevel0_row2\" class=\"row_heading level0 row2\" >Sports</th>\n",
       "                        <td id=\"T_b23be103_bbe4_11eb_a760_001a6b0d1d6erow2_col0\" class=\"data row2 col0\" >69.090000</td>\n",
       "                        <td id=\"T_b23be103_bbe4_11eb_a760_001a6b0d1d6erow2_col1\" class=\"data row2 col1\" >8.010000</td>\n",
       "                        <td id=\"T_b23be103_bbe4_11eb_a760_001a6b0d1d6erow2_col2\" class=\"data row2 col2\" >81.530000</td>\n",
       "                        <td id=\"T_b23be103_bbe4_11eb_a760_001a6b0d1d6erow2_col3\" class=\"data row2 col3\" >13.63%</td>\n",
       "                        <td id=\"T_b23be103_bbe4_11eb_a760_001a6b0d1d6erow2_col4\" class=\"data row2 col4\" >4.16%</td>\n",
       "                        <td id=\"T_b23be103_bbe4_11eb_a760_001a6b0d1d6erow2_col5\" class=\"data row2 col5\" >13.80%</td>\n",
       "            </tr>\n",
       "            <tr>\n",
       "                        <th id=\"T_b23be103_bbe4_11eb_a760_001a6b0d1d6elevel0_row3\" class=\"row_heading level0 row3\" >Role-Playing</th>\n",
       "                        <td id=\"T_b23be103_bbe4_11eb_a760_001a6b0d1d6erow3_col0\" class=\"data row3 col0\" >48.530000</td>\n",
       "                        <td id=\"T_b23be103_bbe4_11eb_a760_001a6b0d1d6erow3_col1\" class=\"data row3 col1\" >65.440000</td>\n",
       "                        <td id=\"T_b23be103_bbe4_11eb_a760_001a6b0d1d6erow3_col2\" class=\"data row3 col2\" >64.000000</td>\n",
       "                        <td id=\"T_b23be103_bbe4_11eb_a760_001a6b0d1d6erow3_col3\" class=\"data row3 col3\" >9.58%</td>\n",
       "                        <td id=\"T_b23be103_bbe4_11eb_a760_001a6b0d1d6erow3_col4\" class=\"data row3 col4\" >33.98%</td>\n",
       "                        <td id=\"T_b23be103_bbe4_11eb_a760_001a6b0d1d6erow3_col5\" class=\"data row3 col5\" >10.83%</td>\n",
       "            </tr>\n",
       "            <tr>\n",
       "                        <th id=\"T_b23be103_bbe4_11eb_a760_001a6b0d1d6elevel0_row4\" class=\"row_heading level0 row4\" >Racing</th>\n",
       "                        <td id=\"T_b23be103_bbe4_11eb_a760_001a6b0d1d6erow4_col0\" class=\"data row4 col0\" >27.290000</td>\n",
       "                        <td id=\"T_b23be103_bbe4_11eb_a760_001a6b0d1d6erow4_col1\" class=\"data row4 col1\" >2.500000</td>\n",
       "                        <td id=\"T_b23be103_bbe4_11eb_a760_001a6b0d1d6erow4_col2\" class=\"data row4 col2\" >17.220000</td>\n",
       "                        <td id=\"T_b23be103_bbe4_11eb_a760_001a6b0d1d6erow4_col3\" class=\"data row4 col3\" >5.38%</td>\n",
       "                        <td id=\"T_b23be103_bbe4_11eb_a760_001a6b0d1d6erow4_col4\" class=\"data row4 col4\" >1.30%</td>\n",
       "                        <td id=\"T_b23be103_bbe4_11eb_a760_001a6b0d1d6erow4_col5\" class=\"data row4 col5\" >2.91%</td>\n",
       "            </tr>\n",
       "            <tr>\n",
       "                        <th id=\"T_b23be103_bbe4_11eb_a760_001a6b0d1d6elevel0_row5\" class=\"row_heading level0 row5\" >Misc</th>\n",
       "                        <td id=\"T_b23be103_bbe4_11eb_a760_001a6b0d1d6erow5_col0\" class=\"data row5 col0\" >26.320000</td>\n",
       "                        <td id=\"T_b23be103_bbe4_11eb_a760_001a6b0d1d6erow5_col1\" class=\"data row5 col1\" >12.860000</td>\n",
       "                        <td id=\"T_b23be103_bbe4_11eb_a760_001a6b0d1d6erow5_col2\" class=\"data row5 col2\" >38.190000</td>\n",
       "                        <td id=\"T_b23be103_bbe4_11eb_a760_001a6b0d1d6erow5_col3\" class=\"data row5 col3\" >5.19%</td>\n",
       "                        <td id=\"T_b23be103_bbe4_11eb_a760_001a6b0d1d6erow5_col4\" class=\"data row5 col4\" >6.68%</td>\n",
       "                        <td id=\"T_b23be103_bbe4_11eb_a760_001a6b0d1d6erow5_col5\" class=\"data row5 col5\" >6.46%</td>\n",
       "            </tr>\n",
       "            <tr>\n",
       "                        <th id=\"T_b23be103_bbe4_11eb_a760_001a6b0d1d6elevel0_row6\" class=\"row_heading level0 row6\" >Platform</th>\n",
       "                        <td id=\"T_b23be103_bbe4_11eb_a760_001a6b0d1d6erow6_col0\" class=\"data row6 col0\" >21.410000</td>\n",
       "                        <td id=\"T_b23be103_bbe4_11eb_a760_001a6b0d1d6erow6_col1\" class=\"data row6 col1\" >8.630000</td>\n",
       "                        <td id=\"T_b23be103_bbe4_11eb_a760_001a6b0d1d6erow6_col2\" class=\"data row6 col2\" >25.380000</td>\n",
       "                        <td id=\"T_b23be103_bbe4_11eb_a760_001a6b0d1d6erow6_col3\" class=\"data row6 col3\" >4.22%</td>\n",
       "                        <td id=\"T_b23be103_bbe4_11eb_a760_001a6b0d1d6erow6_col4\" class=\"data row6 col4\" >4.48%</td>\n",
       "                        <td id=\"T_b23be103_bbe4_11eb_a760_001a6b0d1d6erow6_col5\" class=\"data row6 col5\" >4.29%</td>\n",
       "            </tr>\n",
       "            <tr>\n",
       "                        <th id=\"T_b23be103_bbe4_11eb_a760_001a6b0d1d6elevel0_row7\" class=\"row_heading level0 row7\" >Simulation</th>\n",
       "                        <td id=\"T_b23be103_bbe4_11eb_a760_001a6b0d1d6erow7_col0\" class=\"data row7 col0\" >14.550000</td>\n",
       "                        <td id=\"T_b23be103_bbe4_11eb_a760_001a6b0d1d6erow7_col1\" class=\"data row7 col1\" >10.410000</td>\n",
       "                        <td id=\"T_b23be103_bbe4_11eb_a760_001a6b0d1d6erow7_col2\" class=\"data row7 col2\" >7.970000</td>\n",
       "                        <td id=\"T_b23be103_bbe4_11eb_a760_001a6b0d1d6erow7_col3\" class=\"data row7 col3\" >2.87%</td>\n",
       "                        <td id=\"T_b23be103_bbe4_11eb_a760_001a6b0d1d6erow7_col4\" class=\"data row7 col4\" >5.41%</td>\n",
       "                        <td id=\"T_b23be103_bbe4_11eb_a760_001a6b0d1d6erow7_col5\" class=\"data row7 col5\" >1.35%</td>\n",
       "            </tr>\n",
       "            <tr>\n",
       "                        <th id=\"T_b23be103_bbe4_11eb_a760_001a6b0d1d6elevel0_row8\" class=\"row_heading level0 row8\" >Fighting</th>\n",
       "                        <td id=\"T_b23be103_bbe4_11eb_a760_001a6b0d1d6erow8_col0\" class=\"data row8 col0\" >10.790000</td>\n",
       "                        <td id=\"T_b23be103_bbe4_11eb_a760_001a6b0d1d6erow8_col1\" class=\"data row8 col1\" >9.440000</td>\n",
       "                        <td id=\"T_b23be103_bbe4_11eb_a760_001a6b0d1d6erow8_col2\" class=\"data row8 col2\" >19.790000</td>\n",
       "                        <td id=\"T_b23be103_bbe4_11eb_a760_001a6b0d1d6erow8_col3\" class=\"data row8 col3\" >2.13%</td>\n",
       "                        <td id=\"T_b23be103_bbe4_11eb_a760_001a6b0d1d6erow8_col4\" class=\"data row8 col4\" >4.90%</td>\n",
       "                        <td id=\"T_b23be103_bbe4_11eb_a760_001a6b0d1d6erow8_col5\" class=\"data row8 col5\" >3.35%</td>\n",
       "            </tr>\n",
       "            <tr>\n",
       "                        <th id=\"T_b23be103_bbe4_11eb_a760_001a6b0d1d6elevel0_row9\" class=\"row_heading level0 row9\" >Adventure</th>\n",
       "                        <td id=\"T_b23be103_bbe4_11eb_a760_001a6b0d1d6erow9_col0\" class=\"data row9 col0\" >9.460000</td>\n",
       "                        <td id=\"T_b23be103_bbe4_11eb_a760_001a6b0d1d6erow9_col1\" class=\"data row9 col1\" >8.240000</td>\n",
       "                        <td id=\"T_b23be103_bbe4_11eb_a760_001a6b0d1d6erow9_col2\" class=\"data row9 col2\" >8.920000</td>\n",
       "                        <td id=\"T_b23be103_bbe4_11eb_a760_001a6b0d1d6erow9_col3\" class=\"data row9 col3\" >1.87%</td>\n",
       "                        <td id=\"T_b23be103_bbe4_11eb_a760_001a6b0d1d6erow9_col4\" class=\"data row9 col4\" >4.28%</td>\n",
       "                        <td id=\"T_b23be103_bbe4_11eb_a760_001a6b0d1d6erow9_col5\" class=\"data row9 col5\" >1.51%</td>\n",
       "            </tr>\n",
       "            <tr>\n",
       "                        <th id=\"T_b23be103_bbe4_11eb_a760_001a6b0d1d6elevel0_row10\" class=\"row_heading level0 row10\" >Strategy</th>\n",
       "                        <td id=\"T_b23be103_bbe4_11eb_a760_001a6b0d1d6erow10_col0\" class=\"data row10 col0\" >5.170000</td>\n",
       "                        <td id=\"T_b23be103_bbe4_11eb_a760_001a6b0d1d6erow10_col1\" class=\"data row10 col1\" >2.880000</td>\n",
       "                        <td id=\"T_b23be103_bbe4_11eb_a760_001a6b0d1d6erow10_col2\" class=\"data row10 col2\" >4.230000</td>\n",
       "                        <td id=\"T_b23be103_bbe4_11eb_a760_001a6b0d1d6erow10_col3\" class=\"data row10 col3\" >1.02%</td>\n",
       "                        <td id=\"T_b23be103_bbe4_11eb_a760_001a6b0d1d6erow10_col4\" class=\"data row10 col4\" >1.50%</td>\n",
       "                        <td id=\"T_b23be103_bbe4_11eb_a760_001a6b0d1d6erow10_col5\" class=\"data row10 col5\" >0.72%</td>\n",
       "            </tr>\n",
       "            <tr>\n",
       "                        <th id=\"T_b23be103_bbe4_11eb_a760_001a6b0d1d6elevel0_row11\" class=\"row_heading level0 row11\" >Puzzle</th>\n",
       "                        <td id=\"T_b23be103_bbe4_11eb_a760_001a6b0d1d6erow11_col0\" class=\"data row11 col0\" >1.400000</td>\n",
       "                        <td id=\"T_b23be103_bbe4_11eb_a760_001a6b0d1d6erow11_col1\" class=\"data row11 col1\" >2.140000</td>\n",
       "                        <td id=\"T_b23be103_bbe4_11eb_a760_001a6b0d1d6erow11_col2\" class=\"data row11 col2\" >1.130000</td>\n",
       "                        <td id=\"T_b23be103_bbe4_11eb_a760_001a6b0d1d6erow11_col3\" class=\"data row11 col3\" >0.28%</td>\n",
       "                        <td id=\"T_b23be103_bbe4_11eb_a760_001a6b0d1d6erow11_col4\" class=\"data row11 col4\" >1.11%</td>\n",
       "                        <td id=\"T_b23be103_bbe4_11eb_a760_001a6b0d1d6erow11_col5\" class=\"data row11 col5\" >0.19%</td>\n",
       "            </tr>\n",
       "    </tbody></table>"
      ],
      "text/plain": [
       "<pandas.io.formats.style.Styler at 0x139c7244430>"
      ]
     },
     "execution_count": 54,
     "metadata": {},
     "output_type": "execute_result"
    }
   ],
   "source": [
    "top5_genre = (newdata\n",
    "                 .pivot_table\n",
    "                 (index='genre', values=('na_sales', 'eu_sales', 'jp_sales'), aggfunc='sum')\n",
    "                )\n",
    "#добавим столбцы с долей продаж игр каждого жанра по каждому региону\n",
    "top5_genre['eu_share'] = top5_genre['eu_sales'] / top5_genre['eu_sales'].sum()\n",
    "top5_genre['jp_share'] = top5_genre['jp_sales'] / top5_genre['jp_sales'].sum()\n",
    "top5_genre['na_share'] = top5_genre['na_sales'] / top5_genre['na_sales'].sum()\n",
    "(top5_genre\n",
    "         .sort_values(by='eu_share', ascending=False)\n",
    "         .style.format({'eu_share':'{:.2%}', 'jp_share':'{:.2%}', 'na_share':'{:.2%}'})\n",
    ")"
   ]
  },
  {
   "cell_type": "code",
   "execution_count": 55,
   "metadata": {
    "scrolled": true
   },
   "outputs": [
    {
     "data": {
      "image/png": "[encoded data removed]",
      "text/plain": [
       "<Figure size 432x288 with 1 Axes>"
      ]
     },
     "metadata": {
      "needs_background": "light"
     },
     "output_type": "display_data"
    },
    {
     "data": {
      "image/png": "[encoded data removed]",
      "text/plain": [
       "<Figure size 432x288 with 1 Axes>"
      ]
     },
     "metadata": {
      "needs_background": "light"
     },
     "output_type": "display_data"
    },
    {
     "data": {
      "image/png": "[encoded data removed]",
      "text/plain": [
       "<Figure size 432x288 with 1 Axes>"
      ]
     },
     "metadata": {
      "needs_background": "light"
     },
     "output_type": "display_data"
    }
   ],
   "source": [
    "region_lst = (zip(['eu_share', 'na_share', 'jp_share'], \n",
    "                  ['Европа', 'Северная Америка', 'Япония'], \n",
    "                  ['royalblue', 'darkorange', 'green']))\n",
    "\n",
    "for region, title, color in region_lst:\n",
    "    fig = top5_genre[[region]]\\\n",
    "        .sort_values(by=region, ascending=False)\\\n",
    "        .head()\\\n",
    "        .plot(kind='barh', grid=True, color=color)\n",
    "    fig.xaxis.set_major_formatter(mpl.ticker.StrMethodFormatter('{x:.0%}'))\n",
    "    plt.title('Топ-5 популярных жанров. ' + title)\n",
    "    plt.ylabel('Жанр')\n",
    "    plt.legend('')\n",
    "    plt.show()"
   ]
  },
  {
   "cell_type": "markdown",
   "metadata": {},
   "source": [
    "Пользовательские предпочтения относительно жанров в Европе и Северной Америке очень похожи. Первые 4 места в топе совпадают: лидируют Action и Shooter, за ними Sports и Role-Playing. В процентном соотношении доли также распределены сходным образом.\n",
    "\n",
    "Япония &mdash; дело иное. Первое и второе места занимают Role-Playing и Action, за ними с большим отрывом идут Misc, Simulation и Fighting. Восточные единоборства в почете, а места шутерам в топе вообще не нашлось.\n",
    "\n",
    "Посмотрим еще раз на сравнительной диаграмме."
   ]
  },
  {
   "cell_type": "code",
   "execution_count": 56,
   "metadata": {},
   "outputs": [
    {
     "data": {
      "image/png": "[encoded data removed]",
      "text/plain": [
       "<Figure size 864x432 with 1 Axes>"
      ]
     },
     "metadata": {
      "needs_background": "light"
     },
     "output_type": "display_data"
    }
   ],
   "source": [
    "myplot(top5_genre, 12, 6)\n",
    "plt.xlabel('Жанр')\n",
    "plt.ylabel('Доля продаж на региональном рынке')\n",
    "plt.title('Доля продаж по разным жанрам в регионах EU, NA, JP')\n",
    "plt.show()"
   ]
  },
  {
   "cell_type": "markdown",
   "metadata": {},
   "source": [
    "Итак, жанр Action одинаково любим во всех трех регионах. Такая же картина с \"бродилками\" (Platform), хотя популярность их несравненно ниже. \n",
    "\n",
    "Из других жанров американцы и европейцы отдают явное предпочтение Shooter и Sports, а японцы &mdash; Role-Playing.\n",
    "\n",
    "Все-таки культурные различия &mdash; важная штука."
   ]
  },
  {
   "cell_type": "markdown",
   "metadata": {},
   "source": [
    "<a id=\"esrb\"></a>\n",
    "###  Влияние рейтинга ESRB на продажи игр в отдельных регионах"
   ]
  },
  {
   "cell_type": "markdown",
   "metadata": {},
   "source": [
    "Сначала посмотрим, какие вообще есть в нашей таблице значения рейтинга, и разберемся с обозначениями."
   ]
  },
  {
   "cell_type": "code",
   "execution_count": 57,
   "metadata": {},
   "outputs": [
    {
     "name": "stdout",
     "output_type": "stream",
     "text": [
      "['M' 'undefined' 'E' 'E10+' 'T']\n"
     ]
    }
   ],
   "source": [
    "print(newdata.esrb_rating.unique())"
   ]
  },
  {
   "cell_type": "markdown",
   "metadata": {},
   "source": [
    "Итак, помимо пропущенных рейтингов (undefined), видим 4 категории (__[источник](https://www.esrb.org/ratings-guide/)__): \n",
    "\n",
    "- E (для любого возраста), \n",
    "- E10+ (с 10 лет), \n",
    "- T (начиная с подросткового возраста - 13 лет), \n",
    "- M (для взрослых с 17 лет). \n",
    "\n",
    "Еще есть A (для совсем взрослых), но в нашей таблице этот рейтинг отсутствует."
   ]
  },
  {
   "cell_type": "markdown",
   "metadata": {},
   "source": [
    "Чтобы изучить зависимость между рейтингом и продажами игр, построим сводную таблицу с группировкой по категориям рейтинга и вычислим доли продаж по каждой категории."
   ]
  },
  {
   "cell_type": "code",
   "execution_count": 58,
   "metadata": {
    "scrolled": true
   },
   "outputs": [
    {
     "data": {
      "text/html": [
       "<style  type=\"text/css\" >\n",
       "</style><table id=\"T_b314c1e4_bbe4_11eb_aa2a_001a6b0d1d6e\" ><thead>    <tr>        <th class=\"blank level0\" ></th>        <th class=\"col_heading level0 col0\" >na_sales</th>        <th class=\"col_heading level0 col1\" >eu_sales</th>        <th class=\"col_heading level0 col2\" >jp_sales</th>        <th class=\"col_heading level0 col3\" >na_share</th>        <th class=\"col_heading level0 col4\" >eu_share</th>        <th class=\"col_heading level0 col5\" >jp_share</th>    </tr>    <tr>        <th class=\"index_name level0\" >esrb_rating</th>        <th class=\"blank\" ></th>        <th class=\"blank\" ></th>        <th class=\"blank\" ></th>        <th class=\"blank\" ></th>        <th class=\"blank\" ></th>        <th class=\"blank\" ></th>    </tr></thead><tbody>\n",
       "                <tr>\n",
       "                        <th id=\"T_b314c1e4_bbe4_11eb_aa2a_001a6b0d1d6elevel0_row0\" class=\"row_heading level0 row0\" >E</th>\n",
       "                        <td id=\"T_b314c1e4_bbe4_11eb_aa2a_001a6b0d1d6erow0_col0\" class=\"data row0 col0\" >114.370000</td>\n",
       "                        <td id=\"T_b314c1e4_bbe4_11eb_aa2a_001a6b0d1d6erow0_col1\" class=\"data row0 col1\" >113.030000</td>\n",
       "                        <td id=\"T_b314c1e4_bbe4_11eb_aa2a_001a6b0d1d6erow0_col2\" class=\"data row0 col2\" >28.330000</td>\n",
       "                        <td id=\"T_b314c1e4_bbe4_11eb_aa2a_001a6b0d1d6erow0_col3\" class=\"data row0 col3\" >19.35%</td>\n",
       "                        <td id=\"T_b314c1e4_bbe4_11eb_aa2a_001a6b0d1d6erow0_col4\" class=\"data row0 col4\" >22.30%</td>\n",
       "                        <td id=\"T_b314c1e4_bbe4_11eb_aa2a_001a6b0d1d6erow0_col5\" class=\"data row0 col5\" >14.71%</td>\n",
       "            </tr>\n",
       "            <tr>\n",
       "                        <th id=\"T_b314c1e4_bbe4_11eb_aa2a_001a6b0d1d6elevel0_row1\" class=\"row_heading level0 row1\" >E10+</th>\n",
       "                        <td id=\"T_b314c1e4_bbe4_11eb_aa2a_001a6b0d1d6erow1_col0\" class=\"data row1 col0\" >75.700000</td>\n",
       "                        <td id=\"T_b314c1e4_bbe4_11eb_aa2a_001a6b0d1d6erow1_col1\" class=\"data row1 col1\" >55.370000</td>\n",
       "                        <td id=\"T_b314c1e4_bbe4_11eb_aa2a_001a6b0d1d6erow1_col2\" class=\"data row1 col2\" >8.190000</td>\n",
       "                        <td id=\"T_b314c1e4_bbe4_11eb_aa2a_001a6b0d1d6erow1_col3\" class=\"data row1 col3\" >12.81%</td>\n",
       "                        <td id=\"T_b314c1e4_bbe4_11eb_aa2a_001a6b0d1d6erow1_col4\" class=\"data row1 col4\" >10.92%</td>\n",
       "                        <td id=\"T_b314c1e4_bbe4_11eb_aa2a_001a6b0d1d6erow1_col5\" class=\"data row1 col5\" >4.25%</td>\n",
       "            </tr>\n",
       "            <tr>\n",
       "                        <th id=\"T_b314c1e4_bbe4_11eb_aa2a_001a6b0d1d6elevel0_row2\" class=\"row_heading level0 row2\" >M</th>\n",
       "                        <td id=\"T_b314c1e4_bbe4_11eb_aa2a_001a6b0d1d6erow2_col0\" class=\"data row2 col0\" >231.570000</td>\n",
       "                        <td id=\"T_b314c1e4_bbe4_11eb_aa2a_001a6b0d1d6erow2_col1\" class=\"data row2 col1\" >193.960000</td>\n",
       "                        <td id=\"T_b314c1e4_bbe4_11eb_aa2a_001a6b0d1d6erow2_col2\" class=\"data row2 col2\" >21.200000</td>\n",
       "                        <td id=\"T_b314c1e4_bbe4_11eb_aa2a_001a6b0d1d6erow2_col3\" class=\"data row2 col3\" >39.18%</td>\n",
       "                        <td id=\"T_b314c1e4_bbe4_11eb_aa2a_001a6b0d1d6erow2_col4\" class=\"data row2 col4\" >38.27%</td>\n",
       "                        <td id=\"T_b314c1e4_bbe4_11eb_aa2a_001a6b0d1d6erow2_col5\" class=\"data row2 col5\" >11.01%</td>\n",
       "            </tr>\n",
       "            <tr>\n",
       "                        <th id=\"T_b314c1e4_bbe4_11eb_aa2a_001a6b0d1d6elevel0_row3\" class=\"row_heading level0 row3\" >T</th>\n",
       "                        <td id=\"T_b314c1e4_bbe4_11eb_aa2a_001a6b0d1d6erow3_col0\" class=\"data row3 col0\" >66.020000</td>\n",
       "                        <td id=\"T_b314c1e4_bbe4_11eb_aa2a_001a6b0d1d6erow3_col1\" class=\"data row3 col1\" >52.960000</td>\n",
       "                        <td id=\"T_b314c1e4_bbe4_11eb_aa2a_001a6b0d1d6erow3_col2\" class=\"data row3 col2\" >26.020000</td>\n",
       "                        <td id=\"T_b314c1e4_bbe4_11eb_aa2a_001a6b0d1d6erow3_col3\" class=\"data row3 col3\" >11.17%</td>\n",
       "                        <td id=\"T_b314c1e4_bbe4_11eb_aa2a_001a6b0d1d6erow3_col4\" class=\"data row3 col4\" >10.45%</td>\n",
       "                        <td id=\"T_b314c1e4_bbe4_11eb_aa2a_001a6b0d1d6erow3_col5\" class=\"data row3 col5\" >13.51%</td>\n",
       "            </tr>\n",
       "            <tr>\n",
       "                        <th id=\"T_b314c1e4_bbe4_11eb_aa2a_001a6b0d1d6elevel0_row4\" class=\"row_heading level0 row4\" >undefined</th>\n",
       "                        <td id=\"T_b314c1e4_bbe4_11eb_aa2a_001a6b0d1d6erow4_col0\" class=\"data row4 col0\" >103.310000</td>\n",
       "                        <td id=\"T_b314c1e4_bbe4_11eb_aa2a_001a6b0d1d6erow4_col1\" class=\"data row4 col1\" >91.500000</td>\n",
       "                        <td id=\"T_b314c1e4_bbe4_11eb_aa2a_001a6b0d1d6erow4_col2\" class=\"data row4 col2\" >108.840000</td>\n",
       "                        <td id=\"T_b314c1e4_bbe4_11eb_aa2a_001a6b0d1d6erow4_col3\" class=\"data row4 col3\" >17.48%</td>\n",
       "                        <td id=\"T_b314c1e4_bbe4_11eb_aa2a_001a6b0d1d6erow4_col4\" class=\"data row4 col4\" >18.05%</td>\n",
       "                        <td id=\"T_b314c1e4_bbe4_11eb_aa2a_001a6b0d1d6erow4_col5\" class=\"data row4 col5\" >56.52%</td>\n",
       "            </tr>\n",
       "    </tbody></table>"
      ],
      "text/plain": [
       "<pandas.io.formats.style.Styler at 0x139c6f8a6d0>"
      ]
     },
     "execution_count": 58,
     "metadata": {},
     "output_type": "execute_result"
    }
   ],
   "source": [
    "esrb = newdata.groupby(['esrb_rating']).agg({'na_sales':'sum', 'eu_sales':'sum', 'jp_sales':'sum'})\n",
    "esrb['na_share'] = esrb['na_sales'] / esrb['na_sales'].sum()\n",
    "esrb['eu_share'] = esrb['eu_sales'] / esrb['eu_sales'].sum()\n",
    "esrb['jp_share'] = esrb['jp_sales'] / esrb['jp_sales'].sum()\n",
    "(esrb.style.format\n",
    " ({'eu_share':'{:.2%}', \n",
    "   'jp_share':'{:.2%}', \n",
    "   'na_share':'{:.2%}'})\n",
    ")"
   ]
  },
  {
   "cell_type": "code",
   "execution_count": 59,
   "metadata": {
    "scrolled": true
   },
   "outputs": [
    {
     "data": {
      "image/png": "[encoded data removed]",
      "text/plain": [
       "<Figure size 432x360 with 1 Axes>"
      ]
     },
     "metadata": {
      "needs_background": "light"
     },
     "output_type": "display_data"
    }
   ],
   "source": [
    "myplot(esrb, 6, 5)\n",
    "plt.xlabel('Категория рейтинга')\n",
    "plt.ylabel('Доля продаж на региональном рынке')\n",
    "plt.title('Доля продаж по разным категориям ESRB в регионах EU, NA, JP')\n",
    "plt.show()"
   ]
  },
  {
   "cell_type": "markdown",
   "metadata": {},
   "source": [
    "Во-первых, у нас \"просела\" Япония по доле немаркированных игр &mdash; их больше половины. Можно объяснить это так: ESRB  &mdash; это американская ассоциация, а игры японских производителей в первую очередь будет оценивать японская рейтинговая ассоциация __[CERO](https://en.wikipedia.org/wiki/Computer_Entertainment_Rating_Organization)__. Правда, японские игры идут и на мировой рынок, так что можно было бы и оценить... \n",
    "    \n",
    "В Европе и Америке маркировка ESRB отсутствует чуть меньше чем для 20% игр.\n",
    "\n",
    "Взглянем на долю `undefined` в зависимости от платформы."
   ]
  },
  {
   "cell_type": "code",
   "execution_count": 60,
   "metadata": {},
   "outputs": [
    {
     "data": {
      "text/html": [
       "<style  type=\"text/css\" >\n",
       "</style><table id=\"T_b35c4dd3_bbe4_11eb_81f3_001a6b0d1d6e\" ><thead>    <tr>        <th class=\"index_name level0\" >esrb_rating</th>        <th class=\"col_heading level0 col0\" >E</th>        <th class=\"col_heading level0 col1\" >E10+</th>        <th class=\"col_heading level0 col2\" >M</th>        <th class=\"col_heading level0 col3\" >T</th>        <th class=\"col_heading level0 col4\" >undefined</th>        <th class=\"col_heading level0 col5\" >undef_part</th>    </tr>    <tr>        <th class=\"index_name level0\" >platform</th>        <th class=\"blank\" ></th>        <th class=\"blank\" ></th>        <th class=\"blank\" ></th>        <th class=\"blank\" ></th>        <th class=\"blank\" ></th>        <th class=\"blank\" ></th>    </tr></thead><tbody>\n",
       "                <tr>\n",
       "                        <th id=\"T_b35c4dd3_bbe4_11eb_81f3_001a6b0d1d6elevel0_row0\" class=\"row_heading level0 row0\" >3DS</th>\n",
       "                        <td id=\"T_b35c4dd3_bbe4_11eb_81f3_001a6b0d1d6erow0_col0\" class=\"data row0 col0\" >54.000000</td>\n",
       "                        <td id=\"T_b35c4dd3_bbe4_11eb_81f3_001a6b0d1d6erow0_col1\" class=\"data row0 col1\" >53.000000</td>\n",
       "                        <td id=\"T_b35c4dd3_bbe4_11eb_81f3_001a6b0d1d6erow0_col2\" class=\"data row0 col2\" >9.000000</td>\n",
       "                        <td id=\"T_b35c4dd3_bbe4_11eb_81f3_001a6b0d1d6erow0_col3\" class=\"data row0 col3\" >26.000000</td>\n",
       "                        <td id=\"T_b35c4dd3_bbe4_11eb_81f3_001a6b0d1d6erow0_col4\" class=\"data row0 col4\" >254.000000</td>\n",
       "                        <td id=\"T_b35c4dd3_bbe4_11eb_81f3_001a6b0d1d6erow0_col5\" class=\"data row0 col5\" >64.14%</td>\n",
       "            </tr>\n",
       "            <tr>\n",
       "                        <th id=\"T_b35c4dd3_bbe4_11eb_81f3_001a6b0d1d6elevel0_row1\" class=\"row_heading level0 row1\" >DS</th>\n",
       "                        <td id=\"T_b35c4dd3_bbe4_11eb_81f3_001a6b0d1d6erow1_col0\" class=\"data row1 col0\" >10.000000</td>\n",
       "                        <td id=\"T_b35c4dd3_bbe4_11eb_81f3_001a6b0d1d6erow1_col1\" class=\"data row1 col1\" >5.000000</td>\n",
       "                        <td id=\"T_b35c4dd3_bbe4_11eb_81f3_001a6b0d1d6erow1_col2\" class=\"data row1 col2\" >nan</td>\n",
       "                        <td id=\"T_b35c4dd3_bbe4_11eb_81f3_001a6b0d1d6erow1_col3\" class=\"data row1 col3\" >nan</td>\n",
       "                        <td id=\"T_b35c4dd3_bbe4_11eb_81f3_001a6b0d1d6erow1_col4\" class=\"data row1 col4\" >16.000000</td>\n",
       "                        <td id=\"T_b35c4dd3_bbe4_11eb_81f3_001a6b0d1d6erow1_col5\" class=\"data row1 col5\" >nan%</td>\n",
       "            </tr>\n",
       "            <tr>\n",
       "                        <th id=\"T_b35c4dd3_bbe4_11eb_81f3_001a6b0d1d6elevel0_row2\" class=\"row_heading level0 row2\" >PC</th>\n",
       "                        <td id=\"T_b35c4dd3_bbe4_11eb_81f3_001a6b0d1d6erow2_col0\" class=\"data row2 col0\" >36.000000</td>\n",
       "                        <td id=\"T_b35c4dd3_bbe4_11eb_81f3_001a6b0d1d6erow2_col1\" class=\"data row2 col1\" >17.000000</td>\n",
       "                        <td id=\"T_b35c4dd3_bbe4_11eb_81f3_001a6b0d1d6erow2_col2\" class=\"data row2 col2\" >91.000000</td>\n",
       "                        <td id=\"T_b35c4dd3_bbe4_11eb_81f3_001a6b0d1d6erow2_col3\" class=\"data row2 col3\" >41.000000</td>\n",
       "                        <td id=\"T_b35c4dd3_bbe4_11eb_81f3_001a6b0d1d6erow2_col4\" class=\"data row2 col4\" >65.000000</td>\n",
       "                        <td id=\"T_b35c4dd3_bbe4_11eb_81f3_001a6b0d1d6erow2_col5\" class=\"data row2 col5\" >26.00%</td>\n",
       "            </tr>\n",
       "            <tr>\n",
       "                        <th id=\"T_b35c4dd3_bbe4_11eb_81f3_001a6b0d1d6elevel0_row3\" class=\"row_heading level0 row3\" >PS3</th>\n",
       "                        <td id=\"T_b35c4dd3_bbe4_11eb_81f3_001a6b0d1d6erow3_col0\" class=\"data row3 col0\" >64.000000</td>\n",
       "                        <td id=\"T_b35c4dd3_bbe4_11eb_81f3_001a6b0d1d6erow3_col1\" class=\"data row3 col1\" >39.000000</td>\n",
       "                        <td id=\"T_b35c4dd3_bbe4_11eb_81f3_001a6b0d1d6erow3_col2\" class=\"data row3 col2\" >106.000000</td>\n",
       "                        <td id=\"T_b35c4dd3_bbe4_11eb_81f3_001a6b0d1d6erow3_col3\" class=\"data row3 col3\" >91.000000</td>\n",
       "                        <td id=\"T_b35c4dd3_bbe4_11eb_81f3_001a6b0d1d6erow3_col4\" class=\"data row3 col4\" >193.000000</td>\n",
       "                        <td id=\"T_b35c4dd3_bbe4_11eb_81f3_001a6b0d1d6erow3_col5\" class=\"data row3 col5\" >39.15%</td>\n",
       "            </tr>\n",
       "            <tr>\n",
       "                        <th id=\"T_b35c4dd3_bbe4_11eb_81f3_001a6b0d1d6elevel0_row4\" class=\"row_heading level0 row4\" >PS4</th>\n",
       "                        <td id=\"T_b35c4dd3_bbe4_11eb_81f3_001a6b0d1d6erow4_col0\" class=\"data row4 col0\" >54.000000</td>\n",
       "                        <td id=\"T_b35c4dd3_bbe4_11eb_81f3_001a6b0d1d6erow4_col1\" class=\"data row4 col1\" >40.000000</td>\n",
       "                        <td id=\"T_b35c4dd3_bbe4_11eb_81f3_001a6b0d1d6erow4_col2\" class=\"data row4 col2\" >76.000000</td>\n",
       "                        <td id=\"T_b35c4dd3_bbe4_11eb_81f3_001a6b0d1d6erow4_col3\" class=\"data row4 col3\" >85.000000</td>\n",
       "                        <td id=\"T_b35c4dd3_bbe4_11eb_81f3_001a6b0d1d6erow4_col4\" class=\"data row4 col4\" >137.000000</td>\n",
       "                        <td id=\"T_b35c4dd3_bbe4_11eb_81f3_001a6b0d1d6erow4_col5\" class=\"data row4 col5\" >34.95%</td>\n",
       "            </tr>\n",
       "            <tr>\n",
       "                        <th id=\"T_b35c4dd3_bbe4_11eb_81f3_001a6b0d1d6elevel0_row5\" class=\"row_heading level0 row5\" >PSP</th>\n",
       "                        <td id=\"T_b35c4dd3_bbe4_11eb_81f3_001a6b0d1d6erow5_col0\" class=\"data row5 col0\" >5.000000</td>\n",
       "                        <td id=\"T_b35c4dd3_bbe4_11eb_81f3_001a6b0d1d6erow5_col1\" class=\"data row5 col1\" >nan</td>\n",
       "                        <td id=\"T_b35c4dd3_bbe4_11eb_81f3_001a6b0d1d6erow5_col2\" class=\"data row5 col2\" >nan</td>\n",
       "                        <td id=\"T_b35c4dd3_bbe4_11eb_81f3_001a6b0d1d6erow5_col3\" class=\"data row5 col3\" >2.000000</td>\n",
       "                        <td id=\"T_b35c4dd3_bbe4_11eb_81f3_001a6b0d1d6erow5_col4\" class=\"data row5 col4\" >166.000000</td>\n",
       "                        <td id=\"T_b35c4dd3_bbe4_11eb_81f3_001a6b0d1d6erow5_col5\" class=\"data row5 col5\" >nan%</td>\n",
       "            </tr>\n",
       "            <tr>\n",
       "                        <th id=\"T_b35c4dd3_bbe4_11eb_81f3_001a6b0d1d6elevel0_row6\" class=\"row_heading level0 row6\" >PSV</th>\n",
       "                        <td id=\"T_b35c4dd3_bbe4_11eb_81f3_001a6b0d1d6erow6_col0\" class=\"data row6 col0\" >20.000000</td>\n",
       "                        <td id=\"T_b35c4dd3_bbe4_11eb_81f3_001a6b0d1d6erow6_col1\" class=\"data row6 col1\" >23.000000</td>\n",
       "                        <td id=\"T_b35c4dd3_bbe4_11eb_81f3_001a6b0d1d6erow6_col2\" class=\"data row6 col2\" >32.000000</td>\n",
       "                        <td id=\"T_b35c4dd3_bbe4_11eb_81f3_001a6b0d1d6erow6_col3\" class=\"data row6 col3\" >63.000000</td>\n",
       "                        <td id=\"T_b35c4dd3_bbe4_11eb_81f3_001a6b0d1d6erow6_col4\" class=\"data row6 col4\" >273.000000</td>\n",
       "                        <td id=\"T_b35c4dd3_bbe4_11eb_81f3_001a6b0d1d6erow6_col5\" class=\"data row6 col5\" >66.42%</td>\n",
       "            </tr>\n",
       "            <tr>\n",
       "                        <th id=\"T_b35c4dd3_bbe4_11eb_81f3_001a6b0d1d6elevel0_row7\" class=\"row_heading level0 row7\" >Wii</th>\n",
       "                        <td id=\"T_b35c4dd3_bbe4_11eb_81f3_001a6b0d1d6erow7_col0\" class=\"data row7 col0\" >17.000000</td>\n",
       "                        <td id=\"T_b35c4dd3_bbe4_11eb_81f3_001a6b0d1d6erow7_col1\" class=\"data row7 col1\" >15.000000</td>\n",
       "                        <td id=\"T_b35c4dd3_bbe4_11eb_81f3_001a6b0d1d6erow7_col2\" class=\"data row7 col2\" >nan</td>\n",
       "                        <td id=\"T_b35c4dd3_bbe4_11eb_81f3_001a6b0d1d6erow7_col3\" class=\"data row7 col3\" >2.000000</td>\n",
       "                        <td id=\"T_b35c4dd3_bbe4_11eb_81f3_001a6b0d1d6erow7_col4\" class=\"data row7 col4\" >20.000000</td>\n",
       "                        <td id=\"T_b35c4dd3_bbe4_11eb_81f3_001a6b0d1d6erow7_col5\" class=\"data row7 col5\" >nan%</td>\n",
       "            </tr>\n",
       "            <tr>\n",
       "                        <th id=\"T_b35c4dd3_bbe4_11eb_81f3_001a6b0d1d6elevel0_row8\" class=\"row_heading level0 row8\" >WiiU</th>\n",
       "                        <td id=\"T_b35c4dd3_bbe4_11eb_81f3_001a6b0d1d6erow8_col0\" class=\"data row8 col0\" >35.000000</td>\n",
       "                        <td id=\"T_b35c4dd3_bbe4_11eb_81f3_001a6b0d1d6erow8_col1\" class=\"data row8 col1\" >42.000000</td>\n",
       "                        <td id=\"T_b35c4dd3_bbe4_11eb_81f3_001a6b0d1d6erow8_col2\" class=\"data row8 col2\" >15.000000</td>\n",
       "                        <td id=\"T_b35c4dd3_bbe4_11eb_81f3_001a6b0d1d6erow8_col3\" class=\"data row8 col3\" >13.000000</td>\n",
       "                        <td id=\"T_b35c4dd3_bbe4_11eb_81f3_001a6b0d1d6erow8_col4\" class=\"data row8 col4\" >42.000000</td>\n",
       "                        <td id=\"T_b35c4dd3_bbe4_11eb_81f3_001a6b0d1d6erow8_col5\" class=\"data row8 col5\" >28.57%</td>\n",
       "            </tr>\n",
       "            <tr>\n",
       "                        <th id=\"T_b35c4dd3_bbe4_11eb_81f3_001a6b0d1d6elevel0_row9\" class=\"row_heading level0 row9\" >X360</th>\n",
       "                        <td id=\"T_b35c4dd3_bbe4_11eb_81f3_001a6b0d1d6erow9_col0\" class=\"data row9 col0\" >55.000000</td>\n",
       "                        <td id=\"T_b35c4dd3_bbe4_11eb_81f3_001a6b0d1d6erow9_col1\" class=\"data row9 col1\" >41.000000</td>\n",
       "                        <td id=\"T_b35c4dd3_bbe4_11eb_81f3_001a6b0d1d6erow9_col2\" class=\"data row9 col2\" >99.000000</td>\n",
       "                        <td id=\"T_b35c4dd3_bbe4_11eb_81f3_001a6b0d1d6erow9_col3\" class=\"data row9 col3\" >49.000000</td>\n",
       "                        <td id=\"T_b35c4dd3_bbe4_11eb_81f3_001a6b0d1d6erow9_col4\" class=\"data row9 col4\" >48.000000</td>\n",
       "                        <td id=\"T_b35c4dd3_bbe4_11eb_81f3_001a6b0d1d6erow9_col5\" class=\"data row9 col5\" >16.44%</td>\n",
       "            </tr>\n",
       "            <tr>\n",
       "                        <th id=\"T_b35c4dd3_bbe4_11eb_81f3_001a6b0d1d6elevel0_row10\" class=\"row_heading level0 row10\" >XOne</th>\n",
       "                        <td id=\"T_b35c4dd3_bbe4_11eb_81f3_001a6b0d1d6erow10_col0\" class=\"data row10 col0\" >45.000000</td>\n",
       "                        <td id=\"T_b35c4dd3_bbe4_11eb_81f3_001a6b0d1d6erow10_col1\" class=\"data row10 col1\" >31.000000</td>\n",
       "                        <td id=\"T_b35c4dd3_bbe4_11eb_81f3_001a6b0d1d6erow10_col2\" class=\"data row10 col2\" >70.000000</td>\n",
       "                        <td id=\"T_b35c4dd3_bbe4_11eb_81f3_001a6b0d1d6erow10_col3\" class=\"data row10 col3\" >40.000000</td>\n",
       "                        <td id=\"T_b35c4dd3_bbe4_11eb_81f3_001a6b0d1d6erow10_col4\" class=\"data row10 col4\" >61.000000</td>\n",
       "                        <td id=\"T_b35c4dd3_bbe4_11eb_81f3_001a6b0d1d6erow10_col5\" class=\"data row10 col5\" >24.70%</td>\n",
       "            </tr>\n",
       "    </tbody></table>"
      ],
      "text/plain": [
       "<pandas.io.formats.style.Styler at 0x139c755b280>"
      ]
     },
     "execution_count": 60,
     "metadata": {},
     "output_type": "execute_result"
    }
   ],
   "source": [
    "undefined = (newdata\n",
    "             .pivot_table(\n",
    "                 index = 'platform', \n",
    "                 columns = 'esrb_rating', \n",
    "                 values='total_sales', \n",
    "                 aggfunc = 'count')\n",
    "            )\n",
    "\n",
    "undefined['undef_part'] = (undefined['undefined'] \n",
    "                           / (undefined['E'] + undefined['E10+'] + undefined['M'] + undefined['T'] + undefined['undefined'])\n",
    "                          )\n",
    "undefined.style.format({'undef_part': \"{:.2%}\"})"
   ]
  },
  {
   "cell_type": "markdown",
   "metadata": {},
   "source": [
    "Да, у игр японских брендов (Nintendo, Playstation) самый высокий процент пропусков (до 66% для одной платформы), в то время как, например, для XBox пропусков существенно меньше.\n",
    "\n",
    "В общем, делать выводы по связи рейтинга и продаж в Японии будет не очень достоверно."
   ]
  },
  {
   "cell_type": "markdown",
   "metadata": {},
   "source": [
    "Во-вторых, все же определенные наблюдения по регионам есть. В Северной Америке и Европе лучше всего продаются игры категории M, то есть для взрослой аудитории. Они составляют около 40% от общего объема продаж.\n",
    "\n",
    "В Японии примерно по 13-15% приходится на игры категорий E и T, и только 11% &mdash; на категорию M. Возможно, в Японии играющая аудитория значительно моложе, или же вкусы у взрослой аудитории отличаются, что мы уже видели, сравнивая жанры. Однако, повторимся, более половины игр в Японии имеют неизвестную маркировку, так что выводы делать сложно. \n",
    "\n",
    "По крайней мере, шутеры в Японии не очень популярны, а они, вероятно, в большинстве своем получают маркировку M.\n",
    "\n",
    "Посмотрим, как распределились маркировки ESRB по разным жанрам."
   ]
  },
  {
   "cell_type": "code",
   "execution_count": 61,
   "metadata": {
    "scrolled": true
   },
   "outputs": [
    {
     "data": {
      "text/html": [
       "<style  type=\"text/css\" >\n",
       "#T_b3687fed_bbe4_11eb_822a_001a6b0d1d6erow0_col6,#T_b3687fed_bbe4_11eb_822a_001a6b0d1d6erow0_col7,#T_b3687fed_bbe4_11eb_822a_001a6b0d1d6erow0_col8,#T_b3687fed_bbe4_11eb_822a_001a6b0d1d6erow10_col5{\n",
       "            background-color:  yellow;\n",
       "        }</style><table id=\"T_b3687fed_bbe4_11eb_822a_001a6b0d1d6e\" ><thead>    <tr>        <th class=\"index_name level0\" >esrb_rating</th>        <th class=\"col_heading level0 col0\" >E</th>        <th class=\"col_heading level0 col1\" >E10+</th>        <th class=\"col_heading level0 col2\" >M</th>        <th class=\"col_heading level0 col3\" >T</th>        <th class=\"col_heading level0 col4\" >undefined</th>        <th class=\"col_heading level0 col5\" >e_part</th>        <th class=\"col_heading level0 col6\" >e10_part</th>        <th class=\"col_heading level0 col7\" >m_part</th>        <th class=\"col_heading level0 col8\" >t_part</th>    </tr>    <tr>        <th class=\"index_name level0\" >genre</th>        <th class=\"blank\" ></th>        <th class=\"blank\" ></th>        <th class=\"blank\" ></th>        <th class=\"blank\" ></th>        <th class=\"blank\" ></th>        <th class=\"blank\" ></th>        <th class=\"blank\" ></th>        <th class=\"blank\" ></th>        <th class=\"blank\" ></th>    </tr></thead><tbody>\n",
       "                <tr>\n",
       "                        <th id=\"T_b3687fed_bbe4_11eb_822a_001a6b0d1d6elevel0_row0\" class=\"row_heading level0 row0\" >Action</th>\n",
       "                        <td id=\"T_b3687fed_bbe4_11eb_822a_001a6b0d1d6erow0_col0\" class=\"data row0 col0\" >73.000000</td>\n",
       "                        <td id=\"T_b3687fed_bbe4_11eb_822a_001a6b0d1d6erow0_col1\" class=\"data row0 col1\" >130.000000</td>\n",
       "                        <td id=\"T_b3687fed_bbe4_11eb_822a_001a6b0d1d6erow0_col2\" class=\"data row0 col2\" >215.000000</td>\n",
       "                        <td id=\"T_b3687fed_bbe4_11eb_822a_001a6b0d1d6erow0_col3\" class=\"data row0 col3\" >138.000000</td>\n",
       "                        <td id=\"T_b3687fed_bbe4_11eb_822a_001a6b0d1d6erow0_col4\" class=\"data row0 col4\" >475.000000</td>\n",
       "                        <td id=\"T_b3687fed_bbe4_11eb_822a_001a6b0d1d6erow0_col5\" class=\"data row0 col5\" >18.48%</td>\n",
       "                        <td id=\"T_b3687fed_bbe4_11eb_822a_001a6b0d1d6erow0_col6\" class=\"data row0 col6\" >42.48%</td>\n",
       "                        <td id=\"T_b3687fed_bbe4_11eb_822a_001a6b0d1d6erow0_col7\" class=\"data row0 col7\" >43.17%</td>\n",
       "                        <td id=\"T_b3687fed_bbe4_11eb_822a_001a6b0d1d6erow0_col8\" class=\"data row0 col8\" >33.50%</td>\n",
       "            </tr>\n",
       "            <tr>\n",
       "                        <th id=\"T_b3687fed_bbe4_11eb_822a_001a6b0d1d6elevel0_row1\" class=\"row_heading level0 row1\" >Adventure</th>\n",
       "                        <td id=\"T_b3687fed_bbe4_11eb_822a_001a6b0d1d6erow1_col0\" class=\"data row1 col0\" >4.000000</td>\n",
       "                        <td id=\"T_b3687fed_bbe4_11eb_822a_001a6b0d1d6erow1_col1\" class=\"data row1 col1\" >19.000000</td>\n",
       "                        <td id=\"T_b3687fed_bbe4_11eb_822a_001a6b0d1d6erow1_col2\" class=\"data row1 col2\" >31.000000</td>\n",
       "                        <td id=\"T_b3687fed_bbe4_11eb_822a_001a6b0d1d6erow1_col3\" class=\"data row1 col3\" >14.000000</td>\n",
       "                        <td id=\"T_b3687fed_bbe4_11eb_822a_001a6b0d1d6erow1_col4\" class=\"data row1 col4\" >234.000000</td>\n",
       "                        <td id=\"T_b3687fed_bbe4_11eb_822a_001a6b0d1d6erow1_col5\" class=\"data row1 col5\" >1.01%</td>\n",
       "                        <td id=\"T_b3687fed_bbe4_11eb_822a_001a6b0d1d6erow1_col6\" class=\"data row1 col6\" >6.21%</td>\n",
       "                        <td id=\"T_b3687fed_bbe4_11eb_822a_001a6b0d1d6erow1_col7\" class=\"data row1 col7\" >6.22%</td>\n",
       "                        <td id=\"T_b3687fed_bbe4_11eb_822a_001a6b0d1d6erow1_col8\" class=\"data row1 col8\" >3.40%</td>\n",
       "            </tr>\n",
       "            <tr>\n",
       "                        <th id=\"T_b3687fed_bbe4_11eb_822a_001a6b0d1d6elevel0_row2\" class=\"row_heading level0 row2\" >Fighting</th>\n",
       "                        <td id=\"T_b3687fed_bbe4_11eb_822a_001a6b0d1d6erow2_col0\" class=\"data row2 col0\" >nan</td>\n",
       "                        <td id=\"T_b3687fed_bbe4_11eb_822a_001a6b0d1d6erow2_col1\" class=\"data row2 col1\" >3.000000</td>\n",
       "                        <td id=\"T_b3687fed_bbe4_11eb_822a_001a6b0d1d6erow2_col2\" class=\"data row2 col2\" >11.000000</td>\n",
       "                        <td id=\"T_b3687fed_bbe4_11eb_822a_001a6b0d1d6erow2_col3\" class=\"data row2 col3\" >57.000000</td>\n",
       "                        <td id=\"T_b3687fed_bbe4_11eb_822a_001a6b0d1d6erow2_col4\" class=\"data row2 col4\" >38.000000</td>\n",
       "                        <td id=\"T_b3687fed_bbe4_11eb_822a_001a6b0d1d6erow2_col5\" class=\"data row2 col5\" >nan%</td>\n",
       "                        <td id=\"T_b3687fed_bbe4_11eb_822a_001a6b0d1d6erow2_col6\" class=\"data row2 col6\" >0.98%</td>\n",
       "                        <td id=\"T_b3687fed_bbe4_11eb_822a_001a6b0d1d6erow2_col7\" class=\"data row2 col7\" >2.21%</td>\n",
       "                        <td id=\"T_b3687fed_bbe4_11eb_822a_001a6b0d1d6erow2_col8\" class=\"data row2 col8\" >13.83%</td>\n",
       "            </tr>\n",
       "            <tr>\n",
       "                        <th id=\"T_b3687fed_bbe4_11eb_822a_001a6b0d1d6elevel0_row3\" class=\"row_heading level0 row3\" >Misc</th>\n",
       "                        <td id=\"T_b3687fed_bbe4_11eb_822a_001a6b0d1d6erow3_col0\" class=\"data row3 col0\" >21.000000</td>\n",
       "                        <td id=\"T_b3687fed_bbe4_11eb_822a_001a6b0d1d6erow3_col1\" class=\"data row3 col1\" >40.000000</td>\n",
       "                        <td id=\"T_b3687fed_bbe4_11eb_822a_001a6b0d1d6erow3_col2\" class=\"data row3 col2\" >5.000000</td>\n",
       "                        <td id=\"T_b3687fed_bbe4_11eb_822a_001a6b0d1d6erow3_col3\" class=\"data row3 col3\" >19.000000</td>\n",
       "                        <td id=\"T_b3687fed_bbe4_11eb_822a_001a6b0d1d6erow3_col4\" class=\"data row3 col4\" >107.000000</td>\n",
       "                        <td id=\"T_b3687fed_bbe4_11eb_822a_001a6b0d1d6erow3_col5\" class=\"data row3 col5\" >5.32%</td>\n",
       "                        <td id=\"T_b3687fed_bbe4_11eb_822a_001a6b0d1d6erow3_col6\" class=\"data row3 col6\" >13.07%</td>\n",
       "                        <td id=\"T_b3687fed_bbe4_11eb_822a_001a6b0d1d6erow3_col7\" class=\"data row3 col7\" >1.00%</td>\n",
       "                        <td id=\"T_b3687fed_bbe4_11eb_822a_001a6b0d1d6erow3_col8\" class=\"data row3 col8\" >4.61%</td>\n",
       "            </tr>\n",
       "            <tr>\n",
       "                        <th id=\"T_b3687fed_bbe4_11eb_822a_001a6b0d1d6elevel0_row4\" class=\"row_heading level0 row4\" >Platform</th>\n",
       "                        <td id=\"T_b3687fed_bbe4_11eb_822a_001a6b0d1d6erow4_col0\" class=\"data row4 col0\" >28.000000</td>\n",
       "                        <td id=\"T_b3687fed_bbe4_11eb_822a_001a6b0d1d6erow4_col1\" class=\"data row4 col1\" >40.000000</td>\n",
       "                        <td id=\"T_b3687fed_bbe4_11eb_822a_001a6b0d1d6erow4_col2\" class=\"data row4 col2\" >nan</td>\n",
       "                        <td id=\"T_b3687fed_bbe4_11eb_822a_001a6b0d1d6erow4_col3\" class=\"data row4 col3\" >5.000000</td>\n",
       "                        <td id=\"T_b3687fed_bbe4_11eb_822a_001a6b0d1d6erow4_col4\" class=\"data row4 col4\" >12.000000</td>\n",
       "                        <td id=\"T_b3687fed_bbe4_11eb_822a_001a6b0d1d6erow4_col5\" class=\"data row4 col5\" >7.09%</td>\n",
       "                        <td id=\"T_b3687fed_bbe4_11eb_822a_001a6b0d1d6erow4_col6\" class=\"data row4 col6\" >13.07%</td>\n",
       "                        <td id=\"T_b3687fed_bbe4_11eb_822a_001a6b0d1d6erow4_col7\" class=\"data row4 col7\" >nan%</td>\n",
       "                        <td id=\"T_b3687fed_bbe4_11eb_822a_001a6b0d1d6erow4_col8\" class=\"data row4 col8\" >1.21%</td>\n",
       "            </tr>\n",
       "            <tr>\n",
       "                        <th id=\"T_b3687fed_bbe4_11eb_822a_001a6b0d1d6elevel0_row5\" class=\"row_heading level0 row5\" >Puzzle</th>\n",
       "                        <td id=\"T_b3687fed_bbe4_11eb_822a_001a6b0d1d6erow5_col0\" class=\"data row5 col0\" >9.000000</td>\n",
       "                        <td id=\"T_b3687fed_bbe4_11eb_822a_001a6b0d1d6erow5_col1\" class=\"data row5 col1\" >6.000000</td>\n",
       "                        <td id=\"T_b3687fed_bbe4_11eb_822a_001a6b0d1d6erow5_col2\" class=\"data row5 col2\" >nan</td>\n",
       "                        <td id=\"T_b3687fed_bbe4_11eb_822a_001a6b0d1d6erow5_col3\" class=\"data row5 col3\" >1.000000</td>\n",
       "                        <td id=\"T_b3687fed_bbe4_11eb_822a_001a6b0d1d6erow5_col4\" class=\"data row5 col4\" >12.000000</td>\n",
       "                        <td id=\"T_b3687fed_bbe4_11eb_822a_001a6b0d1d6erow5_col5\" class=\"data row5 col5\" >2.28%</td>\n",
       "                        <td id=\"T_b3687fed_bbe4_11eb_822a_001a6b0d1d6erow5_col6\" class=\"data row5 col6\" >1.96%</td>\n",
       "                        <td id=\"T_b3687fed_bbe4_11eb_822a_001a6b0d1d6erow5_col7\" class=\"data row5 col7\" >nan%</td>\n",
       "                        <td id=\"T_b3687fed_bbe4_11eb_822a_001a6b0d1d6erow5_col8\" class=\"data row5 col8\" >0.24%</td>\n",
       "            </tr>\n",
       "            <tr>\n",
       "                        <th id=\"T_b3687fed_bbe4_11eb_822a_001a6b0d1d6elevel0_row6\" class=\"row_heading level0 row6\" >Racing</th>\n",
       "                        <td id=\"T_b3687fed_bbe4_11eb_822a_001a6b0d1d6erow6_col0\" class=\"data row6 col0\" >62.000000</td>\n",
       "                        <td id=\"T_b3687fed_bbe4_11eb_822a_001a6b0d1d6erow6_col1\" class=\"data row6 col1\" >14.000000</td>\n",
       "                        <td id=\"T_b3687fed_bbe4_11eb_822a_001a6b0d1d6erow6_col2\" class=\"data row6 col2\" >2.000000</td>\n",
       "                        <td id=\"T_b3687fed_bbe4_11eb_822a_001a6b0d1d6erow6_col3\" class=\"data row6 col3\" >10.000000</td>\n",
       "                        <td id=\"T_b3687fed_bbe4_11eb_822a_001a6b0d1d6erow6_col4\" class=\"data row6 col4\" >27.000000</td>\n",
       "                        <td id=\"T_b3687fed_bbe4_11eb_822a_001a6b0d1d6erow6_col5\" class=\"data row6 col5\" >15.70%</td>\n",
       "                        <td id=\"T_b3687fed_bbe4_11eb_822a_001a6b0d1d6erow6_col6\" class=\"data row6 col6\" >4.58%</td>\n",
       "                        <td id=\"T_b3687fed_bbe4_11eb_822a_001a6b0d1d6erow6_col7\" class=\"data row6 col7\" >0.40%</td>\n",
       "                        <td id=\"T_b3687fed_bbe4_11eb_822a_001a6b0d1d6erow6_col8\" class=\"data row6 col8\" >2.43%</td>\n",
       "            </tr>\n",
       "            <tr>\n",
       "                        <th id=\"T_b3687fed_bbe4_11eb_822a_001a6b0d1d6elevel0_row7\" class=\"row_heading level0 row7\" >Role-Playing</th>\n",
       "                        <td id=\"T_b3687fed_bbe4_11eb_822a_001a6b0d1d6erow7_col0\" class=\"data row7 col0\" >5.000000</td>\n",
       "                        <td id=\"T_b3687fed_bbe4_11eb_822a_001a6b0d1d6erow7_col1\" class=\"data row7 col1\" >12.000000</td>\n",
       "                        <td id=\"T_b3687fed_bbe4_11eb_822a_001a6b0d1d6erow7_col2\" class=\"data row7 col2\" >70.000000</td>\n",
       "                        <td id=\"T_b3687fed_bbe4_11eb_822a_001a6b0d1d6erow7_col3\" class=\"data row7 col3\" >86.000000</td>\n",
       "                        <td id=\"T_b3687fed_bbe4_11eb_822a_001a6b0d1d6erow7_col4\" class=\"data row7 col4\" >197.000000</td>\n",
       "                        <td id=\"T_b3687fed_bbe4_11eb_822a_001a6b0d1d6erow7_col5\" class=\"data row7 col5\" >1.27%</td>\n",
       "                        <td id=\"T_b3687fed_bbe4_11eb_822a_001a6b0d1d6erow7_col6\" class=\"data row7 col6\" >3.92%</td>\n",
       "                        <td id=\"T_b3687fed_bbe4_11eb_822a_001a6b0d1d6erow7_col7\" class=\"data row7 col7\" >14.06%</td>\n",
       "                        <td id=\"T_b3687fed_bbe4_11eb_822a_001a6b0d1d6erow7_col8\" class=\"data row7 col8\" >20.87%</td>\n",
       "            </tr>\n",
       "            <tr>\n",
       "                        <th id=\"T_b3687fed_bbe4_11eb_822a_001a6b0d1d6elevel0_row8\" class=\"row_heading level0 row8\" >Shooter</th>\n",
       "                        <td id=\"T_b3687fed_bbe4_11eb_822a_001a6b0d1d6erow8_col0\" class=\"data row8 col0\" >nan</td>\n",
       "                        <td id=\"T_b3687fed_bbe4_11eb_822a_001a6b0d1d6erow8_col1\" class=\"data row8 col1\" >16.000000</td>\n",
       "                        <td id=\"T_b3687fed_bbe4_11eb_822a_001a6b0d1d6erow8_col2\" class=\"data row8 col2\" >158.000000</td>\n",
       "                        <td id=\"T_b3687fed_bbe4_11eb_822a_001a6b0d1d6erow8_col3\" class=\"data row8 col3\" >27.000000</td>\n",
       "                        <td id=\"T_b3687fed_bbe4_11eb_822a_001a6b0d1d6erow8_col4\" class=\"data row8 col4\" >34.000000</td>\n",
       "                        <td id=\"T_b3687fed_bbe4_11eb_822a_001a6b0d1d6erow8_col5\" class=\"data row8 col5\" >nan%</td>\n",
       "                        <td id=\"T_b3687fed_bbe4_11eb_822a_001a6b0d1d6erow8_col6\" class=\"data row8 col6\" >5.23%</td>\n",
       "                        <td id=\"T_b3687fed_bbe4_11eb_822a_001a6b0d1d6erow8_col7\" class=\"data row8 col7\" >31.73%</td>\n",
       "                        <td id=\"T_b3687fed_bbe4_11eb_822a_001a6b0d1d6erow8_col8\" class=\"data row8 col8\" >6.55%</td>\n",
       "            </tr>\n",
       "            <tr>\n",
       "                        <th id=\"T_b3687fed_bbe4_11eb_822a_001a6b0d1d6elevel0_row9\" class=\"row_heading level0 row9\" >Simulation</th>\n",
       "                        <td id=\"T_b3687fed_bbe4_11eb_822a_001a6b0d1d6erow9_col0\" class=\"data row9 col0\" >19.000000</td>\n",
       "                        <td id=\"T_b3687fed_bbe4_11eb_822a_001a6b0d1d6erow9_col1\" class=\"data row9 col1\" >4.000000</td>\n",
       "                        <td id=\"T_b3687fed_bbe4_11eb_822a_001a6b0d1d6erow9_col2\" class=\"data row9 col2\" >2.000000</td>\n",
       "                        <td id=\"T_b3687fed_bbe4_11eb_822a_001a6b0d1d6erow9_col3\" class=\"data row9 col3\" >17.000000</td>\n",
       "                        <td id=\"T_b3687fed_bbe4_11eb_822a_001a6b0d1d6erow9_col4\" class=\"data row9 col4\" >38.000000</td>\n",
       "                        <td id=\"T_b3687fed_bbe4_11eb_822a_001a6b0d1d6erow9_col5\" class=\"data row9 col5\" >4.81%</td>\n",
       "                        <td id=\"T_b3687fed_bbe4_11eb_822a_001a6b0d1d6erow9_col6\" class=\"data row9 col6\" >1.31%</td>\n",
       "                        <td id=\"T_b3687fed_bbe4_11eb_822a_001a6b0d1d6erow9_col7\" class=\"data row9 col7\" >0.40%</td>\n",
       "                        <td id=\"T_b3687fed_bbe4_11eb_822a_001a6b0d1d6erow9_col8\" class=\"data row9 col8\" >4.13%</td>\n",
       "            </tr>\n",
       "            <tr>\n",
       "                        <th id=\"T_b3687fed_bbe4_11eb_822a_001a6b0d1d6elevel0_row10\" class=\"row_heading level0 row10\" >Sports</th>\n",
       "                        <td id=\"T_b3687fed_bbe4_11eb_822a_001a6b0d1d6erow10_col0\" class=\"data row10 col0\" >166.000000</td>\n",
       "                        <td id=\"T_b3687fed_bbe4_11eb_822a_001a6b0d1d6erow10_col1\" class=\"data row10 col1\" >18.000000</td>\n",
       "                        <td id=\"T_b3687fed_bbe4_11eb_822a_001a6b0d1d6erow10_col2\" class=\"data row10 col2\" >nan</td>\n",
       "                        <td id=\"T_b3687fed_bbe4_11eb_822a_001a6b0d1d6erow10_col3\" class=\"data row10 col3\" >24.000000</td>\n",
       "                        <td id=\"T_b3687fed_bbe4_11eb_822a_001a6b0d1d6erow10_col4\" class=\"data row10 col4\" >60.000000</td>\n",
       "                        <td id=\"T_b3687fed_bbe4_11eb_822a_001a6b0d1d6erow10_col5\" class=\"data row10 col5\" >42.03%</td>\n",
       "                        <td id=\"T_b3687fed_bbe4_11eb_822a_001a6b0d1d6erow10_col6\" class=\"data row10 col6\" >5.88%</td>\n",
       "                        <td id=\"T_b3687fed_bbe4_11eb_822a_001a6b0d1d6erow10_col7\" class=\"data row10 col7\" >nan%</td>\n",
       "                        <td id=\"T_b3687fed_bbe4_11eb_822a_001a6b0d1d6erow10_col8\" class=\"data row10 col8\" >5.83%</td>\n",
       "            </tr>\n",
       "            <tr>\n",
       "                        <th id=\"T_b3687fed_bbe4_11eb_822a_001a6b0d1d6elevel0_row11\" class=\"row_heading level0 row11\" >Strategy</th>\n",
       "                        <td id=\"T_b3687fed_bbe4_11eb_822a_001a6b0d1d6erow11_col0\" class=\"data row11 col0\" >8.000000</td>\n",
       "                        <td id=\"T_b3687fed_bbe4_11eb_822a_001a6b0d1d6erow11_col1\" class=\"data row11 col1\" >4.000000</td>\n",
       "                        <td id=\"T_b3687fed_bbe4_11eb_822a_001a6b0d1d6erow11_col2\" class=\"data row11 col2\" >4.000000</td>\n",
       "                        <td id=\"T_b3687fed_bbe4_11eb_822a_001a6b0d1d6erow11_col3\" class=\"data row11 col3\" >14.000000</td>\n",
       "                        <td id=\"T_b3687fed_bbe4_11eb_822a_001a6b0d1d6erow11_col4\" class=\"data row11 col4\" >41.000000</td>\n",
       "                        <td id=\"T_b3687fed_bbe4_11eb_822a_001a6b0d1d6erow11_col5\" class=\"data row11 col5\" >2.03%</td>\n",
       "                        <td id=\"T_b3687fed_bbe4_11eb_822a_001a6b0d1d6erow11_col6\" class=\"data row11 col6\" >1.31%</td>\n",
       "                        <td id=\"T_b3687fed_bbe4_11eb_822a_001a6b0d1d6erow11_col7\" class=\"data row11 col7\" >0.80%</td>\n",
       "                        <td id=\"T_b3687fed_bbe4_11eb_822a_001a6b0d1d6erow11_col8\" class=\"data row11 col8\" >3.40%</td>\n",
       "            </tr>\n",
       "    </tbody></table>"
      ],
      "text/plain": [
       "<pandas.io.formats.style.Styler at 0x139c7292340>"
      ]
     },
     "execution_count": 61,
     "metadata": {},
     "output_type": "execute_result"
    }
   ],
   "source": [
    "genres_esrb = (newdata\n",
    "               .pivot_table(\n",
    "                   index='genre', \n",
    "                   columns='esrb_rating', \n",
    "                   values='name', \n",
    "                   aggfunc='count')\n",
    "              )\n",
    "\n",
    "genres_esrb['e_part'] = genres_esrb['E'] / genres_esrb['E'].sum()\n",
    "genres_esrb['e10_part'] = genres_esrb['E10+'] / genres_esrb['E10+'].sum()\n",
    "genres_esrb['m_part'] = genres_esrb['M'] / genres_esrb['M'].sum()\n",
    "genres_esrb['t_part'] = genres_esrb['T'] / genres_esrb['T'].sum()\n",
    "\n",
    "(genres_esrb.style.format({'e_part': \"{:.2%}\",\n",
    "                          'e10_part': \"{:.2%}\",\n",
    "                          'm_part': \"{:.2%}\",\n",
    "                          't_part': \"{:.2%}\"})\n",
    "                        .highlight_max(\n",
    "                            subset=['e_part', 'e10_part', 'm_part', 't_part'], \n",
    "                            color='yellow', \n",
    "                            axis=0)\n",
    ")    "
   ]
  },
  {
   "cell_type": "code",
   "execution_count": 62,
   "metadata": {
    "scrolled": true
   },
   "outputs": [
    {
     "data": {
      "image/png": "[encoded data removed]",
      "text/plain": [
       "<Figure size 648x360 with 1 Axes>"
      ]
     },
     "metadata": {
      "needs_background": "light"
     },
     "output_type": "display_data"
    }
   ],
   "source": [
    "fig, ax = plt.subplots(figsize=(9,5))\n",
    "fig = (genres_esrb[['m_part', 'e_part', 'e10_part', 't_part']]\n",
    "           .sort_values(by='m_part', ascending=False)\n",
    "          .plot(kind='bar', ax=ax, stacked=True, grid=True))\n",
    "plt.xticks(rotation=45)\n",
    "fig.yaxis.set_major_formatter(mpl.ticker.StrMethodFormatter('{x:.1f}'))\n",
    "plt.xlabel('Жанры')\n",
    "plt.ylabel('')\n",
    "plt.title('Доля игр различных категорий ESRB по жанрам')\n",
    "plt.legend(['M', 'E', 'E10+', 'T'])\n",
    "plt.show()"
   ]
  },
  {
   "cell_type": "markdown",
   "metadata": {},
   "source": [
    "Действительно, большая часть игр Shooter получает маркировку M. В то же время у очень популярных в Японии жанров Action и Role-Playing присутствуют различные маркировки &mdash; в том числе, T, E и E10+.\n",
    "\n",
    "Правда, окончательные выводы делать по нашим данным затруднительно, так как рейтинг ЕSRB отсутствовал у многих игр."
   ]
  },
  {
   "cell_type": "markdown",
   "metadata": {},
   "source": [
    "<a id=\"5_sum\"></a>\n",
    "### Выводы"
   ]
  },
  {
   "cell_type": "markdown",
   "metadata": {},
   "source": [
    "В целом, портреты европейских и североамериканских пользователей получились очень похожими. \n",
    "\n",
    "* **Топ-5 популярных платформ для EU и NA:** PS3, PS4, 3DS, XOne, X360 (для двух регионов отличается только порядок). Фавориты различны: в Европе это PS4, а в Северной Америке — X360. Доля рынка у них — около четверти.\n",
    "* **Топ-5 популярных жанров для EU и NA:** первые четыре места полностью совпали &mdash; Action, Shooter, Sports и Role-Playing. Также в Европе в топ вошел жанр Racing, а в Америке — Misc.\n",
    "* **Влияние рейтинга ESRB** проявляется в том, что лучше всего продаются игры категории M (половина от общего объема продаж).\n",
    "\n",
    "Что касается Японии, то портрет типичного пользователя имеет специфические черты:\n",
    "* **Топ-5 популярных платформ для JP:** 3DS, PS3, PS4, PSV и WiiU. Видим в топе две платформы, которые не так популярны в EU и NA. Кроме того, фаворит 3DS занимает почти половину рынка. На выбор платформ может влиять и привычка к использованию портативных устройств, и желание поддержать отечественного производителя. \n",
    "* **Топ-5 популярных жанров для JP:** Role-Playing, Action, за ними с большим отрывом идут Misc, Simulation и Fighting.\n",
    "* **Влияние рейтинга ESRB** в Японии оценивать сложно: более чем для половины игр маркировка отсутствует. Вероятно, это связано с тем, что ESRB - это американская рейтинговая ассоциация, и по многим японским играм категории нет. По 15% продаж приходится на игры категорий E и T, а категория M чуть менее популярна. Либо аудитория в среднем младше, либо дело в предпочтении аудиторией определенных жанров.\n",
    "\n",
    "Кроме того, можно заметить, что:\n",
    "* Платформы PS3, PS4, 3DS входят в топ-5 во всех трех регионах.\n",
    "* Жанры Action и Role-Playing входят в топ-5 во всех трех регионах. \n",
    "* Жанр игры и маркировка, которую она получает, могут быть взаимосвязаны. Соответственно, и продаваемость игр определенной категории будет взаимосвязана с жанровыми предпочтениями того или иного региона."
   ]
  },
  {
   "cell_type": "markdown",
   "metadata": {},
   "source": [
    "<a id=\"hyp\"></a>\n",
    "## Проверка гипотез"
   ]
  },
  {
   "cell_type": "markdown",
   "metadata": {},
   "source": [
    "<a id=\"hyp1\"></a>\n",
    "### Гипотеза о равенстве средних пользовательских рейтингов платформ Xbox One и PC"
   ]
  },
  {
   "cell_type": "markdown",
   "metadata": {},
   "source": [
    "Сначала оценим распределение рейтингов для двух платформ визуально, построив гистограмму, а также рассчитаем основные статистики.\n",
    "\n",
    "Для этого объявим функцию `myhist`."
   ]
  },
  {
   "cell_type": "code",
   "execution_count": 63,
   "metadata": {},
   "outputs": [],
   "source": [
    "def myhist(df, column1, column2, value1, value2):\n",
    "    display(HTML('<b>' + value1 + '</b>'))\n",
    "    display(df[df[column1] == value1][column2].describe())\n",
    "            \n",
    "    display(HTML('<b>' + value2 + '</b>'))\n",
    "    display(df[df[column1] == value2][column2].describe())\n",
    "    (sns.distplot(df[df[column1] == value1][column2].dropna(), \n",
    "                   hist=True, \n",
    "                   kde=True,\n",
    "                   kde_kws={'linewidth': 4},\n",
    "                   label=value1))\n",
    "    (sns.distplot(df[df[column1] == value2][column2].dropna(), \n",
    "                   hist=True, \n",
    "                   kde=True,\n",
    "                   kde_kws={'linewidth': 4},\n",
    "                   label=value2))\n",
    "    plt.axvline(df[df[column1] == value1][column2].mean(), color = 'blue')\n",
    "    plt.axvline(df[df[column1] == value2][column2].mean(), color = 'orange')\n",
    "    plt.legend()\n",
    "    plt.ylabel('Плотность')    "
   ]
  },
  {
   "cell_type": "code",
   "execution_count": 64,
   "metadata": {
    "scrolled": true
   },
   "outputs": [
    {
     "data": {
      "text/html": [
       "<b>XOne</b>"
      ],
      "text/plain": [
       "<IPython.core.display.HTML object>"
      ]
     },
     "metadata": {},
     "output_type": "display_data"
    },
    {
     "data": {
      "text/plain": [
       "count    182.000000\n",
       "mean       6.521429\n",
       "std        1.380941\n",
       "min        1.600000\n",
       "25%        5.800000\n",
       "50%        6.800000\n",
       "75%        7.500000\n",
       "max        9.200000\n",
       "Name: user_score, dtype: float64"
      ]
     },
     "metadata": {},
     "output_type": "display_data"
    },
    {
     "data": {
      "text/html": [
       "<b>PC</b>"
      ],
      "text/plain": [
       "<IPython.core.display.HTML object>"
      ]
     },
     "metadata": {},
     "output_type": "display_data"
    },
    {
     "data": {
      "text/plain": [
       "count    206.000000\n",
       "mean       6.428641\n",
       "std        1.664465\n",
       "min        1.400000\n",
       "25%        5.500000\n",
       "50%        6.800000\n",
       "75%        7.700000\n",
       "max        9.300000\n",
       "Name: user_score, dtype: float64"
      ]
     },
     "metadata": {},
     "output_type": "display_data"
    },
    {
     "data": {
      "image/png": "[encoded data removed]",
      "text/plain": [
       "<Figure size 432x288 with 1 Axes>"
      ]
     },
     "metadata": {
      "needs_background": "light"
     },
     "output_type": "display_data"
    }
   ],
   "source": [
    "myhist(newdata, 'platform', 'user_score', 'XOne', 'PC')\n",
    "plt.title('Cредние пользовательские рейтинги платформ Xbox One и PC')\n",
    "plt.xlabel('Рейтинг')\n",
    "plt.show()"
   ]
  },
  {
   "cell_type": "markdown",
   "metadata": {},
   "source": [
    "Распределения напоминают нормальные, но скошены влево. На графике средние практически совпадают &mdash; линии почти наложились друг на друга, да и столбцы гистограмм также совпадают.\n",
    "\n",
    "Убедимся, что это не случайное ли совпадение. Для этого воспользуемся критерием Стьюдента. Даже если распределения не являются нормальными, наши выборки достаточно велики, чтобы применить t-тест. \n",
    "\n",
    "Сформулируем нулевую гипотезу H0:\n",
    "\n",
    "**Средний пользовательский рейтинг платформы Xbox One равен среднему пользовательскому рейтингу платформы PC**\n",
    "\n",
    "Альтернативная гипотеза H1:\n",
    "\n",
    "**Средние пользовательские рейтинги платформ Xbox One и PC не равны**"
   ]
  },
  {
   "cell_type": "markdown",
   "metadata": {},
   "source": [
    "Стандартные отклонения различны, то есть дисперсии тоже будут различаться, но намного ли? Воспользуемся тестом Левена, чтобы проверить равенство дисперсий для наших двух выборок. За уровень значимости возьмем 5%."
   ]
  },
  {
   "cell_type": "code",
   "execution_count": 65,
   "metadata": {},
   "outputs": [
    {
     "name": "stdout",
     "output_type": "stream",
     "text": [
      "P-value: 0.01251484281850554\n",
      "Считаем, что дисперсии двух выборок не равны\n"
     ]
    }
   ],
   "source": [
    "alpha = .05\n",
    "stat, pvalue = (st.levene\n",
    "                (newdata.query('platform == \"XOne\"')['user_score'].dropna(), \n",
    "                 newdata.query('platform == \"PC\"')['user_score'].dropna())\n",
    "               )\n",
    "\n",
    "print('P-value:', pvalue)\n",
    "\n",
    "if (pvalue < alpha):\n",
    "    print(\"Считаем, что дисперсии двух выборок не равны\")\n",
    "else:\n",
    "    print(\"Считаем, что дисперсии двух выборок равны\")"
   ]
  },
  {
   "cell_type": "markdown",
   "metadata": {},
   "source": [
    "В таком случае задаем параметр `equal_var` = False."
   ]
  },
  {
   "cell_type": "code",
   "execution_count": 66,
   "metadata": {
    "scrolled": true
   },
   "outputs": [
    {
     "name": "stdout",
     "output_type": "stream",
     "text": [
      "p-значение: 0.5489537965134912\n",
      "Не получилось отвергнуть нулевую гипотезу\n"
     ]
    }
   ],
   "source": [
    "stat, pvalue = (st.ttest_ind\n",
    "                (newdata.query('platform == \"XOne\"')['user_score'].dropna(), \n",
    "                 newdata.query('platform == \"PC\"')['user_score'].dropna(), \n",
    "                 equal_var = False)\n",
    "               )\n",
    "\n",
    "print('p-значение:', pvalue)\n",
    "\n",
    "if (pvalue < alpha):\n",
    "    print(\"Отвергаем нулевую гипотезу\")\n",
    "else:\n",
    "    print(\"Не получилось отвергнуть нулевую гипотезу\")"
   ]
  },
  {
   "cell_type": "markdown",
   "metadata": {},
   "source": [
    "Получили довольно высокий p-value, равный 0.54. Значит, статистически значимых различий в средних рейтингах для платформ PC и Xbox One нет. \n",
    "\n",
    "Средние рейтинги равны, продажи выше у Xbox One... Ясно, кого нужно включать в рекламную кампанию."
   ]
  },
  {
   "cell_type": "markdown",
   "metadata": {},
   "source": [
    "<a id=\"hyp2\"></a>\n",
    "### Гипотеза о различии средних пользовательских рейтингов жанров Action и Sports"
   ]
  },
  {
   "cell_type": "markdown",
   "metadata": {},
   "source": [
    "Начнем также с расчета статистик и построения гистограммы."
   ]
  },
  {
   "cell_type": "code",
   "execution_count": 67,
   "metadata": {
    "scrolled": true
   },
   "outputs": [
    {
     "data": {
      "text/html": [
       "<b>Action</b>"
      ],
      "text/plain": [
       "<IPython.core.display.HTML object>"
      ]
     },
     "metadata": {},
     "output_type": "display_data"
    },
    {
     "data": {
      "text/plain": [
       "count    523.000000\n",
       "mean       6.825048\n",
       "std        1.374440\n",
       "min        1.600000\n",
       "25%        6.250000\n",
       "50%        7.100000\n",
       "75%        7.800000\n",
       "max        9.100000\n",
       "Name: user_score, dtype: float64"
      ]
     },
     "metadata": {},
     "output_type": "display_data"
    },
    {
     "data": {
      "text/html": [
       "<b>Sports</b>"
      ],
      "text/plain": [
       "<IPython.core.display.HTML object>"
      ]
     },
     "metadata": {},
     "output_type": "display_data"
    },
    {
     "data": {
      "text/plain": [
       "count    195.000000\n",
       "mean       5.455897\n",
       "std        1.738646\n",
       "min        0.200000\n",
       "25%        4.300000\n",
       "50%        5.700000\n",
       "75%        6.800000\n",
       "max        8.800000\n",
       "Name: user_score, dtype: float64"
      ]
     },
     "metadata": {},
     "output_type": "display_data"
    },
    {
     "data": {
      "image/png": "[encoded data removed]",
      "text/plain": [
       "<Figure size 432x288 with 1 Axes>"
      ]
     },
     "metadata": {
      "needs_background": "light"
     },
     "output_type": "display_data"
    }
   ],
   "source": [
    "myhist(newdata, 'genre', 'user_score', 'Action', 'Sports')\n",
    "plt.title('Cредние пользовательские рейтинги для игр жанров Action и Sports')\n",
    "plt.xlabel('Рейтинг')\n",
    "plt.show()"
   ]
  },
  {
   "cell_type": "markdown",
   "metadata": {},
   "source": [
    "Распределение рейтингов для жанра Sports выглядит нормальным, у выборки по жанру Action заметен скос влево. Средние значения, обозначенные вертикальными линиями, различаются: для Sports среднее ниже, чем для Action. Проведем статистический тест, чтобы проверить нашу гипотезу.\n",
    "\n",
    "Сформулируем нулевую гипотезу H0:\n",
    "\n",
    "**Средний пользовательский рейтинг жанра Action равен среднему пользовательскому рейтингу жанра Sports**\n",
    "\n",
    "Альтернативная гипотеза H1:\n",
    "\n",
    "**Средние пользовательские рейтинги жанров Action и Sports не равны**"
   ]
  },
  {
   "cell_type": "markdown",
   "metadata": {},
   "source": [
    "Узнаем, различны ли дисперсии. Судя по значениям стандартного отклонения &mdash; да, будут различны."
   ]
  },
  {
   "cell_type": "code",
   "execution_count": 68,
   "metadata": {},
   "outputs": [
    {
     "name": "stdout",
     "output_type": "stream",
     "text": [
      "P-value: 1.3125789036876737e-05\n",
      "Считаем, что дисперсии двух выборок не равны\n"
     ]
    }
   ],
   "source": [
    "stat, pvalue = (st.levene\n",
    "                (newdata.query('genre == \"Action\"')['user_score'].dropna(), \n",
    "                 newdata.query('genre == \"Sports\"')['user_score'].dropna())\n",
    "               )\n",
    "\n",
    "print('P-value:', pvalue)\n",
    "\n",
    "if (pvalue < alpha):\n",
    "    print(\"Считаем, что дисперсии двух выборок не равны\")\n",
    "else:\n",
    "    print(\"Считаем, что дисперсии двух выборок равны\")"
   ]
  },
  {
   "cell_type": "markdown",
   "metadata": {},
   "source": [
    "Результат теста Левена согласуется с нашим предположением. Устанавливаем `equal_var` = False и проверяем нашу нулевую гипотезу."
   ]
  },
  {
   "cell_type": "code",
   "execution_count": 69,
   "metadata": {
    "scrolled": true
   },
   "outputs": [
    {
     "name": "stdout",
     "output_type": "stream",
     "text": [
      "p-значение: 4.24307776572644e-20\n",
      "Отвергаем нулевую гипотезу\n"
     ]
    }
   ],
   "source": [
    "stat, pvalue = (st.ttest_ind\n",
    "                (newdata.query('genre == \"Action\"')['user_score'].dropna(), \n",
    "                 newdata.query('genre == \"Sports\"')['user_score'].dropna(), \n",
    "                 equal_var = False)\n",
    "               )\n",
    "\n",
    "print('p-значение:', pvalue)\n",
    "\n",
    "if (pvalue < alpha):\n",
    "    print(\"Отвергаем нулевую гипотезу\")\n",
    "else:\n",
    "    print(\"Не получилось отвергнуть нулевую гипотезу\")"
   ]
  },
  {
   "cell_type": "markdown",
   "metadata": {},
   "source": [
    "Получили p-value, близкое к нулю. Значит, мы можем отклонить нулевую гипотезу о равенстве средних: наблюдаемая нами разница в средних рейтингах неслучайна.  \n",
    "\n",
    "Оценивают по-разному, но все равно покупают! По меньшей мере, в Европе и Северной Америке. Значит, исключать совсем игры жанра Sports не стоит. "
   ]
  },
  {
   "cell_type": "markdown",
   "metadata": {},
   "source": [
    "<a id=\"hyp3\"></a>\n",
    "### Гипотеза о различии среднего количества продаж для жанров Action и Shooter"
   ]
  },
  {
   "cell_type": "markdown",
   "metadata": {},
   "source": [
    "Ранее мы анализировали жанры по объему продаж и обратили внимание, что по общему количеству проданных игр лидирует Action, а по количеству проданных копий на одну игру &mdash; Shooter. Тогда мы предположили, что среднее количество проданных копий будет выше для Shooter.\n",
    "\n",
    "Если так, то в таком случае имеет смысл делать ставку на игры жанра Shooter &mdash; ведь тогда в среднем каждая игра будет продаваться лучше, чем Action. Проверим эту гипотезу."
   ]
  },
  {
   "cell_type": "code",
   "execution_count": 70,
   "metadata": {
    "scrolled": true
   },
   "outputs": [
    {
     "data": {
      "text/html": [
       "<b>Action</b>"
      ],
      "text/plain": [
       "<IPython.core.display.HTML object>"
      ]
     },
     "metadata": {},
     "output_type": "display_data"
    },
    {
     "data": {
      "text/plain": [
       "count    1031.000000\n",
       "mean        0.427856\n",
       "std         1.166504\n",
       "min         0.010000\n",
       "25%         0.030000\n",
       "50%         0.120000\n",
       "75%         0.390000\n",
       "max        21.050000\n",
       "Name: total_sales, dtype: float64"
      ]
     },
     "metadata": {},
     "output_type": "display_data"
    },
    {
     "data": {
      "text/html": [
       "<b>Shooter</b>"
      ],
      "text/plain": [
       "<IPython.core.display.HTML object>"
      ]
     },
     "metadata": {},
     "output_type": "display_data"
    },
    {
     "data": {
      "text/plain": [
       "count    235.000000\n",
       "mean       1.296723\n",
       "std        2.251662\n",
       "min        0.010000\n",
       "25%        0.135000\n",
       "50%        0.440000\n",
       "75%        1.480000\n",
       "max       14.630000\n",
       "Name: total_sales, dtype: float64"
      ]
     },
     "metadata": {},
     "output_type": "display_data"
    },
    {
     "data": {
      "image/png": "[encoded data removed]",
      "text/plain": [
       "<Figure size 432x288 with 1 Axes>"
      ]
     },
     "metadata": {
      "needs_background": "light"
     },
     "output_type": "display_data"
    }
   ],
   "source": [
    "myhist(newdata, 'genre', 'total_sales', 'Action', 'Shooter')"
   ]
  },
  {
   "cell_type": "markdown",
   "metadata": {},
   "source": [
    "Оба распределения сильно скошены вправо. График, соответствующий жанру Action, имеет высокий пик на малых значениях, второе распределение более плоское. Центры распределений различаются, на графике они обозначены вертикальными линиями. \n",
    "\n",
    "Величина стандартного отклонения для Shooter вдвое выше, чем для Action. Этого достаточно, чтобы сделать вывод о различии дисперсий, поэтому тест Левена можно не проводить.\n",
    "\n",
    "У нас две категориальные переменные (жанр) и одна количественная &mdash; количество проданных копий. Объем выборок достаточно велик: 1031 и 235 значений соответственно, поэтому выбираем t-тест. Уровень значимости &mdash; 5%.\n",
    "\n",
    "В качестве нулевой гипотезы H0 примем следующее:\n",
    "\n",
    "**Среднее количество проданных копий для жанров Action и Shooter не отличается.**\n",
    "\n",
    "Тогда альтернативная гипотеза H1:\n",
    "\n",
    "**Среднее количество проданных копий различается для жанров Action и Shooter.**"
   ]
  },
  {
   "cell_type": "code",
   "execution_count": 71,
   "metadata": {
    "scrolled": true
   },
   "outputs": [
    {
     "name": "stdout",
     "output_type": "stream",
     "text": [
      "p-значение: 2.5682409217258537e-08\n",
      "Отвергаем нулевую гипотезу\n"
     ]
    }
   ],
   "source": [
    "stat, pvalue = (st.ttest_ind\n",
    "                (newdata.query('genre == \"Action\"')['total_sales'].dropna(), \n",
    "                 newdata.query('genre == \"Shooter\"')['total_sales'].dropna(), \n",
    "                 equal_var = False)\n",
    "               )\n",
    "\n",
    "print('p-значение:', pvalue)\n",
    "\n",
    "if (pvalue < alpha):\n",
    "    print(\"Отвергаем нулевую гипотезу\")\n",
    "else:\n",
    "    print(\"Не получилось отвергнуть нулевую гипотезу\")"
   ]
  },
  {
   "cell_type": "markdown",
   "metadata": {},
   "source": [
    "Мы получили очень низкое значение p-value. Значит, мы отвергаем нулевую гипотезу о равенстве средних. Можно говорить о том, что статистически среднее количество продаж для жанров Action и Shooter различно, а результаты теста являются статистически значимыми."
   ]
  },
  {
   "cell_type": "markdown",
   "metadata": {},
   "source": [
    "<a id=\"6_sum\"></a>\n",
    "### Выводы"
   ]
  },
  {
   "cell_type": "markdown",
   "metadata": {},
   "source": [
    "Мы выдвинули три гипотезы: \n",
    "* о равенстве средних пользовательских рейтингов для платформ PC и Xbox One\n",
    "* о различии средних рейтингов для игр жанра Action и Sports\n",
    "* о различии среднего объема продаж для игр жанра Action и Shooter\n",
    "\n",
    "По итогам статистического теста мы не отклонили первую гипотезу. Статистически средние рейтинги для платформ не отличаются.\n",
    "\n",
    "Вторую гипотезу мы принимаем. По итогам теста мы отклонили нулевую гипотезу о равенстве средних рейтингов. Получается, что пользователи в среднем по-другому оценивают игры жанра Sports, чем Action.\n",
    "\n",
    "Третья гипотеза была выдвинута нами в ходе анализа прибыльных жанров. Статистически средний объем продаж для жанров Action и Shooter различен (для Shooter выше). "
   ]
  },
  {
   "cell_type": "markdown",
   "metadata": {},
   "source": [
    "<a id=\"total\"></a>\n",
    "## Общий вывод"
   ]
  },
  {
   "cell_type": "markdown",
   "metadata": {},
   "source": [
    "Мы провели исследование для планирования продаж на 2017 год в магазине компьютерных игр. В нашем распоряжении были исторические данные о продажах игр в 4 разных регионах за 37 лет, начиная с 1980 по 2016 год. Статистика включала в себя:\n",
    "\n",
    "- информацию об играх (платформа, год выпуска, жанр, возрастная категория от ESRB)\n",
    "- информацию о продажах по регионам (в млн копий)\n",
    "- рейтинг критиков и пользователей\n",
    "\n",
    "Нашей задачей было определить закономерности для коммерчески успешных игр, чтобы продвигать их в магазине.\n",
    "\n",
    "В ходе анализа исторических данных за все время мы выяснили, что:\n",
    "\n",
    "- В 80-е и 90-е игр выпускалось сравнительно мало. Бум игр пришелся на десятилетие с 2002 по 2012.\n",
    "- Средний жизненный цикл платформы составляет около 7-10 лет. Пика продаж она достигает на 3-5 году существования.\n",
    "- Исходя из этого, мы выбрали для дальнейшего анализа пятилетний период с 2012 по 2016 год.\n",
    "\n",
    "Исследуя данные за 2012-2016, мы получили следующие результаты:\n",
    "\n",
    "- Основной объем продаж на рынке делили между собой 11 платформ. Из них две уже сошли со сцены, шесть показывают стабильное падение и низкие продажи, и только три платформы лидируют: **PS4, XOne и 3DS.** Они показали наибольший объем продаж и лучшую динамику за последние 5 лет. Значит, их можно считать потенциально прибыльными и в 2017 году.\n",
    "- При том что типичный объем продаж для игр PS4 и XOne находится в одном диапазоне (от 50 до 700 тысяч копий), PS4 лидирует с большим отрывом. Это объясняется тем, что отдельные мегапопулярные игры **продаются в десятки раз лучше (10-15 млн копий)**. Это верно как для PS4, так и для 3DS. Поэтому нам важно выбрать для продвижения популярные игры, которые принесут больше продаж, а не просто любую игру данных платформ.\n",
    "- Мы решили проверить, влияет ли рейтинг игры на ее продажи. Это позволило бы предсказать успешные игры. Выяснилось, что **между оценкой критиков и объемом продаж есть связь**, хоть и слабая. А вот пользовательская оценка с продажами никак не связана &mdash; это ненадежный критерий.\n",
    "- Что касается жанров, то среди них можно выделить коммерчески успешные. Жанр Action покупают чаще всего, причем он пользуется успехом в трех регионах (NA, EU, JP). За ним идут Shooter, Role-Playing и Sports.\n",
    "- По количеству проданных копий на одну игру **лидирует жанр Shooter**, за ним Platform, Sports и Role-Playing. \n",
    "- К наименее прибыльным жанрам мы отнесли Adventure, Strategy и Puzzle.\n",
    "- Итак, три наших жанра-фаворита &mdash; это **Shooter, Sports и Role-Playing**: и каждая игра в среднем продается хорошо, и абсолютные количества продаж входят в первую четверку.\n",
    "\n",
    "Далее мы решили составить портрет пользователей в зависимости от региона: Европы, Северной Америки или Японии.\n",
    "\n",
    "- В Европе и Северной Америке предпочтения по жанрам и платформам очень схожи, а в Японии топ-5 выглядит иначе и для жанров, и для платформ.\n",
    "- Платформы PS3, PS4, 3DS входят в топ-5 во всех трех регионах. XOne популярен в Европе и Америке, но не в Японии.\n",
    "- Жанры Action и Role-Playing входят в топ-5 во всех трех регионах. В Европе и Америке также весьма популярны жанры Shooter и Sports.\n",
    "- В Европе и Северной Америке половину всех игр составляют игры категории M. По Японии выводы делать сложно &mdash; там отсутствуют рейтинги для более чем половины игр. Но там, где рейтинги известны, продажи делятся примерно поровну между категориями E и T, а M чуть отстает.\n",
    "\n",
    "Для проверки наших гипотез мы провели статистические тесты с уровнем значимости 5% и следующими результатами:\n",
    "\n",
    "- Выяснили, что средние пользовательские рейтинги для платформ PC и Xbox One статистически не различаются.\n",
    "- Отклонили гипотезу о том, что средние рейтинги для игр жанра Action и Sports равны. Как говорилось раньше, среднее количество проданных копий выше у игр Sports. Поэтому совсем из рассмотрения их не исключаем.\n",
    "- Приняли гипотезу о различии среднего объема продаж для игр жанра Action и Shooter. Для нас это означает, что в ассортимент нужно включать больше игр Action, если мы хотим добиться продаж, сопоставимых с жанром Shooter."
   ]
  },
  {
   "cell_type": "markdown",
   "metadata": {},
   "source": [
    "<a id=\"rec\"></a>\n",
    "### Рекомендации для бизнеса"
   ]
  },
  {
   "cell_type": "markdown",
   "metadata": {},
   "source": [
    "С учетом проведенного анализа, для рекламной кампании на 2017 год можно предложить продвижение различных игр с использованием геотаргетинга.\n",
    "\n",
    "**Игры для продвижения в Европе и Америке**:\n",
    "\n",
    "- На платформах PS4 и XOne\n",
    "- Жанры Shooter и Action, также возможно Role-Playing и Sports\n",
    "- Категории M, E\n",
    "- Оценка критиков - от 70 баллов\n",
    "\n",
    "\n",
    "**Игры для продвижения в Японии**:\n",
    "- На платформах 3DS и PS4\n",
    "- Жанры Role-Playing и Action\n",
    "- Из категорий должны точно присутствовать E и T. Но лучше всего будет запросить сведения по японским рейтингам\n",
    "- Оценка критиков - от 70 баллов"
   ]
  }
 ],
 "metadata": {
  "kernelspec": {
   "display_name": "Python 3",
   "language": "python",
   "name": "python3"
  },
  "language_info": {
   "codemirror_mode": {
    "name": "ipython",
    "version": 3
   },
   "file_extension": ".py",
   "mimetype": "text/x-python",
   "name": "python",
   "nbconvert_exporter": "python",
   "pygments_lexer": "ipython3",
   "version": "3.8.5"
  },
  "toc": {
   "base_numbering": 1,
   "nav_menu": {},
   "number_sections": true,
   "sideBar": true,
   "skip_h1_title": true,
   "title_cell": "Table of Contents",
   "title_sidebar": "Contents",
   "toc_cell": false,
   "toc_position": {
    "height": "calc(100% - 180px)",
    "left": "10px",
    "top": "150px",
    "width": "351.969px"
   },
   "toc_section_display": true,
   "toc_window_display": true
  }
 },
 "nbformat": 4,
 "nbformat_minor": 2
}
