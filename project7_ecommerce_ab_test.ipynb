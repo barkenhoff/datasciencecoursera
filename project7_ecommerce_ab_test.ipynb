{
 "cells": [
  {
   "cell_type": "markdown",
   "metadata": {},
   "source": [
    "# Исследование результатов A/B-теста для интернет-магазина"
   ]
  },
  {
   "cell_type": "markdown",
   "metadata": {},
   "source": [
    "## Цели и задачи исследования"
   ]
  },
  {
   "cell_type": "markdown",
   "metadata": {},
   "source": [
    "Крупный интернет-магазин поставил цель увеличить выручку. Вместе с отделом маркетинга был подготовлен список гипотез, которые помогут достичь этой цели. \n",
    "\n",
    "**В нашем распоряжении следующие данные:**\n",
    "\n",
    "- описание гипотез и их ключевые параметры с оценкой по 10-балльной шкале (Reach, Impact и т.д.)\n",
    "- данные о заказах и выручке с указанием группы A/B-теста\n",
    "- данные о посетителях сайта с указанием группы A/B-теста\n",
    "\n",
    "**Наши задачи в ходе исследования:**\n",
    "\n",
    "- Подготовить данные (проанализировать пропуски, найти и устранить дубликаты, заменить тип данных на корректный)\n",
    "- Приоритизировать гипотезы\n",
    "- Проанализировать результаты A/B-теста и ответить на вопросы: можно ли остановить тест? Есть ли победитель?"
   ]
  },
  {
   "cell_type": "markdown",
   "metadata": {},
   "source": [
    "## Обзор данных"
   ]
  },
  {
   "cell_type": "markdown",
   "metadata": {},
   "source": [
    "Импортируем библиотеки и отключим предупреждения."
   ]
  },
  {
   "cell_type": "code",
   "execution_count": 1,
   "metadata": {},
   "outputs": [],
   "source": [
    "import pandas as pd\n",
    "import numpy as np\n",
    "\n",
    "import scipy.stats as stats\n",
    "\n",
    "import seaborn as sns\n",
    "from matplotlib import pyplot as plt\n",
    "from matplotlib.pyplot import figure\n",
    "import datetime as dt\n",
    "\n",
    "from IPython.display import HTML, display\n",
    "import warnings\n",
    "\n",
    "warnings.filterwarnings('ignore')"
   ]
  },
  {
   "cell_type": "markdown",
   "metadata": {},
   "source": [
    "Отключим автоскролл и scientific notation."
   ]
  },
  {
   "cell_type": "code",
   "execution_count": 2,
   "metadata": {},
   "outputs": [
    {
     "data": {
      "application/javascript": [
       "IPython.OutputArea.prototype._should_scroll = function(lines) {\n",
       "    return false;\n",
       "}\n"
      ],
      "text/plain": [
       "<IPython.core.display.Javascript object>"
      ]
     },
     "metadata": {},
     "output_type": "display_data"
    }
   ],
   "source": [
    "%%javascript \n",
    "IPython.OutputArea.prototype._should_scroll = function(lines) {\n",
    "    return false;\n",
    "}"
   ]
  },
  {
   "cell_type": "code",
   "execution_count": 3,
   "metadata": {},
   "outputs": [],
   "source": [
    "pd.set_option('display.float_format', lambda x: '%.3f' % x)"
   ]
  },
  {
   "cell_type": "markdown",
   "metadata": {},
   "source": [
    "Загрузим таблицы с данными и сохраним в соответствующие переменные"
   ]
  },
  {
   "cell_type": "code",
   "execution_count": 4,
   "metadata": {},
   "outputs": [],
   "source": [
    "hp = pd.read_csv('hypothesis.csv')\n",
    "orders = pd.read_csv('orders.csv')\n",
    "visits = pd.read_csv('visitors.csv')"
   ]
  },
  {
   "cell_type": "markdown",
   "metadata": {},
   "source": [
    "Объявим функцию `overview` для просмотра данных о таблицах и вывода первых строк."
   ]
  },
  {
   "cell_type": "code",
   "execution_count": 5,
   "metadata": {},
   "outputs": [],
   "source": [
    "def overview(df_list):\n",
    "    \"\"\"Выводит базовую информацию о таблицах из списка и первые 5 строк каждой таблицы\"\"\"\n",
    "    for x, y in df_list:\n",
    "        display(HTML('<h2>Таблица ' + y + '</h2>'))\n",
    "        display(x.head())\n",
    "        display(x.info())\n",
    "        display(x.describe())  "
   ]
  },
  {
   "cell_type": "markdown",
   "metadata": {},
   "source": [
    "Cохраним датафреймы и их названия в список, а затем вызовем нашу функцию для просмотра данных."
   ]
  },
  {
   "cell_type": "code",
   "execution_count": 6,
   "metadata": {
    "scrolled": false
   },
   "outputs": [
    {
     "data": {
      "text/html": [
       "<h2>Таблица hp</h2>"
      ],
      "text/plain": [
       "<IPython.core.display.HTML object>"
      ]
     },
     "metadata": {},
     "output_type": "display_data"
    },
    {
     "data": {
      "text/html": [
       "<div>\n",
       "<style scoped>\n",
       "    .dataframe tbody tr th:only-of-type {\n",
       "        vertical-align: middle;\n",
       "    }\n",
       "\n",
       "    .dataframe tbody tr th {\n",
       "        vertical-align: top;\n",
       "    }\n",
       "\n",
       "    .dataframe thead th {\n",
       "        text-align: right;\n",
       "    }\n",
       "</style>\n",
       "<table border=\"1\" class=\"dataframe\">\n",
       "  <thead>\n",
       "    <tr style=\"text-align: right;\">\n",
       "      <th></th>\n",
       "      <th>Hypothesis</th>\n",
       "      <th>Reach</th>\n",
       "      <th>Impact</th>\n",
       "      <th>Confidence</th>\n",
       "      <th>Efforts</th>\n",
       "    </tr>\n",
       "  </thead>\n",
       "  <tbody>\n",
       "    <tr>\n",
       "      <th>0</th>\n",
       "      <td>Добавить два новых канала привлечения трафика,...</td>\n",
       "      <td>3</td>\n",
       "      <td>10</td>\n",
       "      <td>8</td>\n",
       "      <td>6</td>\n",
       "    </tr>\n",
       "    <tr>\n",
       "      <th>1</th>\n",
       "      <td>Запустить собственную службу доставки, что сок...</td>\n",
       "      <td>2</td>\n",
       "      <td>5</td>\n",
       "      <td>4</td>\n",
       "      <td>10</td>\n",
       "    </tr>\n",
       "    <tr>\n",
       "      <th>2</th>\n",
       "      <td>Добавить блоки рекомендаций товаров на сайт ин...</td>\n",
       "      <td>8</td>\n",
       "      <td>3</td>\n",
       "      <td>7</td>\n",
       "      <td>3</td>\n",
       "    </tr>\n",
       "    <tr>\n",
       "      <th>3</th>\n",
       "      <td>Изменить структура категорий, что увеличит кон...</td>\n",
       "      <td>8</td>\n",
       "      <td>3</td>\n",
       "      <td>3</td>\n",
       "      <td>8</td>\n",
       "    </tr>\n",
       "    <tr>\n",
       "      <th>4</th>\n",
       "      <td>Изменить цвет фона главной страницы, чтобы уве...</td>\n",
       "      <td>3</td>\n",
       "      <td>1</td>\n",
       "      <td>1</td>\n",
       "      <td>1</td>\n",
       "    </tr>\n",
       "  </tbody>\n",
       "</table>\n",
       "</div>"
      ],
      "text/plain": [
       "                                          Hypothesis  Reach  Impact  \\\n",
       "0  Добавить два новых канала привлечения трафика,...      3      10   \n",
       "1  Запустить собственную службу доставки, что сок...      2       5   \n",
       "2  Добавить блоки рекомендаций товаров на сайт ин...      8       3   \n",
       "3  Изменить структура категорий, что увеличит кон...      8       3   \n",
       "4  Изменить цвет фона главной страницы, чтобы уве...      3       1   \n",
       "\n",
       "   Confidence  Efforts  \n",
       "0           8        6  \n",
       "1           4       10  \n",
       "2           7        3  \n",
       "3           3        8  \n",
       "4           1        1  "
      ]
     },
     "metadata": {},
     "output_type": "display_data"
    },
    {
     "name": "stdout",
     "output_type": "stream",
     "text": [
      "<class 'pandas.core.frame.DataFrame'>\n",
      "RangeIndex: 9 entries, 0 to 8\n",
      "Data columns (total 5 columns):\n",
      " #   Column      Non-Null Count  Dtype \n",
      "---  ------      --------------  ----- \n",
      " 0   Hypothesis  9 non-null      object\n",
      " 1   Reach       9 non-null      int64 \n",
      " 2   Impact      9 non-null      int64 \n",
      " 3   Confidence  9 non-null      int64 \n",
      " 4   Efforts     9 non-null      int64 \n",
      "dtypes: int64(4), object(1)\n",
      "memory usage: 488.0+ bytes\n"
     ]
    },
    {
     "data": {
      "text/plain": [
       "None"
      ]
     },
     "metadata": {},
     "output_type": "display_data"
    },
    {
     "data": {
      "text/html": [
       "<div>\n",
       "<style scoped>\n",
       "    .dataframe tbody tr th:only-of-type {\n",
       "        vertical-align: middle;\n",
       "    }\n",
       "\n",
       "    .dataframe tbody tr th {\n",
       "        vertical-align: top;\n",
       "    }\n",
       "\n",
       "    .dataframe thead th {\n",
       "        text-align: right;\n",
       "    }\n",
       "</style>\n",
       "<table border=\"1\" class=\"dataframe\">\n",
       "  <thead>\n",
       "    <tr style=\"text-align: right;\">\n",
       "      <th></th>\n",
       "      <th>Reach</th>\n",
       "      <th>Impact</th>\n",
       "      <th>Confidence</th>\n",
       "      <th>Efforts</th>\n",
       "    </tr>\n",
       "  </thead>\n",
       "  <tbody>\n",
       "    <tr>\n",
       "      <th>count</th>\n",
       "      <td>9.000</td>\n",
       "      <td>9.000</td>\n",
       "      <td>9.000</td>\n",
       "      <td>9.000</td>\n",
       "    </tr>\n",
       "    <tr>\n",
       "      <th>mean</th>\n",
       "      <td>4.778</td>\n",
       "      <td>4.778</td>\n",
       "      <td>5.556</td>\n",
       "      <td>4.889</td>\n",
       "    </tr>\n",
       "    <tr>\n",
       "      <th>std</th>\n",
       "      <td>3.153</td>\n",
       "      <td>3.193</td>\n",
       "      <td>3.046</td>\n",
       "      <td>2.804</td>\n",
       "    </tr>\n",
       "    <tr>\n",
       "      <th>min</th>\n",
       "      <td>1.000</td>\n",
       "      <td>1.000</td>\n",
       "      <td>1.000</td>\n",
       "      <td>1.000</td>\n",
       "    </tr>\n",
       "    <tr>\n",
       "      <th>25%</th>\n",
       "      <td>3.000</td>\n",
       "      <td>3.000</td>\n",
       "      <td>3.000</td>\n",
       "      <td>3.000</td>\n",
       "    </tr>\n",
       "    <tr>\n",
       "      <th>50%</th>\n",
       "      <td>3.000</td>\n",
       "      <td>3.000</td>\n",
       "      <td>7.000</td>\n",
       "      <td>5.000</td>\n",
       "    </tr>\n",
       "    <tr>\n",
       "      <th>75%</th>\n",
       "      <td>8.000</td>\n",
       "      <td>7.000</td>\n",
       "      <td>8.000</td>\n",
       "      <td>6.000</td>\n",
       "    </tr>\n",
       "    <tr>\n",
       "      <th>max</th>\n",
       "      <td>10.000</td>\n",
       "      <td>10.000</td>\n",
       "      <td>9.000</td>\n",
       "      <td>10.000</td>\n",
       "    </tr>\n",
       "  </tbody>\n",
       "</table>\n",
       "</div>"
      ],
      "text/plain": [
       "       Reach  Impact  Confidence  Efforts\n",
       "count  9.000   9.000       9.000    9.000\n",
       "mean   4.778   4.778       5.556    4.889\n",
       "std    3.153   3.193       3.046    2.804\n",
       "min    1.000   1.000       1.000    1.000\n",
       "25%    3.000   3.000       3.000    3.000\n",
       "50%    3.000   3.000       7.000    5.000\n",
       "75%    8.000   7.000       8.000    6.000\n",
       "max   10.000  10.000       9.000   10.000"
      ]
     },
     "metadata": {},
     "output_type": "display_data"
    },
    {
     "data": {
      "text/html": [
       "<h2>Таблица orders</h2>"
      ],
      "text/plain": [
       "<IPython.core.display.HTML object>"
      ]
     },
     "metadata": {},
     "output_type": "display_data"
    },
    {
     "data": {
      "text/html": [
       "<div>\n",
       "<style scoped>\n",
       "    .dataframe tbody tr th:only-of-type {\n",
       "        vertical-align: middle;\n",
       "    }\n",
       "\n",
       "    .dataframe tbody tr th {\n",
       "        vertical-align: top;\n",
       "    }\n",
       "\n",
       "    .dataframe thead th {\n",
       "        text-align: right;\n",
       "    }\n",
       "</style>\n",
       "<table border=\"1\" class=\"dataframe\">\n",
       "  <thead>\n",
       "    <tr style=\"text-align: right;\">\n",
       "      <th></th>\n",
       "      <th>transactionId</th>\n",
       "      <th>visitorId</th>\n",
       "      <th>date</th>\n",
       "      <th>revenue</th>\n",
       "      <th>group</th>\n",
       "    </tr>\n",
       "  </thead>\n",
       "  <tbody>\n",
       "    <tr>\n",
       "      <th>0</th>\n",
       "      <td>3667963787</td>\n",
       "      <td>3312258926</td>\n",
       "      <td>2019-08-15</td>\n",
       "      <td>1650</td>\n",
       "      <td>B</td>\n",
       "    </tr>\n",
       "    <tr>\n",
       "      <th>1</th>\n",
       "      <td>2804400009</td>\n",
       "      <td>3642806036</td>\n",
       "      <td>2019-08-15</td>\n",
       "      <td>730</td>\n",
       "      <td>B</td>\n",
       "    </tr>\n",
       "    <tr>\n",
       "      <th>2</th>\n",
       "      <td>2961555356</td>\n",
       "      <td>4069496402</td>\n",
       "      <td>2019-08-15</td>\n",
       "      <td>400</td>\n",
       "      <td>A</td>\n",
       "    </tr>\n",
       "    <tr>\n",
       "      <th>3</th>\n",
       "      <td>3797467345</td>\n",
       "      <td>1196621759</td>\n",
       "      <td>2019-08-15</td>\n",
       "      <td>9759</td>\n",
       "      <td>B</td>\n",
       "    </tr>\n",
       "    <tr>\n",
       "      <th>4</th>\n",
       "      <td>2282983706</td>\n",
       "      <td>2322279887</td>\n",
       "      <td>2019-08-15</td>\n",
       "      <td>2308</td>\n",
       "      <td>B</td>\n",
       "    </tr>\n",
       "  </tbody>\n",
       "</table>\n",
       "</div>"
      ],
      "text/plain": [
       "   transactionId   visitorId        date  revenue group\n",
       "0     3667963787  3312258926  2019-08-15     1650     B\n",
       "1     2804400009  3642806036  2019-08-15      730     B\n",
       "2     2961555356  4069496402  2019-08-15      400     A\n",
       "3     3797467345  1196621759  2019-08-15     9759     B\n",
       "4     2282983706  2322279887  2019-08-15     2308     B"
      ]
     },
     "metadata": {},
     "output_type": "display_data"
    },
    {
     "name": "stdout",
     "output_type": "stream",
     "text": [
      "<class 'pandas.core.frame.DataFrame'>\n",
      "RangeIndex: 1197 entries, 0 to 1196\n",
      "Data columns (total 5 columns):\n",
      " #   Column         Non-Null Count  Dtype \n",
      "---  ------         --------------  ----- \n",
      " 0   transactionId  1197 non-null   int64 \n",
      " 1   visitorId      1197 non-null   int64 \n",
      " 2   date           1197 non-null   object\n",
      " 3   revenue        1197 non-null   int64 \n",
      " 4   group          1197 non-null   object\n",
      "dtypes: int64(3), object(2)\n",
      "memory usage: 46.9+ KB\n"
     ]
    },
    {
     "data": {
      "text/plain": [
       "None"
      ]
     },
     "metadata": {},
     "output_type": "display_data"
    },
    {
     "data": {
      "text/html": [
       "<div>\n",
       "<style scoped>\n",
       "    .dataframe tbody tr th:only-of-type {\n",
       "        vertical-align: middle;\n",
       "    }\n",
       "\n",
       "    .dataframe tbody tr th {\n",
       "        vertical-align: top;\n",
       "    }\n",
       "\n",
       "    .dataframe thead th {\n",
       "        text-align: right;\n",
       "    }\n",
       "</style>\n",
       "<table border=\"1\" class=\"dataframe\">\n",
       "  <thead>\n",
       "    <tr style=\"text-align: right;\">\n",
       "      <th></th>\n",
       "      <th>transactionId</th>\n",
       "      <th>visitorId</th>\n",
       "      <th>revenue</th>\n",
       "    </tr>\n",
       "  </thead>\n",
       "  <tbody>\n",
       "    <tr>\n",
       "      <th>count</th>\n",
       "      <td>1197.000</td>\n",
       "      <td>1197.000</td>\n",
       "      <td>1197.000</td>\n",
       "    </tr>\n",
       "    <tr>\n",
       "      <th>mean</th>\n",
       "      <td>2155621385.530</td>\n",
       "      <td>2165960143.099</td>\n",
       "      <td>8348.006</td>\n",
       "    </tr>\n",
       "    <tr>\n",
       "      <th>std</th>\n",
       "      <td>1229084904.760</td>\n",
       "      <td>1236014192.147</td>\n",
       "      <td>39191.132</td>\n",
       "    </tr>\n",
       "    <tr>\n",
       "      <th>min</th>\n",
       "      <td>1062393.000</td>\n",
       "      <td>5114589.000</td>\n",
       "      <td>50.000</td>\n",
       "    </tr>\n",
       "    <tr>\n",
       "      <th>25%</th>\n",
       "      <td>1166775572.000</td>\n",
       "      <td>1111826046.000</td>\n",
       "      <td>1220.000</td>\n",
       "    </tr>\n",
       "    <tr>\n",
       "      <th>50%</th>\n",
       "      <td>2145193898.000</td>\n",
       "      <td>2217984702.000</td>\n",
       "      <td>2978.000</td>\n",
       "    </tr>\n",
       "    <tr>\n",
       "      <th>75%</th>\n",
       "      <td>3237740112.000</td>\n",
       "      <td>3177606451.000</td>\n",
       "      <td>8290.000</td>\n",
       "    </tr>\n",
       "    <tr>\n",
       "      <th>max</th>\n",
       "      <td>4293855558.000</td>\n",
       "      <td>4283872382.000</td>\n",
       "      <td>1294500.000</td>\n",
       "    </tr>\n",
       "  </tbody>\n",
       "</table>\n",
       "</div>"
      ],
      "text/plain": [
       "       transactionId      visitorId     revenue\n",
       "count       1197.000       1197.000    1197.000\n",
       "mean  2155621385.530 2165960143.099    8348.006\n",
       "std   1229084904.760 1236014192.147   39191.132\n",
       "min      1062393.000    5114589.000      50.000\n",
       "25%   1166775572.000 1111826046.000    1220.000\n",
       "50%   2145193898.000 2217984702.000    2978.000\n",
       "75%   3237740112.000 3177606451.000    8290.000\n",
       "max   4293855558.000 4283872382.000 1294500.000"
      ]
     },
     "metadata": {},
     "output_type": "display_data"
    },
    {
     "data": {
      "text/html": [
       "<h2>Таблица visits</h2>"
      ],
      "text/plain": [
       "<IPython.core.display.HTML object>"
      ]
     },
     "metadata": {},
     "output_type": "display_data"
    },
    {
     "data": {
      "text/html": [
       "<div>\n",
       "<style scoped>\n",
       "    .dataframe tbody tr th:only-of-type {\n",
       "        vertical-align: middle;\n",
       "    }\n",
       "\n",
       "    .dataframe tbody tr th {\n",
       "        vertical-align: top;\n",
       "    }\n",
       "\n",
       "    .dataframe thead th {\n",
       "        text-align: right;\n",
       "    }\n",
       "</style>\n",
       "<table border=\"1\" class=\"dataframe\">\n",
       "  <thead>\n",
       "    <tr style=\"text-align: right;\">\n",
       "      <th></th>\n",
       "      <th>date</th>\n",
       "      <th>group</th>\n",
       "      <th>visitors</th>\n",
       "    </tr>\n",
       "  </thead>\n",
       "  <tbody>\n",
       "    <tr>\n",
       "      <th>0</th>\n",
       "      <td>2019-08-01</td>\n",
       "      <td>A</td>\n",
       "      <td>719</td>\n",
       "    </tr>\n",
       "    <tr>\n",
       "      <th>1</th>\n",
       "      <td>2019-08-02</td>\n",
       "      <td>A</td>\n",
       "      <td>619</td>\n",
       "    </tr>\n",
       "    <tr>\n",
       "      <th>2</th>\n",
       "      <td>2019-08-03</td>\n",
       "      <td>A</td>\n",
       "      <td>507</td>\n",
       "    </tr>\n",
       "    <tr>\n",
       "      <th>3</th>\n",
       "      <td>2019-08-04</td>\n",
       "      <td>A</td>\n",
       "      <td>717</td>\n",
       "    </tr>\n",
       "    <tr>\n",
       "      <th>4</th>\n",
       "      <td>2019-08-05</td>\n",
       "      <td>A</td>\n",
       "      <td>756</td>\n",
       "    </tr>\n",
       "  </tbody>\n",
       "</table>\n",
       "</div>"
      ],
      "text/plain": [
       "         date group  visitors\n",
       "0  2019-08-01     A       719\n",
       "1  2019-08-02     A       619\n",
       "2  2019-08-03     A       507\n",
       "3  2019-08-04     A       717\n",
       "4  2019-08-05     A       756"
      ]
     },
     "metadata": {},
     "output_type": "display_data"
    },
    {
     "name": "stdout",
     "output_type": "stream",
     "text": [
      "<class 'pandas.core.frame.DataFrame'>\n",
      "RangeIndex: 62 entries, 0 to 61\n",
      "Data columns (total 3 columns):\n",
      " #   Column    Non-Null Count  Dtype \n",
      "---  ------    --------------  ----- \n",
      " 0   date      62 non-null     object\n",
      " 1   group     62 non-null     object\n",
      " 2   visitors  62 non-null     int64 \n",
      "dtypes: int64(1), object(2)\n",
      "memory usage: 1.6+ KB\n"
     ]
    },
    {
     "data": {
      "text/plain": [
       "None"
      ]
     },
     "metadata": {},
     "output_type": "display_data"
    },
    {
     "data": {
      "text/html": [
       "<div>\n",
       "<style scoped>\n",
       "    .dataframe tbody tr th:only-of-type {\n",
       "        vertical-align: middle;\n",
       "    }\n",
       "\n",
       "    .dataframe tbody tr th {\n",
       "        vertical-align: top;\n",
       "    }\n",
       "\n",
       "    .dataframe thead th {\n",
       "        text-align: right;\n",
       "    }\n",
       "</style>\n",
       "<table border=\"1\" class=\"dataframe\">\n",
       "  <thead>\n",
       "    <tr style=\"text-align: right;\">\n",
       "      <th></th>\n",
       "      <th>visitors</th>\n",
       "    </tr>\n",
       "  </thead>\n",
       "  <tbody>\n",
       "    <tr>\n",
       "      <th>count</th>\n",
       "      <td>62.000</td>\n",
       "    </tr>\n",
       "    <tr>\n",
       "      <th>mean</th>\n",
       "      <td>607.290</td>\n",
       "    </tr>\n",
       "    <tr>\n",
       "      <th>std</th>\n",
       "      <td>114.401</td>\n",
       "    </tr>\n",
       "    <tr>\n",
       "      <th>min</th>\n",
       "      <td>361.000</td>\n",
       "    </tr>\n",
       "    <tr>\n",
       "      <th>25%</th>\n",
       "      <td>534.000</td>\n",
       "    </tr>\n",
       "    <tr>\n",
       "      <th>50%</th>\n",
       "      <td>624.500</td>\n",
       "    </tr>\n",
       "    <tr>\n",
       "      <th>75%</th>\n",
       "      <td>710.500</td>\n",
       "    </tr>\n",
       "    <tr>\n",
       "      <th>max</th>\n",
       "      <td>770.000</td>\n",
       "    </tr>\n",
       "  </tbody>\n",
       "</table>\n",
       "</div>"
      ],
      "text/plain": [
       "       visitors\n",
       "count    62.000\n",
       "mean    607.290\n",
       "std     114.401\n",
       "min     361.000\n",
       "25%     534.000\n",
       "50%     624.500\n",
       "75%     710.500\n",
       "max     770.000"
      ]
     },
     "metadata": {},
     "output_type": "display_data"
    }
   ],
   "source": [
    "tables = [[hp, 'hp'], [orders, 'orders'], [visits, 'visits']]\n",
    "overview(tables)"
   ]
  },
  {
   "cell_type": "markdown",
   "metadata": {},
   "source": [
    "В столбце с данными о выручке заметен большой разброс данных. Посмотрим на наличие выбросов, построив диаграмму размаха."
   ]
  },
  {
   "cell_type": "code",
   "execution_count": 7,
   "metadata": {},
   "outputs": [
    {
     "data": {
      "image/png": "[encoded data removed]",
      "text/plain": [
       "<Figure size 432x288 with 1 Axes>"
      ]
     },
     "metadata": {
      "needs_background": "light"
     },
     "output_type": "display_data"
    }
   ],
   "source": [
    "plt.ylim(0,120000)\n",
    "orders.boxplot(column='revenue')\n",
    "plt.title('Диаграмма размаха для выручки')\n",
    "plt.show()"
   ]
  },
  {
   "cell_type": "markdown",
   "metadata": {},
   "source": [
    "Действительно, налицо большой шлейф выбросов начиная с 20 тысяч и выше. При этом основная масса значений сосредоточена в диапазоне до 10 тысяч.\n",
    "\n",
    "Также узнаем количество и наименования групп A/B теста при помощи метода `unique()`."
   ]
  },
  {
   "cell_type": "code",
   "execution_count": 8,
   "metadata": {},
   "outputs": [
    {
     "name": "stdout",
     "output_type": "stream",
     "text": [
      "Группы A/B теста в таблице orders: ['B' 'A']\n",
      "Группы A/B теста в таблице visits: ['A' 'B']\n"
     ]
    }
   ],
   "source": [
    "print('Группы A/B теста в таблице orders:', orders.group.unique())\n",
    "print('Группы A/B теста в таблице visits:',visits.group.unique())"
   ]
  },
  {
   "cell_type": "markdown",
   "metadata": {},
   "source": [
    "Групп две, посторонних значений не закралось. Всё в порядке."
   ]
  },
  {
   "cell_type": "markdown",
   "metadata": {},
   "source": [
    "### Вывод"
   ]
  },
  {
   "cell_type": "markdown",
   "metadata": {},
   "source": [
    "В нашем распоряжении три таблицы:\n",
    "\n",
    "- `hp` &mdash; список гипотез с параметрами. Самая маленькая таблица, всего 9 строк.\n",
    "- `orders` &mdash; данные о заказах за период проведения A/B теста. Самая объемная таблица &mdash; 1197 строк.\n",
    "- `visits` &mdash; статистика ежедневных посещений сайта в период проведения A/B теста. Строк всего 62, а групп две (A и B), что косвенно свидетельствует о том, что эксперимент, скорее всего, проводился в течение месяца.\n",
    "\n",
    "Основные наблюдения:\n",
    "\n",
    "- Явных пропусков не обнаружено &mdash;  количество ненулевых строк одинаково для всех столбцов в каждой из таблиц. \n",
    "- Минимальная стоимость заказа &mdash; 50, так что заказов с нулевой стоимостью нет.\n",
    "- Даты нужно преобразовать из  _object_ в формат _datetime._ Из-за некорректного формата мы пока не можем оценить диапазон и корректность дат &mdash; это мы сделаем в следующей части.\n",
    "- Оценки в таблице `hp` находятся в пределах 10-балльной шкалы, тут все корректно.\n",
    "- Очень большой разброс значений _revenue_ (стандартное отклонение &mdash; 39 тысяч), что в целом типично для финансовых данных. Это нужно будет учесть в анализе.\n",
    "\n",
    "В остальном, данные выглядят корректными, явных аномалий не обнаружено."
   ]
  },
  {
   "cell_type": "markdown",
   "metadata": {},
   "source": [
    "## Предобработка данных"
   ]
  },
  {
   "cell_type": "markdown",
   "metadata": {},
   "source": [
    "### Обработка пропусков"
   ]
  },
  {
   "cell_type": "markdown",
   "metadata": {},
   "source": [
    "В ходе обзора данных мы не заметили явных пропусков ни в одной из таблиц. На всякий случай выполним проверку при помощи метода `isna()`. "
   ]
  },
  {
   "cell_type": "code",
   "execution_count": 9,
   "metadata": {
    "scrolled": false
   },
   "outputs": [
    {
     "name": "stdout",
     "output_type": "stream",
     "text": [
      "Пропусков в таблице hp:\n"
     ]
    },
    {
     "data": {
      "text/plain": [
       "Hypothesis    0\n",
       "Reach         0\n",
       "Impact        0\n",
       "Confidence    0\n",
       "Efforts       0\n",
       "dtype: int64"
      ]
     },
     "metadata": {},
     "output_type": "display_data"
    },
    {
     "name": "stdout",
     "output_type": "stream",
     "text": [
      "Пропусков в таблице orders:\n"
     ]
    },
    {
     "data": {
      "text/plain": [
       "transactionId    0\n",
       "visitorId        0\n",
       "date             0\n",
       "revenue          0\n",
       "group            0\n",
       "dtype: int64"
      ]
     },
     "metadata": {},
     "output_type": "display_data"
    },
    {
     "name": "stdout",
     "output_type": "stream",
     "text": [
      "Пропусков в таблице visits:\n"
     ]
    },
    {
     "data": {
      "text/plain": [
       "date        0\n",
       "group       0\n",
       "visitors    0\n",
       "dtype: int64"
      ]
     },
     "metadata": {},
     "output_type": "display_data"
    }
   ],
   "source": [
    "for x, y in tables:\n",
    "    print(\"Пропусков в таблице \" +y+ \":\") \n",
    "    display(x.isna().sum())"
   ]
  },
  {
   "cell_type": "markdown",
   "metadata": {},
   "source": [
    "Пропусков не обнаружено, идем дальше."
   ]
  },
  {
   "cell_type": "markdown",
   "metadata": {},
   "source": [
    "### Замена типа данных"
   ]
  },
  {
   "cell_type": "markdown",
   "metadata": {},
   "source": [
    "Преобразуем дату в формат _datetime_ для двух таблиц: `orders` и `visits`. Затем проверим, повторно выведя типы данных."
   ]
  },
  {
   "cell_type": "code",
   "execution_count": 10,
   "metadata": {},
   "outputs": [
    {
     "data": {
      "text/plain": [
       "transactionId             int64\n",
       "visitorId                 int64\n",
       "date             datetime64[ns]\n",
       "revenue                   int64\n",
       "group                    object\n",
       "dtype: object"
      ]
     },
     "metadata": {},
     "output_type": "display_data"
    },
    {
     "data": {
      "text/plain": [
       "date        datetime64[ns]\n",
       "group               object\n",
       "visitors             int64\n",
       "dtype: object"
      ]
     },
     "metadata": {},
     "output_type": "display_data"
    }
   ],
   "source": [
    "table2 = [orders, visits]\n",
    "\n",
    "for table in table2:\n",
    "    table['date'] = table['date'].map(\n",
    "    lambda x: dt.datetime.strptime(x, '%Y-%m-%d')\n",
    "     )\n",
    "    display(table.dtypes)"
   ]
  },
  {
   "cell_type": "markdown",
   "metadata": {},
   "source": [
    "Преобразование выполнено успешно. Теперь посмотрим на диапазон дат, вызвав метод describe()."
   ]
  },
  {
   "cell_type": "code",
   "execution_count": 11,
   "metadata": {
    "scrolled": true
   },
   "outputs": [
    {
     "data": {
      "text/plain": [
       "count                    1197\n",
       "unique                     31\n",
       "top       2019-08-05 00:00:00\n",
       "freq                       48\n",
       "first     2019-08-01 00:00:00\n",
       "last      2019-08-31 00:00:00\n",
       "Name: date, dtype: object"
      ]
     },
     "metadata": {},
     "output_type": "display_data"
    },
    {
     "data": {
      "text/plain": [
       "count                      62\n",
       "unique                     31\n",
       "top       2019-08-02 00:00:00\n",
       "freq                        2\n",
       "first     2019-08-01 00:00:00\n",
       "last      2019-08-31 00:00:00\n",
       "Name: date, dtype: object"
      ]
     },
     "metadata": {},
     "output_type": "display_data"
    }
   ],
   "source": [
    "for table in table2:\n",
    "    display(table['date'].describe())"
   ]
  },
  {
   "cell_type": "markdown",
   "metadata": {},
   "source": [
    "Видим, что уникальных дат ровно 31 в диапазоне с 1 по 31 августа. Это подтверждает предыдущее предположение о том, что A/B тест проводился в течение месяца. \n",
    "\n",
    "Заодно мы убедились, что все данные входят в один диапазон &mdash; ошибок или аномалий нет.\n",
    "\n",
    "Другие столбцы не требуют преобразования типа данных."
   ]
  },
  {
   "cell_type": "markdown",
   "metadata": {},
   "source": [
    "### Обработка дубликатов"
   ]
  },
  {
   "cell_type": "markdown",
   "metadata": {},
   "source": [
    "Проверим наши таблицы на наличие дубликатов. В файле с гипотезами они маловероятны, а в двух других возможны. "
   ]
  },
  {
   "cell_type": "code",
   "execution_count": 12,
   "metadata": {
    "scrolled": true
   },
   "outputs": [
    {
     "name": "stdout",
     "output_type": "stream",
     "text": [
      "Дубликатов в таблице hp - 0\n",
      "Дубликатов в таблице orders - 0\n",
      "Дубликатов в таблице visits - 0\n"
     ]
    }
   ],
   "source": [
    "for x, y in tables:\n",
    "    print(\"Дубликатов в таблице\", y, \"-\", x.duplicated().sum())"
   ]
  },
  {
   "cell_type": "markdown",
   "metadata": {},
   "source": [
    "Ранее мы проверили количество групп A/B теста и убедились, что групп две. Также стоит проверить, нет ли аномалий в распределении участников по группам."
   ]
  },
  {
   "cell_type": "code",
   "execution_count": 13,
   "metadata": {},
   "outputs": [
    {
     "name": "stdout",
     "output_type": "stream",
     "text": [
      "Всего уникальных покупателей: 1031\n",
      "Уникальных покупателей группы A: 503\n",
      "Уникальных покупателей группы B: 586\n"
     ]
    }
   ],
   "source": [
    "print('Всего уникальных покупателей:', orders.visitorId.nunique())\n",
    "print('Уникальных покупателей группы A:',orders.query('group == \"A\"').visitorId.nunique())\n",
    "print('Уникальных покупателей группы B:',orders.query('group == \"B\"').visitorId.nunique())"
   ]
  },
  {
   "cell_type": "markdown",
   "metadata": {},
   "source": [
    "Проведя несложные вычисления _(503+586 > 1031),_ понимаем, что часть покупателей записана в обе группы &mdash; и A, и В. Здесь явная ошибка!\n",
    "\n",
    "Разница составляет 58 пользователей _((503+586) - 1031 = 58)_. Проверим это, сделав срез данных из `orders` с логическим условием, что пользователь одновременно входит в обе группы. "
   ]
  },
  {
   "cell_type": "code",
   "execution_count": 14,
   "metadata": {},
   "outputs": [
    {
     "name": "stdout",
     "output_type": "stream",
     "text": [
      "58\n"
     ]
    }
   ],
   "source": [
    "groupA = orders.query('group == \"A\"').visitorId.unique()\n",
    "groupB = orders.query('group == \"B\"').visitorId.unique()\n",
    "\n",
    "print(orders.query('visitorId in @groupA & visitorId in @groupB').visitorId.nunique())"
   ]
  },
  {
   "cell_type": "markdown",
   "metadata": {},
   "source": [
    "Цифры сошлись. Действительно, 58 пользователей по ошибке указаны как принадлежащие к обеим группам. Эти строки придется удалить, так как мы не можем произвольно отнести их в одну либо другую группу &mdash; это будет нарушением эксперимента."
   ]
  },
  {
   "cell_type": "code",
   "execution_count": 15,
   "metadata": {
    "scrolled": true
   },
   "outputs": [
    {
     "name": "stdout",
     "output_type": "stream",
     "text": [
      "Всего уникальных покупателей: 973\n",
      "Уникальных покупателей группы A: 445\n",
      "Уникальных покупателей группы B: 528\n",
      "Проверочная сумма: 973\n"
     ]
    }
   ],
   "source": [
    "# отфильтруем этих пользователей из датафрейма и пересохраним его\n",
    "orders = orders.query('~(visitorId in @groupA & visitorId in @groupB)')\n",
    "\n",
    "# выполним проверку\n",
    "print('Всего уникальных покупателей:', orders.visitorId.nunique())\n",
    "print('Уникальных покупателей группы A:',orders.query('group == \"A\"').visitorId.nunique())\n",
    "print('Уникальных покупателей группы B:',orders.query('group == \"B\"').visitorId.nunique())\n",
    "print('Проверочная сумма:',\n",
    "      str(orders.query('group == \"A\"').visitorId.nunique() + orders.query('group == \"B\"').visitorId.nunique()))"
   ]
  },
  {
   "cell_type": "markdown",
   "metadata": {},
   "source": [
    "Проверочная сумма сошлась, теперь все в порядке: каждый из уникальных покупателей принадлежит либо к группе A, либо к группе B."
   ]
  },
  {
   "cell_type": "markdown",
   "metadata": {},
   "source": [
    "### Обработка аномальных значений"
   ]
  },
  {
   "cell_type": "markdown",
   "metadata": {},
   "source": [
    "На диаграмме размаха мы уже отмечали, что в данных о заказах присутствуют выбросы. Более подробной оценкой аномалий мы займемся позже. Пока что просто примем во внимание, что эти выбросы могут &mdash; и скорее всего будут &mdash; влиять на подсчет показателей."
   ]
  },
  {
   "cell_type": "markdown",
   "metadata": {},
   "source": [
    "### Вывод"
   ]
  },
  {
   "cell_type": "markdown",
   "metadata": {},
   "source": [
    "В ходе предобработки данных мы:\n",
    "\n",
    "- Проверили таблицы на наличие полных дубликатов и их не обнаружили.\n",
    "- Убедились, что явных пропусков в таблицах нет.\n",
    "- Привели даты к типу данных _datetime_ и убедились, что замена прошла корректно.\n",
    "- Выяснили, что диапазон дат в данных &mdash; ровно один месяц (август 2019 года), дат вне этого диапазона нет.\n",
    "- Проверили количество уникальных покупателей в группах теста и обнаружили 58 пользователей, которые записаны **в обе группы**. Эти строки мы удалили, чтобы не нарушать чистоту эксперимента."
   ]
  },
  {
   "cell_type": "markdown",
   "metadata": {},
   "source": [
    "## Приоритизация гипотез"
   ]
  },
  {
   "cell_type": "markdown",
   "metadata": {},
   "source": [
    "Вместе с отделом маркетинга мы выдвинули 9 гипотез, но проверять их все не будем &mdash; слишком затратно. Гипотезы нужно приоритизировать и выбрать наиболее подходящие.\n",
    "\n",
    "Сначала посмотрим еще раз на таблицу и выведем ее целиком."
   ]
  },
  {
   "cell_type": "code",
   "execution_count": 16,
   "metadata": {
    "scrolled": false
   },
   "outputs": [
    {
     "data": {
      "text/html": [
       "<div>\n",
       "<style scoped>\n",
       "    .dataframe tbody tr th:only-of-type {\n",
       "        vertical-align: middle;\n",
       "    }\n",
       "\n",
       "    .dataframe tbody tr th {\n",
       "        vertical-align: top;\n",
       "    }\n",
       "\n",
       "    .dataframe thead th {\n",
       "        text-align: right;\n",
       "    }\n",
       "</style>\n",
       "<table border=\"1\" class=\"dataframe\">\n",
       "  <thead>\n",
       "    <tr style=\"text-align: right;\">\n",
       "      <th></th>\n",
       "      <th>Hypothesis</th>\n",
       "      <th>Reach</th>\n",
       "      <th>Impact</th>\n",
       "      <th>Confidence</th>\n",
       "      <th>Efforts</th>\n",
       "    </tr>\n",
       "  </thead>\n",
       "  <tbody>\n",
       "    <tr>\n",
       "      <th>0</th>\n",
       "      <td>Добавить два новых канала привлечения трафика, что позволит привлекать на 30% больше пользователей</td>\n",
       "      <td>3</td>\n",
       "      <td>10</td>\n",
       "      <td>8</td>\n",
       "      <td>6</td>\n",
       "    </tr>\n",
       "    <tr>\n",
       "      <th>1</th>\n",
       "      <td>Запустить собственную службу доставки, что сократит срок доставки заказов</td>\n",
       "      <td>2</td>\n",
       "      <td>5</td>\n",
       "      <td>4</td>\n",
       "      <td>10</td>\n",
       "    </tr>\n",
       "    <tr>\n",
       "      <th>2</th>\n",
       "      <td>Добавить блоки рекомендаций товаров на сайт интернет магазина, чтобы повысить конверсию и средний чек заказа</td>\n",
       "      <td>8</td>\n",
       "      <td>3</td>\n",
       "      <td>7</td>\n",
       "      <td>3</td>\n",
       "    </tr>\n",
       "    <tr>\n",
       "      <th>3</th>\n",
       "      <td>Изменить структура категорий, что увеличит конверсию, т.к. пользователи быстрее найдут нужный товар</td>\n",
       "      <td>8</td>\n",
       "      <td>3</td>\n",
       "      <td>3</td>\n",
       "      <td>8</td>\n",
       "    </tr>\n",
       "    <tr>\n",
       "      <th>4</th>\n",
       "      <td>Изменить цвет фона главной страницы, чтобы увеличить вовлеченность пользователей</td>\n",
       "      <td>3</td>\n",
       "      <td>1</td>\n",
       "      <td>1</td>\n",
       "      <td>1</td>\n",
       "    </tr>\n",
       "    <tr>\n",
       "      <th>5</th>\n",
       "      <td>Добавить страницу отзывов клиентов о магазине, что позволит увеличить количество заказов</td>\n",
       "      <td>3</td>\n",
       "      <td>2</td>\n",
       "      <td>2</td>\n",
       "      <td>3</td>\n",
       "    </tr>\n",
       "    <tr>\n",
       "      <th>6</th>\n",
       "      <td>Показать на главной странице баннеры с актуальными акциями и распродажами, чтобы увеличить конверсию</td>\n",
       "      <td>5</td>\n",
       "      <td>3</td>\n",
       "      <td>8</td>\n",
       "      <td>3</td>\n",
       "    </tr>\n",
       "    <tr>\n",
       "      <th>7</th>\n",
       "      <td>Добавить форму подписки на все основные страницы, чтобы собрать базу клиентов для email-рассылок</td>\n",
       "      <td>10</td>\n",
       "      <td>7</td>\n",
       "      <td>8</td>\n",
       "      <td>5</td>\n",
       "    </tr>\n",
       "    <tr>\n",
       "      <th>8</th>\n",
       "      <td>Запустить акцию, дающую скидку на товар в день рождения</td>\n",
       "      <td>1</td>\n",
       "      <td>9</td>\n",
       "      <td>9</td>\n",
       "      <td>5</td>\n",
       "    </tr>\n",
       "  </tbody>\n",
       "</table>\n",
       "</div>"
      ],
      "text/plain": [
       "                                                                                                     Hypothesis  \\\n",
       "0  Добавить два новых канала привлечения трафика, что позволит привлекать на 30% больше пользователей             \n",
       "1  Запустить собственную службу доставки, что сократит срок доставки заказов                                      \n",
       "2  Добавить блоки рекомендаций товаров на сайт интернет магазина, чтобы повысить конверсию и средний чек заказа   \n",
       "3  Изменить структура категорий, что увеличит конверсию, т.к. пользователи быстрее найдут нужный товар            \n",
       "4  Изменить цвет фона главной страницы, чтобы увеличить вовлеченность пользователей                               \n",
       "5  Добавить страницу отзывов клиентов о магазине, что позволит увеличить количество заказов                       \n",
       "6  Показать на главной странице баннеры с актуальными акциями и распродажами, чтобы увеличить конверсию           \n",
       "7  Добавить форму подписки на все основные страницы, чтобы собрать базу клиентов для email-рассылок               \n",
       "8  Запустить акцию, дающую скидку на товар в день рождения                                                        \n",
       "\n",
       "   Reach  Impact  Confidence  Efforts  \n",
       "0  3      10      8           6        \n",
       "1  2      5       4           10       \n",
       "2  8      3       7           3        \n",
       "3  8      3       3           8        \n",
       "4  3      1       1           1        \n",
       "5  3      2       2           3        \n",
       "6  5      3       8           3        \n",
       "7  10     7       8           5        \n",
       "8  1      9       9           5        "
      ]
     },
     "execution_count": 16,
     "metadata": {},
     "output_type": "execute_result"
    }
   ],
   "source": [
    "pd.set_option('max_colwidth', -1)\n",
    "hp"
   ]
  },
  {
   "cell_type": "markdown",
   "metadata": {},
   "source": [
    "Видим, что идеи самые разные: от небольших \"косметических\" изменений на сайте (показ баннеров, изменение цвета фона) до проведения рекламных акций и даже создания целой службы доставки. Понятно, что затратность и степень влияния на пользователей у них разные. Это отражено в оценке параметров: Reach, Impact, Confidence, Efforts.\n",
    "\n",
    "Чтобы приоритизировать гипотезы, воспользуемся **фрейморком ICE**. Он учитывает 3 параметра из 4: Impact, Confidence, Efforts.\n",
    "\n",
    "Рассчитаем ICE по формуле, а затем выведем гипотезы в порядке убывания приоритета."
   ]
  },
  {
   "cell_type": "code",
   "execution_count": 17,
   "metadata": {},
   "outputs": [
    {
     "data": {
      "text/html": [
       "<div>\n",
       "<style scoped>\n",
       "    .dataframe tbody tr th:only-of-type {\n",
       "        vertical-align: middle;\n",
       "    }\n",
       "\n",
       "    .dataframe tbody tr th {\n",
       "        vertical-align: top;\n",
       "    }\n",
       "\n",
       "    .dataframe thead th {\n",
       "        text-align: right;\n",
       "    }\n",
       "</style>\n",
       "<table border=\"1\" class=\"dataframe\">\n",
       "  <thead>\n",
       "    <tr style=\"text-align: right;\">\n",
       "      <th></th>\n",
       "      <th>Hypothesis</th>\n",
       "      <th>ICE</th>\n",
       "    </tr>\n",
       "  </thead>\n",
       "  <tbody>\n",
       "    <tr>\n",
       "      <th>8</th>\n",
       "      <td>Запустить акцию, дающую скидку на товар в день рождения</td>\n",
       "      <td>16.200</td>\n",
       "    </tr>\n",
       "    <tr>\n",
       "      <th>0</th>\n",
       "      <td>Добавить два новых канала привлечения трафика, что позволит привлекать на 30% больше пользователей</td>\n",
       "      <td>13.333</td>\n",
       "    </tr>\n",
       "    <tr>\n",
       "      <th>7</th>\n",
       "      <td>Добавить форму подписки на все основные страницы, чтобы собрать базу клиентов для email-рассылок</td>\n",
       "      <td>11.200</td>\n",
       "    </tr>\n",
       "    <tr>\n",
       "      <th>6</th>\n",
       "      <td>Показать на главной странице баннеры с актуальными акциями и распродажами, чтобы увеличить конверсию</td>\n",
       "      <td>8.000</td>\n",
       "    </tr>\n",
       "    <tr>\n",
       "      <th>2</th>\n",
       "      <td>Добавить блоки рекомендаций товаров на сайт интернет магазина, чтобы повысить конверсию и средний чек заказа</td>\n",
       "      <td>7.000</td>\n",
       "    </tr>\n",
       "    <tr>\n",
       "      <th>1</th>\n",
       "      <td>Запустить собственную службу доставки, что сократит срок доставки заказов</td>\n",
       "      <td>2.000</td>\n",
       "    </tr>\n",
       "    <tr>\n",
       "      <th>5</th>\n",
       "      <td>Добавить страницу отзывов клиентов о магазине, что позволит увеличить количество заказов</td>\n",
       "      <td>1.333</td>\n",
       "    </tr>\n",
       "    <tr>\n",
       "      <th>3</th>\n",
       "      <td>Изменить структура категорий, что увеличит конверсию, т.к. пользователи быстрее найдут нужный товар</td>\n",
       "      <td>1.125</td>\n",
       "    </tr>\n",
       "    <tr>\n",
       "      <th>4</th>\n",
       "      <td>Изменить цвет фона главной страницы, чтобы увеличить вовлеченность пользователей</td>\n",
       "      <td>1.000</td>\n",
       "    </tr>\n",
       "  </tbody>\n",
       "</table>\n",
       "</div>"
      ],
      "text/plain": [
       "                                                                                                     Hypothesis  \\\n",
       "8  Запустить акцию, дающую скидку на товар в день рождения                                                        \n",
       "0  Добавить два новых канала привлечения трафика, что позволит привлекать на 30% больше пользователей             \n",
       "7  Добавить форму подписки на все основные страницы, чтобы собрать базу клиентов для email-рассылок               \n",
       "6  Показать на главной странице баннеры с актуальными акциями и распродажами, чтобы увеличить конверсию           \n",
       "2  Добавить блоки рекомендаций товаров на сайт интернет магазина, чтобы повысить конверсию и средний чек заказа   \n",
       "1  Запустить собственную службу доставки, что сократит срок доставки заказов                                      \n",
       "5  Добавить страницу отзывов клиентов о магазине, что позволит увеличить количество заказов                       \n",
       "3  Изменить структура категорий, что увеличит конверсию, т.к. пользователи быстрее найдут нужный товар            \n",
       "4  Изменить цвет фона главной страницы, чтобы увеличить вовлеченность пользователей                               \n",
       "\n",
       "     ICE  \n",
       "8 16.200  \n",
       "0 13.333  \n",
       "7 11.200  \n",
       "6 8.000   \n",
       "2 7.000   \n",
       "1 2.000   \n",
       "5 1.333   \n",
       "3 1.125   \n",
       "4 1.000   "
      ]
     },
     "execution_count": 17,
     "metadata": {},
     "output_type": "execute_result"
    }
   ],
   "source": [
    "hp['ICE'] = (hp['Impact'] * hp['Confidence'])/hp['Efforts']\n",
    "hp[['Hypothesis', 'ICE']].sort_values(by='ICE', ascending=False)"
   ]
  },
  {
   "cell_type": "markdown",
   "metadata": {},
   "source": [
    "Наивысший приоритет присвоен **гипотезе 8 &mdash; предложение скидок ко дню рождения**. \n",
    "\n",
    "Но так ли уж хороша эта гипотеза? Во-первых, пользователи могут неправильно указывать день рождения или не указывать его вовсе, и тогда идея не сработает. Кроме того, день рождения всего раз в году, и на этом много не заработаешь. \n",
    "\n",
    "На 2 и 3 месте  &mdash; гипотезы № 0 и 7. Кажется, что у них больший потенциал: запуск новых каналов для привлечения трафика или добавление новых форм подписки. Попробуем применить **другой фреймворк &mdash; RICE**. Отличие его в том, что он учитывает также охват (Reach).\n",
    "\n",
    "Выполним новый расчет и отсортируем гипотезы по убыванию приоритета."
   ]
  },
  {
   "cell_type": "code",
   "execution_count": 18,
   "metadata": {
    "scrolled": true
   },
   "outputs": [
    {
     "data": {
      "text/html": [
       "<div>\n",
       "<style scoped>\n",
       "    .dataframe tbody tr th:only-of-type {\n",
       "        vertical-align: middle;\n",
       "    }\n",
       "\n",
       "    .dataframe tbody tr th {\n",
       "        vertical-align: top;\n",
       "    }\n",
       "\n",
       "    .dataframe thead th {\n",
       "        text-align: right;\n",
       "    }\n",
       "</style>\n",
       "<table border=\"1\" class=\"dataframe\">\n",
       "  <thead>\n",
       "    <tr style=\"text-align: right;\">\n",
       "      <th></th>\n",
       "      <th>Hypothesis</th>\n",
       "      <th>RICE</th>\n",
       "    </tr>\n",
       "  </thead>\n",
       "  <tbody>\n",
       "    <tr>\n",
       "      <th>7</th>\n",
       "      <td>Добавить форму подписки на все основные страницы, чтобы собрать базу клиентов для email-рассылок</td>\n",
       "      <td>112.000</td>\n",
       "    </tr>\n",
       "    <tr>\n",
       "      <th>2</th>\n",
       "      <td>Добавить блоки рекомендаций товаров на сайт интернет магазина, чтобы повысить конверсию и средний чек заказа</td>\n",
       "      <td>56.000</td>\n",
       "    </tr>\n",
       "    <tr>\n",
       "      <th>0</th>\n",
       "      <td>Добавить два новых канала привлечения трафика, что позволит привлекать на 30% больше пользователей</td>\n",
       "      <td>40.000</td>\n",
       "    </tr>\n",
       "    <tr>\n",
       "      <th>6</th>\n",
       "      <td>Показать на главной странице баннеры с актуальными акциями и распродажами, чтобы увеличить конверсию</td>\n",
       "      <td>40.000</td>\n",
       "    </tr>\n",
       "    <tr>\n",
       "      <th>8</th>\n",
       "      <td>Запустить акцию, дающую скидку на товар в день рождения</td>\n",
       "      <td>16.200</td>\n",
       "    </tr>\n",
       "    <tr>\n",
       "      <th>3</th>\n",
       "      <td>Изменить структура категорий, что увеличит конверсию, т.к. пользователи быстрее найдут нужный товар</td>\n",
       "      <td>9.000</td>\n",
       "    </tr>\n",
       "    <tr>\n",
       "      <th>1</th>\n",
       "      <td>Запустить собственную службу доставки, что сократит срок доставки заказов</td>\n",
       "      <td>4.000</td>\n",
       "    </tr>\n",
       "    <tr>\n",
       "      <th>5</th>\n",
       "      <td>Добавить страницу отзывов клиентов о магазине, что позволит увеличить количество заказов</td>\n",
       "      <td>4.000</td>\n",
       "    </tr>\n",
       "    <tr>\n",
       "      <th>4</th>\n",
       "      <td>Изменить цвет фона главной страницы, чтобы увеличить вовлеченность пользователей</td>\n",
       "      <td>3.000</td>\n",
       "    </tr>\n",
       "  </tbody>\n",
       "</table>\n",
       "</div>"
      ],
      "text/plain": [
       "                                                                                                     Hypothesis  \\\n",
       "7  Добавить форму подписки на все основные страницы, чтобы собрать базу клиентов для email-рассылок               \n",
       "2  Добавить блоки рекомендаций товаров на сайт интернет магазина, чтобы повысить конверсию и средний чек заказа   \n",
       "0  Добавить два новых канала привлечения трафика, что позволит привлекать на 30% больше пользователей             \n",
       "6  Показать на главной странице баннеры с актуальными акциями и распродажами, чтобы увеличить конверсию           \n",
       "8  Запустить акцию, дающую скидку на товар в день рождения                                                        \n",
       "3  Изменить структура категорий, что увеличит конверсию, т.к. пользователи быстрее найдут нужный товар            \n",
       "1  Запустить собственную службу доставки, что сократит срок доставки заказов                                      \n",
       "5  Добавить страницу отзывов клиентов о магазине, что позволит увеличить количество заказов                       \n",
       "4  Изменить цвет фона главной страницы, чтобы увеличить вовлеченность пользователей                               \n",
       "\n",
       "     RICE  \n",
       "7 112.000  \n",
       "2 56.000   \n",
       "0 40.000   \n",
       "6 40.000   \n",
       "8 16.200   \n",
       "3 9.000    \n",
       "1 4.000    \n",
       "5 4.000    \n",
       "4 3.000    "
      ]
     },
     "execution_count": 18,
     "metadata": {},
     "output_type": "execute_result"
    }
   ],
   "source": [
    "hp['RICE'] = (hp['Reach'] * hp['Impact'] * hp['Confidence'])/hp['Efforts']\n",
    "hp[['Hypothesis', 'RICE']].sort_values(by='RICE', ascending=False)"
   ]
  },
  {
   "cell_type": "markdown",
   "metadata": {},
   "source": [
    "Для удобства сравнения отобразим приоритеты, присвоенные гипотезам, на диаграмме."
   ]
  },
  {
   "cell_type": "code",
   "execution_count": 19,
   "metadata": {},
   "outputs": [
    {
     "data": {
      "image/png": "[encoded data removed]",
      "text/plain": [
       "<Figure size 720x432 with 1 Axes>"
      ]
     },
     "metadata": {
      "needs_background": "light"
     },
     "output_type": "display_data"
    }
   ],
   "source": [
    "fig, ax = plt.subplots(figsize=(10,6))\n",
    "\n",
    "# задаем значения для оси X и ширины столбцов\n",
    "x = np.arange(9)\n",
    "width = 0.40\n",
    "\n",
    "# задаем значения для столбцов диаграммы\n",
    "plt.bar(x-0.2, hp['ICE'], width, color='blue', edgecolor='white', label='ICE')\n",
    "plt.bar(x+0.2, hp['RICE'], width, color='orange', edgecolor='white', label='RICE')\n",
    "ax.set_xticks([0, 1, 2, 3, 4, 5, 6, 7, 8])\n",
    "ax.grid()\n",
    "\n",
    "plt.title('Сравнение приоритетов гипотез после оценки ICE и RICE')\n",
    "plt.xlabel('Номер гипотезы')\n",
    "plt.ylabel('Приоритет')\n",
    "plt.legend()\n",
    "plt.show()"
   ]
  },
  {
   "cell_type": "markdown",
   "metadata": {},
   "source": [
    "В первую тройку снова вошли **гипотезы 0 и 7**, только теперь №7 &mdash; на первом месте. Также высокий приоритет у **гипотезы 2** &mdash; добавление блоков с рекомендациями. \n",
    "\n",
    "В фреймворке RICE наша гипотеза с днями рождения (№8) получила уже не такой высокий приоритет.\n",
    "\n",
    "Так произошло именно потому, что при расчете ICE мы не учитывали, какая доля аудитории будет охвачена. Изменения в дизайне и наполнении сайта, который посещают все пользователи, затронут большую долю аудитории. Аналогично с новыми каналами трафика. \n",
    "\n",
    "А вот акция по поводу дня рождения коснется только небольшой доли пользователей, тем более если мы будем тестировать эту гипотезу на протяжении всего лишь месяца."
   ]
  },
  {
   "cell_type": "markdown",
   "metadata": {},
   "source": [
    "### Вывод"
   ]
  },
  {
   "cell_type": "markdown",
   "metadata": {},
   "source": [
    "Мы провели приоритизацию гипотез, пользуясь двумя фреймворками &mdash; ICE и RICE. \n",
    "\n",
    "В первом случае наивысший приоритет получили **гипотезы 8, 0 и 7**. Поскольку результат вызвал сомнения, мы решили перепроверить его при помощи другого традиционного фрейморка RICE.\n",
    "\n",
    "Во втором случае наивысший приоритет был присвоен **гипотезам 7, 2 и 0**. Полученная разница объясняется тем, что в первом случае не учитывался охват аудитории.\n",
    "\n",
    "Также отметим, что **гипотезы 7 и 0** вошли в топ в обоих случаях. В первую очередь стоит протестировать именно их, а также гипотезу 2, поскольку они оптимальны по сочетанию максимального эффекта, минимальных затрат и нашей уверенности в результате."
   ]
  },
  {
   "cell_type": "markdown",
   "metadata": {},
   "source": [
    "## Анализ A/B-теста"
   ]
  },
  {
   "cell_type": "markdown",
   "metadata": {},
   "source": [
    "### График кумулятивной выручки"
   ]
  },
  {
   "cell_type": "markdown",
   "metadata": {},
   "source": [
    "Итак, мы выбрали и проверили одну из гипотез при помощи A/B-теста. Теперь проанализируем результаты A/B-теста, данные о которых есть в двух таблицах: `orders` и `visits`.\n",
    "\n",
    "Сначала рассчитаем кумулятивную выручку по группам. \n",
    "\n",
    "В отдельный фрейм сохраним уникальные пары \"дата-группа теста\", то есть на каждую дату придется по две группы."
   ]
  },
  {
   "cell_type": "code",
   "execution_count": 20,
   "metadata": {},
   "outputs": [
    {
     "data": {
      "text/html": [
       "<div>\n",
       "<style scoped>\n",
       "    .dataframe tbody tr th:only-of-type {\n",
       "        vertical-align: middle;\n",
       "    }\n",
       "\n",
       "    .dataframe tbody tr th {\n",
       "        vertical-align: top;\n",
       "    }\n",
       "\n",
       "    .dataframe thead th {\n",
       "        text-align: right;\n",
       "    }\n",
       "</style>\n",
       "<table border=\"1\" class=\"dataframe\">\n",
       "  <thead>\n",
       "    <tr style=\"text-align: right;\">\n",
       "      <th></th>\n",
       "      <th>date</th>\n",
       "      <th>group</th>\n",
       "    </tr>\n",
       "  </thead>\n",
       "  <tbody>\n",
       "    <tr>\n",
       "      <th>0</th>\n",
       "      <td>2019-08-15</td>\n",
       "      <td>B</td>\n",
       "    </tr>\n",
       "    <tr>\n",
       "      <th>7</th>\n",
       "      <td>2019-08-15</td>\n",
       "      <td>A</td>\n",
       "    </tr>\n",
       "    <tr>\n",
       "      <th>45</th>\n",
       "      <td>2019-08-16</td>\n",
       "      <td>A</td>\n",
       "    </tr>\n",
       "    <tr>\n",
       "      <th>47</th>\n",
       "      <td>2019-08-16</td>\n",
       "      <td>B</td>\n",
       "    </tr>\n",
       "    <tr>\n",
       "      <th>55</th>\n",
       "      <td>2019-08-01</td>\n",
       "      <td>A</td>\n",
       "    </tr>\n",
       "  </tbody>\n",
       "</table>\n",
       "</div>"
      ],
      "text/plain": [
       "         date group\n",
       "0  2019-08-15  B   \n",
       "7  2019-08-15  A   \n",
       "45 2019-08-16  A   \n",
       "47 2019-08-16  B   \n",
       "55 2019-08-01  A   "
      ]
     },
     "execution_count": 20,
     "metadata": {},
     "output_type": "execute_result"
    }
   ],
   "source": [
    "datesGroups = orders[['date','group']].drop_duplicates()\n",
    "datesGroups.head()"
   ]
  },
  {
   "cell_type": "markdown",
   "metadata": {},
   "source": [
    "Далее добавим данные по выручке с накоплением. В каждую строку с датой запишем сумму выручки за эту дату и предшествующие ей."
   ]
  },
  {
   "cell_type": "code",
   "execution_count": 21,
   "metadata": {},
   "outputs": [],
   "source": [
    "revenueCum = (datesGroups.apply(\n",
    "    lambda x: orders[np.logical_and(orders['date'] <= x['date'], orders['group'] == x['group'])]\n",
    "    .agg({'date' : 'max', \n",
    "          'group' : 'max', \n",
    "          'transactionId' : 'nunique', \n",
    "          'visitorId' : 'nunique', \n",
    "          'revenue' : 'sum'}), axis=1)\n",
    "    .sort_values(by=['date','group']))\n",
    "\n",
    "# переименуем столбцы\n",
    "revenueCum.columns = ['date', 'group', 'orders', 'buyers', 'revenue']"
   ]
  },
  {
   "cell_type": "markdown",
   "metadata": {},
   "source": [
    "Сохраним данные по каждой группе в отдельные датафреймы и выведем начало одного из них, чтобы посмотреть, что получилось."
   ]
  },
  {
   "cell_type": "code",
   "execution_count": 22,
   "metadata": {
    "scrolled": true
   },
   "outputs": [
    {
     "data": {
      "text/html": [
       "<div>\n",
       "<style scoped>\n",
       "    .dataframe tbody tr th:only-of-type {\n",
       "        vertical-align: middle;\n",
       "    }\n",
       "\n",
       "    .dataframe tbody tr th {\n",
       "        vertical-align: top;\n",
       "    }\n",
       "\n",
       "    .dataframe thead th {\n",
       "        text-align: right;\n",
       "    }\n",
       "</style>\n",
       "<table border=\"1\" class=\"dataframe\">\n",
       "  <thead>\n",
       "    <tr style=\"text-align: right;\">\n",
       "      <th></th>\n",
       "      <th>date</th>\n",
       "      <th>group</th>\n",
       "      <th>orders</th>\n",
       "      <th>buyers</th>\n",
       "      <th>revenue</th>\n",
       "    </tr>\n",
       "  </thead>\n",
       "  <tbody>\n",
       "    <tr>\n",
       "      <th>66</th>\n",
       "      <td>2019-08-01</td>\n",
       "      <td>B</td>\n",
       "      <td>17</td>\n",
       "      <td>17</td>\n",
       "      <td>59758</td>\n",
       "    </tr>\n",
       "    <tr>\n",
       "      <th>173</th>\n",
       "      <td>2019-08-02</td>\n",
       "      <td>B</td>\n",
       "      <td>40</td>\n",
       "      <td>39</td>\n",
       "      <td>221801</td>\n",
       "    </tr>\n",
       "    <tr>\n",
       "      <th>383</th>\n",
       "      <td>2019-08-03</td>\n",
       "      <td>B</td>\n",
       "      <td>54</td>\n",
       "      <td>53</td>\n",
       "      <td>288850</td>\n",
       "    </tr>\n",
       "    <tr>\n",
       "      <th>498</th>\n",
       "      <td>2019-08-04</td>\n",
       "      <td>B</td>\n",
       "      <td>68</td>\n",
       "      <td>66</td>\n",
       "      <td>385740</td>\n",
       "    </tr>\n",
       "    <tr>\n",
       "      <th>699</th>\n",
       "      <td>2019-08-05</td>\n",
       "      <td>B</td>\n",
       "      <td>89</td>\n",
       "      <td>87</td>\n",
       "      <td>475648</td>\n",
       "    </tr>\n",
       "  </tbody>\n",
       "</table>\n",
       "</div>"
      ],
      "text/plain": [
       "          date group  orders  buyers  revenue\n",
       "66  2019-08-01  B     17      17      59758  \n",
       "173 2019-08-02  B     40      39      221801 \n",
       "383 2019-08-03  B     54      53      288850 \n",
       "498 2019-08-04  B     68      66      385740 \n",
       "699 2019-08-05  B     89      87      475648 "
      ]
     },
     "execution_count": 22,
     "metadata": {},
     "output_type": "execute_result"
    }
   ],
   "source": [
    "revenueCumA = revenueCum.query('group == \"A\"')\n",
    "revenueCumB = revenueCum.query('group == \"B\"')\n",
    "revenueCumB.head()"
   ]
  },
  {
   "cell_type": "markdown",
   "metadata": {},
   "source": [
    "Видим, что в столбце `group` - та группа, по которой мы фильтровали. Количество заказов и клиентов, а также суммарная выручка возрастают с каждой строкой, то есть идет подсчёт с накоплением. \n",
    "\n",
    "Теперь выведем данные о кумулятивной выручке по дням и группам на графике."
   ]
  },
  {
   "cell_type": "code",
   "execution_count": 23,
   "metadata": {
    "scrolled": true
   },
   "outputs": [
    {
     "data": {
      "image/png": "[encoded data removed]",
      "text/plain": [
       "<Figure size 432x288 with 1 Axes>"
      ]
     },
     "metadata": {
      "needs_background": "light"
     },
     "output_type": "display_data"
    }
   ],
   "source": [
    "plt.plot(revenueCumA['date'], revenueCumA['revenue'], label='A')\n",
    "plt.plot(revenueCumB['date'], revenueCumB['revenue'], label='B')\n",
    "\n",
    "plt.xlabel('День')\n",
    "plt.ylabel('Накопленная выручка')\n",
    "plt.xticks(rotation=45)\n",
    "plt.title('Изменение кумулятивной выручки\\n по группам A/B')\n",
    "plt.legend()\n",
    "plt.show()"
   ]
  },
  {
   "cell_type": "markdown",
   "metadata": {},
   "source": [
    "У группы A накопительная выручка равномерно увеличивается на протяжении всего теста. Это хороший показатель. А вот у группы B заметен резкий скачок после 17 августа. _До этой даты_ разницы в средней выручкой между сегментами практически не было.\n",
    "\n",
    "Этот скачок &mdash; вероятно, следствие чрезмерно дорогих заказов, а значит, делать вывод о том, что группа B побеждает в тесте, пока преждевременно. "
   ]
  },
  {
   "cell_type": "markdown",
   "metadata": {},
   "source": [
    "### График кумулятивного среднего чека и относительное изменение среднего чека"
   ]
  },
  {
   "cell_type": "markdown",
   "metadata": {},
   "source": [
    "Чтобы найти кумулятивный средний чек, разделим кумулятивную выручку на число заказов. Далее по этим данным построим график."
   ]
  },
  {
   "cell_type": "code",
   "execution_count": 24,
   "metadata": {
    "scrolled": true
   },
   "outputs": [
    {
     "data": {
      "image/png": "[encoded data removed]",
      "text/plain": [
       "<Figure size 432x288 with 1 Axes>"
      ]
     },
     "metadata": {
      "needs_background": "light"
     },
     "output_type": "display_data"
    }
   ],
   "source": [
    "plt.plot(revenueCumA['date'], revenueCumA['revenue']/revenueCumA['orders'], label='A')\n",
    "plt.plot(revenueCumB['date'], revenueCumB['revenue']/revenueCumB['orders'], label='B')\n",
    "\n",
    "# изменим масштаб оси\n",
    "plt.axis([\"2019-08-01\", '2019-08-31', 0, 12000]) \n",
    "\n",
    "plt.xlabel('День')\n",
    "plt.ylabel('Кумулятивный средний чек')\n",
    "plt.xticks(rotation=45)\n",
    "\n",
    "plt.title('Изменение кумулятивного среднего чека\\n по группам A/B')\n",
    "plt.legend()\n",
    "plt.show()"
   ]
  },
  {
   "cell_type": "markdown",
   "metadata": {},
   "source": [
    "В первой половине месяца значения среднего чека колеблются в небольшом диапазоне (4-6 тысяч). Для группы А чек устанавливается на одном значении во второй половине теста, а для группы B наблюдается резкий подъем. Вероятно, здесь сказываются те самые крупные заказы.\n",
    "\n",
    "Посмотрим на относительное изменение кумулятивного чека. Для этого сначала соберем данные по кумулятивной выручке в один датафрейм, затем построим график."
   ]
  },
  {
   "cell_type": "code",
   "execution_count": 25,
   "metadata": {},
   "outputs": [
    {
     "data": {
      "text/html": [
       "<div>\n",
       "<style scoped>\n",
       "    .dataframe tbody tr th:only-of-type {\n",
       "        vertical-align: middle;\n",
       "    }\n",
       "\n",
       "    .dataframe tbody tr th {\n",
       "        vertical-align: top;\n",
       "    }\n",
       "\n",
       "    .dataframe thead th {\n",
       "        text-align: right;\n",
       "    }\n",
       "</style>\n",
       "<table border=\"1\" class=\"dataframe\">\n",
       "  <thead>\n",
       "    <tr style=\"text-align: right;\">\n",
       "      <th></th>\n",
       "      <th>date</th>\n",
       "      <th>groupA</th>\n",
       "      <th>ordersA</th>\n",
       "      <th>buyersA</th>\n",
       "      <th>revenueA</th>\n",
       "      <th>groupB</th>\n",
       "      <th>ordersB</th>\n",
       "      <th>buyersB</th>\n",
       "      <th>revenueB</th>\n",
       "    </tr>\n",
       "  </thead>\n",
       "  <tbody>\n",
       "    <tr>\n",
       "      <th>0</th>\n",
       "      <td>2019-08-01</td>\n",
       "      <td>A</td>\n",
       "      <td>23</td>\n",
       "      <td>19</td>\n",
       "      <td>142779</td>\n",
       "      <td>B</td>\n",
       "      <td>17</td>\n",
       "      <td>17</td>\n",
       "      <td>59758</td>\n",
       "    </tr>\n",
       "    <tr>\n",
       "      <th>1</th>\n",
       "      <td>2019-08-02</td>\n",
       "      <td>A</td>\n",
       "      <td>42</td>\n",
       "      <td>36</td>\n",
       "      <td>234381</td>\n",
       "      <td>B</td>\n",
       "      <td>40</td>\n",
       "      <td>39</td>\n",
       "      <td>221801</td>\n",
       "    </tr>\n",
       "    <tr>\n",
       "      <th>2</th>\n",
       "      <td>2019-08-03</td>\n",
       "      <td>A</td>\n",
       "      <td>66</td>\n",
       "      <td>60</td>\n",
       "      <td>346854</td>\n",
       "      <td>B</td>\n",
       "      <td>54</td>\n",
       "      <td>53</td>\n",
       "      <td>288850</td>\n",
       "    </tr>\n",
       "    <tr>\n",
       "      <th>3</th>\n",
       "      <td>2019-08-04</td>\n",
       "      <td>A</td>\n",
       "      <td>77</td>\n",
       "      <td>71</td>\n",
       "      <td>388030</td>\n",
       "      <td>B</td>\n",
       "      <td>68</td>\n",
       "      <td>66</td>\n",
       "      <td>385740</td>\n",
       "    </tr>\n",
       "    <tr>\n",
       "      <th>4</th>\n",
       "      <td>2019-08-05</td>\n",
       "      <td>A</td>\n",
       "      <td>99</td>\n",
       "      <td>92</td>\n",
       "      <td>474413</td>\n",
       "      <td>B</td>\n",
       "      <td>89</td>\n",
       "      <td>87</td>\n",
       "      <td>475648</td>\n",
       "    </tr>\n",
       "  </tbody>\n",
       "</table>\n",
       "</div>"
      ],
      "text/plain": [
       "        date groupA  ordersA  buyersA  revenueA groupB  ordersB  buyersB  \\\n",
       "0 2019-08-01  A      23       19       142779    B      17       17        \n",
       "1 2019-08-02  A      42       36       234381    B      40       39        \n",
       "2 2019-08-03  A      66       60       346854    B      54       53        \n",
       "3 2019-08-04  A      77       71       388030    B      68       66        \n",
       "4 2019-08-05  A      99       92       474413    B      89       87        \n",
       "\n",
       "   revenueB  \n",
       "0  59758     \n",
       "1  221801    \n",
       "2  288850    \n",
       "3  385740    \n",
       "4  475648    "
      ]
     },
     "execution_count": 25,
     "metadata": {},
     "output_type": "execute_result"
    }
   ],
   "source": [
    "# собираем данные в одном датафрейме\n",
    "revenueCumAB = revenueCumA.merge(revenueCumB, on='date', how='left', suffixes=['A', 'B'])\n",
    "revenueCumAB.head()"
   ]
  },
  {
   "cell_type": "code",
   "execution_count": 26,
   "metadata": {
    "scrolled": true
   },
   "outputs": [
    {
     "data": {
      "image/png": "[encoded data removed]",
      "text/plain": [
       "<Figure size 432x288 with 1 Axes>"
      ]
     },
     "metadata": {
      "needs_background": "light"
     },
     "output_type": "display_data"
    }
   ],
   "source": [
    "# cтроим отношение средних чеков\n",
    "plt.plot(revenueCumAB['date'], \n",
    "         (revenueCumAB['revenueB']/revenueCumAB['ordersB'])/\n",
    "         (revenueCumAB['revenueA']/revenueCumAB['ordersA'])-1)\n",
    "\n",
    "# добавим ось X\n",
    "plt.axhline(y=0, color='grey', linestyle='--')\n",
    "\n",
    "plt.xlabel('День')\n",
    "plt.ylabel('Относительное различие\\n между средним чеком')\n",
    "plt.xticks(rotation=45)\n",
    "plt.title('График относительного различия кумулятивного среднего чека\\n по группам A/B')\n",
    "plt.show()"
   ]
  },
  {
   "cell_type": "markdown",
   "metadata": {},
   "source": [
    "В начале теста группа B значительно проигрывала группе A по среднему чеку, но затем пошел рост: большую часть месяца **средний чек в группе B был выше**. \n",
    "\n",
    "Стабильной тенденцию назвать нельзя: в середине месяца опять произошел спад. Свою роль могли сыграть выбросы (дорогие заказы) или большое количество заказов в группе А, которые временно перетянули на себя средний чек."
   ]
  },
  {
   "cell_type": "markdown",
   "metadata": {},
   "source": [
    "### График кумулятивной конверсии и ее относительного изменения"
   ]
  },
  {
   "cell_type": "markdown",
   "metadata": {},
   "source": [
    "Чтобы вычислить конверсию, сначала подсчитаем кумулятивное количество посетителей в каждой группе теста. "
   ]
  },
  {
   "cell_type": "code",
   "execution_count": 27,
   "metadata": {
    "scrolled": true
   },
   "outputs": [
    {
     "data": {
      "text/html": [
       "<div>\n",
       "<style scoped>\n",
       "    .dataframe tbody tr th:only-of-type {\n",
       "        vertical-align: middle;\n",
       "    }\n",
       "\n",
       "    .dataframe tbody tr th {\n",
       "        vertical-align: top;\n",
       "    }\n",
       "\n",
       "    .dataframe thead th {\n",
       "        text-align: right;\n",
       "    }\n",
       "</style>\n",
       "<table border=\"1\" class=\"dataframe\">\n",
       "  <thead>\n",
       "    <tr style=\"text-align: right;\">\n",
       "      <th></th>\n",
       "      <th>date</th>\n",
       "      <th>group</th>\n",
       "      <th>visitors</th>\n",
       "    </tr>\n",
       "  </thead>\n",
       "  <tbody>\n",
       "    <tr>\n",
       "      <th>55</th>\n",
       "      <td>2019-08-01</td>\n",
       "      <td>A</td>\n",
       "      <td>719</td>\n",
       "    </tr>\n",
       "    <tr>\n",
       "      <th>66</th>\n",
       "      <td>2019-08-01</td>\n",
       "      <td>B</td>\n",
       "      <td>713</td>\n",
       "    </tr>\n",
       "    <tr>\n",
       "      <th>175</th>\n",
       "      <td>2019-08-02</td>\n",
       "      <td>A</td>\n",
       "      <td>1338</td>\n",
       "    </tr>\n",
       "    <tr>\n",
       "      <th>173</th>\n",
       "      <td>2019-08-02</td>\n",
       "      <td>B</td>\n",
       "      <td>1294</td>\n",
       "    </tr>\n",
       "    <tr>\n",
       "      <th>291</th>\n",
       "      <td>2019-08-03</td>\n",
       "      <td>A</td>\n",
       "      <td>1845</td>\n",
       "    </tr>\n",
       "  </tbody>\n",
       "</table>\n",
       "</div>"
      ],
      "text/plain": [
       "          date group  visitors\n",
       "55  2019-08-01  A     719     \n",
       "66  2019-08-01  B     713     \n",
       "175 2019-08-02  A     1338    \n",
       "173 2019-08-02  B     1294    \n",
       "291 2019-08-03  A     1845    "
      ]
     },
     "execution_count": 27,
     "metadata": {},
     "output_type": "execute_result"
    }
   ],
   "source": [
    "visitsCum = (datesGroups.apply\n",
    "            (lambda x: visits[np.logical_and(visits['date'] <= x['date'], visits['group'] == x['group'])]\n",
    "            .agg({\n",
    "                'date': 'max',\n",
    "                'group': 'max',\n",
    "                'visitors': 'sum'\n",
    "             }), \n",
    "             axis=1)\n",
    "             .sort_values(by=['date','group']))\n",
    "\n",
    "visitsCum.head()"
   ]
  },
  {
   "cell_type": "markdown",
   "metadata": {},
   "source": [
    "Объединим данные по кумулятивной выручке с данными по кумулятивным посетителям в один датафрейм."
   ]
  },
  {
   "cell_type": "code",
   "execution_count": 28,
   "metadata": {
    "scrolled": true
   },
   "outputs": [
    {
     "data": {
      "text/html": [
       "<div>\n",
       "<style scoped>\n",
       "    .dataframe tbody tr th:only-of-type {\n",
       "        vertical-align: middle;\n",
       "    }\n",
       "\n",
       "    .dataframe tbody tr th {\n",
       "        vertical-align: top;\n",
       "    }\n",
       "\n",
       "    .dataframe thead th {\n",
       "        text-align: right;\n",
       "    }\n",
       "</style>\n",
       "<table border=\"1\" class=\"dataframe\">\n",
       "  <thead>\n",
       "    <tr style=\"text-align: right;\">\n",
       "      <th></th>\n",
       "      <th>date</th>\n",
       "      <th>group</th>\n",
       "      <th>orders</th>\n",
       "      <th>buyers</th>\n",
       "      <th>revenue</th>\n",
       "      <th>visitors</th>\n",
       "    </tr>\n",
       "  </thead>\n",
       "  <tbody>\n",
       "    <tr>\n",
       "      <th>0</th>\n",
       "      <td>2019-08-01</td>\n",
       "      <td>A</td>\n",
       "      <td>23</td>\n",
       "      <td>19</td>\n",
       "      <td>142779</td>\n",
       "      <td>719</td>\n",
       "    </tr>\n",
       "    <tr>\n",
       "      <th>1</th>\n",
       "      <td>2019-08-01</td>\n",
       "      <td>B</td>\n",
       "      <td>17</td>\n",
       "      <td>17</td>\n",
       "      <td>59758</td>\n",
       "      <td>713</td>\n",
       "    </tr>\n",
       "    <tr>\n",
       "      <th>2</th>\n",
       "      <td>2019-08-02</td>\n",
       "      <td>A</td>\n",
       "      <td>42</td>\n",
       "      <td>36</td>\n",
       "      <td>234381</td>\n",
       "      <td>1338</td>\n",
       "    </tr>\n",
       "    <tr>\n",
       "      <th>3</th>\n",
       "      <td>2019-08-02</td>\n",
       "      <td>B</td>\n",
       "      <td>40</td>\n",
       "      <td>39</td>\n",
       "      <td>221801</td>\n",
       "      <td>1294</td>\n",
       "    </tr>\n",
       "    <tr>\n",
       "      <th>4</th>\n",
       "      <td>2019-08-03</td>\n",
       "      <td>A</td>\n",
       "      <td>66</td>\n",
       "      <td>60</td>\n",
       "      <td>346854</td>\n",
       "      <td>1845</td>\n",
       "    </tr>\n",
       "  </tbody>\n",
       "</table>\n",
       "</div>"
      ],
      "text/plain": [
       "        date group  orders  buyers  revenue  visitors\n",
       "0 2019-08-01  A     23      19      142779   719     \n",
       "1 2019-08-01  B     17      17      59758    713     \n",
       "2 2019-08-02  A     42      36      234381   1338    \n",
       "3 2019-08-02  B     40      39      221801   1294    \n",
       "4 2019-08-03  A     66      60      346854   1845    "
      ]
     },
     "execution_count": 28,
     "metadata": {},
     "output_type": "execute_result"
    }
   ],
   "source": [
    "df = revenueCum.merge(visitsCum, on=['date', 'group'], how='left')\n",
    "df.head()"
   ]
  },
  {
   "cell_type": "markdown",
   "metadata": {},
   "source": [
    "Рассчитаем кумулятивную конверсию, разделив количество заказов на количество посетителей (все метрики накопительные)."
   ]
  },
  {
   "cell_type": "code",
   "execution_count": 29,
   "metadata": {
    "scrolled": true
   },
   "outputs": [
    {
     "data": {
      "text/html": [
       "<div>\n",
       "<style scoped>\n",
       "    .dataframe tbody tr th:only-of-type {\n",
       "        vertical-align: middle;\n",
       "    }\n",
       "\n",
       "    .dataframe tbody tr th {\n",
       "        vertical-align: top;\n",
       "    }\n",
       "\n",
       "    .dataframe thead th {\n",
       "        text-align: right;\n",
       "    }\n",
       "</style>\n",
       "<table border=\"1\" class=\"dataframe\">\n",
       "  <thead>\n",
       "    <tr style=\"text-align: right;\">\n",
       "      <th></th>\n",
       "      <th>date</th>\n",
       "      <th>group</th>\n",
       "      <th>orders</th>\n",
       "      <th>buyers</th>\n",
       "      <th>revenue</th>\n",
       "      <th>visitors</th>\n",
       "      <th>conversion</th>\n",
       "    </tr>\n",
       "  </thead>\n",
       "  <tbody>\n",
       "    <tr>\n",
       "      <th>0</th>\n",
       "      <td>2019-08-01</td>\n",
       "      <td>A</td>\n",
       "      <td>23</td>\n",
       "      <td>19</td>\n",
       "      <td>142779</td>\n",
       "      <td>719</td>\n",
       "      <td>0.032</td>\n",
       "    </tr>\n",
       "    <tr>\n",
       "      <th>2</th>\n",
       "      <td>2019-08-02</td>\n",
       "      <td>A</td>\n",
       "      <td>42</td>\n",
       "      <td>36</td>\n",
       "      <td>234381</td>\n",
       "      <td>1338</td>\n",
       "      <td>0.031</td>\n",
       "    </tr>\n",
       "    <tr>\n",
       "      <th>4</th>\n",
       "      <td>2019-08-03</td>\n",
       "      <td>A</td>\n",
       "      <td>66</td>\n",
       "      <td>60</td>\n",
       "      <td>346854</td>\n",
       "      <td>1845</td>\n",
       "      <td>0.036</td>\n",
       "    </tr>\n",
       "    <tr>\n",
       "      <th>6</th>\n",
       "      <td>2019-08-04</td>\n",
       "      <td>A</td>\n",
       "      <td>77</td>\n",
       "      <td>71</td>\n",
       "      <td>388030</td>\n",
       "      <td>2562</td>\n",
       "      <td>0.030</td>\n",
       "    </tr>\n",
       "    <tr>\n",
       "      <th>8</th>\n",
       "      <td>2019-08-05</td>\n",
       "      <td>A</td>\n",
       "      <td>99</td>\n",
       "      <td>92</td>\n",
       "      <td>474413</td>\n",
       "      <td>3318</td>\n",
       "      <td>0.030</td>\n",
       "    </tr>\n",
       "  </tbody>\n",
       "</table>\n",
       "</div>"
      ],
      "text/plain": [
       "        date group  orders  buyers  revenue  visitors  conversion\n",
       "0 2019-08-01  A     23      19      142779   719      0.032      \n",
       "2 2019-08-02  A     42      36      234381   1338     0.031      \n",
       "4 2019-08-03  A     66      60      346854   1845     0.036      \n",
       "6 2019-08-04  A     77      71      388030   2562     0.030      \n",
       "8 2019-08-05  A     99      92      474413   3318     0.030      "
      ]
     },
     "execution_count": 29,
     "metadata": {},
     "output_type": "execute_result"
    }
   ],
   "source": [
    "df['conversion'] = df['orders']/df['visitors']\n",
    "\n",
    "# выделим данные по группам A и B в отдельные датафреймы\n",
    "\n",
    "conversionA = df[df['group'] == 'A']\n",
    "conversionB = df[df['group'] == 'B']\n",
    "\n",
    "conversionA.head()"
   ]
  },
  {
   "cell_type": "markdown",
   "metadata": {},
   "source": [
    "Построим график, чтобы сравнить накопительную конверсию для групп A и B."
   ]
  },
  {
   "cell_type": "code",
   "execution_count": 30,
   "metadata": {
    "scrolled": true
   },
   "outputs": [
    {
     "data": {
      "image/png": "[encoded data removed]",
      "text/plain": [
       "<Figure size 432x288 with 1 Axes>"
      ]
     },
     "metadata": {
      "needs_background": "light"
     },
     "output_type": "display_data"
    }
   ],
   "source": [
    "plt.plot(conversionA['date'], conversionA['conversion'], label='A')\n",
    "plt.plot(conversionB['date'], conversionB['conversion'], label='B')\n",
    "\n",
    "# отрегулируем масштаб \n",
    "plt.axis([\"2019-08-01\", '2019-08-31', 0, 0.04]) \n",
    "\n",
    "plt.xlabel('День')\n",
    "plt.ylabel('Кумулятивная конверсия')\n",
    "plt.xticks(rotation=45)\n",
    "\n",
    "plt.title('Изменение кумулятивной конверсии\\n по группам A/B')\n",
    "plt.legend()\n",
    "plt.show()"
   ]
  },
  {
   "cell_type": "markdown",
   "metadata": {},
   "source": [
    "Линии на графике почти симметричны! Сначала конверсия в группе A была выше, затем произошел спад. У группы B всё с точностью наоборот &mdash; сначала она проигрывала по конверсии, затем оставшуюся часть теста лидировала. \n",
    "\n",
    "Уже на второй неделе теста значения конверсии для обеих групп зафиксировались: конверсия в группе B в среднем **превышала конверсию в группе A примерно на 0,005**. \n",
    "\n",
    "Различие совсем незначительно. Можно ли считать это неслучайным результатом, мы узнаем позднее при оценке статистической значимости. А сейчас оценим относительное изменение конверсии для групп A и B."
   ]
  },
  {
   "cell_type": "code",
   "execution_count": 31,
   "metadata": {},
   "outputs": [
    {
     "data": {
      "text/html": [
       "<div>\n",
       "<style scoped>\n",
       "    .dataframe tbody tr th:only-of-type {\n",
       "        vertical-align: middle;\n",
       "    }\n",
       "\n",
       "    .dataframe tbody tr th {\n",
       "        vertical-align: top;\n",
       "    }\n",
       "\n",
       "    .dataframe thead th {\n",
       "        text-align: right;\n",
       "    }\n",
       "</style>\n",
       "<table border=\"1\" class=\"dataframe\">\n",
       "  <thead>\n",
       "    <tr style=\"text-align: right;\">\n",
       "      <th></th>\n",
       "      <th>date</th>\n",
       "      <th>groupA</th>\n",
       "      <th>ordersA</th>\n",
       "      <th>buyersA</th>\n",
       "      <th>revenueA</th>\n",
       "      <th>visitorsA</th>\n",
       "      <th>conversionA</th>\n",
       "      <th>groupB</th>\n",
       "      <th>ordersB</th>\n",
       "      <th>buyersB</th>\n",
       "      <th>revenueB</th>\n",
       "      <th>visitorsB</th>\n",
       "      <th>conversionB</th>\n",
       "    </tr>\n",
       "  </thead>\n",
       "  <tbody>\n",
       "    <tr>\n",
       "      <th>0</th>\n",
       "      <td>2019-08-01</td>\n",
       "      <td>A</td>\n",
       "      <td>23</td>\n",
       "      <td>19</td>\n",
       "      <td>142779</td>\n",
       "      <td>719</td>\n",
       "      <td>0.032</td>\n",
       "      <td>B</td>\n",
       "      <td>17</td>\n",
       "      <td>17</td>\n",
       "      <td>59758</td>\n",
       "      <td>713</td>\n",
       "      <td>0.024</td>\n",
       "    </tr>\n",
       "    <tr>\n",
       "      <th>1</th>\n",
       "      <td>2019-08-02</td>\n",
       "      <td>A</td>\n",
       "      <td>42</td>\n",
       "      <td>36</td>\n",
       "      <td>234381</td>\n",
       "      <td>1338</td>\n",
       "      <td>0.031</td>\n",
       "      <td>B</td>\n",
       "      <td>40</td>\n",
       "      <td>39</td>\n",
       "      <td>221801</td>\n",
       "      <td>1294</td>\n",
       "      <td>0.031</td>\n",
       "    </tr>\n",
       "    <tr>\n",
       "      <th>2</th>\n",
       "      <td>2019-08-03</td>\n",
       "      <td>A</td>\n",
       "      <td>66</td>\n",
       "      <td>60</td>\n",
       "      <td>346854</td>\n",
       "      <td>1845</td>\n",
       "      <td>0.036</td>\n",
       "      <td>B</td>\n",
       "      <td>54</td>\n",
       "      <td>53</td>\n",
       "      <td>288850</td>\n",
       "      <td>1803</td>\n",
       "      <td>0.030</td>\n",
       "    </tr>\n",
       "    <tr>\n",
       "      <th>3</th>\n",
       "      <td>2019-08-04</td>\n",
       "      <td>A</td>\n",
       "      <td>77</td>\n",
       "      <td>71</td>\n",
       "      <td>388030</td>\n",
       "      <td>2562</td>\n",
       "      <td>0.030</td>\n",
       "      <td>B</td>\n",
       "      <td>68</td>\n",
       "      <td>66</td>\n",
       "      <td>385740</td>\n",
       "      <td>2573</td>\n",
       "      <td>0.026</td>\n",
       "    </tr>\n",
       "    <tr>\n",
       "      <th>4</th>\n",
       "      <td>2019-08-05</td>\n",
       "      <td>A</td>\n",
       "      <td>99</td>\n",
       "      <td>92</td>\n",
       "      <td>474413</td>\n",
       "      <td>3318</td>\n",
       "      <td>0.030</td>\n",
       "      <td>B</td>\n",
       "      <td>89</td>\n",
       "      <td>87</td>\n",
       "      <td>475648</td>\n",
       "      <td>3280</td>\n",
       "      <td>0.027</td>\n",
       "    </tr>\n",
       "  </tbody>\n",
       "</table>\n",
       "</div>"
      ],
      "text/plain": [
       "        date groupA  ordersA  buyersA  revenueA  visitorsA  conversionA  \\\n",
       "0 2019-08-01  A      23       19       142779    719       0.032          \n",
       "1 2019-08-02  A      42       36       234381    1338      0.031          \n",
       "2 2019-08-03  A      66       60       346854    1845      0.036          \n",
       "3 2019-08-04  A      77       71       388030    2562      0.030          \n",
       "4 2019-08-05  A      99       92       474413    3318      0.030          \n",
       "\n",
       "  groupB  ordersB  buyersB  revenueB  visitorsB  conversionB  \n",
       "0  B      17       17       59758     713       0.024         \n",
       "1  B      40       39       221801    1294      0.031         \n",
       "2  B      54       53       288850    1803      0.030         \n",
       "3  B      68       66       385740    2573      0.026         \n",
       "4  B      89       87       475648    3280      0.027         "
      ]
     },
     "execution_count": 31,
     "metadata": {},
     "output_type": "execute_result"
    }
   ],
   "source": [
    "# собираем данные в одном датафрейме\n",
    "conversionAB = conversionA.merge(conversionB, on='date', how='left', suffixes=['A', 'B'])\n",
    "conversionAB.head()"
   ]
  },
  {
   "cell_type": "code",
   "execution_count": 32,
   "metadata": {
    "scrolled": true
   },
   "outputs": [
    {
     "data": {
      "image/png": "[encoded data removed]",
      "text/plain": [
       "<Figure size 432x288 with 1 Axes>"
      ]
     },
     "metadata": {
      "needs_background": "light"
     },
     "output_type": "display_data"
    }
   ],
   "source": [
    "# cтроим отношение конверсий\n",
    "plt.plot(conversionAB['date'], \n",
    "         conversionAB['conversionB']/\n",
    "         conversionAB['conversionA'] -1)\n",
    "\n",
    "# добавляем горизонтальные оси\n",
    "plt.axhline(y=0, color='grey', linestyle='--')\n",
    "plt.axhline(y=0.15, color='grey', linestyle='-.')\n",
    "\n",
    "plt.xticks(rotation=45)\n",
    "plt.xlabel('День')\n",
    "plt.ylabel('Относительное различие\\n конверсий')\n",
    "plt.title('График относительного различия кумулятивной конверсии\\n по группам A/B')\n",
    "plt.show()"
   ]
  },
  {
   "cell_type": "markdown",
   "metadata": {},
   "source": [
    "В начале теста группа B явно проигрывала по конверсии. Затем наблюдаем уверенный рост. Начиная со второй декады месяца, различие в конверсиях установилось примерно на одном значении _(0,15)._\n",
    "\n",
    "Пока что, с учетом аномалий, можно считать, что группа B показала лучшие результаты по конверсии, чем группа A. "
   ]
  },
  {
   "cell_type": "markdown",
   "metadata": {},
   "source": [
    "###  Точечный график количества заказов. Определение аномалий"
   ]
  },
  {
   "cell_type": "markdown",
   "metadata": {},
   "source": [
    "На графиках кумулятивной выручки и среднего чека мы видели неожиданные всплески. Что, если они связаны с **аномально большим** количеством заказов? Возможно, в базе интернет-магазина есть один или несколько пользователей с нетипичным сценарием покупок (\"шопоголики\"). В таком случае, они могут искажать картину A/B теста. \n",
    "\n",
    "Изучим распределение количества заказов по пользователям."
   ]
  },
  {
   "cell_type": "code",
   "execution_count": 33,
   "metadata": {
    "scrolled": false
   },
   "outputs": [
    {
     "data": {
      "text/html": [
       "<div>\n",
       "<style scoped>\n",
       "    .dataframe tbody tr th:only-of-type {\n",
       "        vertical-align: middle;\n",
       "    }\n",
       "\n",
       "    .dataframe tbody tr th {\n",
       "        vertical-align: top;\n",
       "    }\n",
       "\n",
       "    .dataframe thead th {\n",
       "        text-align: right;\n",
       "    }\n",
       "</style>\n",
       "<table border=\"1\" class=\"dataframe\">\n",
       "  <thead>\n",
       "    <tr style=\"text-align: right;\">\n",
       "      <th></th>\n",
       "      <th>visitorId</th>\n",
       "      <th>orders_n</th>\n",
       "    </tr>\n",
       "  </thead>\n",
       "  <tbody>\n",
       "    <tr>\n",
       "      <th>908</th>\n",
       "      <td>3967698036</td>\n",
       "      <td>3</td>\n",
       "    </tr>\n",
       "    <tr>\n",
       "      <th>55</th>\n",
       "      <td>249864742</td>\n",
       "      <td>3</td>\n",
       "    </tr>\n",
       "    <tr>\n",
       "      <th>478</th>\n",
       "      <td>2108163459</td>\n",
       "      <td>3</td>\n",
       "    </tr>\n",
       "    <tr>\n",
       "      <th>687</th>\n",
       "      <td>2988190573</td>\n",
       "      <td>3</td>\n",
       "    </tr>\n",
       "    <tr>\n",
       "      <th>890</th>\n",
       "      <td>3908431265</td>\n",
       "      <td>3</td>\n",
       "    </tr>\n",
       "  </tbody>\n",
       "</table>\n",
       "</div>"
      ],
      "text/plain": [
       "      visitorId  orders_n\n",
       "908  3967698036  3       \n",
       "55   249864742   3       \n",
       "478  2108163459  3       \n",
       "687  2988190573  3       \n",
       "890  3908431265  3       "
      ]
     },
     "execution_count": 33,
     "metadata": {},
     "output_type": "execute_result"
    }
   ],
   "source": [
    "orders_n = (orders\n",
    "            .groupby('visitorId', as_index=False)\n",
    "            .agg({'transactionId': 'nunique'}))\n",
    "\n",
    "# переименуем столбцы\n",
    "orders_n.columns = ['visitorId', 'orders_n']\n",
    "\n",
    "# отсортируем по убыванию количества заказов\n",
    "orders_n.sort_values(by='orders_n', ascending=False).head()"
   ]
  },
  {
   "cell_type": "markdown",
   "metadata": {},
   "source": [
    "Максимальное количество заказов &mdash; 3. Не так уж много за месяц. С другой стороны, если все делают по 1 покупке, то 3 &mdash; уже много.\n",
    "\n",
    "Посмотрим на диаграмму рассеяния."
   ]
  },
  {
   "cell_type": "code",
   "execution_count": 34,
   "metadata": {
    "scrolled": true
   },
   "outputs": [
    {
     "data": {
      "image/png": "[encoded data removed]",
      "text/plain": [
       "<Figure size 432x288 with 1 Axes>"
      ]
     },
     "metadata": {
      "needs_background": "light"
     },
     "output_type": "display_data"
    }
   ],
   "source": [
    "xvalues = pd.Series(range(0,len(orders_n)))\n",
    "\n",
    "plt.scatter(xvalues, orders_n['orders_n'], alpha=0.3)\n",
    "\n",
    "plt.title('Диаграмма рассеяния для количества заказов')\n",
    "plt.ylabel('Количество заказов\\n на 1 пользователя')\n",
    "plt.show()"
   ]
  },
  {
   "cell_type": "markdown",
   "metadata": {},
   "source": [
    "Действительно, подавляющее большинство пользователей совершило за месяц всего по одной покупке. Меньшая доля совершила по 2 покупки, и уж совсем единицы сделали по 3 покупки в месяц.\n",
    "\n",
    "Если только у нас не продуктовый интернет-магазин, то частота покупок раз в месяц &mdash; достаточно типичная картина. Вероятно, 2-3 покупки можно отнести к выбросам. Чтобы точнее определить эту границу, рассчитаем 95-й и 99-й перцентили количества заказов."
   ]
  },
  {
   "cell_type": "code",
   "execution_count": 35,
   "metadata": {},
   "outputs": [
    {
     "name": "stdout",
     "output_type": "stream",
     "text": [
      "[1. 2.]\n"
     ]
    }
   ],
   "source": [
    "print(np.percentile(orders_n['orders_n'], [95, 99]))"
   ]
  },
  {
   "cell_type": "markdown",
   "metadata": {},
   "source": [
    "Всего 5% пользователей заказывали более 1 раза, а 1% &mdash; более 2 раз. Примем 1 заказ за верхнюю границу. Всё, что более, отнесем к аномальному количеству. Фильтрацией данных мы займемся позже при оценке статзначимости."
   ]
  },
  {
   "cell_type": "markdown",
   "metadata": {},
   "source": [
    "###  Точечный график стоимости заказов. Определение аномалий"
   ]
  },
  {
   "cell_type": "markdown",
   "metadata": {},
   "source": [
    "При наличии аномалий стоимость одного заказа &mdash; фактор, который также может заметно влиять на показатели выручки и среднего чека.\n",
    "\n",
    "Оценим разброс данных. Предварительно мы уже видели (на диаграмме размаха), что выбросы точно есть."
   ]
  },
  {
   "cell_type": "code",
   "execution_count": 36,
   "metadata": {},
   "outputs": [],
   "source": [
    "xvalues2 = pd.Series(range(0,len(orders['revenue'])))"
   ]
  },
  {
   "cell_type": "code",
   "execution_count": 37,
   "metadata": {
    "scrolled": false
   },
   "outputs": [
    {
     "data": {
      "image/png": "[encoded data removed]",
      "text/plain": [
       "<Figure size 432x288 with 1 Axes>"
      ]
     },
     "metadata": {
      "needs_background": "light"
     },
     "output_type": "display_data"
    }
   ],
   "source": [
    "plt.scatter(x=xvalues2, y=orders.revenue, alpha=0.3)\n",
    "plt.title('Диаграмма рассеяния для стоимости заказов')\n",
    "plt.ylabel('Стоимость заказа')\n",
    "plt.show()"
   ]
  },
  {
   "cell_type": "markdown",
   "metadata": {},
   "source": [
    "Преобладающая доля заказов имеет **стоимость до 100 тысяч**. Есть и сильно выбивающиеся значения, например 1 200 000 &mdash; нетипичная сумма заказа для интернет-магазина. Точнее по графику сказать сложно, поэтому повторим график с измененным масштабом."
   ]
  },
  {
   "cell_type": "code",
   "execution_count": 38,
   "metadata": {},
   "outputs": [
    {
     "data": {
      "image/png": "[encoded data removed]",
      "text/plain": [
       "<Figure size 432x288 with 1 Axes>"
      ]
     },
     "metadata": {
      "needs_background": "light"
     },
     "output_type": "display_data"
    }
   ],
   "source": [
    "plt.scatter(x=xvalues2, y=orders.revenue, alpha=0.3)\n",
    "\n",
    "# отрегулируем масштаб\n",
    "plt.axis([0, 1000, 0, 100000]) \n",
    "plt.title('Диаграмма рассеяния для стоимости заказов')\n",
    "plt.ylabel('Стоимость заказа')\n",
    "plt.show()"
   ]
  },
  {
   "cell_type": "markdown",
   "metadata": {},
   "source": [
    "Теперь видим, что основная масса заказов &mdash; на сумму до 5-10 тысяч. Все, что дороже 20 тысяч, встречается уже сравнительно редко.\n",
    "\n",
    "Чтобы точнее определить порог редких значений, найдем 95-й и 99-й перцентили для стоимости заказа."
   ]
  },
  {
   "cell_type": "code",
   "execution_count": 39,
   "metadata": {},
   "outputs": [
    {
     "name": "stdout",
     "output_type": "stream",
     "text": [
      "[26785. 53904.]\n"
     ]
    }
   ],
   "source": [
    "print(np.percentile(orders['revenue'], [95, 99]))"
   ]
  },
  {
   "cell_type": "markdown",
   "metadata": {},
   "source": [
    "Итак, всего 5% заказов стоит дороже 27 тысяч и 1% &mdash; дороже 54 тысяч. Для наших будущих расчетов проведем границу по 95-му перцентилю. Всё, что дороже, будем считать аномально дорогими заказами."
   ]
  },
  {
   "cell_type": "markdown",
   "metadata": {},
   "source": [
    "### Оценка статзначимости в конверсии и среднем чеке по «сырым» данным"
   ]
  },
  {
   "cell_type": "markdown",
   "metadata": {},
   "source": [
    "На графиках мы наблюдали различия в конверсии и среднем чеке. Теперь проверим, насколько случайны или неслучайны эти различия. Для этого воспользуемся статистическим тестом. \n",
    "\n",
    "Как нам уже известно, в данных есть выбросы, а значит, параметрические тесты, такие как Хи-квадрат, будут неточными. Особенностям нашей выборки удовлетворяет _непараметрический тест Манна-Уитни._\n",
    "\n",
    "Подготовим таблицу для проверки тестом."
   ]
  },
  {
   "cell_type": "markdown",
   "metadata": {},
   "source": [
    "Сначала сформируем две таблицы с покупателями из каждой группы и количеством заказов, сделанным каждым покупателем."
   ]
  },
  {
   "cell_type": "code",
   "execution_count": 40,
   "metadata": {},
   "outputs": [
    {
     "data": {
      "text/html": [
       "<div>\n",
       "<style scoped>\n",
       "    .dataframe tbody tr th:only-of-type {\n",
       "        vertical-align: middle;\n",
       "    }\n",
       "\n",
       "    .dataframe tbody tr th {\n",
       "        vertical-align: top;\n",
       "    }\n",
       "\n",
       "    .dataframe thead th {\n",
       "        text-align: right;\n",
       "    }\n",
       "</style>\n",
       "<table border=\"1\" class=\"dataframe\">\n",
       "  <thead>\n",
       "    <tr style=\"text-align: right;\">\n",
       "      <th></th>\n",
       "      <th>user</th>\n",
       "      <th>orders</th>\n",
       "    </tr>\n",
       "  </thead>\n",
       "  <tbody>\n",
       "    <tr>\n",
       "      <th>0</th>\n",
       "      <td>11685486</td>\n",
       "      <td>1</td>\n",
       "    </tr>\n",
       "    <tr>\n",
       "      <th>1</th>\n",
       "      <td>54447517</td>\n",
       "      <td>1</td>\n",
       "    </tr>\n",
       "    <tr>\n",
       "      <th>2</th>\n",
       "      <td>66685450</td>\n",
       "      <td>1</td>\n",
       "    </tr>\n",
       "    <tr>\n",
       "      <th>3</th>\n",
       "      <td>78758296</td>\n",
       "      <td>1</td>\n",
       "    </tr>\n",
       "    <tr>\n",
       "      <th>4</th>\n",
       "      <td>85103373</td>\n",
       "      <td>1</td>\n",
       "    </tr>\n",
       "  </tbody>\n",
       "</table>\n",
       "</div>"
      ],
      "text/plain": [
       "       user  orders\n",
       "0  11685486  1     \n",
       "1  54447517  1     \n",
       "2  66685450  1     \n",
       "3  78758296  1     \n",
       "4  85103373  1     "
      ]
     },
     "metadata": {},
     "output_type": "display_data"
    },
    {
     "data": {
      "text/html": [
       "<div>\n",
       "<style scoped>\n",
       "    .dataframe tbody tr th:only-of-type {\n",
       "        vertical-align: middle;\n",
       "    }\n",
       "\n",
       "    .dataframe tbody tr th {\n",
       "        vertical-align: top;\n",
       "    }\n",
       "\n",
       "    .dataframe thead th {\n",
       "        text-align: right;\n",
       "    }\n",
       "</style>\n",
       "<table border=\"1\" class=\"dataframe\">\n",
       "  <thead>\n",
       "    <tr style=\"text-align: right;\">\n",
       "      <th></th>\n",
       "      <th>user</th>\n",
       "      <th>orders</th>\n",
       "    </tr>\n",
       "  </thead>\n",
       "  <tbody>\n",
       "    <tr>\n",
       "      <th>0</th>\n",
       "      <td>5114589</td>\n",
       "      <td>1</td>\n",
       "    </tr>\n",
       "    <tr>\n",
       "      <th>1</th>\n",
       "      <td>6958315</td>\n",
       "      <td>1</td>\n",
       "    </tr>\n",
       "    <tr>\n",
       "      <th>2</th>\n",
       "      <td>39475350</td>\n",
       "      <td>1</td>\n",
       "    </tr>\n",
       "    <tr>\n",
       "      <th>3</th>\n",
       "      <td>47206413</td>\n",
       "      <td>1</td>\n",
       "    </tr>\n",
       "    <tr>\n",
       "      <th>4</th>\n",
       "      <td>48147722</td>\n",
       "      <td>1</td>\n",
       "    </tr>\n",
       "  </tbody>\n",
       "</table>\n",
       "</div>"
      ],
      "text/plain": [
       "       user  orders\n",
       "0  5114589   1     \n",
       "1  6958315   1     \n",
       "2  39475350  1     \n",
       "3  47206413  1     \n",
       "4  48147722  1     "
      ]
     },
     "metadata": {},
     "output_type": "display_data"
    }
   ],
   "source": [
    "buyersA = (orders.query('group == \"A\"')\n",
    "          .groupby('visitorId', as_index=False)\n",
    "          .agg({'transactionId': 'nunique'}))\n",
    "\n",
    "# переименуем столбцы\n",
    "buyersA.columns = ['user', 'orders']\n",
    "\n",
    "# аналогично сгруппируем покупателей и заказы из второй группы\n",
    "buyersB = (orders.query('group == \"B\"')\n",
    "          .groupby('visitorId', as_index=False)\n",
    "          .agg({'transactionId': 'nunique'}))\n",
    "\n",
    "# переименуем столбцы\n",
    "buyersB.columns = ['user', 'orders']\n",
    "\n",
    "# выведем начало таблиц\n",
    "\n",
    "for x in [buyersA, buyersB]:\n",
    "    display(x.head())"
   ]
  },
  {
   "cell_type": "markdown",
   "metadata": {},
   "source": [
    "В отдельные переменные сохраним количество посетителей в группах A и B за весь период."
   ]
  },
  {
   "cell_type": "code",
   "execution_count": 41,
   "metadata": {
    "scrolled": true
   },
   "outputs": [
    {
     "name": "stdout",
     "output_type": "stream",
     "text": [
      "Общее количество посетителей в группе A: 18736\n",
      "Общее количество посетителей в группе B: 18916\n"
     ]
    }
   ],
   "source": [
    "total_visits_A = visits.query('group == \"A\"')['visitors'].sum()\n",
    "total_visits_B = visits.query('group == \"B\"')['visitors'].sum()\n",
    "\n",
    "print('Общее количество посетителей в группе A:', total_visits_A)\n",
    "print('Общее количество посетителей в группе B:', total_visits_B)"
   ]
  },
  {
   "cell_type": "markdown",
   "metadata": {},
   "source": [
    "Подсчитаем количество посетителей с нулевым количеством заказов как разницу между **общим количеством посетителей** в той или иной группе и **длиной таблиц** со списками покупателей: `buyersA` или `buyersB`.\n",
    "\n",
    "Сформируем датафрейм с нулями в каждой строчке. Их количество будет равно количеству посетителей, не совершивших ни одного заказа. \n",
    "\n",
    "Датафреймов будет два &mdash; по одному для каждой группы теста."
   ]
  },
  {
   "cell_type": "code",
   "execution_count": 42,
   "metadata": {},
   "outputs": [],
   "source": [
    "zeroA = pd.DataFrame({'orders' : [0]*(total_visits_A - len(buyersA.orders))})\n",
    "\n",
    "zeroB = pd.DataFrame({'orders' : [0]*(total_visits_B - len(buyersB.orders))})"
   ]
  },
  {
   "cell_type": "markdown",
   "metadata": {},
   "source": [
    "Теперь создадим переменные `sampleA` и `sampleB`, в которых каждая строчка будет соответствовать количеству заказов, сделанному уникальным пользователем. \n",
    "\n",
    "Для этого объединим столбец _orders_ из таблиц `buyersA` и `buyersB` с таблицами, содержащими нулевое количество заказов."
   ]
  },
  {
   "cell_type": "code",
   "execution_count": 43,
   "metadata": {
    "scrolled": false
   },
   "outputs": [
    {
     "data": {
      "text/html": [
       "<div>\n",
       "<style scoped>\n",
       "    .dataframe tbody tr th:only-of-type {\n",
       "        vertical-align: middle;\n",
       "    }\n",
       "\n",
       "    .dataframe tbody tr th {\n",
       "        vertical-align: top;\n",
       "    }\n",
       "\n",
       "    .dataframe thead th {\n",
       "        text-align: right;\n",
       "    }\n",
       "</style>\n",
       "<table border=\"1\" class=\"dataframe\">\n",
       "  <thead>\n",
       "    <tr style=\"text-align: right;\">\n",
       "      <th></th>\n",
       "      <th>orders</th>\n",
       "    </tr>\n",
       "  </thead>\n",
       "  <tbody>\n",
       "    <tr>\n",
       "      <th>0</th>\n",
       "      <td>1</td>\n",
       "    </tr>\n",
       "    <tr>\n",
       "      <th>1</th>\n",
       "      <td>1</td>\n",
       "    </tr>\n",
       "    <tr>\n",
       "      <th>2</th>\n",
       "      <td>1</td>\n",
       "    </tr>\n",
       "    <tr>\n",
       "      <th>3</th>\n",
       "      <td>1</td>\n",
       "    </tr>\n",
       "    <tr>\n",
       "      <th>4</th>\n",
       "      <td>1</td>\n",
       "    </tr>\n",
       "    <tr>\n",
       "      <th>...</th>\n",
       "      <td>...</td>\n",
       "    </tr>\n",
       "    <tr>\n",
       "      <th>18731</th>\n",
       "      <td>0</td>\n",
       "    </tr>\n",
       "    <tr>\n",
       "      <th>18732</th>\n",
       "      <td>0</td>\n",
       "    </tr>\n",
       "    <tr>\n",
       "      <th>18733</th>\n",
       "      <td>0</td>\n",
       "    </tr>\n",
       "    <tr>\n",
       "      <th>18734</th>\n",
       "      <td>0</td>\n",
       "    </tr>\n",
       "    <tr>\n",
       "      <th>18735</th>\n",
       "      <td>0</td>\n",
       "    </tr>\n",
       "  </tbody>\n",
       "</table>\n",
       "<p>18736 rows × 1 columns</p>\n",
       "</div>"
      ],
      "text/plain": [
       "       orders\n",
       "0      1     \n",
       "1      1     \n",
       "2      1     \n",
       "3      1     \n",
       "4      1     \n",
       "...   ..     \n",
       "18731  0     \n",
       "18732  0     \n",
       "18733  0     \n",
       "18734  0     \n",
       "18735  0     \n",
       "\n",
       "[18736 rows x 1 columns]"
      ]
     },
     "execution_count": 43,
     "metadata": {},
     "output_type": "execute_result"
    }
   ],
   "source": [
    "sampleA = pd.concat([buyersA['orders'].to_frame(), zeroA]).reset_index(drop=True)\n",
    "\n",
    "sampleB = pd.concat([buyersB['orders'].to_frame(), zeroB]).reset_index(drop=True)\n",
    "\n",
    "sampleA"
   ]
  },
  {
   "cell_type": "markdown",
   "metadata": {},
   "source": [
    "Убедились, что получилось то, что нужно. Теперь применим статистический критерий к нашим двум переменным. Проверка двухсторонняя, поэтому в качестве аргумента укажем 'two-sided'.\n",
    "\n",
    "Также вычислим **относительное различие** между конверсией в группе A и B. Для расчета конверсии используем метод _mean()_ &mdash; отношение количества заказов к количеству всех посетителей и будет конверсией.\n",
    "\n",
    "Сформулируем нулевую и альтернативную гипотезы:\n",
    "\n",
    "- _H0_ - **между выборками нет статистически значимых различий в конверсии**.\n",
    "- _H1_ - **конверсия в двух выборках различна**."
   ]
  },
  {
   "cell_type": "code",
   "execution_count": 44,
   "metadata": {
    "scrolled": false
   },
   "outputs": [
    {
     "name": "stdout",
     "output_type": "stream",
     "text": [
      "p-значение:  0.011018084110014691\n",
      "Отвергаем нулевую гипотезу H0: разница статистически значима\n",
      "Относительное различие между конверсиями: 0.160\n"
     ]
    }
   ],
   "source": [
    "# задаем уровень статистической значимости\n",
    "alpha = 0.05  \n",
    "\n",
    "results = stats.mannwhitneyu(sampleA, sampleB, True, alternative='two-sided')\n",
    "\n",
    "print('p-значение: ', results[1])\n",
    "\n",
    "if results[1] < alpha:\n",
    "    print('Отвергаем нулевую гипотезу H0: разница статистически значима')\n",
    "else:\n",
    "    print( 'Не получилось отвергнуть нулевую гипотезу, вывод о различии сделать нельзя')\n",
    "\n",
    "print(\"Относительное различие между конверсиями: {0:.3f}\".format(sampleB.orders.mean() / sampleA.orders.mean() - 1))"
   ]
  },
  {
   "cell_type": "markdown",
   "metadata": {},
   "source": [
    "P-value меньше принятого нами уровня статистической значимости. Поэтому мы **отвергаем нулевую гипотезу** о том, что между нашими выборками нет различий.\n",
    "\n",
    "Также анализ \"сырых данных\" показывает, что различие между конверсиями составляет примерно 16% в пользу группы B.\n",
    "\n",
    "Теперь изучим различия в среднем чеке на \"сырых данных\".\n",
    "\n",
    "Применим критерий Манна-Уитни с двухсторонней проверкой и уровнем значимости 5%. Кроме того, рассчитаем относительное различие между средним чеком в группах A и B."
   ]
  },
  {
   "cell_type": "code",
   "execution_count": 45,
   "metadata": {
    "scrolled": true
   },
   "outputs": [
    {
     "name": "stdout",
     "output_type": "stream",
     "text": [
      "p-значение:  0.8294908998149533\n",
      "Не получилось отвергнуть нулевую гипотезу, вывод о различии среднего чека сделать нельзя\n",
      "Относительное различие между средним чеком: 0.287\n"
     ]
    }
   ],
   "source": [
    "results = stats.mannwhitneyu(\n",
    "    orders.query('group == \"A\"')['revenue'], \n",
    "    orders.query('group == \"B\"')['revenue'], \n",
    "    True, \n",
    "    alternative='two-sided')\n",
    "\n",
    "print('p-значение: ', results[1])\n",
    "\n",
    "if results[1] < alpha:\n",
    "    print('Отвергаем нулевую гипотезу H0: разница статистически значима')\n",
    "else:\n",
    "    print( 'Не получилось отвергнуть нулевую гипотезу, вывод о различии среднего чека сделать нельзя')\n",
    "\n",
    "print(\"Относительное различие между средним чеком: {0:.3f}\"\n",
    "      .format(\n",
    "          orders.query('group == \"B\"')['revenue'].mean() / \n",
    "          orders.query('group == \"A\"')['revenue'].mean() - 1))"
   ]
  },
  {
   "cell_type": "markdown",
   "metadata": {},
   "source": [
    "Вывод: несмотря на зафиксированное относительное различие, у нас нет никаких оснований отклонить нулевую гипотезу. **Статистически значимых различий** в среднем чеке на \"сырых данных\" нет. "
   ]
  },
  {
   "cell_type": "markdown",
   "metadata": {},
   "source": [
    "### Оценка статзначимости в конверсии и среднем чеке по «очищенным» данным"
   ]
  },
  {
   "cell_type": "markdown",
   "metadata": {},
   "source": [
    "В результате анализа количества заказов на покупателя и стоимости заказов мы решили, что к аномальным пользователям можно отнести:\n",
    "\n",
    "- Тех, кто сделал больше 1 заказа\n",
    "- Тех, у кого стоимость заказа превышает 27 тысяч"
   ]
  },
  {
   "cell_type": "markdown",
   "metadata": {},
   "source": [
    "Подготовим данные для анализа с учетом этих ограничений.\n",
    "\n",
    "Сначала сделаем срезы с числом заказов > 1 из таблиц `buyersA` и `buyersB` и объединим их. Получим список _user id_ с аномальным количеством заказов."
   ]
  },
  {
   "cell_type": "code",
   "execution_count": 46,
   "metadata": {
    "scrolled": true
   },
   "outputs": [
    {
     "data": {
      "text/plain": [
       "36     366673373 \n",
       "58     611059232 \n",
       "64     678354126 \n",
       "72     759473111 \n",
       "171    1617417821\n",
       "Name: user, dtype: int64"
      ]
     },
     "execution_count": 46,
     "metadata": {},
     "output_type": "execute_result"
    }
   ],
   "source": [
    "anomaly1 = pd.concat([buyersA.query('orders > 1')['user'], buyersB.query('orders > 1')['user']])\n",
    "anomaly1.head()"
   ]
  },
  {
   "cell_type": "markdown",
   "metadata": {},
   "source": [
    "Теперь сделаем срез со стоимостью заказа > 27000 из таблицы `orders`. Получим список _user id_ с аномально дорогими заказами."
   ]
  },
  {
   "cell_type": "code",
   "execution_count": 47,
   "metadata": {
    "scrolled": false
   },
   "outputs": [
    {
     "data": {
      "text/plain": [
       "73     2947100995\n",
       "77     787824685 \n",
       "78     3288820196\n",
       "131    2254586615\n",
       "137    1211585711\n",
       "Name: user, dtype: int64"
      ]
     },
     "execution_count": 47,
     "metadata": {},
     "output_type": "execute_result"
    }
   ],
   "source": [
    "anomaly2 = orders.query('revenue > 27000')['visitorId']\n",
    "anomaly2.name = 'user'\n",
    "anomaly2.head()"
   ]
  },
  {
   "cell_type": "markdown",
   "metadata": {},
   "source": [
    "Объединим списки \"аномальных\" пользователей методом `concat()`, устраним дубликаты и подсчитаем итоговое количество."
   ]
  },
  {
   "cell_type": "code",
   "execution_count": 48,
   "metadata": {},
   "outputs": [
    {
     "name": "stdout",
     "output_type": "stream",
     "text": [
      "Всего аномальных пользователей: 86\n"
     ]
    }
   ],
   "source": [
    "anomaly = (pd.concat([anomaly1, anomaly2], axis=0)\n",
    "           .reset_index(drop=True)\n",
    "          .drop_duplicates())\n",
    "print('Всего аномальных пользователей:', len(anomaly))"
   ]
  },
  {
   "cell_type": "markdown",
   "metadata": {},
   "source": [
    "Сделаем срез покупателей по внешнему Series со списком аномальных покупателей, исключив их из выборки. \n",
    "\n",
    "Сохраним новые выборки в переменные `sampleA_filter` и `sampleB_filter`, где, как и раньше, количество нулей будет соответствовать количеству посетителей, не сделавших заказ на сайте."
   ]
  },
  {
   "cell_type": "code",
   "execution_count": 49,
   "metadata": {
    "scrolled": false
   },
   "outputs": [],
   "source": [
    "sampleA_filter = (pd.concat(\n",
    "                        [buyersA.query('~(user in @anomaly)')['orders']\n",
    "                        .to_frame(), zeroA])\n",
    "                        .reset_index(drop=True)\n",
    "                 )\n",
    "\n",
    "sampleB_filter = (pd.concat(\n",
    "                        [buyersB.query('~(user in @anomaly)')['orders']\n",
    "                        .to_frame(), zeroB])\n",
    "                        .reset_index(drop=True)\n",
    "                 )"
   ]
  },
  {
   "cell_type": "markdown",
   "metadata": {},
   "source": [
    "Как и раньше, примем alpha = 0.05 и применим двусторонний критерий Манна-Уитни. Выдвинем следующие гипотезы:\n",
    "\n",
    "* _Нулевая гипотеза H0:_ **конверсия в двух выборках не различается.**\n",
    "* _Альтернативная гипотеза H1:_ **между выборками есть статистически значимое различие в конверсии**."
   ]
  },
  {
   "cell_type": "code",
   "execution_count": 50,
   "metadata": {
    "scrolled": true
   },
   "outputs": [
    {
     "name": "stdout",
     "output_type": "stream",
     "text": [
      "p-значение:  0.01593020716573976\n",
      "Отвергаем нулевую гипотезу H0: разница статистически значима\n",
      "Относительное различие между конверсиями: 0.174\n"
     ]
    }
   ],
   "source": [
    "results = stats.mannwhitneyu(sampleA_filter, sampleB_filter, True, alternative='two-sided')\n",
    "\n",
    "print('p-значение: ', results[1])\n",
    "\n",
    "if results[1] < alpha:\n",
    "    print('Отвергаем нулевую гипотезу H0: разница статистически значима')\n",
    "else:\n",
    "    print( 'Не получилось отвергнуть нулевую гипотезу, вывод о различии сделать нельзя')\n",
    "\n",
    "print(\"Относительное различие между конверсиями: {0:.3f}\"\n",
    "      .format(sampleB_filter.orders.mean() / sampleA_filter.orders.mean() - 1))"
   ]
  },
  {
   "cell_type": "markdown",
   "metadata": {},
   "source": [
    "От аномалий мы избавились, но вывод не изменился: **нулевую гипотезу отвергаем, различие есть**. \n",
    "\n",
    "Кроме того, на \"очищенных данных\" относительное различие конверсий стало чуть заметнее (0.174 против 0.16). \n",
    "\n",
    "Сравним теперь средний чек на очищенных данных."
   ]
  },
  {
   "cell_type": "code",
   "execution_count": 51,
   "metadata": {
    "scrolled": false
   },
   "outputs": [
    {
     "name": "stdout",
     "output_type": "stream",
     "text": [
      "p-значение:  0.7271286894009963\n",
      "Не получилось отвергнуть нулевую гипотезу, вывод о различии в среднем чеке сделать нельзя\n",
      "Относительное различие между средним чеком: -0.034\n"
     ]
    }
   ],
   "source": [
    "results = stats.mannwhitneyu(\n",
    "    orders.query('group == \"A\" & ~(visitorId in @anomaly)')['revenue'], \n",
    "    orders.query('group == \"B\" & ~(visitorId in @anomaly)')['revenue'], \n",
    "    True, \n",
    "    alternative='two-sided')\n",
    "\n",
    "print('p-значение: ', results[1])\n",
    "\n",
    "if results[1] < alpha:\n",
    "    print('Отвергаем нулевую гипотезу H0: разница между средним чеком статистически значима')\n",
    "else:\n",
    "    print( 'Не получилось отвергнуть нулевую гипотезу, вывод о различии в среднем чеке сделать нельзя')\n",
    "\n",
    "print(\"Относительное различие между средним чеком: {0:.3f}\"\n",
    "      .format(\n",
    "          orders.query('group == \"B\" & ~(visitorId in @anomaly)')['revenue'].mean() / \n",
    "          orders.query('group == \"A\" & ~(visitorId in @anomaly)')['revenue'].mean() - 1))"
   ]
  },
  {
   "cell_type": "markdown",
   "metadata": {},
   "source": [
    "Здесь вывод тот же, что и на \"сырых данных\": **существенных различий по среднему чеку между группами нет**. \n",
    "\n",
    "Мы видим, что при устранении дорогих заказов относительное различие сместилось в пользу группы А. Получается, средний чек в обеих группах плюс-минус одинаков и значения колеблются лишь под влиянием выбросов."
   ]
  },
  {
   "cell_type": "markdown",
   "metadata": {},
   "source": [
    "Подведем итоги A/B теста:\n",
    "\n",
    "- Статистически значимых различий по среднему чеку между группами A и B нет. Это верно как для \"сырых\", так и для \"очищенных\" данных.\n",
    "- Зато в конверсии есть различие: конверсия в группе B выше примерно на 16%, чем в группе A. \n",
    "- График относительного изменения конверсии показывает, что конверсия в группе B зафиксировалась на одном значении и стабильно превышает конверсию в группе B.\n",
    "- График относительного изменения среднего чека, к сожалению, не показал стабильной тенденции. Большую часть месяца группа B показывала лучшие результаты по среднему чеку, но есть основания предполагать, что это следствие выбросов. Сделать определенный вывод по нему нельзя.\n",
    "\n",
    "Исходя из полученных результатов, мы можем остановить тест и признать победителем группу B. По крайней мере, в конверсии улучшение достигнуто. "
   ]
  },
  {
   "cell_type": "markdown",
   "metadata": {},
   "source": [
    "### Вывод"
   ]
  },
  {
   "cell_type": "markdown",
   "metadata": {},
   "source": [
    "Мы провели A/B тест по одной из выбранных гипотез в течение месяца (августа 2019 года) и проанализировали результаты &mdash; такие показатели, как выручка, средний чек и конверсия. \n",
    "\n",
    "Наши наблюдения:\n",
    "\n",
    "- **Кумулятивная выручка** в группах A и B равномерно увеличивалась на протяжении всего теста. До 17 августа разницы между сегментами практически не было, а потом у группы B произошел скачок &mdash; вероятно, вследствие дорогих заказов.\n",
    "- Аналогично с **кумулятивным средним чеком**. В первой половине месяца разницы между сегментами практически не было. Далее средний чек у группы B резко возрос. Это заставило нас подозревать наличие аномалий: особенно крупных заказов или большого количества заказов.\n",
    "- **График относительного различия в среднем чеке** показал крайне нестабильную картину: различие резко колебалось в течение всего месяца.\n",
    "- **График кумулятивной конверсии** показал, что этот показатель зафиксировался на второй неделе теста. При этом конверсия в группе B ненамного, но стабильно опережала группу A.\n",
    "- По графику **относительного различия в конверсии** видим, что в группе B сначала наблюдался рост, затем различие зафиксировалось.\n",
    "- Построив точечные графики, мы выявили аномалии: совершение 2-3 заказов в течение месяца, а также заказы стоимостью более 27000.\n",
    "- Далее, чтобы выяснить, значима ли наблюдаемая разница в показателях конверсии и среднего чека, мы применили статистический тест Манна-Уитни: сначала на \"сырых\", затем на данных без аномалий.\n",
    "- Между группами есть статистически **значимое различие в конверсии** (как на \"сырых\", так и на \"очищенных\" данных). Конверсия в группе B лучше в среднем на 16%.\n",
    "- Значимых различий в среднем чеке между группами нет: и с учетом, и без учета аномалий.\n",
    "\n",
    "По итогам теста мы приняли решение остановить тест и признать группу B победителем, так как она показала лучшие результаты с точки зрения конверсии."
   ]
  },
  {
   "cell_type": "markdown",
   "metadata": {},
   "source": [
    "## Общий вывод"
   ]
  },
  {
   "cell_type": "markdown",
   "metadata": {},
   "source": [
    "В начале исследования была поставлена цель: найти способ **увеличить выручку интернет-магазина**. Для этого были проделаны следующие шаги:\n",
    "\n",
    "- Приоритизированы гипотезы, выдвинутые отделом маркетинга.\n",
    "- В течение августа 2019 года проведен A/B тест по одной из гипотез.\n",
    "- Проанализированы результаты A/B теста.\n",
    "\n",
    "Для приоритизации использовались два фреймворка: **ICE и RICE**, опирающиеся на такие факторы, как степень влияния на пользователей, затраты на реализацию и нашу уверенность в результате.\n",
    "\n",
    "В первом случае не учитывался охват аудитории, поэтому мы перепроверили результат, пользуясь фреймворком RICE. В топ-3 вошли следующие гипотезы:\n",
    "\n",
    "- Добавить форму подписки на все основные страницы (№7)\n",
    "- Добавить блоки рекомендаций товаров на сайт (№2)\n",
    "- Добавить два новых канала привлечения трафика (№0)\n",
    "\n",
    "В первую очередь рекомендуется протестировать именно их.\n",
    "\n",
    "**Изучив результаты A/B теста**, можно заключить:\n",
    "\n",
    "- На показатели выручки и среднего чека оказали сильное влияние аномалии (крупные заказы или большое число заказов). Это видно по тому, как колебались оба этих показателя. В первой половине месяца различия между сегментами практически не было. Но во второй половине теста группа B выбилась вперед.\n",
    "- При этом статистический тест показал, что значимых различий в среднем чеке между группами нет &mdash; как с учетом аномалий, так и без него.\n",
    "- Конверсия в заказы оказалась лучше у группы B &mdash; в среднем на 16% выше, чем у группы A. Это статистически значимое различие, продемонстрированное и на сырых, и на очищенных данных.\n",
    "\n",
    "**Рекомендации**:\n",
    "\n",
    "- Остановить A/B тест и признать группу B победителем за счет более высокой конверсии\n",
    "- Приступить к проверке следующей по приоритету гипотезы, поскольку цель &mdash; повышение выручки  &mdash; пока не была достигнута."
   ]
  }
 ],
 "metadata": {
  "kernelspec": {
   "display_name": "Python 3",
   "language": "python",
   "name": "python3"
  },
  "language_info": {
   "codemirror_mode": {
    "name": "ipython",
    "version": 3
   },
   "file_extension": ".py",
   "mimetype": "text/x-python",
   "name": "python",
   "nbconvert_exporter": "python",
   "pygments_lexer": "ipython3",
   "version": "3.8.5"
  },
  "toc": {
   "base_numbering": 1,
   "nav_menu": {},
   "number_sections": true,
   "sideBar": true,
   "skip_h1_title": true,
   "title_cell": "Table of Contents",
   "title_sidebar": "Contents",
   "toc_cell": false,
   "toc_position": {
    "height": "calc(100% - 180px)",
    "left": "10px",
    "top": "150px",
    "width": "300.391px"
   },
   "toc_section_display": true,
   "toc_window_display": true
  }
 },
 "nbformat": 4,
 "nbformat_minor": 2
}
