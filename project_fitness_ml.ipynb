{
 "cells": [
  {
   "cell_type": "markdown",
   "metadata": {},
   "source": [
    "# Прогнозирование вероятности оттока клиентов"
   ]
  },
  {
   "cell_type": "markdown",
   "metadata": {},
   "source": [
    "Сеть фитнес-центров поставила перед собой задачу снизить отток клиентов: научиться его прогнозировать и вовремя предпринимать шаги по удержанию клиентов. С решением задачи должны помочь аналитики.\n",
    "\n",
    "**Задачи исследования**:\n",
    "\n",
    "1. Спрогнозировать вероятность оттока для каждого клиента\n",
    "2. Сегментировать клиентов и выделить черты, характерные для каждого сегмента\n",
    "3. Изучить признаки, сильнее всего влияющие на отток\n",
    "4. Предложить рекомендации по снижению оттока и работе с клиентами"
   ]
  },
  {
   "cell_type": "markdown",
   "metadata": {},
   "source": [
    "## Знакомство с данными"
   ]
  },
  {
   "cell_type": "code",
   "execution_count": 1,
   "metadata": {},
   "outputs": [],
   "source": [
    "import pandas as pd\n",
    "import numpy as np\n",
    "\n",
    "# библиотеки визуализации\n",
    "import seaborn as sns\n",
    "import plotly.express as px\n",
    "from matplotlib import pyplot as plt\n",
    "\n",
    "# библиотеки ML\n",
    "from sklearn import datasets, tree, preprocessing, linear_model\n",
    "from sklearn.metrics import accuracy_score, precision_score, recall_score, roc_auc_score\n",
    "from sklearn.model_selection import train_test_split\n",
    "from sklearn.preprocessing import StandardScaler\n",
    "from sklearn.cluster import KMeans\n",
    "from scipy.cluster.hierarchy import dendrogram, linkage\n",
    "from sklearn.ensemble import RandomForestClassifier\n",
    "from sklearn.linear_model import LogisticRegression\n",
    "\n",
    "from IPython.display import HTML, display\n",
    "\n",
    "# отключение предупреждений\n",
    "import warnings\n",
    "warnings.filterwarnings('ignore')"
   ]
  },
  {
   "cell_type": "code",
   "execution_count": 2,
   "metadata": {},
   "outputs": [
    {
     "data": {
      "application/javascript": [
       "IPython.OutputArea.prototype._should_scroll = function(lines) {\n",
       "    return false;\n",
       "}\n"
      ],
      "text/plain": [
       "<IPython.core.display.Javascript object>"
      ]
     },
     "metadata": {},
     "output_type": "display_data"
    }
   ],
   "source": [
    "%%javascript \n",
    "IPython.OutputArea.prototype._should_scroll = function(lines) {\n",
    "    return false;\n",
    "}"
   ]
  },
  {
   "cell_type": "markdown",
   "metadata": {},
   "source": [
    "Загрузим файл, посмотрим базовую информацию о таблице и что собой представляют данные."
   ]
  },
  {
   "cell_type": "code",
   "execution_count": 3,
   "metadata": {
    "scrolled": true
   },
   "outputs": [
    {
     "name": "stdout",
     "output_type": "stream",
     "text": [
      "<class 'pandas.core.frame.DataFrame'>\n",
      "RangeIndex: 4000 entries, 0 to 3999\n",
      "Data columns (total 14 columns):\n",
      "gender                               4000 non-null int64\n",
      "Near_Location                        4000 non-null int64\n",
      "Partner                              4000 non-null int64\n",
      "Promo_friends                        4000 non-null int64\n",
      "Phone                                4000 non-null int64\n",
      "Contract_period                      4000 non-null int64\n",
      "Group_visits                         4000 non-null int64\n",
      "Age                                  4000 non-null int64\n",
      "Avg_additional_charges_total         4000 non-null float64\n",
      "Month_to_end_contract                4000 non-null float64\n",
      "Lifetime                             4000 non-null int64\n",
      "Avg_class_frequency_total            4000 non-null float64\n",
      "Avg_class_frequency_current_month    4000 non-null float64\n",
      "Churn                                4000 non-null int64\n",
      "dtypes: float64(4), int64(10)\n",
      "memory usage: 437.6 KB\n"
     ]
    },
    {
     "data": {
      "text/plain": [
       "None"
      ]
     },
     "metadata": {},
     "output_type": "display_data"
    },
    {
     "data": {
      "text/html": [
       "<div>\n",
       "<style scoped>\n",
       "    .dataframe tbody tr th:only-of-type {\n",
       "        vertical-align: middle;\n",
       "    }\n",
       "\n",
       "    .dataframe tbody tr th {\n",
       "        vertical-align: top;\n",
       "    }\n",
       "\n",
       "    .dataframe thead th {\n",
       "        text-align: right;\n",
       "    }\n",
       "</style>\n",
       "<table border=\"1\" class=\"dataframe\">\n",
       "  <thead>\n",
       "    <tr style=\"text-align: right;\">\n",
       "      <th></th>\n",
       "      <th>gender</th>\n",
       "      <th>Near_Location</th>\n",
       "      <th>Partner</th>\n",
       "      <th>Promo_friends</th>\n",
       "      <th>Phone</th>\n",
       "      <th>Contract_period</th>\n",
       "      <th>Group_visits</th>\n",
       "      <th>Age</th>\n",
       "      <th>Avg_additional_charges_total</th>\n",
       "      <th>Month_to_end_contract</th>\n",
       "      <th>Lifetime</th>\n",
       "      <th>Avg_class_frequency_total</th>\n",
       "      <th>Avg_class_frequency_current_month</th>\n",
       "      <th>Churn</th>\n",
       "    </tr>\n",
       "  </thead>\n",
       "  <tbody>\n",
       "    <tr>\n",
       "      <td>0</td>\n",
       "      <td>1</td>\n",
       "      <td>1</td>\n",
       "      <td>1</td>\n",
       "      <td>1</td>\n",
       "      <td>0</td>\n",
       "      <td>6</td>\n",
       "      <td>1</td>\n",
       "      <td>29</td>\n",
       "      <td>14.227470</td>\n",
       "      <td>5.0</td>\n",
       "      <td>3</td>\n",
       "      <td>0.020398</td>\n",
       "      <td>0.000000</td>\n",
       "      <td>0</td>\n",
       "    </tr>\n",
       "    <tr>\n",
       "      <td>1</td>\n",
       "      <td>0</td>\n",
       "      <td>1</td>\n",
       "      <td>0</td>\n",
       "      <td>0</td>\n",
       "      <td>1</td>\n",
       "      <td>12</td>\n",
       "      <td>1</td>\n",
       "      <td>31</td>\n",
       "      <td>113.202938</td>\n",
       "      <td>12.0</td>\n",
       "      <td>7</td>\n",
       "      <td>1.922936</td>\n",
       "      <td>1.910244</td>\n",
       "      <td>0</td>\n",
       "    </tr>\n",
       "    <tr>\n",
       "      <td>2</td>\n",
       "      <td>0</td>\n",
       "      <td>1</td>\n",
       "      <td>1</td>\n",
       "      <td>0</td>\n",
       "      <td>1</td>\n",
       "      <td>1</td>\n",
       "      <td>0</td>\n",
       "      <td>28</td>\n",
       "      <td>129.448479</td>\n",
       "      <td>1.0</td>\n",
       "      <td>2</td>\n",
       "      <td>1.859098</td>\n",
       "      <td>1.736502</td>\n",
       "      <td>0</td>\n",
       "    </tr>\n",
       "    <tr>\n",
       "      <td>3</td>\n",
       "      <td>0</td>\n",
       "      <td>1</td>\n",
       "      <td>1</td>\n",
       "      <td>1</td>\n",
       "      <td>1</td>\n",
       "      <td>12</td>\n",
       "      <td>1</td>\n",
       "      <td>33</td>\n",
       "      <td>62.669863</td>\n",
       "      <td>12.0</td>\n",
       "      <td>2</td>\n",
       "      <td>3.205633</td>\n",
       "      <td>3.357215</td>\n",
       "      <td>0</td>\n",
       "    </tr>\n",
       "    <tr>\n",
       "      <td>4</td>\n",
       "      <td>1</td>\n",
       "      <td>1</td>\n",
       "      <td>1</td>\n",
       "      <td>1</td>\n",
       "      <td>1</td>\n",
       "      <td>1</td>\n",
       "      <td>0</td>\n",
       "      <td>26</td>\n",
       "      <td>198.362265</td>\n",
       "      <td>1.0</td>\n",
       "      <td>3</td>\n",
       "      <td>1.113884</td>\n",
       "      <td>1.120078</td>\n",
       "      <td>0</td>\n",
       "    </tr>\n",
       "  </tbody>\n",
       "</table>\n",
       "</div>"
      ],
      "text/plain": [
       "   gender  Near_Location  Partner  Promo_friends  Phone  Contract_period  \\\n",
       "0       1              1        1              1      0                6   \n",
       "1       0              1        0              0      1               12   \n",
       "2       0              1        1              0      1                1   \n",
       "3       0              1        1              1      1               12   \n",
       "4       1              1        1              1      1                1   \n",
       "\n",
       "   Group_visits  Age  Avg_additional_charges_total  Month_to_end_contract  \\\n",
       "0             1   29                     14.227470                    5.0   \n",
       "1             1   31                    113.202938                   12.0   \n",
       "2             0   28                    129.448479                    1.0   \n",
       "3             1   33                     62.669863                   12.0   \n",
       "4             0   26                    198.362265                    1.0   \n",
       "\n",
       "   Lifetime  Avg_class_frequency_total  Avg_class_frequency_current_month  \\\n",
       "0         3                   0.020398                           0.000000   \n",
       "1         7                   1.922936                           1.910244   \n",
       "2         2                   1.859098                           1.736502   \n",
       "3         2                   3.205633                           3.357215   \n",
       "4         3                   1.113884                           1.120078   \n",
       "\n",
       "   Churn  \n",
       "0      0  \n",
       "1      0  \n",
       "2      0  \n",
       "3      0  \n",
       "4      0  "
      ]
     },
     "metadata": {},
     "output_type": "display_data"
    }
   ],
   "source": [
    "df = pd.read_csv('gym_churn.csv')\n",
    "display(df.info())\n",
    "display(df.head())"
   ]
  },
  {
   "cell_type": "markdown",
   "metadata": {},
   "source": [
    "### Выводы"
   ]
  },
  {
   "cell_type": "markdown",
   "metadata": {},
   "source": [
    "Предварительное знакомство с данными позволяет заключить:\n",
    "\n",
    "- В датасете 4000 наблюдений (строк) и 14 полей.\n",
    "- Из 14 столбцов один содержит целевую переменную (*Churn*), остальные 13 - это признаки. Их можно разделить на два типа:\n",
    "    - Данные о пользователе (возраст, пол, факт проживания или работы рядом с центром, наличие телефона в базе и т.п.)\n",
    "    - Данные об абонементе и посещаемости (длительность абонемента, срок в месяцах до окончания абонемента, средняя частота посещений в неделю и пр.)\n",
    "- Категориальных признаков в датасете нет, только численные (формально к категориальным можно отнести длительность абонемента, но она также выражена числами - 1, 3, 6, 12).\n",
    "\n",
    "Судя по всему, пропусков в данных нет. Далее мы изучим данные подробнее."
   ]
  },
  {
   "cell_type": "markdown",
   "metadata": {},
   "source": [
    "## Исследовательский анализ данных"
   ]
  },
  {
   "cell_type": "markdown",
   "metadata": {},
   "source": [
    "Для удобства работы сократим и приведем к нижнему регистру названия столбцов."
   ]
  },
  {
   "cell_type": "code",
   "execution_count": 4,
   "metadata": {
    "scrolled": false
   },
   "outputs": [
    {
     "data": {
      "text/html": [
       "<div>\n",
       "<style scoped>\n",
       "    .dataframe tbody tr th:only-of-type {\n",
       "        vertical-align: middle;\n",
       "    }\n",
       "\n",
       "    .dataframe tbody tr th {\n",
       "        vertical-align: top;\n",
       "    }\n",
       "\n",
       "    .dataframe thead th {\n",
       "        text-align: right;\n",
       "    }\n",
       "</style>\n",
       "<table border=\"1\" class=\"dataframe\">\n",
       "  <thead>\n",
       "    <tr style=\"text-align: right;\">\n",
       "      <th></th>\n",
       "      <th>gender</th>\n",
       "      <th>near</th>\n",
       "      <th>partner</th>\n",
       "      <th>promo</th>\n",
       "      <th>phone</th>\n",
       "      <th>contract_period</th>\n",
       "      <th>group_visits</th>\n",
       "      <th>age</th>\n",
       "      <th>extra_pay</th>\n",
       "      <th>month_to_end</th>\n",
       "      <th>lifetime</th>\n",
       "      <th>avg_freq_total</th>\n",
       "      <th>avg_freq_month</th>\n",
       "      <th>churn</th>\n",
       "    </tr>\n",
       "  </thead>\n",
       "  <tbody>\n",
       "    <tr>\n",
       "      <td>0</td>\n",
       "      <td>1</td>\n",
       "      <td>1</td>\n",
       "      <td>1</td>\n",
       "      <td>1</td>\n",
       "      <td>0</td>\n",
       "      <td>6</td>\n",
       "      <td>1</td>\n",
       "      <td>29</td>\n",
       "      <td>14.227470</td>\n",
       "      <td>5.0</td>\n",
       "      <td>3</td>\n",
       "      <td>0.020398</td>\n",
       "      <td>0.000000</td>\n",
       "      <td>0</td>\n",
       "    </tr>\n",
       "    <tr>\n",
       "      <td>1</td>\n",
       "      <td>0</td>\n",
       "      <td>1</td>\n",
       "      <td>0</td>\n",
       "      <td>0</td>\n",
       "      <td>1</td>\n",
       "      <td>12</td>\n",
       "      <td>1</td>\n",
       "      <td>31</td>\n",
       "      <td>113.202938</td>\n",
       "      <td>12.0</td>\n",
       "      <td>7</td>\n",
       "      <td>1.922936</td>\n",
       "      <td>1.910244</td>\n",
       "      <td>0</td>\n",
       "    </tr>\n",
       "    <tr>\n",
       "      <td>2</td>\n",
       "      <td>0</td>\n",
       "      <td>1</td>\n",
       "      <td>1</td>\n",
       "      <td>0</td>\n",
       "      <td>1</td>\n",
       "      <td>1</td>\n",
       "      <td>0</td>\n",
       "      <td>28</td>\n",
       "      <td>129.448479</td>\n",
       "      <td>1.0</td>\n",
       "      <td>2</td>\n",
       "      <td>1.859098</td>\n",
       "      <td>1.736502</td>\n",
       "      <td>0</td>\n",
       "    </tr>\n",
       "    <tr>\n",
       "      <td>3</td>\n",
       "      <td>0</td>\n",
       "      <td>1</td>\n",
       "      <td>1</td>\n",
       "      <td>1</td>\n",
       "      <td>1</td>\n",
       "      <td>12</td>\n",
       "      <td>1</td>\n",
       "      <td>33</td>\n",
       "      <td>62.669863</td>\n",
       "      <td>12.0</td>\n",
       "      <td>2</td>\n",
       "      <td>3.205633</td>\n",
       "      <td>3.357215</td>\n",
       "      <td>0</td>\n",
       "    </tr>\n",
       "    <tr>\n",
       "      <td>4</td>\n",
       "      <td>1</td>\n",
       "      <td>1</td>\n",
       "      <td>1</td>\n",
       "      <td>1</td>\n",
       "      <td>1</td>\n",
       "      <td>1</td>\n",
       "      <td>0</td>\n",
       "      <td>26</td>\n",
       "      <td>198.362265</td>\n",
       "      <td>1.0</td>\n",
       "      <td>3</td>\n",
       "      <td>1.113884</td>\n",
       "      <td>1.120078</td>\n",
       "      <td>0</td>\n",
       "    </tr>\n",
       "  </tbody>\n",
       "</table>\n",
       "</div>"
      ],
      "text/plain": [
       "   gender  near  partner  promo  phone  contract_period  group_visits  age  \\\n",
       "0       1     1        1      1      0                6             1   29   \n",
       "1       0     1        0      0      1               12             1   31   \n",
       "2       0     1        1      0      1                1             0   28   \n",
       "3       0     1        1      1      1               12             1   33   \n",
       "4       1     1        1      1      1                1             0   26   \n",
       "\n",
       "    extra_pay  month_to_end  lifetime  avg_freq_total  avg_freq_month  churn  \n",
       "0   14.227470           5.0         3        0.020398        0.000000      0  \n",
       "1  113.202938          12.0         7        1.922936        1.910244      0  \n",
       "2  129.448479           1.0         2        1.859098        1.736502      0  \n",
       "3   62.669863          12.0         2        3.205633        3.357215      0  \n",
       "4  198.362265           1.0         3        1.113884        1.120078      0  "
      ]
     },
     "execution_count": 4,
     "metadata": {},
     "output_type": "execute_result"
    }
   ],
   "source": [
    "df = (df.rename(columns={'Avg_additional_charges_total': 'extra_pay',\n",
    "                        'Avg_class_frequency_total': 'avg_freq_total',\n",
    "                        'Avg_class_frequency_current_month': 'avg_freq_month',\n",
    "                        'Month_to_end_contract': 'month_to_end',\n",
    "                         'Promo_friends': 'promo',\n",
    "                        'Near_Location': 'near'})\n",
    "     )\n",
    "\n",
    "df.columns= df.columns.str.lower()\n",
    "\n",
    "df.head()"
   ]
  },
  {
   "cell_type": "markdown",
   "metadata": {},
   "source": [
    "Выполним проверку на наличие дубликатов."
   ]
  },
  {
   "cell_type": "code",
   "execution_count": 5,
   "metadata": {},
   "outputs": [
    {
     "name": "stdout",
     "output_type": "stream",
     "text": [
      "Дубликатов в таблице - 0\n"
     ]
    }
   ],
   "source": [
    "print(\"Дубликатов в таблице -\", df.duplicated().sum())"
   ]
  },
  {
   "cell_type": "markdown",
   "metadata": {},
   "source": [
    "Посмотрим на описательные статистики для количественных параметров в датасете."
   ]
  },
  {
   "cell_type": "code",
   "execution_count": 6,
   "metadata": {
    "scrolled": false
   },
   "outputs": [
    {
     "data": {
      "text/html": [
       "<div>\n",
       "<style scoped>\n",
       "    .dataframe tbody tr th:only-of-type {\n",
       "        vertical-align: middle;\n",
       "    }\n",
       "\n",
       "    .dataframe tbody tr th {\n",
       "        vertical-align: top;\n",
       "    }\n",
       "\n",
       "    .dataframe thead th {\n",
       "        text-align: right;\n",
       "    }\n",
       "</style>\n",
       "<table border=\"1\" class=\"dataframe\">\n",
       "  <thead>\n",
       "    <tr style=\"text-align: right;\">\n",
       "      <th></th>\n",
       "      <th>gender</th>\n",
       "      <th>near</th>\n",
       "      <th>partner</th>\n",
       "      <th>promo</th>\n",
       "      <th>phone</th>\n",
       "      <th>contract_period</th>\n",
       "      <th>group_visits</th>\n",
       "      <th>age</th>\n",
       "      <th>extra_pay</th>\n",
       "      <th>month_to_end</th>\n",
       "      <th>lifetime</th>\n",
       "      <th>avg_freq_total</th>\n",
       "      <th>avg_freq_month</th>\n",
       "      <th>churn</th>\n",
       "    </tr>\n",
       "  </thead>\n",
       "  <tbody>\n",
       "    <tr>\n",
       "      <td>count</td>\n",
       "      <td>4000.000000</td>\n",
       "      <td>4000.000000</td>\n",
       "      <td>4000.000000</td>\n",
       "      <td>4000.000000</td>\n",
       "      <td>4000.000000</td>\n",
       "      <td>4000.000000</td>\n",
       "      <td>4000.000000</td>\n",
       "      <td>4000.000000</td>\n",
       "      <td>4000.000000</td>\n",
       "      <td>4000.000000</td>\n",
       "      <td>4000.000000</td>\n",
       "      <td>4000.000000</td>\n",
       "      <td>4000.000000</td>\n",
       "      <td>4000.000000</td>\n",
       "    </tr>\n",
       "    <tr>\n",
       "      <td>mean</td>\n",
       "      <td>0.510250</td>\n",
       "      <td>0.845250</td>\n",
       "      <td>0.486750</td>\n",
       "      <td>0.308500</td>\n",
       "      <td>0.903500</td>\n",
       "      <td>4.681250</td>\n",
       "      <td>0.412250</td>\n",
       "      <td>29.184250</td>\n",
       "      <td>146.943728</td>\n",
       "      <td>4.322750</td>\n",
       "      <td>3.724750</td>\n",
       "      <td>1.879020</td>\n",
       "      <td>1.767052</td>\n",
       "      <td>0.265250</td>\n",
       "    </tr>\n",
       "    <tr>\n",
       "      <td>std</td>\n",
       "      <td>0.499957</td>\n",
       "      <td>0.361711</td>\n",
       "      <td>0.499887</td>\n",
       "      <td>0.461932</td>\n",
       "      <td>0.295313</td>\n",
       "      <td>4.549706</td>\n",
       "      <td>0.492301</td>\n",
       "      <td>3.258367</td>\n",
       "      <td>96.355602</td>\n",
       "      <td>4.191297</td>\n",
       "      <td>3.749267</td>\n",
       "      <td>0.972245</td>\n",
       "      <td>1.052906</td>\n",
       "      <td>0.441521</td>\n",
       "    </tr>\n",
       "    <tr>\n",
       "      <td>min</td>\n",
       "      <td>0.000000</td>\n",
       "      <td>0.000000</td>\n",
       "      <td>0.000000</td>\n",
       "      <td>0.000000</td>\n",
       "      <td>0.000000</td>\n",
       "      <td>1.000000</td>\n",
       "      <td>0.000000</td>\n",
       "      <td>18.000000</td>\n",
       "      <td>0.148205</td>\n",
       "      <td>1.000000</td>\n",
       "      <td>0.000000</td>\n",
       "      <td>0.000000</td>\n",
       "      <td>0.000000</td>\n",
       "      <td>0.000000</td>\n",
       "    </tr>\n",
       "    <tr>\n",
       "      <td>25%</td>\n",
       "      <td>0.000000</td>\n",
       "      <td>1.000000</td>\n",
       "      <td>0.000000</td>\n",
       "      <td>0.000000</td>\n",
       "      <td>1.000000</td>\n",
       "      <td>1.000000</td>\n",
       "      <td>0.000000</td>\n",
       "      <td>27.000000</td>\n",
       "      <td>68.868830</td>\n",
       "      <td>1.000000</td>\n",
       "      <td>1.000000</td>\n",
       "      <td>1.180875</td>\n",
       "      <td>0.963003</td>\n",
       "      <td>0.000000</td>\n",
       "    </tr>\n",
       "    <tr>\n",
       "      <td>50%</td>\n",
       "      <td>1.000000</td>\n",
       "      <td>1.000000</td>\n",
       "      <td>0.000000</td>\n",
       "      <td>0.000000</td>\n",
       "      <td>1.000000</td>\n",
       "      <td>1.000000</td>\n",
       "      <td>0.000000</td>\n",
       "      <td>29.000000</td>\n",
       "      <td>136.220159</td>\n",
       "      <td>1.000000</td>\n",
       "      <td>3.000000</td>\n",
       "      <td>1.832768</td>\n",
       "      <td>1.719574</td>\n",
       "      <td>0.000000</td>\n",
       "    </tr>\n",
       "    <tr>\n",
       "      <td>75%</td>\n",
       "      <td>1.000000</td>\n",
       "      <td>1.000000</td>\n",
       "      <td>1.000000</td>\n",
       "      <td>1.000000</td>\n",
       "      <td>1.000000</td>\n",
       "      <td>6.000000</td>\n",
       "      <td>1.000000</td>\n",
       "      <td>31.000000</td>\n",
       "      <td>210.949625</td>\n",
       "      <td>6.000000</td>\n",
       "      <td>5.000000</td>\n",
       "      <td>2.536078</td>\n",
       "      <td>2.510336</td>\n",
       "      <td>1.000000</td>\n",
       "    </tr>\n",
       "    <tr>\n",
       "      <td>max</td>\n",
       "      <td>1.000000</td>\n",
       "      <td>1.000000</td>\n",
       "      <td>1.000000</td>\n",
       "      <td>1.000000</td>\n",
       "      <td>1.000000</td>\n",
       "      <td>12.000000</td>\n",
       "      <td>1.000000</td>\n",
       "      <td>41.000000</td>\n",
       "      <td>552.590740</td>\n",
       "      <td>12.000000</td>\n",
       "      <td>31.000000</td>\n",
       "      <td>6.023668</td>\n",
       "      <td>6.146783</td>\n",
       "      <td>1.000000</td>\n",
       "    </tr>\n",
       "  </tbody>\n",
       "</table>\n",
       "</div>"
      ],
      "text/plain": [
       "            gender         near      partner        promo        phone  \\\n",
       "count  4000.000000  4000.000000  4000.000000  4000.000000  4000.000000   \n",
       "mean      0.510250     0.845250     0.486750     0.308500     0.903500   \n",
       "std       0.499957     0.361711     0.499887     0.461932     0.295313   \n",
       "min       0.000000     0.000000     0.000000     0.000000     0.000000   \n",
       "25%       0.000000     1.000000     0.000000     0.000000     1.000000   \n",
       "50%       1.000000     1.000000     0.000000     0.000000     1.000000   \n",
       "75%       1.000000     1.000000     1.000000     1.000000     1.000000   \n",
       "max       1.000000     1.000000     1.000000     1.000000     1.000000   \n",
       "\n",
       "       contract_period  group_visits          age    extra_pay  month_to_end  \\\n",
       "count      4000.000000   4000.000000  4000.000000  4000.000000   4000.000000   \n",
       "mean          4.681250      0.412250    29.184250   146.943728      4.322750   \n",
       "std           4.549706      0.492301     3.258367    96.355602      4.191297   \n",
       "min           1.000000      0.000000    18.000000     0.148205      1.000000   \n",
       "25%           1.000000      0.000000    27.000000    68.868830      1.000000   \n",
       "50%           1.000000      0.000000    29.000000   136.220159      1.000000   \n",
       "75%           6.000000      1.000000    31.000000   210.949625      6.000000   \n",
       "max          12.000000      1.000000    41.000000   552.590740     12.000000   \n",
       "\n",
       "          lifetime  avg_freq_total  avg_freq_month        churn  \n",
       "count  4000.000000     4000.000000     4000.000000  4000.000000  \n",
       "mean      3.724750        1.879020        1.767052     0.265250  \n",
       "std       3.749267        0.972245        1.052906     0.441521  \n",
       "min       0.000000        0.000000        0.000000     0.000000  \n",
       "25%       1.000000        1.180875        0.963003     0.000000  \n",
       "50%       3.000000        1.832768        1.719574     0.000000  \n",
       "75%       5.000000        2.536078        2.510336     1.000000  \n",
       "max      31.000000        6.023668        6.146783     1.000000  "
      ]
     },
     "execution_count": 6,
     "metadata": {},
     "output_type": "execute_result"
    }
   ],
   "source": [
    "df.describe()"
   ]
  },
  {
   "cell_type": "markdown",
   "metadata": {},
   "source": [
    "Наши наблюдения:\n",
    "\n",
    "- Стандартное отклонение выше всего для поля с дополнительной выручкой, но это выглядит естественно - в финансовых данных часто бывает сильный разброс.\n",
    "- Размерность признаков различается: для 6 признаков значения находятся в диапазоне между 0 и 1, для 2 признаков - между 1 и 12, для возраста - между 18 и 41, а для признака *extra_pay* - в диапазоне между 0 и 552.\n",
    "- Возрастная группа довольно однородна - половина значений приходится на категорию 27-31 год, клиентов старше 41 года в выборке нет.\n",
    "- Мальчиков и девочек среди клиентов приблизительно поровну.\n",
    "- Большинство клиентов (84%) либо работают, либо живут рядом с фитнес-центром (признак *near*).\n",
    "- Чуть менее половины клиентов (41%) хоть раз, да посещали групповые занятия (признак *group_visits*).\n",
    "- Почти половина клиентов (48%) пришли по партнерской программе, а 30% воспользовались скидкой от друга.\n",
    "- Средняя посещаемость - 1-2 раза в неделю. Также присутствуют выбросы за счет тех, кто посещает зал 6 раз в неделю.\n",
    "- Средний lifetime клиента - чуть больше 3 месяцев.\n",
    "- Выборка не сбалансирована. К классу ушедших клиентов в выборке относится 26%, а к классу активных - 74%.\n",
    "\n",
    "Теперь посмотрим на средние значения признаков в двух группах: активных и ушедших клиентов."
   ]
  },
  {
   "cell_type": "code",
   "execution_count": 7,
   "metadata": {
    "scrolled": true
   },
   "outputs": [
    {
     "data": {
      "text/html": [
       "<div>\n",
       "<style scoped>\n",
       "    .dataframe tbody tr th:only-of-type {\n",
       "        vertical-align: middle;\n",
       "    }\n",
       "\n",
       "    .dataframe tbody tr th {\n",
       "        vertical-align: top;\n",
       "    }\n",
       "\n",
       "    .dataframe thead th {\n",
       "        text-align: right;\n",
       "    }\n",
       "</style>\n",
       "<table border=\"1\" class=\"dataframe\">\n",
       "  <thead>\n",
       "    <tr style=\"text-align: right;\">\n",
       "      <th></th>\n",
       "      <th>gender</th>\n",
       "      <th>near</th>\n",
       "      <th>partner</th>\n",
       "      <th>promo</th>\n",
       "      <th>phone</th>\n",
       "      <th>contract_period</th>\n",
       "      <th>group_visits</th>\n",
       "      <th>age</th>\n",
       "      <th>extra_pay</th>\n",
       "      <th>month_to_end</th>\n",
       "      <th>lifetime</th>\n",
       "      <th>avg_freq_total</th>\n",
       "      <th>avg_freq_month</th>\n",
       "    </tr>\n",
       "    <tr>\n",
       "      <th>churn</th>\n",
       "      <th></th>\n",
       "      <th></th>\n",
       "      <th></th>\n",
       "      <th></th>\n",
       "      <th></th>\n",
       "      <th></th>\n",
       "      <th></th>\n",
       "      <th></th>\n",
       "      <th></th>\n",
       "      <th></th>\n",
       "      <th></th>\n",
       "      <th></th>\n",
       "      <th></th>\n",
       "    </tr>\n",
       "  </thead>\n",
       "  <tbody>\n",
       "    <tr>\n",
       "      <td>0</td>\n",
       "      <td>0.510037</td>\n",
       "      <td>0.873086</td>\n",
       "      <td>0.534195</td>\n",
       "      <td>0.353522</td>\n",
       "      <td>0.903709</td>\n",
       "      <td>5.747193</td>\n",
       "      <td>0.464103</td>\n",
       "      <td>29.976523</td>\n",
       "      <td>158.445715</td>\n",
       "      <td>5.283089</td>\n",
       "      <td>4.711807</td>\n",
       "      <td>2.024876</td>\n",
       "      <td>2.027882</td>\n",
       "    </tr>\n",
       "    <tr>\n",
       "      <td>1</td>\n",
       "      <td>0.510839</td>\n",
       "      <td>0.768143</td>\n",
       "      <td>0.355325</td>\n",
       "      <td>0.183789</td>\n",
       "      <td>0.902922</td>\n",
       "      <td>1.728558</td>\n",
       "      <td>0.268615</td>\n",
       "      <td>26.989632</td>\n",
       "      <td>115.082899</td>\n",
       "      <td>1.662582</td>\n",
       "      <td>0.990575</td>\n",
       "      <td>1.474995</td>\n",
       "      <td>1.044546</td>\n",
       "    </tr>\n",
       "  </tbody>\n",
       "</table>\n",
       "</div>"
      ],
      "text/plain": [
       "         gender      near   partner     promo     phone  contract_period  \\\n",
       "churn                                                                      \n",
       "0      0.510037  0.873086  0.534195  0.353522  0.903709         5.747193   \n",
       "1      0.510839  0.768143  0.355325  0.183789  0.902922         1.728558   \n",
       "\n",
       "       group_visits        age   extra_pay  month_to_end  lifetime  \\\n",
       "churn                                                                \n",
       "0          0.464103  29.976523  158.445715      5.283089  4.711807   \n",
       "1          0.268615  26.989632  115.082899      1.662582  0.990575   \n",
       "\n",
       "       avg_freq_total  avg_freq_month  \n",
       "churn                                  \n",
       "0            2.024876        2.027882  \n",
       "1            1.474995        1.044546  "
      ]
     },
     "execution_count": 7,
     "metadata": {},
     "output_type": "execute_result"
    }
   ],
   "source": [
    "df.groupby('churn').mean()"
   ]
  },
  {
   "cell_type": "markdown",
   "metadata": {},
   "source": [
    "По этим данным можно предположить, что пол или возраст клиента не играют решающей роли в оттоке. А вот если клиент участвует в партнерских программах, пришел по рекомендации от друга или занимался в группе, то похоже, доля оттока в этих случаях ниже.\n",
    "\n",
    "Скидки и социальные связи могут быть мощным фактором, влияющим на нашу целевую переменную. Далее нам предстоит выяснить это точнее.\n",
    "\n",
    "Для полноты картины оценим распределение всех наших признаков при помощи графиков. Чтобы отрисовать все графики сразу, объявим функцию `overview_vis`. "
   ]
  },
  {
   "cell_type": "code",
   "execution_count": 8,
   "metadata": {},
   "outputs": [],
   "source": [
    "def overview_vis(dataset1, dataset2, row=5, col=1, title='Chart'):\n",
    "    \"\"\"Displays distribution plots for all features in listed datasets\"\"\"\n",
    "    plt.style.use('seaborn-whitegrid')\n",
    "    fig = plt.figure(figsize=(20,20))\n",
    "    fig.suptitle(title, fontsize='x-large')\n",
    "    plt.subplots_adjust(hspace=0.3)\n",
    "    \n",
    "    for i, column in enumerate(dataset1.columns):\n",
    "        ax = fig.add_subplot(row, col, i+1)\n",
    "        ax.set_title(column)\n",
    "        sns.distplot(dataset1[column], label='No churn')\n",
    "        sns.distplot(dataset2[column], label='Churn')\n",
    "        handles, labels = ax.get_legend_handles_labels()\n",
    "        fig.legend(handles, labels, loc='best', bbox_to_anchor=(0.05, 0.75, 0.1, 0.1), fontsize='x-large')\n",
    "        "
   ]
  },
  {
   "cell_type": "code",
   "execution_count": 9,
   "metadata": {
    "scrolled": true
   },
   "outputs": [
    {
     "data": {
      "image/png": "[encoded data removed]",
      "text/plain": [
       "<Figure size 1440x1440 with 14 Axes>"
      ]
     },
     "metadata": {},
     "output_type": "display_data"
    }
   ],
   "source": [
    "# выделим два датасета по признаку churn\n",
    "no_churn = df.query('churn == 0')\n",
    "churn = df.query('churn == 1')\n",
    "\n",
    "# построим графики со сравнением всех признаков для активных и ушедших клиентов\n",
    "(overview_vis(\n",
    "        dataset1=no_churn, \n",
    "        dataset2=churn, \n",
    "        row=4, \n",
    "        col=4, \n",
    "        title='Распределение признаков для активных и ушедших клиентов')\n",
    ")"
   ]
  },
  {
   "cell_type": "markdown",
   "metadata": {},
   "source": [
    "Изучим их подробнее:\n",
    "\n",
    "1) Гистограмма пола (*gender*) подтверждает, что женщин и мужчин в нашей выборке примерно поровну. Также нет данных в пользу того, что пол как-то коррелирует с фактом оттока.\n",
    "\n",
    "2) Гистограмма близости к залу (*near*) сообщает, что в выборке преобладают клиенты, живущие или работающие рядом. На факт оттока это так же вряд ли оказывает влияние.\n",
    "\n",
    "3) Гистограмма участия в партнерской программе (*partner*) показывает, что среди тех, кто участвовал в программе, отток почти вдвое меньше. Аналогичная картина для групповых занятий (гистограмма *group_visits*).\n",
    "\n",
    "4) Гистограмма участия в промо \"Приведи друга\" (*promo*) на первый взгляд свидетельствует о том, что churn высок в обеих группах - и тех, кто участвовал в промо, и у всех остальных. Но дело в том, что в самой промо-акции участвовало не более трети клиентов, поэтому вряд ли это показательно.\n",
    "\n",
    "5) По данным о возрасте (*age*) можно предположить, что молодежь бросает чаще - распределение ушедших клиентов смещено чуть влево. Выдвинем рабочую гипотезу, что средний возраст в этих группах различен (а значит, меньший возраст - это фактор риска с точки зрения оттока).\n",
    "\n",
    "6) На гистограммах продолжительности абонемента (*contract_period*) и времени до его окончания (*month_to_end*) заметны пики в области 1. Получается, скорее бросают те, кто купил абонемент на небольшой срок: их не удерживает факт финансовых вложений, как в случае с покупкой годового абонемента. \n",
    "\n",
    "7) Гистограммы дополнительных трат (*extra_pay*), общей посещаемости (*avg_freq_total*) и посещаемости в последний месяц (*avg_freq_month*) во многом перекрываются для двух групп клиентов, хотя в группе ушедших клиентов пики выше. Особенно заметен выброс в области 0 на графике посещаемости в последний месяц. Это и логично - еще до фиксации факта оттока клиент постепенно перестает ходить.\n",
    "\n",
    "В целом, аномальных выбросов в данных не наблюдается.\n",
    "\n",
    "Теперь посмотрим на корреляцию между признаками. Таблица слишком велика и не наглядна, поэтому сразу выведем ее в виде тепловой карты."
   ]
  },
  {
   "cell_type": "code",
   "execution_count": 10,
   "metadata": {
    "scrolled": true
   },
   "outputs": [
    {
     "data": {
      "image/png": "[encoded data removed]",
      "text/plain": [
       "<Figure size 936x648 with 2 Axes>"
      ]
     },
     "metadata": {},
     "output_type": "display_data"
    }
   ],
   "source": [
    "cm = df.corr()\n",
    "\n",
    "# построим тепловую карту\n",
    "plt.figure(figsize=(13, 9))\n",
    "sns.heatmap(cm, annot=True, fmt='.2f',square=True, cmap=\"YlGnBu\")\n",
    "plt.show()"
   ]
  },
  {
   "cell_type": "markdown",
   "metadata": {},
   "source": [
    "Видим высокую степень корреляции (> 0.8) в 2 парах признаков:\n",
    "\n",
    "- Между длительностью абонемента и сроком до его окончания. Это логично, срок до окончания абонемента будет всегда меньше или равен длительности абонемента. \n",
    "- Между средней посещаемостью за все время и посещаемостью в последний месяц. Иными словами, если клиент начал ходить регулярно с самого начала, то с большой степенью вероятности он будет придерживаться избранного графика, избегая длительных отлучек или перерывов в посещении зала.\n",
    "\n",
    "Признаков, явно коррелирующих с целевой переменной, в датасете нет.\n",
    "\n",
    "При построении моделей нужно будет не забыть про коррелирующие столбцы, чтобы исключить мультиколлинеарность."
   ]
  },
  {
   "cell_type": "markdown",
   "metadata": {},
   "source": [
    "### Выводы"
   ]
  },
  {
   "cell_type": "markdown",
   "metadata": {},
   "source": [
    "Наши наблюдения в результате исследовательского анализа данных:\n",
    "\n",
    "- Выборка не сбалансирована по классам: в отток уходит около 25%, остается 75%.\n",
    "- Признаки сильно различаются по размерности (некоторые в диапазоне от 0 до 1, другие от 1 до 12 и т.д.), поэтому нужно будет выполнить стандартизацию.\n",
    "- По возрасту, полу, близости к фитнес-центру аудитория довольно однородна (нет перекосов/выбросов).\n",
    "- Средний lifetime клиента - чуть больше 3 месяцев, а средняя посещаемость - 1-2 раза в неделю. Отдельные клиенты посещают зал до 6 раз в неделю.\n",
    "- Если смотреть на средние значения признаков в зависимости от принадлежности к классу, то похоже, что в среднем пол или возраст не оказывают влияния на отток. Правда, ситуация может отличаться, если смотреть на отдельные сегменты клиентов. \n",
    "- В то же время участие в промо-акции или партнерских программах, похоже, могут снижать вероятность оттока.\n",
    "- В датасете есть 2 пары признаков с сильной корреляцией (> 0.8): это общая посещаемость и посещаемость в последний месяц, а также длительность абонемента и время до окончания абонемента. Признаков, которые бы сильно коррелировали с целевой переменной, в датасете нет."
   ]
  },
  {
   "cell_type": "markdown",
   "metadata": {},
   "source": [
    "## Модель прогнозирования оттока клиентов"
   ]
  },
  {
   "cell_type": "markdown",
   "metadata": {},
   "source": [
    "Для прогнозирования факта оттока будем решать задачу бинарной классификации (\"есть отток - нет оттока\"). Ее можно решить при помощи разных алгоритмов. Мы попробуем два: логистическую регрессию и случайный лес.\n",
    "\n",
    "Сначала подготовим данные:\n",
    "- выделим признаки и целевую переменную\n",
    "- разобьем выборку на обучающую и валидационную\n",
    "- выполним регуляризацию данных"
   ]
  },
  {
   "cell_type": "code",
   "execution_count": 11,
   "metadata": {},
   "outputs": [],
   "source": [
    "# выделим признаки и целевую переменную в отдельные датафреймы\n",
    "X = df.drop(['churn'], axis=1)\n",
    "y = df['churn']"
   ]
  },
  {
   "cell_type": "markdown",
   "metadata": {},
   "source": [
    "Также вспомним, что в нашем датасете есть сильно скоррелированные признаки. Чтобы исключить мультиколлинеарность, удалим вручную по одному признаку из каждой пары. Например, срок до окончания абонемента и посещаемость в последний месяц."
   ]
  },
  {
   "cell_type": "code",
   "execution_count": 12,
   "metadata": {
    "scrolled": true
   },
   "outputs": [
    {
     "data": {
      "text/html": [
       "<div>\n",
       "<style scoped>\n",
       "    .dataframe tbody tr th:only-of-type {\n",
       "        vertical-align: middle;\n",
       "    }\n",
       "\n",
       "    .dataframe tbody tr th {\n",
       "        vertical-align: top;\n",
       "    }\n",
       "\n",
       "    .dataframe thead th {\n",
       "        text-align: right;\n",
       "    }\n",
       "</style>\n",
       "<table border=\"1\" class=\"dataframe\">\n",
       "  <thead>\n",
       "    <tr style=\"text-align: right;\">\n",
       "      <th></th>\n",
       "      <th>gender</th>\n",
       "      <th>near</th>\n",
       "      <th>partner</th>\n",
       "      <th>promo</th>\n",
       "      <th>phone</th>\n",
       "      <th>contract_period</th>\n",
       "      <th>group_visits</th>\n",
       "      <th>age</th>\n",
       "      <th>extra_pay</th>\n",
       "      <th>lifetime</th>\n",
       "      <th>avg_freq_total</th>\n",
       "    </tr>\n",
       "  </thead>\n",
       "  <tbody>\n",
       "    <tr>\n",
       "      <td>0</td>\n",
       "      <td>1</td>\n",
       "      <td>1</td>\n",
       "      <td>1</td>\n",
       "      <td>1</td>\n",
       "      <td>0</td>\n",
       "      <td>6</td>\n",
       "      <td>1</td>\n",
       "      <td>29</td>\n",
       "      <td>14.227470</td>\n",
       "      <td>3</td>\n",
       "      <td>0.020398</td>\n",
       "    </tr>\n",
       "    <tr>\n",
       "      <td>1</td>\n",
       "      <td>0</td>\n",
       "      <td>1</td>\n",
       "      <td>0</td>\n",
       "      <td>0</td>\n",
       "      <td>1</td>\n",
       "      <td>12</td>\n",
       "      <td>1</td>\n",
       "      <td>31</td>\n",
       "      <td>113.202938</td>\n",
       "      <td>7</td>\n",
       "      <td>1.922936</td>\n",
       "    </tr>\n",
       "    <tr>\n",
       "      <td>2</td>\n",
       "      <td>0</td>\n",
       "      <td>1</td>\n",
       "      <td>1</td>\n",
       "      <td>0</td>\n",
       "      <td>1</td>\n",
       "      <td>1</td>\n",
       "      <td>0</td>\n",
       "      <td>28</td>\n",
       "      <td>129.448479</td>\n",
       "      <td>2</td>\n",
       "      <td>1.859098</td>\n",
       "    </tr>\n",
       "    <tr>\n",
       "      <td>3</td>\n",
       "      <td>0</td>\n",
       "      <td>1</td>\n",
       "      <td>1</td>\n",
       "      <td>1</td>\n",
       "      <td>1</td>\n",
       "      <td>12</td>\n",
       "      <td>1</td>\n",
       "      <td>33</td>\n",
       "      <td>62.669863</td>\n",
       "      <td>2</td>\n",
       "      <td>3.205633</td>\n",
       "    </tr>\n",
       "    <tr>\n",
       "      <td>4</td>\n",
       "      <td>1</td>\n",
       "      <td>1</td>\n",
       "      <td>1</td>\n",
       "      <td>1</td>\n",
       "      <td>1</td>\n",
       "      <td>1</td>\n",
       "      <td>0</td>\n",
       "      <td>26</td>\n",
       "      <td>198.362265</td>\n",
       "      <td>3</td>\n",
       "      <td>1.113884</td>\n",
       "    </tr>\n",
       "  </tbody>\n",
       "</table>\n",
       "</div>"
      ],
      "text/plain": [
       "   gender  near  partner  promo  phone  contract_period  group_visits  age  \\\n",
       "0       1     1        1      1      0                6             1   29   \n",
       "1       0     1        0      0      1               12             1   31   \n",
       "2       0     1        1      0      1                1             0   28   \n",
       "3       0     1        1      1      1               12             1   33   \n",
       "4       1     1        1      1      1                1             0   26   \n",
       "\n",
       "    extra_pay  lifetime  avg_freq_total  \n",
       "0   14.227470         3        0.020398  \n",
       "1  113.202938         7        1.922936  \n",
       "2  129.448479         2        1.859098  \n",
       "3   62.669863         2        3.205633  \n",
       "4  198.362265         3        1.113884  "
      ]
     },
     "execution_count": 12,
     "metadata": {},
     "output_type": "execute_result"
    }
   ],
   "source": [
    "X = X.drop(['month_to_end', 'avg_freq_month'], axis=1)\n",
    "X.head()"
   ]
  },
  {
   "cell_type": "markdown",
   "metadata": {},
   "source": [
    "Осталось 11 признаков. \n",
    "\n",
    "Разделим выборку на обучающую и валидационную. Имеющиеся в датасете наблюдения независимы и не влияют на последующие, поэтому можно применить случайное разбиение.\n",
    "\n",
    "Также нам понадобится выполнить стандартизацию, потому что иначе линейная регрессия выдаст некорректный результат - ведь у наших признаков сильно различается размерность."
   ]
  },
  {
   "cell_type": "code",
   "execution_count": 13,
   "metadata": {},
   "outputs": [],
   "source": [
    "# разделим выборку на обучающую и валидационную в отношении 80:20\n",
    "X_train, X_test, y_train, y_test = train_test_split(X, y, test_size=0.2, random_state=0, stratify=y)\n",
    "\n",
    "# применим стандартизацию к обучающей выборке и обучим ее\n",
    "scaler = StandardScaler()\n",
    "X_train_st = scaler.fit_transform(X_train)\n",
    "\n",
    "# стандартизируем валидационную выборку\n",
    "X_test_st = scaler.transform(X_test)"
   ]
  },
  {
   "cell_type": "markdown",
   "metadata": {},
   "source": [
    "Теперь перейдем к обучению моделей. У нас их две, поэтому удобнее использовать функцию на тот случай, если захотим проверить другие модели."
   ]
  },
  {
   "cell_type": "code",
   "execution_count": 14,
   "metadata": {},
   "outputs": [],
   "source": [
    "#сохраним модели в список и сразу зададим для них параметры\n",
    "models = [LogisticRegression(random_state=0, solver='liblinear'), \n",
    "          RandomForestClassifier(random_state=0, n_estimators = 100)\n",
    "         ]\n",
    "\n",
    "def prediction_metrics(m, X_train, y_train, X_test, y_test):\n",
    "    \"\"\"\n",
    "    Строит и обучает модель по заданному алгоритму.\n",
    "    Рассчитывает и выводит метрики для оценки спрогнозированных меток и вероятностей. \n",
    "    \"\"\"\n",
    "    model = m\n",
    "    model.fit(X_train, y_train)\n",
    "    \n",
    "    # рассчитаем прогноз для целевой переменной\n",
    "    y_pred = model.predict(X_test)\n",
    "\n",
    "    # рассчитаем вероятность принадлежности объекта к первому или второму классу\n",
    "    y_probas = model.predict_proba(X_test)\n",
    "    \n",
    "    # рассчитаем метрики для оценки качества прогноза\n",
    "    accuracy = accuracy_score(y_test, y_pred)\n",
    "    precision = precision_score(y_test, y_pred)\n",
    "    recall = recall_score(y_test, y_pred)\n",
    "    print('Accuracy: {:.2f}'.format(accuracy),\n",
    "         'Precision: {:.2f}'.format(precision),\n",
    "         'Recall: {:.2f}'.format(recall),\n",
    "         'ROC_AUC: {:.2f}'.format(roc_auc_score(y_test, y_probas[:,1])))"
   ]
  },
  {
   "cell_type": "markdown",
   "metadata": {},
   "source": [
    "Перед оценкой метрик посмотрим на веса признаков, вычисленные для нашей линейной модели."
   ]
  },
  {
   "cell_type": "code",
   "execution_count": 15,
   "metadata": {
    "scrolled": true
   },
   "outputs": [],
   "source": [
    "for m in models:\n",
    "    try:\n",
    "        weights = pd.DataFrame(data={'feature': X_train.columns, 'weight': m.coef_.flatten()})\n",
    "        weights['weight_abs'] = weights['weight'].apply(lambda x: abs(x))\n",
    "        display(weights.sort_values(by='weight_abs', ascending=False))\n",
    "    except AttributeError:\n",
    "        continue"
   ]
  },
  {
   "cell_type": "markdown",
   "metadata": {},
   "source": [
    "Наибольший вес по модулю - у срока жизни клиента (*lifetime*), а также у длительности абонемента (*contract_period*). Это и понятно - клиенты, которые регулярно ходят в зал на протяжении нескольких месяцев, и бросают реже. Условия их устраивают, привычка к спорту вырабатывается, все хорошо. Те, кто покупают длительный абонемент, также больше мотивированы продолжать занятия - деньги уплачены, надо ходить.\n",
    "\n",
    "А вот пол и участие в партнерских программах (хотя они и дают скидку) почти никакой роли не играют.\n",
    "\n",
    "Посмотрим теперь на метрики."
   ]
  },
  {
   "cell_type": "code",
   "execution_count": 16,
   "metadata": {
    "scrolled": false
   },
   "outputs": [
    {
     "name": "stdout",
     "output_type": "stream",
     "text": [
      "LogisticRegression\n",
      "Accuracy: 0.91 Precision: 0.83 Recall: 0.83 ROC_AUC: 0.96\n",
      "\n",
      "RandomForestClassifier\n",
      "Accuracy: 0.89 Precision: 0.81 Recall: 0.79 ROC_AUC: 0.95\n",
      "\n"
     ]
    }
   ],
   "source": [
    "for m in models:\n",
    "    print(m.__class__.__name__)\n",
    "    prediction_metrics(m, X_train_st, y_train, X_test_st, y_test)\n",
    "    print()"
   ]
  },
  {
   "cell_type": "markdown",
   "metadata": {},
   "source": [
    "По каждой из метрик модель логистической регрессии показывает чуть лучший результат, чем случайный лес.\n",
    "\n",
    "Отдельно обратим внимание на значение accuracy - оно высокое, 90% в первом и 88% во втором случае. Как мы помним, классы у нас не сбалансированы (churn - примерно четверть от всех наблюдений, а не половина), поэтому эта метрика не очень показательна в данном случае.\n",
    "\n",
    "Метрики точности и полноты явно похуже, но на приемлемом уровне. А вот ROC-AUC, которая особенно подходит для нашего случая с несбалансированными классами, близка к 1, так что обе модели прогнозируют неплохо. "
   ]
  },
  {
   "cell_type": "markdown",
   "metadata": {},
   "source": [
    "### Выводы"
   ]
  },
  {
   "cell_type": "markdown",
   "metadata": {},
   "source": [
    "Для решения задачи мы решили построить две модели: на основе логистической регрессии и случайного леса. \n",
    "\n",
    "- Перед построением модели мы выполнили стандартизацию признаков и удалили сильно скоррелированные признаки (всего 2).\n",
    "- Для линейной модели наибольший вес по модулю - у продолжительности жизни клиента (*lifetime*). Получается, чем меньше времени с нами клиент, тем выше риск оттока. \n",
    "- Такие параметры, как пол или участие в партнерской программе, получили низкий коэффициент - их влияние на отток невелико.\n",
    "- Далее мы выбрали метрики для оценки качества моделей. По каждой из метрик модель логистической регрессии показала чуть лучший результат. \n",
    "- Метрика Accuracy в случае с несбалансированными классами не очень показательна, но метрика ROC-AUC близка к единице - значит, в целом модель адекватна. Что касается точности и полноты, то над этими метриками можно еще работать."
   ]
  },
  {
   "cell_type": "markdown",
   "metadata": {},
   "source": [
    "## Кластеризация клиентов"
   ]
  },
  {
   "cell_type": "markdown",
   "metadata": {},
   "source": [
    "Как и у любого бизнеса, у фитнес-центров неоднородная аудитория: есть заядлые спортсмены, железно посещающие зал с железом 6 раз в неделю, а есть те, кто пытается начать новую жизнь с понедельника и вскоре бросает эти попытки. Люди разные, и поведение у них разное - бизнес должен понимать свою аудиторию, чтобы правильно с ней работать.\n",
    "\n",
    "Попробуем типизировать аудиторию - то есть выделить кластеры при помощи методов машинного обучения.\n",
    "\n",
    "Для начала посмотрим на дендрограмму, чтобы визуально оценить возможное количество кластеров."
   ]
  },
  {
   "cell_type": "code",
   "execution_count": 17,
   "metadata": {},
   "outputs": [
    {
     "data": {
      "image/png": "[encoded data removed]",
      "text/plain": [
       "<Figure size 1080x720 with 1 Axes>"
      ]
     },
     "metadata": {},
     "output_type": "display_data"
    }
   ],
   "source": [
    "# стандартизируем матрицу признаков\n",
    "scaler = StandardScaler()\n",
    "X_st = scaler.fit_transform(X)\n",
    "\n",
    "# сохраним таблицу связей между объектами\n",
    "linked = linkage(X_st, method = 'ward') \n",
    "\n",
    "# построим дендрограмму\n",
    "plt.figure(figsize=(15, 10))  \n",
    "dendrogram(linked, orientation='top')\n",
    "plt.show()"
   ]
  },
  {
   "cell_type": "markdown",
   "metadata": {},
   "source": [
    "На графике выделяются 4 кластера, обозначенные разным цветом. Правда, фиолетовый кластер справа как минимум вдвое (а то и втрое) больше остальных. Решено - выделим 5 кластеров. Это позволит распределить клиентов более равномерно. "
   ]
  },
  {
   "cell_type": "code",
   "execution_count": 18,
   "metadata": {},
   "outputs": [],
   "source": [
    "# спрогнозируем кластеры клиентов\n",
    "km = KMeans(n_clusters = 5, random_state=0)\n",
    "labels = km.fit_predict(X_st)"
   ]
  },
  {
   "cell_type": "markdown",
   "metadata": {},
   "source": [
    "Кластеры есть, теперь посмотрим на средние значения признаков по кластерам."
   ]
  },
  {
   "cell_type": "code",
   "execution_count": 19,
   "metadata": {
    "scrolled": true
   },
   "outputs": [
    {
     "data": {
      "text/html": [
       "<div>\n",
       "<style scoped>\n",
       "    .dataframe tbody tr th:only-of-type {\n",
       "        vertical-align: middle;\n",
       "    }\n",
       "\n",
       "    .dataframe tbody tr th {\n",
       "        vertical-align: top;\n",
       "    }\n",
       "\n",
       "    .dataframe thead th {\n",
       "        text-align: right;\n",
       "    }\n",
       "</style>\n",
       "<table border=\"1\" class=\"dataframe\">\n",
       "  <thead>\n",
       "    <tr style=\"text-align: right;\">\n",
       "      <th></th>\n",
       "      <th>gender</th>\n",
       "      <th>near</th>\n",
       "      <th>partner</th>\n",
       "      <th>promo</th>\n",
       "      <th>phone</th>\n",
       "      <th>contract_period</th>\n",
       "      <th>group_visits</th>\n",
       "      <th>age</th>\n",
       "      <th>extra_pay</th>\n",
       "      <th>month_to_end</th>\n",
       "      <th>lifetime</th>\n",
       "      <th>avg_freq_total</th>\n",
       "      <th>avg_freq_month</th>\n",
       "      <th>churn</th>\n",
       "    </tr>\n",
       "    <tr>\n",
       "      <th>cluster</th>\n",
       "      <th></th>\n",
       "      <th></th>\n",
       "      <th></th>\n",
       "      <th></th>\n",
       "      <th></th>\n",
       "      <th></th>\n",
       "      <th></th>\n",
       "      <th></th>\n",
       "      <th></th>\n",
       "      <th></th>\n",
       "      <th></th>\n",
       "      <th></th>\n",
       "      <th></th>\n",
       "      <th></th>\n",
       "    </tr>\n",
       "  </thead>\n",
       "  <tbody>\n",
       "    <tr>\n",
       "      <td>0</td>\n",
       "      <td>0.499109</td>\n",
       "      <td>0.000000</td>\n",
       "      <td>0.488414</td>\n",
       "      <td>0.076649</td>\n",
       "      <td>1.0</td>\n",
       "      <td>3.032086</td>\n",
       "      <td>0.235294</td>\n",
       "      <td>28.721925</td>\n",
       "      <td>137.540009</td>\n",
       "      <td>2.853832</td>\n",
       "      <td>3.060606</td>\n",
       "      <td>1.770413</td>\n",
       "      <td>1.606619</td>\n",
       "      <td>0.399287</td>\n",
       "    </tr>\n",
       "    <tr>\n",
       "      <td>1</td>\n",
       "      <td>0.488571</td>\n",
       "      <td>0.995238</td>\n",
       "      <td>0.955238</td>\n",
       "      <td>0.892381</td>\n",
       "      <td>1.0</td>\n",
       "      <td>7.660952</td>\n",
       "      <td>0.458095</td>\n",
       "      <td>29.543810</td>\n",
       "      <td>155.861428</td>\n",
       "      <td>6.988571</td>\n",
       "      <td>4.380952</td>\n",
       "      <td>1.978963</td>\n",
       "      <td>1.933736</td>\n",
       "      <td>0.120952</td>\n",
       "    </tr>\n",
       "    <tr>\n",
       "      <td>2</td>\n",
       "      <td>0.505300</td>\n",
       "      <td>1.000000</td>\n",
       "      <td>0.238516</td>\n",
       "      <td>0.059187</td>\n",
       "      <td>1.0</td>\n",
       "      <td>2.819788</td>\n",
       "      <td>0.000000</td>\n",
       "      <td>28.770318</td>\n",
       "      <td>143.383993</td>\n",
       "      <td>2.650177</td>\n",
       "      <td>3.343640</td>\n",
       "      <td>1.800647</td>\n",
       "      <td>1.645965</td>\n",
       "      <td>0.381625</td>\n",
       "    </tr>\n",
       "    <tr>\n",
       "      <td>3</td>\n",
       "      <td>0.544202</td>\n",
       "      <td>1.000000</td>\n",
       "      <td>0.250287</td>\n",
       "      <td>0.079219</td>\n",
       "      <td>1.0</td>\n",
       "      <td>4.528129</td>\n",
       "      <td>1.000000</td>\n",
       "      <td>29.536165</td>\n",
       "      <td>148.088897</td>\n",
       "      <td>4.165327</td>\n",
       "      <td>3.761194</td>\n",
       "      <td>1.941342</td>\n",
       "      <td>1.845911</td>\n",
       "      <td>0.200918</td>\n",
       "    </tr>\n",
       "    <tr>\n",
       "      <td>4</td>\n",
       "      <td>0.523316</td>\n",
       "      <td>0.862694</td>\n",
       "      <td>0.471503</td>\n",
       "      <td>0.305699</td>\n",
       "      <td>0.0</td>\n",
       "      <td>4.777202</td>\n",
       "      <td>0.427461</td>\n",
       "      <td>29.297927</td>\n",
       "      <td>144.208179</td>\n",
       "      <td>4.466321</td>\n",
       "      <td>3.940415</td>\n",
       "      <td>1.854211</td>\n",
       "      <td>1.723967</td>\n",
       "      <td>0.266839</td>\n",
       "    </tr>\n",
       "  </tbody>\n",
       "</table>\n",
       "</div>"
      ],
      "text/plain": [
       "           gender      near   partner     promo  phone  contract_period  \\\n",
       "cluster                                                                   \n",
       "0        0.499109  0.000000  0.488414  0.076649    1.0         3.032086   \n",
       "1        0.488571  0.995238  0.955238  0.892381    1.0         7.660952   \n",
       "2        0.505300  1.000000  0.238516  0.059187    1.0         2.819788   \n",
       "3        0.544202  1.000000  0.250287  0.079219    1.0         4.528129   \n",
       "4        0.523316  0.862694  0.471503  0.305699    0.0         4.777202   \n",
       "\n",
       "         group_visits        age   extra_pay  month_to_end  lifetime  \\\n",
       "cluster                                                                \n",
       "0            0.235294  28.721925  137.540009      2.853832  3.060606   \n",
       "1            0.458095  29.543810  155.861428      6.988571  4.380952   \n",
       "2            0.000000  28.770318  143.383993      2.650177  3.343640   \n",
       "3            1.000000  29.536165  148.088897      4.165327  3.761194   \n",
       "4            0.427461  29.297927  144.208179      4.466321  3.940415   \n",
       "\n",
       "         avg_freq_total  avg_freq_month     churn  \n",
       "cluster                                            \n",
       "0              1.770413        1.606619  0.399287  \n",
       "1              1.978963        1.933736  0.120952  \n",
       "2              1.800647        1.645965  0.381625  \n",
       "3              1.941342        1.845911  0.200918  \n",
       "4              1.854211        1.723967  0.266839  "
      ]
     },
     "execution_count": 19,
     "metadata": {},
     "output_type": "execute_result"
    }
   ],
   "source": [
    "# сохраним метки в отдельный столбец в исходном датасете\n",
    "df['cluster'] = labels\n",
    "\n",
    "mean_feat = df.groupby('cluster').mean()\n",
    "mean_feat"
   ]
  },
  {
   "cell_type": "markdown",
   "metadata": {},
   "source": [
    "Уже по средним значениям можно примерно обрисовать характер сегмента и предположить их мотивацию.\n",
    "\n",
    "**Кластер 0. Просто мимо проходил.** В половине случаев пришли по партнерской программе, но при этом спортзал не рядом с домом/работой. На групповые занятия ходят мало. Покупают абонемент на месяц и пару раз продлевают. Уходят в отток в 40% случаев - или нет мотивации заниматься, или же просто неудобно.\n",
    "\n",
    "**Кластер 1. Фитнес-фанатики.** Это самая активная и сознательная часть аудитории - покупают абонементы на полгода-год, посещают зал 2 раза в неделю, а то и чаще. Средний lifetime - около 4 месяцев, отток низкий (12%). Часто приходят по партнерской программе или рекомендации друга. Чуть больше тратят денег на другие услуги по сравнению с остальными. Можно сказать, что это люди, которые привыкли о себе заботиться и выделять на это время и деньги, и проблем с удержанием этой части аудитории скорее всего нет.\n",
    "\n",
    "**Кластер 2. Соседи.** Явно выбрали спортзал по принципу близости к дому или работе, но как правило не участвовали в промо или партнерских программах, скидкой не мотивированы. На групповые занятия не ходят вообще, покупают короткие абонементы и \"отваливаются\" в 38% случаев. Вероятно, нет привычки и тяги к спорту, а социальные связи не срабатывают, так как ходят одни. Это второй сегмент с высокой долей оттока.\n",
    "\n",
    "**Кластер 3. Мы с Тамарой ходим парой.** От кластера 2 отличаются главным образом тем, что это абсолютные поклонники групповых занятий. Ходят стабильно дважды в неделю, покупают абонементы разной длины. Вероятно, спортзал их привлекает возможностью пообщаться и приятно провести время. Отток в среднем довольно низкий (20%).\n",
    "\n",
    "**Кластер 4. Сфинксы.** Самый загадочный сегмент: никогда не оставляют контактного телефона, при этом часто приходят по партнерской программе и демонстрируют неплохой lifetime. В отток уходит около четверти. Возможно, это та категория, которая приходит \"подкачаться к лету\", но не мотивирована на постоянные занятия в течение года. Не исключено также, что это часть более крупного кластера (который виден на дендрограмме справа), поэтому здесь нет ярко выраженных характеристик.\n",
    "\n",
    "Теперь посмотрим, как распределились признаки по каждому кластеру.\n",
    "\n",
    "Для отрисовки графиков также воспользуемся функцией, но сделаем так, чтобы графики были разными в зависимости от типа переменных."
   ]
  },
  {
   "cell_type": "code",
   "execution_count": 20,
   "metadata": {},
   "outputs": [],
   "source": [
    "def cluster_overview(dataset):\n",
    "    for i, column in enumerate(dataset.columns):\n",
    "        if dataset.dtypes[column] == np.int:\n",
    "            c = sns.catplot(x=column, data=df, col='cluster', kind='count')\n",
    "            c.fig.subplots_adjust(top=0.8)\n",
    "            c.fig.suptitle(column, fontsize=20)\n",
    "            plt.show()\n",
    "        elif dataset.dtypes[column] == np.float:\n",
    "            sns.boxplot(x='cluster', y=column, data=dataset)\n",
    "            plt.show()\n",
    "        else:\n",
    "            continue"
   ]
  },
  {
   "cell_type": "code",
   "execution_count": 21,
   "metadata": {
    "scrolled": false
   },
   "outputs": [
    {
     "data": {
      "image/png": "[encoded data removed]",
      "text/plain": [
       "<Figure size 1800x360 with 5 Axes>"
      ]
     },
     "metadata": {},
     "output_type": "display_data"
    },
    {
     "data": {
      "image/png": "[encoded data removed]",
      "text/plain": [
       "<Figure size 1800x360 with 5 Axes>"
      ]
     },
     "metadata": {},
     "output_type": "display_data"
    },
    {
     "data": {
      "image/png": "[encoded data removed]",
      "text/plain": [
       "<Figure size 1800x360 with 5 Axes>"
      ]
     },
     "metadata": {},
     "output_type": "display_data"
    },
    {
     "data": {
      "image/png": "[encoded data removed]",
      "text/plain": [
       "<Figure size 1800x360 with 5 Axes>"
      ]
     },
     "metadata": {},
     "output_type": "display_data"
    },
    {
     "data": {
      "image/png": "[encoded data removed]",
      "text/plain": [
       "<Figure size 1800x360 with 5 Axes>"
      ]
     },
     "metadata": {},
     "output_type": "display_data"
    },
    {
     "data": {
      "image/png": "[encoded data removed]",
      "text/plain": [
       "<Figure size 1800x360 with 5 Axes>"
      ]
     },
     "metadata": {},
     "output_type": "display_data"
    },
    {
     "data": {
      "image/png": "[encoded data removed]",
      "text/plain": [
       "<Figure size 1800x360 with 5 Axes>"
      ]
     },
     "metadata": {},
     "output_type": "display_data"
    },
    {
     "data": {
      "image/png": "[encoded data removed]",
      "text/plain": [
       "<Figure size 1800x360 with 5 Axes>"
      ]
     },
     "metadata": {},
     "output_type": "display_data"
    },
    {
     "data": {
      "image/png": "[encoded data removed]",
      "text/plain": [
       "<Figure size 432x288 with 1 Axes>"
      ]
     },
     "metadata": {},
     "output_type": "display_data"
    },
    {
     "data": {
      "image/png": "[encoded data removed]",
      "text/plain": [
       "<Figure size 432x288 with 1 Axes>"
      ]
     },
     "metadata": {},
     "output_type": "display_data"
    },
    {
     "data": {
      "image/png": "[encoded data removed]",
      "text/plain": [
       "<Figure size 1800x360 with 5 Axes>"
      ]
     },
     "metadata": {},
     "output_type": "display_data"
    },
    {
     "data": {
      "image/png": "[encoded data removed]",
      "text/plain": [
       "<Figure size 432x288 with 1 Axes>"
      ]
     },
     "metadata": {},
     "output_type": "display_data"
    },
    {
     "data": {
      "image/png": "[encoded data removed]",
      "text/plain": [
       "<Figure size 432x288 with 1 Axes>"
      ]
     },
     "metadata": {},
     "output_type": "display_data"
    },
    {
     "data": {
      "image/png": "[encoded data removed]",
      "text/plain": [
       "<Figure size 1800x360 with 5 Axes>"
      ]
     },
     "metadata": {},
     "output_type": "display_data"
    }
   ],
   "source": [
    "cluster_overview(df)"
   ]
  },
  {
   "cell_type": "markdown",
   "metadata": {},
   "source": [
    "ПО графикам можно сделать следующие выводы:\n",
    "\n",
    "- Распределение клиентов по полу равномерно во всех кластерах.\n",
    "- По возрасту распределения очень похожи и напоминают нормальные, выбросов или пиков не наблюдается.\n",
    "- Что касается трат, в среднем все тратят одинаково вне зависимости от сегмента. В кластере 0 заметно больше выбросов. Это может объясняться характером клиентов, которые склонны к импульсивным поступкам: в том числе, и тратам на абонемент.\n",
    "- Распределение продолжительности жизни скошено вправо с пиком на 1 месяце. Получается, первый месяц - самый *рискованный с точки зрения оттока*.\n",
    "- Средняя посещаемость у всех кластеров примерно на одном уровне - дважды в неделю. Есть выбросы, достигающие 5-6 раз в неделю, но они есть во всех кластерах, так что вряд ли это значимый фактор.\n",
    "- Самым показательные из признаков - длина абонемента и факт посещения групповых занятий. Самые лояльные клиенты готовы к занятиям на длинной дистанции, а посещение групп укрепляет социальные связи. Инсайтом это назвать нельзя, но наблюдение согласуется со здравым смыслом.\n",
    "\n",
    "В заключение посмотрим отдельно на долю оттока по каждому кластеру."
   ]
  },
  {
   "cell_type": "code",
   "execution_count": 22,
   "metadata": {
    "scrolled": true
   },
   "outputs": [
    {
     "data": {
      "text/html": [
       "<style  type=\"text/css\" >\n",
       "</style><table id=\"T_0258e45c_d290_11eb_808e_02420a39f144\" ><thead>    <tr>        <th class=\"blank level0\" ></th>        <th class=\"col_heading level0 col0\" >cluster</th>        <th class=\"col_heading level0 col1\" >churn</th>    </tr></thead><tbody>\n",
       "                <tr>\n",
       "                        <th id=\"T_0258e45c_d290_11eb_808e_02420a39f144level0_row0\" class=\"row_heading level0 row0\" >0</th>\n",
       "                        <td id=\"T_0258e45c_d290_11eb_808e_02420a39f144row0_col0\" class=\"data row0 col0\" >0</td>\n",
       "                        <td id=\"T_0258e45c_d290_11eb_808e_02420a39f144row0_col1\" class=\"data row0 col1\" >39.93%</td>\n",
       "            </tr>\n",
       "            <tr>\n",
       "                        <th id=\"T_0258e45c_d290_11eb_808e_02420a39f144level0_row1\" class=\"row_heading level0 row1\" >2</th>\n",
       "                        <td id=\"T_0258e45c_d290_11eb_808e_02420a39f144row1_col0\" class=\"data row1 col0\" >2</td>\n",
       "                        <td id=\"T_0258e45c_d290_11eb_808e_02420a39f144row1_col1\" class=\"data row1 col1\" >38.16%</td>\n",
       "            </tr>\n",
       "            <tr>\n",
       "                        <th id=\"T_0258e45c_d290_11eb_808e_02420a39f144level0_row2\" class=\"row_heading level0 row2\" >4</th>\n",
       "                        <td id=\"T_0258e45c_d290_11eb_808e_02420a39f144row2_col0\" class=\"data row2 col0\" >4</td>\n",
       "                        <td id=\"T_0258e45c_d290_11eb_808e_02420a39f144row2_col1\" class=\"data row2 col1\" >26.68%</td>\n",
       "            </tr>\n",
       "            <tr>\n",
       "                        <th id=\"T_0258e45c_d290_11eb_808e_02420a39f144level0_row3\" class=\"row_heading level0 row3\" >3</th>\n",
       "                        <td id=\"T_0258e45c_d290_11eb_808e_02420a39f144row3_col0\" class=\"data row3 col0\" >3</td>\n",
       "                        <td id=\"T_0258e45c_d290_11eb_808e_02420a39f144row3_col1\" class=\"data row3 col1\" >20.09%</td>\n",
       "            </tr>\n",
       "            <tr>\n",
       "                        <th id=\"T_0258e45c_d290_11eb_808e_02420a39f144level0_row4\" class=\"row_heading level0 row4\" >1</th>\n",
       "                        <td id=\"T_0258e45c_d290_11eb_808e_02420a39f144row4_col0\" class=\"data row4 col0\" >1</td>\n",
       "                        <td id=\"T_0258e45c_d290_11eb_808e_02420a39f144row4_col1\" class=\"data row4 col1\" >12.10%</td>\n",
       "            </tr>\n",
       "    </tbody></table>"
      ],
      "text/plain": [
       "<pandas.io.formats.style.Styler at 0x7f9015f26850>"
      ]
     },
     "execution_count": 22,
     "metadata": {},
     "output_type": "execute_result"
    }
   ],
   "source": [
    "(df.groupby('cluster')['churn']\n",
    "                             .mean()\n",
    "                             .reset_index()\n",
    "                             .sort_values(by='churn', ascending=False)\n",
    "                             .style.format({'churn': \"{:.2%}\"})\n",
    ")"
   ]
  },
  {
   "cell_type": "markdown",
   "metadata": {},
   "source": [
    "Итак, наиболее склонны к оттоку кластеры 0 (\"Просто мимо проходил\") и 2 (\"Соседи\") - 39% и 38% оттока соответственно. Первым может быть неудобно ходить, так как спортзал не рядом с домом, а у вторых скорее всего нет привычки к спорту и нет поддержки в лице друзей/знакомых.\n",
    "\n",
    "Самый лояльный сегмент - 1 (\"Фитнес-фанатики\") с рекордно низким оттоком в 12%. Это наиболее мотивированная на спорт аудитория, которая заботится о своем здоровье и посещает зал с завидной регулярностью.\n",
    "\n",
    "На втором месте после них - кластер 3 (\"Мы с Тамарой ходим парой\"). Клиенты из этого сегмента постоянно посещают групповые занятия и получают удовольствие от общения, и благодаря этому поддерживают и мотивируют друг дружку. "
   ]
  },
  {
   "cell_type": "markdown",
   "metadata": {},
   "source": [
    "### Выводы"
   ]
  },
  {
   "cell_type": "markdown",
   "metadata": {},
   "source": [
    "Чтобы выделить сегменты клиентов со схожими характеристиками, мы построили дендрограмму, на которой отчетливо выделились 4 кластера. Поскольку один из кластеров был значительно крупнее остальных, в итоге было принято решение разбить аудиторию на 5 кластеров. Для этого мы выполнили кластеризацию методом K-Means.\n",
    "\n",
    "- Два кластера (1 и 3) показывают самый низкий уровень оттока (12% и 20% соответственно). Также выделяются два сегмента с высоким оттоком (39% и 38%) - это кластеры 0 и 2. Наконец, последний из кластеров, 4, показывает средний отток (26%).\n",
    "- Судя по средним значениям и распределению признаков, можно сделать некоторые выводы относительно поведения клиентов в разных сегментах:\n",
    "    - Клиенты из кластера 0 выбирали спортзал не по принципу близости к работе/дому. Удаленность - дополнительный фактор риска. Что ими движет, непонятно, но на групповые занятия они ходят мало и чаще остальных уходят в отток (почти 40% случаев).\n",
    "    - Клиенты из кластера 1 чаще остальных покупают длинные абонементы. У них выработана привычка к спорту и они составляют самую лояльную аудиторию.\n",
    "    - Кластер 2 на втором месте по оттоку. Клиенты выбирают зал, руководствуясь близостью к дому/работе, но мало вовлекаются в спорт: совсем не ходят в группы, приходят не по рекомендации, покупают короткий абонемент и быстро бросают.\n",
    "    - Кластеру 3 свойственны прочные социальные связи: они часто посещают групповые занятия. Покупают как короткие, так и длинные абонементы. Вероятно, их мотивирует не только сам спорт и ЗОЖ, но и возможность пообщаться.\n",
    "    - Кластер 4 не дает четкого портрета клиента. Они не оставляют своих контактов, но ходят на протяжении нескольких месяцев. Возможно, они готовы были бы заниматься, но им не нравится зал или условия. Нужно определить причины ухода. "
   ]
  },
  {
   "cell_type": "markdown",
   "metadata": {},
   "source": [
    "## Общий вывод и рекомендации"
   ]
  },
  {
   "cell_type": "markdown",
   "metadata": {},
   "source": [
    "В этом исследовании мы изучили клиентскую базу фитнес-центров и проанализировали факторы оттока. В частности:\n",
    "\n",
    "- Провели исследовательский анализ данных и изучили основные признаки, которые могут влиять на отток. Выяснили, что более длительный абонемент, участие в партнерских программах и частая посещаемость, скорее всего, препятствуют оттоку.\n",
    "- Построили две модели для прогнозирования оттока (*логистическая регрессия и случайный лес*) и оценили их качество при помощи метрик. Обе модели хотя и оставляют желать лучшего в плане полноты и точности, в целом адекватны и неплохо прогнозируют вероятность исхода. Чуть лучше себя проявила модель логистической регрессии.\n",
    "- Разделили клиентов на 5 кластеров и выделили их основные характеристики:\n",
    "    1. **\"Просто мимо проходил\".** Территориально зал не рядом, и в итоге клиенты ходят нерегулярно и бросают в 40% случаев. Если удаленность - основная причина, на это повлиять сложно.\n",
    "    2. **\"Фитнес-фанатики\"** приходят по партнерской программе, покупают длинный абонемент и максимально вовлечены в занятия спортом. Доля оттока минимальна, это самая лояльная аудитория.\n",
    "    3. **\"Соседи\"** явно выбирают зал исходя из территориальной близости, но не мотивированы, часто бросают в первый месяц. Не посещают группы. Это второй по оттоку сегмент.\n",
    "    4. **\"Мы с Тамарой ходим парой\".** Обожают ходить на групповые занятия. Посещают зал достаточно регулярно и бросают только в 20% случаев. Это второй по лояльности сегмент.\n",
    "    5. **\"Сфинксы\".** Сегмент без ярко выраженных характеристик, за исключением того, что не оставляют свои контакты. Поскольку они ходят в среднем на протяжении 4 месяцев, но уходят в отток в четверти случаев, с этой аудиторией надо работать и выяснять, в чем причины ухода.\n",
    "    \n",
    "**Рекомендации по взаимодействию с клиентами и их удержанию**\n",
    "\n",
    "1. **Повышение вовлеченности клиентов.** Мы видим, что наиболее лояльные клиенты ходят часто и покупают длинные абонементы. У них нет проблем с мотивацией и выработана привычка к спорту. Самые проблемные сегменты в этом отношении - \"Соседи\" и \"Просто мимо проходил\". Что можно сделать:\n",
    "    - Новичкам из этих сегментов можно предлагать помощь с планом занятий, ставить цели и отмечать прогресс. При наличии четкой программы им будет проще влиться в занятия.\n",
    "    - Особое сопровождение клиентов в течение первого месяца, поскольку это самый рискованный период в плане оттока.\n",
    "    - Ввести программу лояльности. Например, за посещение N занятий предлагать услуги массажа, салона красоты или бонусы от партнеров.\n",
    "2. **Получение обратной связи**. У нас есть аудитория, которая посещает зал продолжительное время (в среднем 4 месяца), но затем все-таки уходит (\"Сфинксы\"). Причины этого непонятны. Нужно провести исследование:\n",
    "    - Собрать обратную связь, пока клиенты не ушли в отток.\n",
    "    - Убрать самые частые жалобы и улучшить сервис.\n",
    "3. **Ставка на социальные связи**. Поскольку клиенты часто приходят не только за занятиями спортом, но и за общением, а совместные занятия помогают формировать привычку к спорту, следует стимулировать посещение групповых занятий:\n",
    "    - Предлагать скидку или бесплатное пробное посещение занятий в группе.\n",
    "    - Разнообразить программу новыми видами занятий.\n",
    "    - Устраивать разовые неспортивные мероприятия для членов клуба, например ЗОЖ-вечеринки или мастер-классы."
   ]
  }
 ],
 "metadata": {
  "ExecuteTimeLog": [
   {
    "duration": 1591,
    "start_time": "2021-06-16T13:20:25.418Z"
   },
   {
    "duration": 27,
    "start_time": "2021-06-16T13:22:04.020Z"
   },
   {
    "duration": 25,
    "start_time": "2021-06-16T13:22:40.900Z"
   },
   {
    "duration": 43,
    "start_time": "2021-06-16T13:22:46.781Z"
   },
   {
    "duration": 38,
    "start_time": "2021-06-16T13:28:09.614Z"
   },
   {
    "duration": 42,
    "start_time": "2021-06-16T13:28:24.455Z"
   },
   {
    "duration": 6,
    "start_time": "2021-06-16T14:08:15.034Z"
   },
   {
    "duration": 72,
    "start_time": "2021-06-16T14:16:08.779Z"
   },
   {
    "duration": 44,
    "start_time": "2021-06-16T19:31:05.222Z"
   },
   {
    "duration": 135,
    "start_time": "2021-06-16T19:35:29.479Z"
   },
   {
    "duration": 6,
    "start_time": "2021-06-16T19:35:33.176Z"
   },
   {
    "duration": 152,
    "start_time": "2021-06-16T19:35:33.185Z"
   },
   {
    "duration": 44,
    "start_time": "2021-06-16T19:35:33.340Z"
   },
   {
    "duration": 5,
    "start_time": "2021-06-16T19:35:33.387Z"
   },
   {
    "duration": 499,
    "start_time": "2021-06-16T19:35:33.394Z"
   },
   {
    "duration": 323,
    "start_time": "2021-06-16T19:36:01.374Z"
   },
   {
    "duration": 7,
    "start_time": "2021-06-16T19:36:03.938Z"
   },
   {
    "duration": 571,
    "start_time": "2021-06-16T19:36:06.463Z"
   },
   {
    "duration": 39,
    "start_time": "2021-06-16T19:37:03.447Z"
   },
   {
    "duration": 6,
    "start_time": "2021-06-16T19:37:30.626Z"
   },
   {
    "duration": 356,
    "start_time": "2021-06-16T19:37:35.696Z"
   },
   {
    "duration": 22,
    "start_time": "2021-06-16T19:38:00.495Z"
   },
   {
    "duration": 28,
    "start_time": "2021-06-16T19:38:15.763Z"
   },
   {
    "duration": 1754,
    "start_time": "2021-06-16T19:38:31.785Z"
   },
   {
    "duration": 119,
    "start_time": "2021-06-16T19:38:33.542Z"
   },
   {
    "duration": 68,
    "start_time": "2021-06-16T19:38:33.664Z"
   },
   {
    "duration": 30,
    "start_time": "2021-06-16T19:38:33.736Z"
   },
   {
    "duration": 92,
    "start_time": "2021-06-16T19:38:33.770Z"
   },
   {
    "duration": 30,
    "start_time": "2021-06-16T19:40:57.727Z"
   },
   {
    "duration": 22,
    "start_time": "2021-06-16T19:42:07.796Z"
   },
   {
    "duration": 20,
    "start_time": "2021-06-16T19:44:24.983Z"
   },
   {
    "duration": 21,
    "start_time": "2021-06-16T19:46:07.999Z"
   },
   {
    "duration": 21,
    "start_time": "2021-06-16T19:47:17.935Z"
   },
   {
    "duration": 6,
    "start_time": "2021-06-16T19:47:25.840Z"
   },
   {
    "duration": 155,
    "start_time": "2021-06-16T19:47:25.848Z"
   },
   {
    "duration": 45,
    "start_time": "2021-06-16T19:47:26.006Z"
   },
   {
    "duration": 19,
    "start_time": "2021-06-16T19:47:26.053Z"
   },
   {
    "duration": 78,
    "start_time": "2021-06-16T19:47:26.075Z"
   },
   {
    "duration": 81,
    "start_time": "2021-06-16T19:50:31.073Z"
   },
   {
    "duration": 23,
    "start_time": "2021-06-16T19:54:30.478Z"
   },
   {
    "duration": 6,
    "start_time": "2021-06-16T19:56:16.168Z"
   },
   {
    "duration": 125,
    "start_time": "2021-06-16T19:56:16.176Z"
   },
   {
    "duration": 48,
    "start_time": "2021-06-16T19:56:16.304Z"
   },
   {
    "duration": 22,
    "start_time": "2021-06-16T19:56:16.354Z"
   },
   {
    "duration": 95,
    "start_time": "2021-06-16T19:56:16.378Z"
   },
   {
    "duration": 52,
    "start_time": "2021-06-16T19:56:16.475Z"
   },
   {
    "duration": 1565,
    "start_time": "2021-06-17T05:14:26.469Z"
   },
   {
    "duration": 88,
    "start_time": "2021-06-17T05:14:28.037Z"
   },
   {
    "duration": 54,
    "start_time": "2021-06-17T05:14:28.128Z"
   },
   {
    "duration": 22,
    "start_time": "2021-06-17T05:14:28.186Z"
   },
   {
    "duration": 99,
    "start_time": "2021-06-17T05:14:28.211Z"
   },
   {
    "duration": 22,
    "start_time": "2021-06-17T05:14:28.312Z"
   },
   {
    "duration": 448,
    "start_time": "2021-06-17T05:28:54.621Z"
   },
   {
    "duration": 505,
    "start_time": "2021-06-17T05:29:04.323Z"
   },
   {
    "duration": 573,
    "start_time": "2021-06-17T05:29:52.408Z"
   },
   {
    "duration": 8,
    "start_time": "2021-06-17T05:30:29.582Z"
   },
   {
    "duration": 1436,
    "start_time": "2021-06-17T05:30:57.233Z"
   },
   {
    "duration": 4520,
    "start_time": "2021-06-17T05:31:08.855Z"
   },
   {
    "duration": 489,
    "start_time": "2021-06-17T05:33:39.057Z"
   },
   {
    "duration": 83,
    "start_time": "2021-06-17T05:33:39.549Z"
   },
   {
    "duration": 48,
    "start_time": "2021-06-17T05:33:39.635Z"
   },
   {
    "duration": 19,
    "start_time": "2021-06-17T05:33:39.686Z"
   },
   {
    "duration": 111,
    "start_time": "2021-06-17T05:33:39.707Z"
   },
   {
    "duration": 43,
    "start_time": "2021-06-17T05:33:39.821Z"
   },
   {
    "duration": 4509,
    "start_time": "2021-06-17T05:33:39.867Z"
   },
   {
    "duration": 6638,
    "start_time": "2021-06-17T05:34:52.326Z"
   },
   {
    "duration": 90,
    "start_time": "2021-06-17T05:35:41.602Z"
   },
   {
    "duration": 372,
    "start_time": "2021-06-17T05:35:56.492Z"
   },
   {
    "duration": 390,
    "start_time": "2021-06-17T05:36:05.015Z"
   },
   {
    "duration": 601,
    "start_time": "2021-06-17T05:36:31.789Z"
   },
   {
    "duration": 8295,
    "start_time": "2021-06-17T05:40:40.333Z"
   },
   {
    "duration": 8035,
    "start_time": "2021-06-17T05:41:05.266Z"
   },
   {
    "duration": 9667,
    "start_time": "2021-06-17T05:42:02.859Z"
   },
   {
    "duration": 606,
    "start_time": "2021-06-17T05:48:16.525Z"
   },
   {
    "duration": 532,
    "start_time": "2021-06-17T05:48:34.719Z"
   },
   {
    "duration": 589,
    "start_time": "2021-06-17T05:48:47.751Z"
   },
   {
    "duration": 1129,
    "start_time": "2021-06-17T05:52:44.176Z"
   },
   {
    "duration": 9410,
    "start_time": "2021-06-17T05:54:17.959Z"
   },
   {
    "duration": 9610,
    "start_time": "2021-06-17T05:54:48.146Z"
   },
   {
    "duration": 273,
    "start_time": "2021-06-17T05:59:32.334Z"
   },
   {
    "duration": -11,
    "start_time": "2021-06-17T06:01:40.942Z"
   },
   {
    "duration": 3042,
    "start_time": "2021-06-17T06:07:33.391Z"
   },
   {
    "duration": 3033,
    "start_time": "2021-06-17T06:07:45.144Z"
   },
   {
    "duration": 3517,
    "start_time": "2021-06-17T06:07:59.317Z"
   },
   {
    "duration": 3103,
    "start_time": "2021-06-17T06:08:12.288Z"
   },
   {
    "duration": 3150,
    "start_time": "2021-06-17T06:08:34.456Z"
   },
   {
    "duration": 291,
    "start_time": "2021-06-17T06:11:17.872Z"
   },
   {
    "duration": 686,
    "start_time": "2021-06-17T06:11:33.152Z"
   },
   {
    "duration": 767,
    "start_time": "2021-06-17T06:12:19.604Z"
   },
   {
    "duration": 852,
    "start_time": "2021-06-17T06:12:32.394Z"
   },
   {
    "duration": 6,
    "start_time": "2021-06-17T08:49:13.472Z"
   },
   {
    "duration": 4223,
    "start_time": "2021-06-17T08:49:33.803Z"
   },
   {
    "duration": 281,
    "start_time": "2021-06-17T08:51:40.036Z"
   },
   {
    "duration": 301,
    "start_time": "2021-06-17T08:51:53.610Z"
   },
   {
    "duration": 725,
    "start_time": "2021-06-17T08:52:09.918Z"
   },
   {
    "duration": 441,
    "start_time": "2021-06-17T08:52:17.593Z"
   },
   {
    "duration": 6,
    "start_time": "2021-06-17T08:53:17.270Z"
   },
   {
    "duration": 5,
    "start_time": "2021-06-17T08:54:34.206Z"
   },
   {
    "duration": 5869,
    "start_time": "2021-06-17T08:54:36.881Z"
   },
   {
    "duration": 7,
    "start_time": "2021-06-17T08:54:51.944Z"
   },
   {
    "duration": 6529,
    "start_time": "2021-06-17T09:05:35.791Z"
   },
   {
    "duration": 703,
    "start_time": "2021-06-17T09:06:57.358Z"
   },
   {
    "duration": 6,
    "start_time": "2021-06-17T09:07:39.383Z"
   },
   {
    "duration": 6156,
    "start_time": "2021-06-17T09:07:42.962Z"
   },
   {
    "duration": 6,
    "start_time": "2021-06-17T09:08:29.040Z"
   },
   {
    "duration": 657,
    "start_time": "2021-06-17T09:08:31.888Z"
   },
   {
    "duration": 7,
    "start_time": "2021-06-17T09:09:18.693Z"
   },
   {
    "duration": 6453,
    "start_time": "2021-06-17T09:09:21.644Z"
   },
   {
    "duration": 7,
    "start_time": "2021-06-17T09:10:41.379Z"
   },
   {
    "duration": 6169,
    "start_time": "2021-06-17T09:10:45.856Z"
   },
   {
    "duration": 7,
    "start_time": "2021-06-17T09:11:54.891Z"
   },
   {
    "duration": 8735,
    "start_time": "2021-06-17T09:11:57.960Z"
   },
   {
    "duration": 14,
    "start_time": "2021-06-17T09:13:02.558Z"
   },
   {
    "duration": 6320,
    "start_time": "2021-06-17T09:13:07.950Z"
   },
   {
    "duration": 7,
    "start_time": "2021-06-17T09:15:53.541Z"
   },
   {
    "duration": 6435,
    "start_time": "2021-06-17T09:15:56.530Z"
   },
   {
    "duration": 7,
    "start_time": "2021-06-17T09:17:02.896Z"
   },
   {
    "duration": 6477,
    "start_time": "2021-06-17T09:17:07.104Z"
   },
   {
    "duration": 7,
    "start_time": "2021-06-17T09:17:38.224Z"
   },
   {
    "duration": 6950,
    "start_time": "2021-06-17T09:17:40.562Z"
   },
   {
    "duration": 7,
    "start_time": "2021-06-17T09:19:26.362Z"
   },
   {
    "duration": 6602,
    "start_time": "2021-06-17T09:19:30.419Z"
   },
   {
    "duration": 7,
    "start_time": "2021-06-17T09:20:41.042Z"
   },
   {
    "duration": 6486,
    "start_time": "2021-06-17T09:20:45.362Z"
   },
   {
    "duration": 8,
    "start_time": "2021-06-17T09:22:20.638Z"
   },
   {
    "duration": 6702,
    "start_time": "2021-06-17T09:22:24.225Z"
   },
   {
    "duration": 11,
    "start_time": "2021-06-17T09:22:57.726Z"
   },
   {
    "duration": 7195,
    "start_time": "2021-06-17T09:23:00.044Z"
   },
   {
    "duration": 7,
    "start_time": "2021-06-17T09:24:02.705Z"
   },
   {
    "duration": 6531,
    "start_time": "2021-06-17T09:24:05.493Z"
   },
   {
    "duration": 8,
    "start_time": "2021-06-17T09:24:32.191Z"
   },
   {
    "duration": 6484,
    "start_time": "2021-06-17T09:24:50.616Z"
   },
   {
    "duration": 7,
    "start_time": "2021-06-17T09:25:57.278Z"
   },
   {
    "duration": 6561,
    "start_time": "2021-06-17T09:25:59.736Z"
   },
   {
    "duration": 8,
    "start_time": "2021-06-17T09:26:47.074Z"
   },
   {
    "duration": 6745,
    "start_time": "2021-06-17T09:26:50.063Z"
   },
   {
    "duration": 7,
    "start_time": "2021-06-17T09:28:40.729Z"
   },
   {
    "duration": 6388,
    "start_time": "2021-06-17T09:28:44.437Z"
   },
   {
    "duration": 7,
    "start_time": "2021-06-17T09:29:42.338Z"
   },
   {
    "duration": 6460,
    "start_time": "2021-06-17T09:29:44.948Z"
   },
   {
    "duration": 8,
    "start_time": "2021-06-17T09:30:16.777Z"
   },
   {
    "duration": 6795,
    "start_time": "2021-06-17T09:30:19.676Z"
   },
   {
    "duration": 7,
    "start_time": "2021-06-17T09:30:40.471Z"
   },
   {
    "duration": 6600,
    "start_time": "2021-06-17T09:30:43.630Z"
   },
   {
    "duration": 11,
    "start_time": "2021-06-17T09:31:02.874Z"
   },
   {
    "duration": 6720,
    "start_time": "2021-06-17T09:31:05.385Z"
   },
   {
    "duration": 7,
    "start_time": "2021-06-17T09:31:19.450Z"
   },
   {
    "duration": 6468,
    "start_time": "2021-06-17T09:31:22.079Z"
   },
   {
    "duration": 7,
    "start_time": "2021-06-17T09:32:14.974Z"
   },
   {
    "duration": 125,
    "start_time": "2021-06-17T09:32:14.983Z"
   },
   {
    "duration": 47,
    "start_time": "2021-06-17T09:32:15.111Z"
   },
   {
    "duration": 21,
    "start_time": "2021-06-17T09:32:15.161Z"
   },
   {
    "duration": 98,
    "start_time": "2021-06-17T09:32:15.185Z"
   },
   {
    "duration": 25,
    "start_time": "2021-06-17T09:32:15.285Z"
   },
   {
    "duration": 7,
    "start_time": "2021-06-17T09:32:15.313Z"
   },
   {
    "duration": 6503,
    "start_time": "2021-06-17T09:32:15.323Z"
   },
   {
    "duration": 416,
    "start_time": "2021-06-17T09:56:00.781Z"
   },
   {
    "duration": 707,
    "start_time": "2021-06-17T10:00:12.004Z"
   },
   {
    "duration": 28,
    "start_time": "2021-06-17T10:19:39.705Z"
   },
   {
    "duration": 1526,
    "start_time": "2021-06-17T10:20:40.140Z"
   },
   {
    "duration": 1612,
    "start_time": "2021-06-17T10:21:36.867Z"
   },
   {
    "duration": 86,
    "start_time": "2021-06-17T10:22:32.814Z"
   },
   {
    "duration": 1688,
    "start_time": "2021-06-17T10:22:38.132Z"
   },
   {
    "duration": 1597,
    "start_time": "2021-06-17T10:23:01.741Z"
   },
   {
    "duration": 1767,
    "start_time": "2021-06-17T10:24:16.807Z"
   },
   {
    "duration": 6,
    "start_time": "2021-06-17T15:04:17.959Z"
   },
   {
    "duration": 2215,
    "start_time": "2021-06-18T10:50:46.288Z"
   },
   {
    "duration": 110,
    "start_time": "2021-06-18T10:50:48.506Z"
   },
   {
    "duration": 54,
    "start_time": "2021-06-18T10:50:48.619Z"
   },
   {
    "duration": 22,
    "start_time": "2021-06-18T10:50:48.677Z"
   },
   {
    "duration": 111,
    "start_time": "2021-06-18T10:50:48.701Z"
   },
   {
    "duration": 28,
    "start_time": "2021-06-18T10:50:48.824Z"
   },
   {
    "duration": 9,
    "start_time": "2021-06-18T10:50:48.854Z"
   },
   {
    "duration": 7306,
    "start_time": "2021-06-18T10:50:48.866Z"
   },
   {
    "duration": 2037,
    "start_time": "2021-06-18T10:50:56.175Z"
   },
   {
    "duration": 10,
    "start_time": "2021-06-18T10:50:58.215Z"
   },
   {
    "duration": 7007,
    "start_time": "2021-06-18T10:51:54.254Z"
   },
   {
    "duration": 6,
    "start_time": "2021-06-18T10:52:18.607Z"
   },
   {
    "duration": 120,
    "start_time": "2021-06-18T10:52:18.616Z"
   },
   {
    "duration": 44,
    "start_time": "2021-06-18T10:52:18.740Z"
   },
   {
    "duration": 23,
    "start_time": "2021-06-18T10:52:18.787Z"
   },
   {
    "duration": 77,
    "start_time": "2021-06-18T10:52:18.825Z"
   },
   {
    "duration": 40,
    "start_time": "2021-06-18T10:52:18.905Z"
   },
   {
    "duration": 9,
    "start_time": "2021-06-18T10:52:18.948Z"
   },
   {
    "duration": 7096,
    "start_time": "2021-06-18T10:52:18.962Z"
   },
   {
    "duration": 1682,
    "start_time": "2021-06-18T10:52:26.060Z"
   },
   {
    "duration": 6,
    "start_time": "2021-06-18T10:52:27.744Z"
   },
   {
    "duration": 13,
    "start_time": "2021-06-18T10:53:00.023Z"
   },
   {
    "duration": 7287,
    "start_time": "2021-06-18T10:53:03.117Z"
   },
   {
    "duration": 1108,
    "start_time": "2021-06-18T10:55:24.541Z"
   },
   {
    "duration": 6,
    "start_time": "2021-06-18T10:56:06.952Z"
   },
   {
    "duration": 7453,
    "start_time": "2021-06-18T10:56:10.078Z"
   },
   {
    "duration": 5,
    "start_time": "2021-06-18T10:58:07.938Z"
   },
   {
    "duration": 7,
    "start_time": "2021-06-18T10:58:16.125Z"
   },
   {
    "duration": 282,
    "start_time": "2021-06-18T10:58:23.894Z"
   },
   {
    "duration": 2551,
    "start_time": "2021-06-18T10:59:10.374Z"
   },
   {
    "duration": 122,
    "start_time": "2021-06-18T10:59:12.929Z"
   },
   {
    "duration": 48,
    "start_time": "2021-06-18T10:59:13.054Z"
   },
   {
    "duration": 24,
    "start_time": "2021-06-18T10:59:13.105Z"
   },
   {
    "duration": 93,
    "start_time": "2021-06-18T10:59:13.132Z"
   },
   {
    "duration": 28,
    "start_time": "2021-06-18T10:59:13.228Z"
   },
   {
    "duration": 12,
    "start_time": "2021-06-18T10:59:13.259Z"
   },
   {
    "duration": 9488,
    "start_time": "2021-06-18T10:59:13.276Z"
   },
   {
    "duration": 2125,
    "start_time": "2021-06-18T10:59:22.766Z"
   },
   {
    "duration": 8,
    "start_time": "2021-06-18T10:59:24.894Z"
   },
   {
    "duration": 7,
    "start_time": "2021-06-18T11:02:57.484Z"
   },
   {
    "duration": 7570,
    "start_time": "2021-06-18T11:03:00.955Z"
   },
   {
    "duration": 5,
    "start_time": "2021-06-18T13:59:06.041Z"
   },
   {
    "duration": 559,
    "start_time": "2021-06-18T14:23:03.471Z"
   },
   {
    "duration": 16,
    "start_time": "2021-06-18T14:23:21.374Z"
   },
   {
    "duration": 13,
    "start_time": "2021-06-18T14:30:11.393Z"
   },
   {
    "duration": 15,
    "start_time": "2021-06-18T14:38:45.669Z"
   },
   {
    "duration": 9,
    "start_time": "2021-06-18T14:43:32.816Z"
   },
   {
    "duration": 106,
    "start_time": "2021-06-18T14:43:32.828Z"
   },
   {
    "duration": 43,
    "start_time": "2021-06-18T14:43:32.937Z"
   },
   {
    "duration": 21,
    "start_time": "2021-06-18T14:43:32.983Z"
   },
   {
    "duration": 94,
    "start_time": "2021-06-18T14:43:33.007Z"
   },
   {
    "duration": 41,
    "start_time": "2021-06-18T14:43:33.104Z"
   },
   {
    "duration": 7,
    "start_time": "2021-06-18T14:43:33.147Z"
   },
   {
    "duration": 6468,
    "start_time": "2021-06-18T14:43:33.157Z"
   },
   {
    "duration": 1600,
    "start_time": "2021-06-18T14:43:39.628Z"
   },
   {
    "duration": 5,
    "start_time": "2021-06-18T14:43:41.231Z"
   },
   {
    "duration": 23,
    "start_time": "2021-06-18T14:43:41.238Z"
   },
   {
    "duration": 13,
    "start_time": "2021-06-18T14:43:41.264Z"
   },
   {
    "duration": 6,
    "start_time": "2021-06-18T15:05:41.602Z"
   },
   {
    "duration": 671,
    "start_time": "2021-06-18T15:06:31.189Z"
   },
   {
    "duration": 179,
    "start_time": "2021-06-18T15:07:36.284Z"
   },
   {
    "duration": 123,
    "start_time": "2021-06-18T15:07:38.524Z"
   },
   {
    "duration": 89,
    "start_time": "2021-06-18T15:09:05.266Z"
   },
   {
    "duration": 89,
    "start_time": "2021-06-18T15:09:14.170Z"
   },
   {
    "duration": 111,
    "start_time": "2021-06-18T15:10:15.084Z"
   },
   {
    "duration": 8,
    "start_time": "2021-06-18T15:10:43.671Z"
   },
   {
    "duration": 86,
    "start_time": "2021-06-18T15:10:46.628Z"
   },
   {
    "duration": 272,
    "start_time": "2021-06-18T15:19:50.901Z"
   },
   {
    "duration": 281,
    "start_time": "2021-06-18T15:20:02.280Z"
   },
   {
    "duration": 4,
    "start_time": "2021-06-18T15:20:30.355Z"
   },
   {
    "duration": 6,
    "start_time": "2021-06-18T15:20:44.918Z"
   },
   {
    "duration": 88,
    "start_time": "2021-06-18T15:20:47.581Z"
   },
   {
    "duration": 6,
    "start_time": "2021-06-18T15:22:30.737Z"
   },
   {
    "duration": 122,
    "start_time": "2021-06-18T15:22:30.752Z"
   },
   {
    "duration": 48,
    "start_time": "2021-06-18T15:22:30.877Z"
   },
   {
    "duration": 21,
    "start_time": "2021-06-18T15:22:30.928Z"
   },
   {
    "duration": 134,
    "start_time": "2021-06-18T15:22:30.952Z"
   },
   {
    "duration": 35,
    "start_time": "2021-06-18T15:22:31.089Z"
   },
   {
    "duration": 7,
    "start_time": "2021-06-18T15:22:31.127Z"
   },
   {
    "duration": 6638,
    "start_time": "2021-06-18T15:22:31.137Z"
   },
   {
    "duration": 1628,
    "start_time": "2021-06-18T15:22:37.777Z"
   },
   {
    "duration": 16,
    "start_time": "2021-06-18T15:22:39.409Z"
   },
   {
    "duration": 32,
    "start_time": "2021-06-18T15:22:39.427Z"
   },
   {
    "duration": 20,
    "start_time": "2021-06-18T15:22:39.462Z"
   },
   {
    "duration": 117,
    "start_time": "2021-06-18T15:22:39.484Z"
   },
   {
    "duration": 21,
    "start_time": "2021-06-18T15:22:39.582Z"
   },
   {
    "duration": 6,
    "start_time": "2021-06-18T15:22:52.565Z"
   },
   {
    "duration": 86,
    "start_time": "2021-06-18T15:22:55.271Z"
   },
   {
    "duration": 145563,
    "start_time": "2021-06-18T16:19:54.772Z"
   },
   {
    "duration": 1805,
    "start_time": "2021-06-18T16:38:57.927Z"
   },
   {
    "duration": 5,
    "start_time": "2021-06-18T16:39:10.317Z"
   },
   {
    "duration": 1979,
    "start_time": "2021-06-19T09:36:10.237Z"
   },
   {
    "duration": 94,
    "start_time": "2021-06-19T09:36:12.218Z"
   },
   {
    "duration": 49,
    "start_time": "2021-06-19T09:36:12.316Z"
   },
   {
    "duration": 21,
    "start_time": "2021-06-19T09:36:12.369Z"
   },
   {
    "duration": 72,
    "start_time": "2021-06-19T09:36:12.401Z"
   },
   {
    "duration": 43,
    "start_time": "2021-06-19T09:36:12.476Z"
   },
   {
    "duration": 8,
    "start_time": "2021-06-19T09:36:12.522Z"
   },
   {
    "duration": 6309,
    "start_time": "2021-06-19T09:36:12.534Z"
   },
   {
    "duration": 1758,
    "start_time": "2021-06-19T09:36:18.846Z"
   },
   {
    "duration": 7,
    "start_time": "2021-06-19T09:36:20.606Z"
   },
   {
    "duration": 20,
    "start_time": "2021-06-19T09:36:20.616Z"
   },
   {
    "duration": 13,
    "start_time": "2021-06-19T09:36:20.638Z"
   },
   {
    "duration": 8,
    "start_time": "2021-06-19T09:36:20.653Z"
   },
   {
    "duration": 118,
    "start_time": "2021-06-19T09:36:20.663Z"
   },
   {
    "duration": 144242,
    "start_time": "2021-06-19T09:36:20.783Z"
   },
   {
    "duration": 2074,
    "start_time": "2021-06-19T09:38:45.028Z"
   },
   {
    "duration": 6,
    "start_time": "2021-06-19T09:38:47.104Z"
   },
   {
    "duration": 29,
    "start_time": "2021-06-19T09:41:19.655Z"
   },
   {
    "duration": 26,
    "start_time": "2021-06-19T09:43:26.008Z"
   },
   {
    "duration": 8,
    "start_time": "2021-06-19T10:59:13.427Z"
   },
   {
    "duration": 454,
    "start_time": "2021-06-19T11:01:38.430Z"
   },
   {
    "duration": 9124,
    "start_time": "2021-06-19T11:02:12.057Z"
   },
   {
    "duration": 8,
    "start_time": "2021-06-19T11:02:48.462Z"
   },
   {
    "duration": 7,
    "start_time": "2021-06-19T11:03:09.146Z"
   },
   {
    "duration": 9426,
    "start_time": "2021-06-19T11:03:11.235Z"
   },
   {
    "duration": 8,
    "start_time": "2021-06-19T11:03:42.328Z"
   },
   {
    "duration": 9879,
    "start_time": "2021-06-19T11:03:44.905Z"
   },
   {
    "duration": 8,
    "start_time": "2021-06-19T11:04:33.941Z"
   },
   {
    "duration": 9856,
    "start_time": "2021-06-19T11:04:37.275Z"
   },
   {
    "duration": 9,
    "start_time": "2021-06-19T11:07:06.228Z"
   },
   {
    "duration": 9593,
    "start_time": "2021-06-19T11:07:09.862Z"
   },
   {
    "duration": 10,
    "start_time": "2021-06-19T11:10:55.228Z"
   },
   {
    "duration": 7,
    "start_time": "2021-06-19T11:11:27.692Z"
   },
   {
    "duration": 273,
    "start_time": "2021-06-19T11:12:40.109Z"
   },
   {
    "duration": 714,
    "start_time": "2021-06-19T11:13:10.821Z"
   },
   {
    "duration": 45,
    "start_time": "2021-06-19T11:13:17.194Z"
   },
   {
    "duration": 107,
    "start_time": "2021-06-19T11:13:45.234Z"
   },
   {
    "duration": 14,
    "start_time": "2021-06-19T11:14:14.696Z"
   },
   {
    "duration": 17,
    "start_time": "2021-06-19T11:14:56.423Z"
   },
   {
    "duration": 294,
    "start_time": "2021-06-19T15:48:17.115Z"
   },
   {
    "duration": 533,
    "start_time": "2021-06-19T15:48:51.744Z"
   },
   {
    "duration": 5,
    "start_time": "2021-06-19T15:49:00.436Z"
   },
   {
    "duration": 5,
    "start_time": "2021-06-19T15:51:07.805Z"
   },
   {
    "duration": 284,
    "start_time": "2021-06-19T15:51:51.688Z"
   },
   {
    "duration": 6,
    "start_time": "2021-06-19T15:52:11.457Z"
   },
   {
    "duration": 7,
    "start_time": "2021-06-19T15:52:30.742Z"
   },
   {
    "duration": 6,
    "start_time": "2021-06-19T15:54:41.364Z"
   },
   {
    "duration": 10,
    "start_time": "2021-06-19T15:55:00.382Z"
   },
   {
    "duration": 7,
    "start_time": "2021-06-19T16:00:56.884Z"
   },
   {
    "duration": 15,
    "start_time": "2021-06-19T16:01:08.379Z"
   },
   {
    "duration": 18,
    "start_time": "2021-06-19T16:02:21.183Z"
   },
   {
    "duration": 1934,
    "start_time": "2021-06-19T21:09:44.631Z"
   },
   {
    "duration": 95,
    "start_time": "2021-06-19T21:09:46.568Z"
   },
   {
    "duration": 51,
    "start_time": "2021-06-19T21:09:46.666Z"
   },
   {
    "duration": 19,
    "start_time": "2021-06-19T21:09:46.719Z"
   },
   {
    "duration": 95,
    "start_time": "2021-06-19T21:09:46.740Z"
   },
   {
    "duration": 22,
    "start_time": "2021-06-19T21:09:46.837Z"
   },
   {
    "duration": 7,
    "start_time": "2021-06-19T21:09:46.862Z"
   },
   {
    "duration": 6293,
    "start_time": "2021-06-19T21:09:46.901Z"
   },
   {
    "duration": 1779,
    "start_time": "2021-06-19T21:09:53.201Z"
   },
   {
    "duration": 5,
    "start_time": "2021-06-19T21:09:54.983Z"
   },
   {
    "duration": 16,
    "start_time": "2021-06-19T21:09:55.001Z"
   },
   {
    "duration": 12,
    "start_time": "2021-06-19T21:09:55.019Z"
   },
   {
    "duration": 7,
    "start_time": "2021-06-19T21:09:55.034Z"
   },
   {
    "duration": 8,
    "start_time": "2021-06-19T21:09:55.043Z"
   },
   {
    "duration": 565,
    "start_time": "2021-06-19T21:09:55.054Z"
   },
   {
    "duration": 145992,
    "start_time": "2021-06-19T21:09:55.622Z"
   },
   {
    "duration": 1899,
    "start_time": "2021-06-19T21:12:21.616Z"
   },
   {
    "duration": 27,
    "start_time": "2021-06-19T21:12:23.517Z"
   },
   {
    "duration": 8,
    "start_time": "2021-06-19T21:12:23.546Z"
   },
   {
    "duration": 9944,
    "start_time": "2021-06-19T21:12:23.557Z"
   },
   {
    "duration": 595,
    "start_time": "2021-06-19T21:12:33.503Z"
   },
   {
    "duration": 3103,
    "start_time": "2021-06-20T09:15:45.986Z"
   },
   {
    "duration": 124,
    "start_time": "2021-06-20T09:15:49.093Z"
   },
   {
    "duration": 68,
    "start_time": "2021-06-20T09:15:49.220Z"
   },
   {
    "duration": 44,
    "start_time": "2021-06-20T09:15:49.292Z"
   },
   {
    "duration": 129,
    "start_time": "2021-06-20T09:15:49.339Z"
   },
   {
    "duration": 36,
    "start_time": "2021-06-20T09:15:49.471Z"
   },
   {
    "duration": 10,
    "start_time": "2021-06-20T09:15:49.526Z"
   },
   {
    "duration": 6436,
    "start_time": "2021-06-20T09:15:49.542Z"
   },
   {
    "duration": 1890,
    "start_time": "2021-06-20T09:15:55.981Z"
   },
   {
    "duration": 5,
    "start_time": "2021-06-20T09:15:57.874Z"
   },
   {
    "duration": 27,
    "start_time": "2021-06-20T09:15:57.881Z"
   },
   {
    "duration": 25,
    "start_time": "2021-06-20T09:15:57.910Z"
   },
   {
    "duration": 14,
    "start_time": "2021-06-20T09:15:57.937Z"
   },
   {
    "duration": 10,
    "start_time": "2021-06-20T09:15:57.953Z"
   },
   {
    "duration": 567,
    "start_time": "2021-06-20T09:15:57.965Z"
   },
   {
    "duration": 153409,
    "start_time": "2021-06-20T09:15:58.534Z"
   },
   {
    "duration": 1995,
    "start_time": "2021-06-20T09:18:31.945Z"
   },
   {
    "duration": 26,
    "start_time": "2021-06-20T09:18:33.942Z"
   },
   {
    "duration": 8,
    "start_time": "2021-06-20T09:18:33.970Z"
   },
   {
    "duration": 10202,
    "start_time": "2021-06-20T09:18:33.980Z"
   },
   {
    "duration": 1125,
    "start_time": "2021-06-20T09:18:44.185Z"
   },
   {
    "duration": 2235,
    "start_time": "2021-06-20T18:35:54.623Z"
   },
   {
    "duration": 123,
    "start_time": "2021-06-20T18:35:56.860Z"
   },
   {
    "duration": 48,
    "start_time": "2021-06-20T18:35:56.986Z"
   },
   {
    "duration": 21,
    "start_time": "2021-06-20T18:35:57.037Z"
   },
   {
    "duration": 102,
    "start_time": "2021-06-20T18:35:57.060Z"
   },
   {
    "duration": 24,
    "start_time": "2021-06-20T18:35:57.164Z"
   },
   {
    "duration": 7,
    "start_time": "2021-06-20T18:35:57.190Z"
   },
   {
    "duration": 6403,
    "start_time": "2021-06-20T18:35:57.201Z"
   },
   {
    "duration": 1827,
    "start_time": "2021-06-20T18:36:03.606Z"
   },
   {
    "duration": 6,
    "start_time": "2021-06-20T18:36:05.435Z"
   },
   {
    "duration": 19,
    "start_time": "2021-06-20T18:36:05.443Z"
   },
   {
    "duration": 16,
    "start_time": "2021-06-20T18:36:05.465Z"
   },
   {
    "duration": 42,
    "start_time": "2021-06-20T18:36:05.483Z"
   },
   {
    "duration": 7,
    "start_time": "2021-06-20T18:36:05.528Z"
   },
   {
    "duration": 672,
    "start_time": "2021-06-20T18:36:05.537Z"
   },
   {
    "duration": 152569,
    "start_time": "2021-06-20T18:36:06.212Z"
   },
   {
    "duration": 1750,
    "start_time": "2021-06-20T18:38:38.783Z"
   },
   {
    "duration": 27,
    "start_time": "2021-06-20T18:38:40.536Z"
   },
   {
    "duration": 8,
    "start_time": "2021-06-20T18:38:40.566Z"
   },
   {
    "duration": 10807,
    "start_time": "2021-06-20T18:38:40.576Z"
   },
   {
    "duration": 721,
    "start_time": "2021-06-20T18:38:51.386Z"
   },
   {
    "duration": 7,
    "start_time": "2021-06-20T19:50:20.963Z"
   },
   {
    "duration": 132,
    "start_time": "2021-06-20T19:50:20.973Z"
   },
   {
    "duration": 57,
    "start_time": "2021-06-20T19:50:21.108Z"
   },
   {
    "duration": 20,
    "start_time": "2021-06-20T19:50:21.168Z"
   },
   {
    "duration": 97,
    "start_time": "2021-06-20T19:50:21.191Z"
   },
   {
    "duration": 37,
    "start_time": "2021-06-20T19:50:21.290Z"
   },
   {
    "duration": 10,
    "start_time": "2021-06-20T19:50:21.331Z"
   },
   {
    "duration": 7464,
    "start_time": "2021-06-20T19:50:21.346Z"
   },
   {
    "duration": 1771,
    "start_time": "2021-06-20T19:50:28.813Z"
   },
   {
    "duration": 6,
    "start_time": "2021-06-20T19:50:30.586Z"
   },
   {
    "duration": 35,
    "start_time": "2021-06-20T19:50:30.595Z"
   },
   {
    "duration": 29,
    "start_time": "2021-06-20T19:50:30.634Z"
   },
   {
    "duration": 7,
    "start_time": "2021-06-20T19:50:30.665Z"
   },
   {
    "duration": 12,
    "start_time": "2021-06-20T19:50:30.674Z"
   },
   {
    "duration": 613,
    "start_time": "2021-06-20T19:50:30.688Z"
   },
   {
    "duration": 159138,
    "start_time": "2021-06-20T19:50:31.304Z"
   },
   {
    "duration": 1487,
    "start_time": "2021-06-20T19:53:10.444Z"
   },
   {
    "duration": 31,
    "start_time": "2021-06-20T19:53:11.934Z"
   },
   {
    "duration": 11,
    "start_time": "2021-06-20T19:53:11.968Z"
   },
   {
    "duration": 10785,
    "start_time": "2021-06-20T19:53:11.982Z"
   },
   {
    "duration": 15,
    "start_time": "2021-06-20T19:53:22.770Z"
   },
   {
    "duration": 2958,
    "start_time": "2021-06-21T07:48:10.910Z"
   },
   {
    "duration": 200,
    "start_time": "2021-06-21T07:48:13.870Z"
   },
   {
    "duration": 48,
    "start_time": "2021-06-21T07:48:14.074Z"
   },
   {
    "duration": 20,
    "start_time": "2021-06-21T07:48:14.125Z"
   },
   {
    "duration": 96,
    "start_time": "2021-06-21T07:48:14.147Z"
   },
   {
    "duration": 41,
    "start_time": "2021-06-21T07:48:14.246Z"
   },
   {
    "duration": 9,
    "start_time": "2021-06-21T07:48:14.290Z"
   },
   {
    "duration": 6195,
    "start_time": "2021-06-21T07:48:14.303Z"
   },
   {
    "duration": 1836,
    "start_time": "2021-06-21T07:48:20.500Z"
   },
   {
    "duration": 6,
    "start_time": "2021-06-21T07:48:22.338Z"
   },
   {
    "duration": 37,
    "start_time": "2021-06-21T07:48:22.346Z"
   },
   {
    "duration": 15,
    "start_time": "2021-06-21T07:48:22.386Z"
   },
   {
    "duration": 8,
    "start_time": "2021-06-21T07:48:22.404Z"
   },
   {
    "duration": 7,
    "start_time": "2021-06-21T07:48:22.414Z"
   },
   {
    "duration": 570,
    "start_time": "2021-06-21T07:48:22.424Z"
   },
   {
    "duration": 144953,
    "start_time": "2021-06-21T07:48:22.997Z"
   },
   {
    "duration": 1938,
    "start_time": "2021-06-21T07:50:47.952Z"
   },
   {
    "duration": 31,
    "start_time": "2021-06-21T07:50:49.893Z"
   },
   {
    "duration": 8,
    "start_time": "2021-06-21T07:50:49.926Z"
   },
   {
    "duration": 9683,
    "start_time": "2021-06-21T07:50:49.936Z"
   },
   {
    "duration": 861,
    "start_time": "2021-06-21T07:50:59.622Z"
   },
   {
    "duration": 8,
    "start_time": "2021-06-21T08:10:52.899Z"
   },
   {
    "duration": 11,
    "start_time": "2021-06-21T08:12:33.985Z"
   },
   {
    "duration": 7,
    "start_time": "2021-06-21T08:21:39.650Z"
   },
   {
    "duration": 10,
    "start_time": "2021-06-21T08:24:23.885Z"
   },
   {
    "duration": 11,
    "start_time": "2021-06-21T08:24:23.898Z"
   },
   {
    "duration": 490,
    "start_time": "2021-06-21T08:24:23.912Z"
   },
   {
    "duration": 142,
    "start_time": "2021-06-21T08:24:24.263Z"
   },
   {
    "duration": 135,
    "start_time": "2021-06-21T08:24:24.273Z"
   },
   {
    "duration": 125,
    "start_time": "2021-06-21T08:24:24.285Z"
   },
   {
    "duration": 25217,
    "start_time": "2021-06-21T08:24:43.847Z"
   },
   {
    "duration": 104,
    "start_time": "2021-06-21T08:39:01.749Z"
   },
   {
    "duration": 7,
    "start_time": "2021-06-21T08:39:10.443Z"
   },
   {
    "duration": 23765,
    "start_time": "2021-06-21T08:40:14.353Z"
   },
   {
    "duration": 1913,
    "start_time": "2021-06-21T08:41:51.130Z"
   },
   {
    "duration": 116,
    "start_time": "2021-06-21T08:41:53.046Z"
   },
   {
    "duration": 47,
    "start_time": "2021-06-21T08:41:53.165Z"
   },
   {
    "duration": 20,
    "start_time": "2021-06-21T08:41:53.215Z"
   },
   {
    "duration": 100,
    "start_time": "2021-06-21T08:41:53.237Z"
   },
   {
    "duration": 42,
    "start_time": "2021-06-21T08:41:53.341Z"
   },
   {
    "duration": 10,
    "start_time": "2021-06-21T08:41:53.385Z"
   },
   {
    "duration": 6644,
    "start_time": "2021-06-21T08:41:53.401Z"
   },
   {
    "duration": 1735,
    "start_time": "2021-06-21T08:42:00.048Z"
   },
   {
    "duration": 6,
    "start_time": "2021-06-21T08:42:01.785Z"
   },
   {
    "duration": 33,
    "start_time": "2021-06-21T08:42:01.794Z"
   },
   {
    "duration": 31,
    "start_time": "2021-06-21T08:42:01.830Z"
   },
   {
    "duration": 19,
    "start_time": "2021-06-21T08:42:01.864Z"
   },
   {
    "duration": 16,
    "start_time": "2021-06-21T08:42:01.885Z"
   },
   {
    "duration": 512,
    "start_time": "2021-06-21T08:42:01.904Z"
   },
   {
    "duration": 139873,
    "start_time": "2021-06-21T08:42:02.418Z"
   },
   {
    "duration": 1898,
    "start_time": "2021-06-21T08:44:22.294Z"
   },
   {
    "duration": 27,
    "start_time": "2021-06-21T08:44:24.194Z"
   },
   {
    "duration": 9,
    "start_time": "2021-06-21T08:44:24.224Z"
   },
   {
    "duration": 7,
    "start_time": "2021-06-21T08:44:24.236Z"
   },
   {
    "duration": 23686,
    "start_time": "2021-06-21T08:44:24.245Z"
   },
   {
    "duration": 8,
    "start_time": "2021-06-21T08:44:47.934Z"
   },
   {
    "duration": 9759,
    "start_time": "2021-06-21T08:44:47.947Z"
   },
   {
    "duration": 651,
    "start_time": "2021-06-21T08:44:57.709Z"
   },
   {
    "duration": 8,
    "start_time": "2021-06-21T09:25:46.374Z"
   },
   {
    "duration": 19496,
    "start_time": "2021-06-21T09:26:51.290Z"
   },
   {
    "duration": 7,
    "start_time": "2021-06-21T09:31:12.941Z"
   },
   {
    "duration": 782,
    "start_time": "2021-06-21T09:31:16.163Z"
   },
   {
    "duration": 574,
    "start_time": "2021-06-21T09:31:39.877Z"
   },
   {
    "duration": 7,
    "start_time": "2021-06-21T09:31:46.763Z"
   },
   {
    "duration": 1579,
    "start_time": "2021-06-21T09:32:12.715Z"
   },
   {
    "duration": 4,
    "start_time": "2021-06-21T09:32:40.151Z"
   },
   {
    "duration": 7,
    "start_time": "2021-06-21T09:32:40.163Z"
   },
   {
    "duration": 1584,
    "start_time": "2021-06-21T09:32:40.173Z"
   },
   {
    "duration": 195,
    "start_time": "2021-06-21T09:32:41.565Z"
   },
   {
    "duration": 185,
    "start_time": "2021-06-21T09:32:41.576Z"
   },
   {
    "duration": 173,
    "start_time": "2021-06-21T09:32:41.590Z"
   },
   {
    "duration": 8,
    "start_time": "2021-06-21T09:33:22.251Z"
   },
   {
    "duration": 20775,
    "start_time": "2021-06-21T09:33:25.687Z"
   },
   {
    "duration": 19783,
    "start_time": "2021-06-21T09:35:57.518Z"
   },
   {
    "duration": 7,
    "start_time": "2021-06-21T09:37:32.887Z"
   },
   {
    "duration": 16023,
    "start_time": "2021-06-21T09:37:37.116Z"
   },
   {
    "duration": 6,
    "start_time": "2021-06-21T09:39:26.706Z"
   },
   {
    "duration": 2220,
    "start_time": "2021-06-21T09:39:35.506Z"
   },
   {
    "duration": 7,
    "start_time": "2021-06-21T09:39:54.636Z"
   },
   {
    "duration": 16157,
    "start_time": "2021-06-21T09:40:23.447Z"
   },
   {
    "duration": 7,
    "start_time": "2021-06-21T09:42:44.006Z"
   },
   {
    "duration": 7,
    "start_time": "2021-06-21T09:42:54.724Z"
   },
   {
    "duration": 17917,
    "start_time": "2021-06-21T09:42:58.143Z"
   },
   {
    "duration": 7,
    "start_time": "2021-06-21T09:45:11.341Z"
   },
   {
    "duration": 1812,
    "start_time": "2021-06-21T09:45:16.243Z"
   },
   {
    "duration": 7,
    "start_time": "2021-06-21T09:47:28.324Z"
   },
   {
    "duration": 16223,
    "start_time": "2021-06-21T09:47:34.051Z"
   },
   {
    "duration": 7,
    "start_time": "2021-06-21T09:50:05.017Z"
   },
   {
    "duration": 11535,
    "start_time": "2021-06-21T09:50:09.198Z"
   },
   {
    "duration": 4,
    "start_time": "2021-06-21T09:51:03.564Z"
   },
   {
    "duration": 12,
    "start_time": "2021-06-21T09:51:03.572Z"
   },
   {
    "duration": 11659,
    "start_time": "2021-06-21T09:51:03.588Z"
   },
   {
    "duration": 191,
    "start_time": "2021-06-21T09:51:15.058Z"
   },
   {
    "duration": 177,
    "start_time": "2021-06-21T09:51:15.074Z"
   },
   {
    "duration": 167,
    "start_time": "2021-06-21T09:51:15.085Z"
   },
   {
    "duration": 4,
    "start_time": "2021-06-21T09:52:21.249Z"
   },
   {
    "duration": 10,
    "start_time": "2021-06-21T09:52:21.257Z"
   },
   {
    "duration": 20652,
    "start_time": "2021-06-21T09:52:21.271Z"
   },
   {
    "duration": 13,
    "start_time": "2021-06-21T09:52:41.927Z"
   },
   {
    "duration": 15776,
    "start_time": "2021-06-21T09:52:41.944Z"
   },
   {
    "duration": 20,
    "start_time": "2021-06-21T09:52:57.723Z"
   },
   {
    "duration": 7,
    "start_time": "2021-06-21T09:57:44.784Z"
   },
   {
    "duration": 320,
    "start_time": "2021-06-21T10:33:33.704Z"
   },
   {
    "duration": 95,
    "start_time": "2021-06-21T10:35:10.333Z"
   },
   {
    "duration": 5,
    "start_time": "2021-06-21T10:35:16.695Z"
   },
   {
    "duration": 605,
    "start_time": "2021-06-21T10:35:26.205Z"
   },
   {
    "duration": 5,
    "start_time": "2021-06-21T10:36:17.283Z"
   },
   {
    "duration": 626,
    "start_time": "2021-06-21T10:36:20.637Z"
   },
   {
    "duration": 5,
    "start_time": "2021-06-21T10:36:30.610Z"
   },
   {
    "duration": 629,
    "start_time": "2021-06-21T10:36:33.210Z"
   },
   {
    "duration": 4,
    "start_time": "2021-06-21T10:36:47.341Z"
   },
   {
    "duration": 1447,
    "start_time": "2021-06-21T10:36:50.892Z"
   },
   {
    "duration": 6,
    "start_time": "2021-06-21T10:38:59.177Z"
   },
   {
    "duration": 1556,
    "start_time": "2021-06-21T10:39:01.689Z"
   },
   {
    "duration": 5,
    "start_time": "2021-06-21T10:39:18.016Z"
   },
   {
    "duration": 1574,
    "start_time": "2021-06-21T10:39:20.448Z"
   },
   {
    "duration": 5,
    "start_time": "2021-06-21T10:40:46.749Z"
   },
   {
    "duration": 2122,
    "start_time": "2021-06-21T10:40:49.682Z"
   },
   {
    "duration": 1909,
    "start_time": "2021-06-21T10:40:56.259Z"
   },
   {
    "duration": 6,
    "start_time": "2021-06-21T10:41:17.043Z"
   },
   {
    "duration": 1663,
    "start_time": "2021-06-21T10:41:19.725Z"
   },
   {
    "duration": 2902,
    "start_time": "2021-06-21T10:43:48.150Z"
   },
   {
    "duration": 2384,
    "start_time": "2021-06-21T10:44:08.757Z"
   },
   {
    "duration": 2307,
    "start_time": "2021-06-21T10:44:17.881Z"
   },
   {
    "duration": 3243,
    "start_time": "2021-06-21T10:45:54.077Z"
   },
   {
    "duration": 2731,
    "start_time": "2021-06-21T10:46:09.171Z"
   },
   {
    "duration": 6,
    "start_time": "2021-06-21T10:46:29.303Z"
   },
   {
    "duration": 2624,
    "start_time": "2021-06-21T10:46:32.750Z"
   },
   {
    "duration": 5,
    "start_time": "2021-06-21T10:48:47.539Z"
   },
   {
    "duration": 556,
    "start_time": "2021-06-21T10:48:51.823Z"
   },
   {
    "duration": 6,
    "start_time": "2021-06-21T10:49:06.841Z"
   },
   {
    "duration": 3039,
    "start_time": "2021-06-21T10:49:09.154Z"
   },
   {
    "duration": 5,
    "start_time": "2021-06-21T10:49:49.431Z"
   },
   {
    "duration": 631,
    "start_time": "2021-06-21T10:49:51.397Z"
   },
   {
    "duration": 5,
    "start_time": "2021-06-21T10:49:59.376Z"
   },
   {
    "duration": 1192,
    "start_time": "2021-06-21T10:50:02.095Z"
   },
   {
    "duration": 1456,
    "start_time": "2021-06-21T10:52:10.376Z"
   },
   {
    "duration": 1278,
    "start_time": "2021-06-21T10:52:24.082Z"
   },
   {
    "duration": 7,
    "start_time": "2021-06-21T10:53:25.296Z"
   },
   {
    "duration": 92,
    "start_time": "2021-06-21T10:56:04.560Z"
   },
   {
    "duration": 5,
    "start_time": "2021-06-21T10:56:24.937Z"
   },
   {
    "duration": 14872,
    "start_time": "2021-06-21T10:56:36.749Z"
   },
   {
    "duration": 6,
    "start_time": "2021-06-21T10:57:21.800Z"
   },
   {
    "duration": 14557,
    "start_time": "2021-06-21T10:57:24.783Z"
   },
   {
    "duration": 5,
    "start_time": "2021-06-21T11:01:06.511Z"
   },
   {
    "duration": 16113,
    "start_time": "2021-06-21T11:01:08.923Z"
   },
   {
    "duration": 6,
    "start_time": "2021-06-21T11:01:39.761Z"
   },
   {
    "duration": 1937,
    "start_time": "2021-06-21T11:01:42.820Z"
   },
   {
    "duration": 9,
    "start_time": "2021-06-21T11:01:53.095Z"
   },
   {
    "duration": 15539,
    "start_time": "2021-06-21T11:01:55.538Z"
   },
   {
    "duration": 6,
    "start_time": "2021-06-21T11:03:37.938Z"
   },
   {
    "duration": 15665,
    "start_time": "2021-06-21T11:03:40.440Z"
   },
   {
    "duration": 5,
    "start_time": "2021-06-21T11:03:56.108Z"
   },
   {
    "duration": 15576,
    "start_time": "2021-06-21T11:03:57.480Z"
   },
   {
    "duration": 7,
    "start_time": "2021-06-21T11:05:44.964Z"
   },
   {
    "duration": 5,
    "start_time": "2021-06-21T11:09:46.798Z"
   },
   {
    "duration": 14545,
    "start_time": "2021-06-21T11:09:50.322Z"
   },
   {
    "duration": 13,
    "start_time": "2021-06-21T11:10:04.871Z"
   },
   {
    "duration": 14835,
    "start_time": "2021-06-21T11:10:06.474Z"
   },
   {
    "duration": 6,
    "start_time": "2021-06-21T12:06:14.708Z"
   },
   {
    "duration": 15515,
    "start_time": "2021-06-21T12:06:18.311Z"
   },
   {
    "duration": 6,
    "start_time": "2021-06-21T12:08:51.058Z"
   },
   {
    "duration": 15787,
    "start_time": "2021-06-21T12:08:53.493Z"
   },
   {
    "duration": 6,
    "start_time": "2021-06-21T12:09:09.284Z"
   },
   {
    "duration": 16706,
    "start_time": "2021-06-21T12:09:11.724Z"
   },
   {
    "duration": 6,
    "start_time": "2021-06-21T12:09:28.433Z"
   },
   {
    "duration": 9,
    "start_time": "2021-06-21T12:09:39.163Z"
   },
   {
    "duration": 15951,
    "start_time": "2021-06-21T12:09:41.568Z"
   },
   {
    "duration": 13,
    "start_time": "2021-06-21T12:46:44.743Z"
   },
   {
    "duration": 11,
    "start_time": "2021-06-21T12:47:32.547Z"
   },
   {
    "duration": 1835,
    "start_time": "2021-06-21T12:52:57.229Z"
   },
   {
    "duration": 89,
    "start_time": "2021-06-21T12:52:59.067Z"
   },
   {
    "duration": 45,
    "start_time": "2021-06-21T12:52:59.160Z"
   },
   {
    "duration": 20,
    "start_time": "2021-06-21T12:52:59.208Z"
   },
   {
    "duration": 15,
    "start_time": "2021-06-21T12:52:59.230Z"
   },
   {
    "duration": 102,
    "start_time": "2021-06-21T12:52:59.247Z"
   },
   {
    "duration": 46,
    "start_time": "2021-06-21T12:52:59.352Z"
   },
   {
    "duration": 7,
    "start_time": "2021-06-21T12:52:59.401Z"
   },
   {
    "duration": 6157,
    "start_time": "2021-06-21T12:52:59.414Z"
   },
   {
    "duration": 1701,
    "start_time": "2021-06-21T12:53:05.574Z"
   },
   {
    "duration": 7,
    "start_time": "2021-06-21T12:53:07.283Z"
   },
   {
    "duration": 22,
    "start_time": "2021-06-21T12:53:07.293Z"
   },
   {
    "duration": 17,
    "start_time": "2021-06-21T12:53:07.318Z"
   },
   {
    "duration": 8,
    "start_time": "2021-06-21T12:53:07.337Z"
   },
   {
    "duration": 8,
    "start_time": "2021-06-21T12:53:07.384Z"
   },
   {
    "duration": 509,
    "start_time": "2021-06-21T12:53:07.395Z"
   },
   {
    "duration": 145744,
    "start_time": "2021-06-21T12:53:07.907Z"
   },
   {
    "duration": 1737,
    "start_time": "2021-06-21T12:55:33.653Z"
   },
   {
    "duration": 27,
    "start_time": "2021-06-21T12:55:35.393Z"
   },
   {
    "duration": 6,
    "start_time": "2021-06-21T12:55:35.423Z"
   },
   {
    "duration": 16102,
    "start_time": "2021-06-21T12:55:35.431Z"
   },
   {
    "duration": 615,
    "start_time": "2021-06-21T12:55:51.536Z"
   }
  ],
  "kernelspec": {
   "display_name": "Python 3",
   "language": "python",
   "name": "python3"
  },
  "language_info": {
   "codemirror_mode": {
    "name": "ipython",
    "version": 3
   },
   "file_extension": ".py",
   "mimetype": "text/x-python",
   "name": "python",
   "nbconvert_exporter": "python",
   "pygments_lexer": "ipython3",
   "version": "3.8.5"
  },
  "toc": {
   "base_numbering": 1,
   "nav_menu": {},
   "number_sections": true,
   "sideBar": true,
   "skip_h1_title": true,
   "title_cell": "Table of Contents",
   "title_sidebar": "Contents",
   "toc_cell": false,
   "toc_position": {
    "height": "calc(100% - 180px)",
    "left": "10px",
    "top": "150px",
    "width": "209.391px"
   },
   "toc_section_display": true,
   "toc_window_display": true
  }
 },
 "nbformat": 4,
 "nbformat_minor": 2
}
